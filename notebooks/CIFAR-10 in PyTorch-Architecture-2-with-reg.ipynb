{
 "cells": [
  {
   "cell_type": "markdown",
   "metadata": {},
   "source": [
    "Lets keep the architecture same as Architecture 2 , there we got 65% accuracy on test and 75% accuracy on train set\n",
    "\n",
    "Goals :: Introduce Weight Decay and study the accuracy for different values sampled over a log scale\n",
    "### Regularization with 1e-5 didnt help much"
   ]
  },
  {
   "cell_type": "code",
   "execution_count": 1,
   "metadata": {
    "collapsed": true
   },
   "outputs": [],
   "source": [
    "import torch\n",
    "import torchvision\n",
    "import torchvision.transforms as transforms"
   ]
  },
  {
   "cell_type": "code",
   "execution_count": 2,
   "metadata": {
    "collapsed": true
   },
   "outputs": [],
   "source": [
    "transform = transforms.Compose(\n",
    "    [transforms.ToTensor(),\n",
    "     transforms.Normalize((0.5, 0.5, 0.5), (0.5, 0.5, 0.5))])"
   ]
  },
  {
   "cell_type": "code",
   "execution_count": 3,
   "metadata": {},
   "outputs": [
    {
     "name": "stdout",
     "output_type": "stream",
     "text": [
      "Files already downloaded and verified\n",
      "Files already downloaded and verified\n"
     ]
    }
   ],
   "source": [
    "trainset = torchvision.datasets.CIFAR10(root='./data', train=True,download=True, transform=transform)\n",
    "trainloader = torch.utils.data.DataLoader(trainset, batch_size=4, shuffle=True, num_workers=2)\n",
    "testset = torchvision.datasets.CIFAR10(root=\"./data\", train=False, download=True, transform=transform)\n",
    "testloader= torch.utils.data.DataLoader(testset, batch_size=4, shuffle=False, num_workers=2)\n",
    "classes=('plane', 'car', 'bird', 'cat','deer', 'dog', 'frog', 'horse', 'ship', 'truck')"
   ]
  },
  {
   "cell_type": "code",
   "execution_count": 4,
   "metadata": {
    "collapsed": true
   },
   "outputs": [],
   "source": [
    "from torch.autograd import Variable\n",
    "import torch.nn as nn\n",
    "import torch.nn.functional as F\n",
    "\n",
    "\n",
    "class Net(nn.Module):\n",
    "    \n",
    "    def __init__(self):\n",
    "        super(Net, self).__init__()\n",
    "        # 6 Layers : 3 conv layers and 3 fully connected layers !\n",
    "        self.conv1 = nn.Conv2d(3, 8, 3,padding=1)\n",
    "        self.pool = nn.MaxPool2d(2, 2)\n",
    "        self.conv2 = nn.Conv2d(8, 16, 5,padding=2)\n",
    "        self.conv3 = nn.Conv2d(16, 32, 5,padding=2)\n",
    "        self.fc1 = nn.Linear(32*4*4, 120)\n",
    "        self.fc2 = nn.Linear(120, 84)\n",
    "        self.fc3 = nn.Linear(84, 10)\n",
    "\n",
    "        \n",
    "    def forward(self, x):\n",
    "        x = self.pool(F.relu(self.conv1(x)))\n",
    "        x = self.pool(F.relu(self.conv2(x)))\n",
    "        x = self.pool(F.relu(self.conv3(x)))\n",
    "        x = x.view(-1, 32 *4* 4)\n",
    "        x = F.relu(self.fc1(x))\n",
    "        x = F.relu(self.fc2(x))\n",
    "        x = self.fc3(x)\n",
    "        return x"
   ]
  },
  {
   "cell_type": "code",
   "execution_count": 5,
   "metadata": {
    "scrolled": false
   },
   "outputs": [
    {
     "name": "stdout",
     "output_type": "stream",
     "text": [
      "The model is on CUDA\n",
      "[Epoch :: 1, Mini Batch ::  2000] loss: 1.912\n",
      "[Epoch :: 1, Mini Batch ::  4000] loss: 1.613\n",
      "[Epoch :: 1, Mini Batch ::  6000] loss: 1.473\n",
      "[Epoch :: 1, Mini Batch ::  8000] loss: 1.416\n",
      "[Epoch :: 1, Mini Batch :: 10000] loss: 1.375\n",
      "[Epoch :: 1, Mini Batch :: 12000] loss: 1.336\n",
      "[Epoch :: 2, Mini Batch ::  2000] loss: 1.229\n",
      "[Epoch :: 2, Mini Batch ::  4000] loss: 1.206\n",
      "[Epoch :: 2, Mini Batch ::  6000] loss: 1.206\n",
      "[Epoch :: 2, Mini Batch ::  8000] loss: 1.199\n",
      "[Epoch :: 2, Mini Batch :: 10000] loss: 1.162\n",
      "[Epoch :: 2, Mini Batch :: 12000] loss: 1.165\n",
      "[Epoch :: 3, Mini Batch ::  2000] loss: 1.108\n",
      "[Epoch :: 3, Mini Batch ::  4000] loss: 1.072\n",
      "[Epoch :: 3, Mini Batch ::  6000] loss: 1.091\n",
      "[Epoch :: 3, Mini Batch ::  8000] loss: 1.068\n",
      "[Epoch :: 3, Mini Batch :: 10000] loss: 1.077\n",
      "[Epoch :: 3, Mini Batch :: 12000] loss: 1.080\n",
      "[Epoch :: 4, Mini Batch ::  2000] loss: 0.992\n",
      "[Epoch :: 4, Mini Batch ::  4000] loss: 0.999\n",
      "[Epoch :: 4, Mini Batch ::  6000] loss: 1.006\n",
      "[Epoch :: 4, Mini Batch ::  8000] loss: 1.035\n",
      "[Epoch :: 4, Mini Batch :: 10000] loss: 1.041\n",
      "[Epoch :: 4, Mini Batch :: 12000] loss: 1.034\n",
      "[Epoch :: 5, Mini Batch ::  2000] loss: 0.933\n",
      "[Epoch :: 5, Mini Batch ::  4000] loss: 0.945\n",
      "[Epoch :: 5, Mini Batch ::  6000] loss: 0.958\n",
      "[Epoch :: 5, Mini Batch ::  8000] loss: 0.974\n",
      "[Epoch :: 5, Mini Batch :: 10000] loss: 0.995\n",
      "[Epoch :: 5, Mini Batch :: 12000] loss: 0.973\n",
      "[Epoch :: 6, Mini Batch ::  2000] loss: 0.867\n",
      "[Epoch :: 6, Mini Batch ::  4000] loss: 0.912\n",
      "[Epoch :: 6, Mini Batch ::  6000] loss: 0.934\n",
      "[Epoch :: 6, Mini Batch ::  8000] loss: 0.928\n",
      "[Epoch :: 6, Mini Batch :: 10000] loss: 0.934\n",
      "[Epoch :: 6, Mini Batch :: 12000] loss: 0.942\n",
      "[Epoch :: 7, Mini Batch ::  2000] loss: 0.839\n",
      "[Epoch :: 7, Mini Batch ::  4000] loss: 0.867\n",
      "[Epoch :: 7, Mini Batch ::  6000] loss: 0.888\n",
      "[Epoch :: 7, Mini Batch ::  8000] loss: 0.912\n",
      "[Epoch :: 7, Mini Batch :: 10000] loss: 0.881\n",
      "[Epoch :: 7, Mini Batch :: 12000] loss: 0.915\n",
      "[Epoch :: 8, Mini Batch ::  2000] loss: 0.807\n",
      "[Epoch :: 8, Mini Batch ::  4000] loss: 0.827\n",
      "[Epoch :: 8, Mini Batch ::  6000] loss: 0.839\n",
      "[Epoch :: 8, Mini Batch ::  8000] loss: 0.853\n",
      "[Epoch :: 8, Mini Batch :: 10000] loss: 0.883\n",
      "[Epoch :: 8, Mini Batch :: 12000] loss: 0.880\n",
      "[Epoch :: 9, Mini Batch ::  2000] loss: 0.776\n",
      "[Epoch :: 9, Mini Batch ::  4000] loss: 0.801\n",
      "[Epoch :: 9, Mini Batch ::  6000] loss: 0.839\n",
      "[Epoch :: 9, Mini Batch ::  8000] loss: 0.844\n",
      "[Epoch :: 9, Mini Batch :: 10000] loss: 0.836\n",
      "[Epoch :: 9, Mini Batch :: 12000] loss: 0.865\n",
      "[Epoch :: 10, Mini Batch ::  2000] loss: 0.778\n",
      "[Epoch :: 10, Mini Batch ::  4000] loss: 0.810\n",
      "[Epoch :: 10, Mini Batch ::  6000] loss: 0.776\n",
      "[Epoch :: 10, Mini Batch ::  8000] loss: 0.819\n",
      "[Epoch :: 10, Mini Batch :: 10000] loss: 0.818\n",
      "[Epoch :: 10, Mini Batch :: 12000] loss: 0.810\n",
      "[Epoch :: 11, Mini Batch ::  2000] loss: 0.750\n",
      "[Epoch :: 11, Mini Batch ::  4000] loss: 0.749\n",
      "[Epoch :: 11, Mini Batch ::  6000] loss: 0.780\n",
      "[Epoch :: 11, Mini Batch ::  8000] loss: 0.790\n",
      "[Epoch :: 11, Mini Batch :: 10000] loss: 0.810\n",
      "[Epoch :: 11, Mini Batch :: 12000] loss: 0.806\n",
      "[Epoch :: 12, Mini Batch ::  2000] loss: 0.725\n",
      "[Epoch :: 12, Mini Batch ::  4000] loss: 0.726\n",
      "[Epoch :: 12, Mini Batch ::  6000] loss: 0.758\n",
      "[Epoch :: 12, Mini Batch ::  8000] loss: 0.771\n",
      "[Epoch :: 12, Mini Batch :: 10000] loss: 0.792\n",
      "[Epoch :: 12, Mini Batch :: 12000] loss: 0.806\n",
      "[Epoch :: 13, Mini Batch ::  2000] loss: 0.703\n",
      "[Epoch :: 13, Mini Batch ::  4000] loss: 0.721\n",
      "[Epoch :: 13, Mini Batch ::  6000] loss: 0.737\n",
      "[Epoch :: 13, Mini Batch ::  8000] loss: 0.745\n",
      "[Epoch :: 13, Mini Batch :: 10000] loss: 0.766\n",
      "[Epoch :: 13, Mini Batch :: 12000] loss: 0.767\n",
      "[Epoch :: 14, Mini Batch ::  2000] loss: 0.683\n",
      "[Epoch :: 14, Mini Batch ::  4000] loss: 0.711\n",
      "[Epoch :: 14, Mini Batch ::  6000] loss: 0.721\n",
      "[Epoch :: 14, Mini Batch ::  8000] loss: 0.737\n",
      "[Epoch :: 14, Mini Batch :: 10000] loss: 0.756\n",
      "[Epoch :: 14, Mini Batch :: 12000] loss: 0.745\n",
      "[Epoch :: 15, Mini Batch ::  2000] loss: 0.658\n",
      "[Epoch :: 15, Mini Batch ::  4000] loss: 0.689\n",
      "[Epoch :: 15, Mini Batch ::  6000] loss: 0.695\n",
      "[Epoch :: 15, Mini Batch ::  8000] loss: 0.732\n",
      "[Epoch :: 15, Mini Batch :: 10000] loss: 0.728\n",
      "[Epoch :: 15, Mini Batch :: 12000] loss: 0.731\n",
      "Finished Training\n"
     ]
    }
   ],
   "source": [
    "# Create an instance of the model on CUDA\n",
    "net = Net().cuda()\n",
    "\n",
    "# net=Net()\n",
    "\n",
    "lossvsiter=[]\n",
    "\n",
    "# To see if the model is on CUDA or not !\n",
    "if (next(net.parameters()).is_cuda) :\n",
    "    print(\"The model is on CUDA\")\n",
    "else :\n",
    "    print(\"The model is on CPU\")\n",
    "\n",
    "# Import the optimizers \n",
    "import torch.optim as optim\n",
    "\n",
    "# Declare a loss function\n",
    "criterion = nn.CrossEntropyLoss()\n",
    "\n",
    "# Declare an optimizer\n",
    "optimizer = optim.Adam(net.parameters(),weight_decay=1e-5)\n",
    "\n",
    "#No of iterations !\n",
    "iterations = 15\n",
    "\n",
    "\n",
    "for epoch in range(iterations):  # loop over the dataset multiple times\n",
    "    \n",
    "    # Reset the loss for the current epoch !\n",
    "    running_loss = 0.0\n",
    "    \n",
    "    # Loop over all the mini-batches therea are 12500 mini batches of size 4 each !\n",
    "    for i, data in enumerate(trainloader, 0):\n",
    "        # get the inputs\n",
    "        inputs, labels = data\n",
    "        \n",
    "        # wrap them in Variable & if possible make them cuda tensors\n",
    "        inputs, labels = Variable(inputs.cuda()), Variable(labels.cuda())\n",
    "\n",
    "        # zero the parameter gradients for the current epoch\n",
    "        optimizer.zero_grad()\n",
    "        \n",
    "        # forward + backward + optimize\n",
    "        \n",
    "        # forward\n",
    "        outputs = net(inputs)\n",
    "        loss = criterion(outputs, labels)\n",
    "        \n",
    "        # Calculate gradients of whatever variable set to req_gardients = True\n",
    "        loss.backward()\n",
    "        \n",
    "        # Take one step of the gradient descent for this epoch ! \n",
    "        optimizer.step()\n",
    "        \n",
    "        # print statistics\n",
    "        running_loss += loss.data[0]\n",
    "        if i % 2000 == 1999:    # print every 2000 mini-batches\n",
    "            print('[Epoch :: %d, Mini Batch :: %5d] loss: %.3f' %\n",
    "                  (epoch + 1, i + 1, running_loss / 2000))\n",
    "            lossvsiter.append(running_loss / 2000)\n",
    "            running_loss = 0.0\n",
    "        \n",
    "\n",
    "print('Finished Training')"
   ]
  },
  {
   "cell_type": "code",
   "execution_count": 6,
   "metadata": {
    "collapsed": true
   },
   "outputs": [],
   "source": [
    "import pickle"
   ]
  },
  {
   "cell_type": "code",
   "execution_count": 7,
   "metadata": {
    "collapsed": true
   },
   "outputs": [],
   "source": [
    "with open(\"PyTorch-Architecture-2-with-reg.pkl\",\"wb\") as f:\n",
    "    pickle.dump(lossvsiter,f)"
   ]
  },
  {
   "cell_type": "code",
   "execution_count": 8,
   "metadata": {},
   "outputs": [
    {
     "name": "stdout",
     "output_type": "stream",
     "text": [
      "Accuracy of the network on the 10000 test images: 64 %\n"
     ]
    }
   ],
   "source": [
    "correct = 0\n",
    "total = 0\n",
    "\n",
    "for data in testloader:\n",
    "    images, labels = data\n",
    "    images=images.cuda()\n",
    "    labels=labels.cuda()\n",
    "    try:\n",
    "        outputs = net(Variable(images))\n",
    "    except RuntimeError as re:\n",
    "        print(outputs.is_cuda)\n",
    "        print(str(re))\n",
    "        sys.exit()\n",
    "    _, predicted = torch.max(outputs.data, 1)\n",
    "    total += labels.size(0)\n",
    "    correct += (predicted == labels).sum()\n",
    "\n",
    "print('Accuracy of the network on the 10000 test images: %d %%' % (\n",
    "    100 * correct / total))"
   ]
  },
  {
   "cell_type": "code",
   "execution_count": 9,
   "metadata": {},
   "outputs": [
    {
     "name": "stdout",
     "output_type": "stream",
     "text": [
      "0\n",
      "1000\n",
      "2000\n",
      "3000\n",
      "4000\n",
      "5000\n",
      "6000\n",
      "7000\n",
      "8000\n",
      "9000\n",
      "10000\n",
      "11000\n",
      "12000\n",
      "Accuracy of the network on the 50000 trained images: 74 %\n"
     ]
    }
   ],
   "source": [
    "for i, data in enumerate(trainloader, 0):\n",
    "    images, labels = data\n",
    "    images=images.cuda()\n",
    "    labels=labels.cuda()\n",
    "    try:\n",
    "        outputs = net(Variable(images))\n",
    "    except RuntimeError as re:\n",
    "        print(outputs.is_cuda)\n",
    "        print(str(re))\n",
    "        sys.exit()\n",
    "    _, predicted = torch.max(outputs.data, 1)\n",
    "    total += labels.size(0)\n",
    "    correct += (predicted == labels).sum()\n",
    "    if (i%1000) == 0:\n",
    "        print(i)\n",
    "\n",
    "print('Accuracy of the network on the 50000 trained images: %d %%' % (\n",
    "    100 * correct / total))"
   ]
  },
  {
   "cell_type": "code",
   "execution_count": 10,
   "metadata": {},
   "outputs": [
    {
     "data": {
      "text/plain": [
       "44431"
      ]
     },
     "execution_count": 10,
     "metadata": {},
     "output_type": "execute_result"
    }
   ],
   "source": [
    "correct"
   ]
  },
  {
   "cell_type": "code",
   "execution_count": 11,
   "metadata": {},
   "outputs": [
    {
     "name": "stdout",
     "output_type": "stream",
     "text": [
      "Accuracy of plane : 76 %\n",
      "Accuracy of   car : 88 %\n",
      "Accuracy of  bird : 57 %\n",
      "Accuracy of   cat : 46 %\n",
      "Accuracy of  deer : 57 %\n",
      "Accuracy of   dog : 46 %\n",
      "Accuracy of  frog : 64 %\n",
      "Accuracy of horse : 70 %\n",
      "Accuracy of  ship : 76 %\n",
      "Accuracy of truck : 60 %\n"
     ]
    }
   ],
   "source": [
    "class_correct = list(0. for i in range(10))\n",
    "class_total = list(0. for i in range(10))\n",
    "for data in testloader:\n",
    "    images, labels = data\n",
    "    images=images.cuda()\n",
    "    labels=labels.cuda()\n",
    "    outputs = net(Variable(images))\n",
    "    _, predicted = torch.max(outputs.data, 1)\n",
    "    c = (predicted == labels).squeeze()\n",
    "    for i in range(4):\n",
    "        label = labels[i]\n",
    "        class_correct[label] += c[i]\n",
    "        class_total[label] += 1\n",
    "\n",
    "\n",
    "for i in range(10):\n",
    "    print('Accuracy of %5s : %2d %%' % (\n",
    "        classes[i], 100 * class_correct[i] / class_total[i]))"
   ]
  },
  {
   "cell_type": "code",
   "execution_count": 12,
   "metadata": {},
   "outputs": [
    {
     "data": {
      "text/plain": [
       "[1.9121172297298907,\n",
       " 1.6129605130255222,\n",
       " 1.4729537923783065,\n",
       " 1.416227998584509,\n",
       " 1.375367299631238,\n",
       " 1.3362291313260795,\n",
       " 1.2292245556712151,\n",
       " 1.2056728691607714,\n",
       " 1.2056791387498378,\n",
       " 1.1985564230382442,\n",
       " 1.16192292791605,\n",
       " 1.164634777367115,\n",
       " 1.107630993247032,\n",
       " 1.0718171118497848,\n",
       " 1.0913361265659332,\n",
       " 1.0682286374121905,\n",
       " 1.0765112414211035,\n",
       " 1.0802829616889358,\n",
       " 0.9918590277731418,\n",
       " 0.9985699627324939,\n",
       " 1.0057257095724343,\n",
       " 1.0352969634756446,\n",
       " 1.0412683415338397,\n",
       " 1.0340903357714415,\n",
       " 0.9326629136800766,\n",
       " 0.9448711917363107,\n",
       " 0.9578155973255634,\n",
       " 0.9737446712702513,\n",
       " 0.995305515371263,\n",
       " 0.9731355479322373,\n",
       " 0.8667125270105899,\n",
       " 0.9121933790966869,\n",
       " 0.9335940982848406,\n",
       " 0.9277727754376829,\n",
       " 0.9338530479259789,\n",
       " 0.9420998954158276,\n",
       " 0.8389087582714856,\n",
       " 0.8672108516469598,\n",
       " 0.8884238287657499,\n",
       " 0.9122314798012375,\n",
       " 0.8810214663296938,\n",
       " 0.9146589816119521,\n",
       " 0.8068617780730128,\n",
       " 0.8266580955078825,\n",
       " 0.8390151681266725,\n",
       " 0.8527508663097396,\n",
       " 0.8825953815784305,\n",
       " 0.8799839144395665,\n",
       " 0.7757914870297536,\n",
       " 0.8006056750118733,\n",
       " 0.8390912830736488,\n",
       " 0.8438117331769317,\n",
       " 0.836480291094631,\n",
       " 0.8647782570710406,\n",
       " 0.778098555399105,\n",
       " 0.8102009810237214,\n",
       " 0.7755457388143987,\n",
       " 0.8190933798444457,\n",
       " 0.8180201661493629,\n",
       " 0.8098428883291781,\n",
       " 0.7502977394815534,\n",
       " 0.7491449759891257,\n",
       " 0.7797945690029301,\n",
       " 0.7901002900488675,\n",
       " 0.8102624038336799,\n",
       " 0.8060694569488988,\n",
       " 0.7252223771559074,\n",
       " 0.7262538097011857,\n",
       " 0.7580531028029509,\n",
       " 0.7712212788960896,\n",
       " 0.7915108684627339,\n",
       " 0.8060830308552831,\n",
       " 0.7028937427460914,\n",
       " 0.7212157436949201,\n",
       " 0.7370015752532054,\n",
       " 0.7452063578872475,\n",
       " 0.7662860164460726,\n",
       " 0.7673069787863642,\n",
       " 0.6832362397785764,\n",
       " 0.71056703462312,\n",
       " 0.7211904178354889,\n",
       " 0.736674323845189,\n",
       " 0.7563110939213075,\n",
       " 0.7449963719584047,\n",
       " 0.6579850652874447,\n",
       " 0.6890402573710307,\n",
       " 0.6948827538569458,\n",
       " 0.7315730545748956,\n",
       " 0.7283340704753064,\n",
       " 0.7314211289258674]"
      ]
     },
     "execution_count": 12,
     "metadata": {},
     "output_type": "execute_result"
    }
   ],
   "source": [
    "lossvsiter"
   ]
  },
  {
   "cell_type": "code",
   "execution_count": 13,
   "metadata": {
    "collapsed": true
   },
   "outputs": [],
   "source": [
    "%matplotlib inline"
   ]
  },
  {
   "cell_type": "code",
   "execution_count": 14,
   "metadata": {},
   "outputs": [
    {
     "data": {
      "image/png": "[encoded data removed]",
      "text/plain": [
       "<matplotlib.figure.Figure at 0x7f20ed1487b8>"
      ]
     },
     "metadata": {},
     "output_type": "display_data"
    }
   ],
   "source": [
    "import matplotlib.pyplot as plt\n",
    "plt.plot(lossvsiter)\n",
    "plt.ylabel('loss')\n",
    "plt.xlabel('every 2000th mini-batch')\n",
    "plt.show()"
   ]
  },
  {
   "cell_type": "code",
   "execution_count": 15,
   "metadata": {
    "collapsed": true
   },
   "outputs": [],
   "source": [
    "# Lets save the model !!"
   ]
  },
  {
   "cell_type": "code",
   "execution_count": 17,
   "metadata": {
    "collapsed": true
   },
   "outputs": [],
   "source": [
    " torch.save(net.state_dict(),\"./models/archi2-with-reg-e5\")"
   ]
  }
 ],
 "metadata": {
  "kernelspec": {
   "display_name": "Python 3",
   "language": "python",
   "name": "python3"
  },
  "language_info": {
   "codemirror_mode": {
    "name": "ipython",
    "version": 3
   },
   "file_extension": ".py",
   "mimetype": "text/x-python",
   "name": "python",
   "nbconvert_exporter": "python",
   "pygments_lexer": "ipython3",
   "version": "3.5.2"
  }
 },
 "nbformat": 4,
 "nbformat_minor": 2
}
