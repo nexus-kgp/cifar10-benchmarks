{
 "cells": [
  {
   "cell_type": "code",
   "execution_count": 7,
   "metadata": {
    "collapsed": true
   },
   "outputs": [],
   "source": [
    "import torch\n",
    "import torchvision\n",
    "import torchvision.transforms as transforms"
   ]
  },
  {
   "cell_type": "code",
   "execution_count": 8,
   "metadata": {
    "collapsed": true
   },
   "outputs": [],
   "source": [
    "torch.cuda.set_device(0)"
   ]
  },
  {
   "cell_type": "code",
   "execution_count": 9,
   "metadata": {
    "collapsed": true
   },
   "outputs": [],
   "source": [
    "transform = transforms.Compose(\n",
    "    [transforms.ToTensor(),\n",
    "     transforms.Normalize((0.5, 0.5, 0.5), (0.5, 0.5, 0.5))])"
   ]
  },
  {
   "cell_type": "code",
   "execution_count": 10,
   "metadata": {
    "collapsed": false
   },
   "outputs": [
    {
     "name": "stdout",
     "output_type": "stream",
     "text": [
      "Files already downloaded and verified\n",
      "Files already downloaded and verified\n"
     ]
    }
   ],
   "source": [
    "trainset = torchvision.datasets.CIFAR10(root='./data', train=True,download=True, transform=transform)\n",
    "trainloader = torch.utils.data.DataLoader(trainset, batch_size=4, shuffle=True, num_workers=2)\n",
    "testset = torchvision.datasets.CIFAR10(root=\"./data\", train=False, download=True, transform=transform)\n",
    "testloader= torch.utils.data.DataLoader(testset, batch_size=4, shuffle=False, num_workers=2)\n",
    "classes=('plane', 'car', 'bird', 'cat','deer', 'dog', 'frog', 'horse', 'ship', 'truck')"
   ]
  },
  {
   "cell_type": "code",
   "execution_count": 11,
   "metadata": {
    "collapsed": true
   },
   "outputs": [],
   "source": [
    "from torch.autograd import Variable\n",
    "import torch.nn as nn\n",
    "import torch.nn.functional as F\n",
    "\n",
    "\n",
    "class Net(nn.Module):\n",
    "    def __init__(self):\n",
    "        super(Net, self).__init__()\n",
    "        # 5 Layers : 2 conv layers and 3 fully connected layers !\n",
    "        self.conv1 = nn.Conv2d(3, 16, 5)\n",
    "        self.pool = nn.MaxPool2d(2, 2)\n",
    "        self.conv2 = nn.Conv2d(16, 25, 5)\n",
    "        self.fc1 = nn.Linear(25 * 5 * 5, 120)\n",
    "        self.fc2 = nn.Linear(120, 84)\n",
    "        self.fc3 = nn.Linear(84, 10)\n",
    "\n",
    "    def forward(self, x):\n",
    "        x = self.pool(F.relu(self.conv1(x)))\n",
    "        x = self.pool(F.relu(self.conv2(x)))\n",
    "        x = x.view(-1, 25 * 5 * 5)\n",
    "        x = F.relu(self.fc1(x))\n",
    "        x = F.relu(self.fc2(x))\n",
    "        x = self.fc3(x)\n",
    "        return x"
   ]
  },
  {
   "cell_type": "code",
   "execution_count": 13,
   "metadata": {
    "collapsed": false,
    "scrolled": true
   },
   "outputs": [
    {
     "name": "stdout",
     "output_type": "stream",
     "text": [
      "The model is on CUDA\n",
      "[Epoch :: 1, Mini Batch ::  2000] loss: 2.162\n",
      "[Epoch :: 1, Mini Batch ::  4000] loss: 1.783\n",
      "[Epoch :: 1, Mini Batch ::  6000] loss: 1.620\n",
      "[Epoch :: 1, Mini Batch ::  8000] loss: 1.507\n",
      "[Epoch :: 1, Mini Batch :: 10000] loss: 1.435\n",
      "[Epoch :: 1, Mini Batch :: 12000] loss: 1.381\n",
      "[Epoch :: 2, Mini Batch ::  2000] loss: 1.308\n",
      "[Epoch :: 2, Mini Batch ::  4000] loss: 1.262\n",
      "[Epoch :: 2, Mini Batch ::  6000] loss: 1.227\n",
      "[Epoch :: 2, Mini Batch ::  8000] loss: 1.190\n",
      "[Epoch :: 2, Mini Batch :: 10000] loss: 1.171\n",
      "[Epoch :: 2, Mini Batch :: 12000] loss: 1.143\n",
      "[Epoch :: 3, Mini Batch ::  2000] loss: 1.056\n",
      "[Epoch :: 3, Mini Batch ::  4000] loss: 1.080\n",
      "[Epoch :: 3, Mini Batch ::  6000] loss: 1.033\n",
      "[Epoch :: 3, Mini Batch ::  8000] loss: 1.035\n",
      "[Epoch :: 3, Mini Batch :: 10000] loss: 1.032\n",
      "[Epoch :: 3, Mini Batch :: 12000] loss: 1.019\n",
      "[Epoch :: 4, Mini Batch ::  2000] loss: 0.929\n",
      "[Epoch :: 4, Mini Batch ::  4000] loss: 0.901\n",
      "[Epoch :: 4, Mini Batch ::  6000] loss: 0.942\n",
      "[Epoch :: 4, Mini Batch ::  8000] loss: 0.937\n",
      "[Epoch :: 4, Mini Batch :: 10000] loss: 0.932\n",
      "[Epoch :: 4, Mini Batch :: 12000] loss: 0.914\n",
      "[Epoch :: 5, Mini Batch ::  2000] loss: 0.822\n",
      "[Epoch :: 5, Mini Batch ::  4000] loss: 0.817\n",
      "[Epoch :: 5, Mini Batch ::  6000] loss: 0.853\n",
      "[Epoch :: 5, Mini Batch ::  8000] loss: 0.857\n",
      "[Epoch :: 5, Mini Batch :: 10000] loss: 0.837\n",
      "[Epoch :: 5, Mini Batch :: 12000] loss: 0.854\n",
      "[Epoch :: 6, Mini Batch ::  2000] loss: 0.740\n",
      "[Epoch :: 6, Mini Batch ::  4000] loss: 0.769\n",
      "[Epoch :: 6, Mini Batch ::  6000] loss: 0.759\n",
      "[Epoch :: 6, Mini Batch ::  8000] loss: 0.783\n",
      "[Epoch :: 6, Mini Batch :: 10000] loss: 0.809\n",
      "[Epoch :: 6, Mini Batch :: 12000] loss: 0.795\n",
      "[Epoch :: 7, Mini Batch ::  2000] loss: 0.675\n",
      "[Epoch :: 7, Mini Batch ::  4000] loss: 0.712\n",
      "[Epoch :: 7, Mini Batch ::  6000] loss: 0.743\n",
      "[Epoch :: 7, Mini Batch ::  8000] loss: 0.732\n",
      "[Epoch :: 7, Mini Batch :: 10000] loss: 0.726\n",
      "[Epoch :: 7, Mini Batch :: 12000] loss: 0.749\n",
      "[Epoch :: 8, Mini Batch ::  2000] loss: 0.630\n",
      "[Epoch :: 8, Mini Batch ::  4000] loss: 0.664\n",
      "[Epoch :: 8, Mini Batch ::  6000] loss: 0.667\n",
      "[Epoch :: 8, Mini Batch ::  8000] loss: 0.668\n",
      "[Epoch :: 8, Mini Batch :: 10000] loss: 0.702\n",
      "[Epoch :: 8, Mini Batch :: 12000] loss: 0.700\n",
      "[Epoch :: 9, Mini Batch ::  2000] loss: 0.585\n",
      "[Epoch :: 9, Mini Batch ::  4000] loss: 0.603\n",
      "[Epoch :: 9, Mini Batch ::  6000] loss: 0.632\n",
      "[Epoch :: 9, Mini Batch ::  8000] loss: 0.619\n",
      "[Epoch :: 9, Mini Batch :: 10000] loss: 0.677\n",
      "[Epoch :: 9, Mini Batch :: 12000] loss: 0.673\n",
      "[Epoch :: 10, Mini Batch ::  2000] loss: 0.544\n",
      "[Epoch :: 10, Mini Batch ::  4000] loss: 0.578\n",
      "[Epoch :: 10, Mini Batch ::  6000] loss: 0.586\n",
      "[Epoch :: 10, Mini Batch ::  8000] loss: 0.616\n",
      "[Epoch :: 10, Mini Batch :: 10000] loss: 0.604\n",
      "[Epoch :: 10, Mini Batch :: 12000] loss: 0.625\n",
      "Finished Training\n"
     ]
    }
   ],
   "source": [
    "# Create an instance of the model on CUDA\n",
    "net = Net().cuda()\n",
    "\n",
    "lossvsiter_mom=[]\n",
    "\n",
    "# To see if the model is on CUDA or not !\n",
    "if (next(net.parameters()).is_cuda) :\n",
    "    print(\"The model is on CUDA\")\n",
    "else :\n",
    "    print(\"The model is on CPU\")\n",
    "\n",
    "import torch.optim as optim\n",
    "\n",
    "# Declare a loss function\n",
    "criterion = nn.CrossEntropyLoss()\n",
    "# Declare an optimizer\n",
    "optimizer = optim.SGD(net.parameters(),lr=0.001,momentum=0.9)\n",
    "\n",
    "\n",
    "# No of iterations !\n",
    "iterations = 10\n",
    "\n",
    "for epoch in range(iterations):  # loop over the dataset multiple times\n",
    "    \n",
    "    # Reset the loss for the current epoch !\n",
    "    running_loss = 0.0\n",
    "    \n",
    "    # Loop over all the mini-batches therea are 12500 mini batches of size 4 each !\n",
    "    for i, data in enumerate(trainloader, 0):\n",
    "        # get the inputs\n",
    "        inputs, labels = data\n",
    "        \n",
    "        # wrap them in Variable & if possible make them cuda tensors\n",
    "        inputs, labels = Variable(inputs.cuda()), Variable(labels.cuda())\n",
    "\n",
    "        # zero the parameter gradients for the current epoch\n",
    "        optimizer.zero_grad()\n",
    "        \n",
    "        # forward + backward + optimize\n",
    "        \n",
    "        # forward\n",
    "        outputs = net(inputs)\n",
    "        loss = criterion(outputs, labels)\n",
    "        \n",
    "        # Calculate gradients of whatever variable set to req_gardients = True\n",
    "        loss.backward()\n",
    "        \n",
    "        # Take one step of the gradient descent for this epoch ! \n",
    "        optimizer.step()\n",
    "        \n",
    "        # print statistics\n",
    "        running_loss += loss.data[0]\n",
    "        if i % 2000 == 1999:    # print every 2000 mini-batches\n",
    "            print('[Epoch :: %d, Mini Batch :: %5d] loss: %.3f' %\n",
    "                  (epoch + 1, i + 1, running_loss / 2000))\n",
    "            lossvsiter_mom.append(running_loss / 2000)\n",
    "            running_loss = 0.0\n",
    "        \n",
    "\n",
    "print('Finished Training')"
   ]
  },
  {
   "cell_type": "code",
   "execution_count": 14,
   "metadata": {
    "collapsed": true
   },
   "outputs": [],
   "source": [
    "import pickle\n",
    "with open(\"lossvsiter_mom.pkl\",\"wb\") as f:\n",
    "    pickle.dump(lossvsiter_mom,f)"
   ]
  },
  {
   "cell_type": "code",
   "execution_count": 15,
   "metadata": {
    "collapsed": false
   },
   "outputs": [
    {
     "name": "stdout",
     "output_type": "stream",
     "text": [
      "Accuracy of the network on the 10000 test images: 68 %\n"
     ]
    }
   ],
   "source": [
    "correct = 0\n",
    "total = 0\n",
    "\n",
    "for data in testloader:\n",
    "    images, labels = data\n",
    "    images=images.cuda()\n",
    "    labels=labels.cuda()\n",
    "    try:\n",
    "        outputs = net(Variable(images))\n",
    "    except RuntimeError as re:\n",
    "        print(outputs.is_cuda)\n",
    "        print(str(re))\n",
    "        sys.exit()\n",
    "    _, predicted = torch.max(outputs.data, 1)\n",
    "    total += labels.size(0)\n",
    "    correct += (predicted == labels).sum()\n",
    "\n",
    "print('Accuracy of the network on the 10000 test images: %d %%' % (\n",
    "    100 * correct / total))"
   ]
  },
  {
   "cell_type": "code",
   "execution_count": 16,
   "metadata": {
    "collapsed": false
   },
   "outputs": [
    {
     "name": "stdout",
     "output_type": "stream",
     "text": [
      "0\n",
      "1000\n",
      "2000\n",
      "3000\n",
      "4000\n",
      "5000\n",
      "6000\n",
      "7000\n",
      "8000\n",
      "9000\n",
      "10000\n",
      "11000\n",
      "12000\n",
      "Accuracy of the network on the 50000 trained images: 80 %\n"
     ]
    }
   ],
   "source": [
    "for i, data in enumerate(trainloader, 0):\n",
    "    images, labels = data\n",
    "    images=images.cuda()\n",
    "    labels=labels.cuda()\n",
    "    try:\n",
    "        outputs = net(Variable(images))\n",
    "    except RuntimeError as re:\n",
    "        print(outputs.is_cuda)\n",
    "        print(str(re))\n",
    "        sys.exit()\n",
    "    _, predicted = torch.max(outputs.data, 1)\n",
    "    total += labels.size(0)\n",
    "    correct += (predicted == labels).sum()\n",
    "    if (i%1000) == 0:\n",
    "        print(i)\n",
    "\n",
    "print('Accuracy of the network on the 50000 trained images: %d %%' % (\n",
    "    100 * correct / total))"
   ]
  },
  {
   "cell_type": "code",
   "execution_count": 17,
   "metadata": {
    "collapsed": false
   },
   "outputs": [
    {
     "name": "stdout",
     "output_type": "stream",
     "text": [
      "Accuracy of plane : 60 %\n",
      "Accuracy of   car : 77 %\n",
      "Accuracy of  bird : 61 %\n",
      "Accuracy of   cat : 47 %\n",
      "Accuracy of  deer : 62 %\n",
      "Accuracy of   dog : 57 %\n",
      "Accuracy of  frog : 84 %\n",
      "Accuracy of horse : 74 %\n",
      "Accuracy of  ship : 85 %\n",
      "Accuracy of truck : 78 %\n"
     ]
    }
   ],
   "source": [
    "class_correct = list(0. for i in range(10))\n",
    "class_total = list(0. for i in range(10))\n",
    "for data in testloader:\n",
    "    images, labels = data\n",
    "    images=images.cuda()\n",
    "    labels=labels.cuda()\n",
    "    outputs = net(Variable(images))\n",
    "    _, predicted = torch.max(outputs.data, 1)\n",
    "    c = (predicted == labels).squeeze()\n",
    "    for i in range(4):\n",
    "        label = labels[i]\n",
    "        class_correct[label] += c[i]\n",
    "        class_total[label] += 1\n",
    "\n",
    "\n",
    "for i in range(10):\n",
    "    print('Accuracy of %5s : %2d %%' % (\n",
    "        classes[i], 100 * class_correct[i] / class_total[i]))"
   ]
  },
  {
   "cell_type": "code",
   "execution_count": null,
   "metadata": {
    "collapsed": true
   },
   "outputs": [],
   "source": []
  }
 ],
 "metadata": {
  "kernelspec": {
   "display_name": "Python 3.5.2",
   "language": "python",
   "name": "python3"
  },
  "language_info": {
   "codemirror_mode": {
    "name": "ipython",
    "version": 3
   },
   "file_extension": ".py",
   "mimetype": "text/x-python",
   "name": "python",
   "nbconvert_exporter": "python",
   "pygments_lexer": "ipython3",
   "version": "3.5.2"
  }
 },
 "nbformat": 4,
 "nbformat_minor": 2
}
