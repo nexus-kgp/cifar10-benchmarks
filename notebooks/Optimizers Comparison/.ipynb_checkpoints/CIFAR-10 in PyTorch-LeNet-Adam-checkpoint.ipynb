{
 "cells": [
  {
   "cell_type": "code",
   "execution_count": 5,
   "metadata": {
    "collapsed": true
   },
   "outputs": [],
   "source": [
    "import torch\n",
    "import torchvision\n",
    "import torchvision.transforms as transforms"
   ]
  },
  {
   "cell_type": "code",
   "execution_count": 6,
   "metadata": {
    "collapsed": true
   },
   "outputs": [],
   "source": [
    "torch.cuda.set_device(0)"
   ]
  },
  {
   "cell_type": "code",
   "execution_count": 7,
   "metadata": {
    "collapsed": true
   },
   "outputs": [],
   "source": [
    "transform = transforms.Compose(\n",
    "    [transforms.ToTensor(),\n",
    "     transforms.Normalize((0.5, 0.5, 0.5), (0.5, 0.5, 0.5))])"
   ]
  },
  {
   "cell_type": "code",
   "execution_count": 8,
   "metadata": {
    "collapsed": false
   },
   "outputs": [
    {
     "name": "stdout",
     "output_type": "stream",
     "text": [
      "Using downloaded and verified file: ./data/cifar-10-python.tar.gz\n",
      "Files already downloaded and verified\n"
     ]
    }
   ],
   "source": [
    "trainset = torchvision.datasets.CIFAR10(root='./data', train=True,download=True, transform=transform)\n",
    "trainloader = torch.utils.data.DataLoader(trainset, batch_size=4, shuffle=True, num_workers=2)\n",
    "testset = torchvision.datasets.CIFAR10(root=\"./data\", train=False, download=True, transform=transform)\n",
    "testloader= torch.utils.data.DataLoader(testset, batch_size=4, shuffle=False, num_workers=2)\n",
    "classes=('plane', 'car', 'bird', 'cat','deer', 'dog', 'frog', 'horse', 'ship', 'truck')"
   ]
  },
  {
   "cell_type": "code",
   "execution_count": null,
   "metadata": {
    "collapsed": true
   },
   "outputs": [],
   "source": [
    "from torch.autograd import Variable\n",
    "import torch.nn as nn\n",
    "import torch.nn.functional as F"
   ]
  },
  {
   "cell_type": "code",
   "execution_count": 10,
   "metadata": {
    "collapsed": true
   },
   "outputs": [],
   "source": [
    "class LeNet(nn.Module):\n",
    "    def __init__(self):\n",
    "        super(LeNet, self).__init__()\n",
    "        self.conv1 = nn.Conv2d(3, 6, 5)\n",
    "        self.conv2 = nn.Conv2d(6, 16, 5)\n",
    "        self.fc1   = nn.Linear(16*5*5, 120)\n",
    "        self.fc2   = nn.Linear(120, 84)\n",
    "        self.fc3   = nn.Linear(84, 10)\n",
    "\n",
    "    def forward(self, x):\n",
    "        out = F.relu(self.conv1(x))\n",
    "        out = F.max_pool2d(out, 2)\n",
    "        out = F.relu(self.conv2(out))\n",
    "        out = F.max_pool2d(out, 2)\n",
    "        out = out.view(out.size(0), -1)\n",
    "        out = F.relu(self.fc1(out))\n",
    "        out = F.relu(self.fc2(out))\n",
    "        out = self.fc3(out)\n",
    "        return out"
   ]
  },
  {
   "cell_type": "code",
   "execution_count": 12,
   "metadata": {
    "collapsed": false
   },
   "outputs": [
    {
     "name": "stdout",
     "output_type": "stream",
     "text": [
      "The model is on CUDA\n",
      "[Epoch :: 1, Mini Batch ::  2000] loss: 1.859\n",
      "[Epoch :: 1, Mini Batch ::  4000] loss: 1.599\n",
      "[Epoch :: 1, Mini Batch ::  6000] loss: 1.524\n",
      "[Epoch :: 1, Mini Batch ::  8000] loss: 1.462\n",
      "[Epoch :: 1, Mini Batch :: 10000] loss: 1.437\n",
      "[Epoch :: 1, Mini Batch :: 12000] loss: 1.391\n",
      "[Epoch :: 2, Mini Batch ::  2000] loss: 1.342\n",
      "[Epoch :: 2, Mini Batch ::  4000] loss: 1.307\n",
      "[Epoch :: 2, Mini Batch ::  6000] loss: 1.303\n",
      "[Epoch :: 2, Mini Batch ::  8000] loss: 1.277\n",
      "[Epoch :: 2, Mini Batch :: 10000] loss: 1.277\n",
      "[Epoch :: 2, Mini Batch :: 12000] loss: 1.269\n",
      "[Epoch :: 3, Mini Batch ::  2000] loss: 1.177\n",
      "[Epoch :: 3, Mini Batch ::  4000] loss: 1.207\n",
      "[Epoch :: 3, Mini Batch ::  6000] loss: 1.206\n",
      "[Epoch :: 3, Mini Batch ::  8000] loss: 1.209\n",
      "[Epoch :: 3, Mini Batch :: 10000] loss: 1.191\n",
      "[Epoch :: 3, Mini Batch :: 12000] loss: 1.189\n",
      "[Epoch :: 4, Mini Batch ::  2000] loss: 1.115\n",
      "[Epoch :: 4, Mini Batch ::  4000] loss: 1.136\n",
      "[Epoch :: 4, Mini Batch ::  6000] loss: 1.134\n",
      "[Epoch :: 4, Mini Batch ::  8000] loss: 1.129\n",
      "[Epoch :: 4, Mini Batch :: 10000] loss: 1.131\n",
      "[Epoch :: 4, Mini Batch :: 12000] loss: 1.132\n",
      "[Epoch :: 5, Mini Batch ::  2000] loss: 1.070\n",
      "[Epoch :: 5, Mini Batch ::  4000] loss: 1.084\n",
      "[Epoch :: 5, Mini Batch ::  6000] loss: 1.090\n",
      "[Epoch :: 5, Mini Batch ::  8000] loss: 1.090\n",
      "[Epoch :: 5, Mini Batch :: 10000] loss: 1.067\n",
      "[Epoch :: 5, Mini Batch :: 12000] loss: 1.083\n",
      "[Epoch :: 6, Mini Batch ::  2000] loss: 1.009\n",
      "[Epoch :: 6, Mini Batch ::  4000] loss: 1.025\n",
      "[Epoch :: 6, Mini Batch ::  6000] loss: 1.039\n",
      "[Epoch :: 6, Mini Batch ::  8000] loss: 1.047\n",
      "[Epoch :: 6, Mini Batch :: 10000] loss: 1.067\n",
      "[Epoch :: 6, Mini Batch :: 12000] loss: 1.068\n",
      "[Epoch :: 7, Mini Batch ::  2000] loss: 0.986\n",
      "[Epoch :: 7, Mini Batch ::  4000] loss: 1.000\n",
      "[Epoch :: 7, Mini Batch ::  6000] loss: 1.017\n",
      "[Epoch :: 7, Mini Batch ::  8000] loss: 1.014\n",
      "[Epoch :: 7, Mini Batch :: 10000] loss: 1.012\n",
      "[Epoch :: 7, Mini Batch :: 12000] loss: 1.058\n",
      "[Epoch :: 8, Mini Batch ::  2000] loss: 0.970\n",
      "[Epoch :: 8, Mini Batch ::  4000] loss: 0.966\n",
      "[Epoch :: 8, Mini Batch ::  6000] loss: 0.972\n",
      "[Epoch :: 8, Mini Batch ::  8000] loss: 1.005\n",
      "[Epoch :: 8, Mini Batch :: 10000] loss: 1.019\n",
      "[Epoch :: 8, Mini Batch :: 12000] loss: 1.023\n",
      "[Epoch :: 9, Mini Batch ::  2000] loss: 0.947\n",
      "[Epoch :: 9, Mini Batch ::  4000] loss: 0.965\n",
      "[Epoch :: 9, Mini Batch ::  6000] loss: 0.967\n",
      "[Epoch :: 9, Mini Batch ::  8000] loss: 0.972\n",
      "[Epoch :: 9, Mini Batch :: 10000] loss: 0.981\n",
      "[Epoch :: 9, Mini Batch :: 12000] loss: 0.987\n",
      "[Epoch :: 10, Mini Batch ::  2000] loss: 0.917\n",
      "[Epoch :: 10, Mini Batch ::  4000] loss: 0.960\n",
      "[Epoch :: 10, Mini Batch ::  6000] loss: 0.919\n",
      "[Epoch :: 10, Mini Batch ::  8000] loss: 0.955\n",
      "[Epoch :: 10, Mini Batch :: 10000] loss: 0.963\n",
      "[Epoch :: 10, Mini Batch :: 12000] loss: 0.971\n",
      "Finished Training\n"
     ]
    }
   ],
   "source": [
    "# For Adagrad\n",
    "net = LeNet().cuda()\n",
    "lossvsiter_adam=[]\n",
    "\n",
    "# To see if the model is on CUDA or not !\n",
    "if (next(net.parameters()).is_cuda) :\n",
    "    print(\"The model is on CUDA\")\n",
    "else :\n",
    "    print(\"The model is on CPU\")\n",
    "\n",
    "import torch.optim as optim\n",
    "\n",
    "# Declare a loss function\n",
    "criterion = nn.CrossEntropyLoss()\n",
    "# Declare an optimizer\n",
    "optimizer = optim.Adam(net.parameters(),lr=0.001)\n",
    "\n",
    "\n",
    "# No of iterations !\n",
    "iterations = 10\n",
    "\n",
    "for epoch in range(iterations):  # loop over the dataset multiple times\n",
    "    \n",
    "    # Reset the loss for the current epoch !\n",
    "    loss_list = []\n",
    "    running_loss = 0.0\n",
    "    \n",
    "    # Loop over all the mini-batches therea are 12500 mini batches of size 4 each !\n",
    "    for i, data in enumerate(trainloader, 0):\n",
    "        # get the inputs\n",
    "        inputs, labels = data\n",
    "        \n",
    "        # wrap them in Variable & if possible make them cuda tensors\n",
    "        inputs, labels = Variable(inputs.cuda()), Variable(labels.cuda())\n",
    "\n",
    "        # zero the parameter gradients for the current epoch\n",
    "        optimizer.zero_grad()\n",
    "        \n",
    "        # forward + backward + optimize\n",
    "        \n",
    "        # forward\n",
    "        outputs = net(inputs)\n",
    "        loss = criterion(outputs, labels)\n",
    "        \n",
    "        # Calculate gradients of whatever variable set to req_gardients = True\n",
    "        loss.backward()\n",
    "        \n",
    "        # Take one step of the gradient descent for this epoch ! \n",
    "        optimizer.step()\n",
    "        \n",
    "        # print statistics\n",
    "        running_loss += loss.data[0]\n",
    "        loss_list.append(running_loss)\n",
    "        if i % 2000 == 1999:    # print every 2000 mini-batches\n",
    "            print('[Epoch :: %d, Mini Batch :: %5d] loss: %.3f' %\n",
    "                  (epoch + 1, i + 1, running_loss / 2000))\n",
    "            lossvsiter_adam.append(running_loss / 2000)\n",
    "            running_loss = 0.0\n",
    "        \n",
    "\n",
    "print('Finished Training')"
   ]
  },
  {
   "cell_type": "markdown",
   "metadata": {
    "collapsed": true
   },
   "source": [
    "import pickle\n",
    "with open(\"lossvsiter_adam.pkl\",\"wb\") as f:\n",
    "    pickle.dump(lossvsiter_adam,f)"
   ]
  },
  {
   "cell_type": "code",
   "execution_count": null,
   "metadata": {
    "collapsed": true
   },
   "outputs": [],
   "source": []
  },
  {
   "cell_type": "code",
   "execution_count": 13,
   "metadata": {
    "collapsed": false
   },
   "outputs": [
    {
     "name": "stdout",
     "output_type": "stream",
     "text": [
      "Accuracy of the network on the 10000 test images: 60 %\n"
     ]
    }
   ],
   "source": [
    "correct = 0\n",
    "total = 0\n",
    "\n",
    "for data in testloader:\n",
    "    images, labels = data\n",
    "    images=images.cuda()\n",
    "    labels=labels.cuda()\n",
    "    try:\n",
    "        outputs = net(Variable(images))\n",
    "    except RuntimeError as re:\n",
    "        print(outputs.is_cuda)\n",
    "        print(str(re))\n",
    "        sys.exit()\n",
    "    _, predicted = torch.max(outputs.data, 1)\n",
    "    total += labels.size(0)\n",
    "    correct += (predicted == labels).sum()\n",
    "\n",
    "print('Accuracy of the network on the 10000 test images: %d %%' % (\n",
    "    100 * correct / total))"
   ]
  },
  {
   "cell_type": "code",
   "execution_count": 14,
   "metadata": {
    "collapsed": false
   },
   "outputs": [
    {
     "name": "stdout",
     "output_type": "stream",
     "text": [
      "0\n",
      "1000\n",
      "2000\n",
      "3000\n",
      "4000\n",
      "5000\n",
      "6000\n",
      "7000\n",
      "8000\n",
      "9000\n",
      "10000\n",
      "11000\n",
      "12000\n",
      "Accuracy of the network on the 50000 trained images: 65 %\n"
     ]
    }
   ],
   "source": [
    "for i, data in enumerate(trainloader, 0):\n",
    "    images, labels = data\n",
    "    images=images.cuda()\n",
    "    labels=labels.cuda()\n",
    "    try:\n",
    "        outputs = net(Variable(images))\n",
    "    except RuntimeError as re:\n",
    "        print(outputs.is_cuda)\n",
    "        print(str(re))\n",
    "        sys.exit()\n",
    "    _, predicted = torch.max(outputs.data, 1)\n",
    "    total += labels.size(0)\n",
    "    correct += (predicted == labels).sum()\n",
    "    if (i%1000) == 0:\n",
    "        print(i)\n",
    "\n",
    "print('Accuracy of the network on the 50000 trained images: %d %%' % (\n",
    "    100 * correct / total))"
   ]
  },
  {
   "cell_type": "code",
   "execution_count": 15,
   "metadata": {
    "collapsed": false
   },
   "outputs": [
    {
     "name": "stdout",
     "output_type": "stream",
     "text": [
      "Accuracy of plane : 61 %\n",
      "Accuracy of   car : 81 %\n",
      "Accuracy of  bird : 41 %\n",
      "Accuracy of   cat : 42 %\n",
      "Accuracy of  deer : 53 %\n",
      "Accuracy of   dog : 37 %\n",
      "Accuracy of  frog : 81 %\n",
      "Accuracy of horse : 60 %\n",
      "Accuracy of  ship : 61 %\n",
      "Accuracy of truck : 79 %\n"
     ]
    }
   ],
   "source": [
    "class_correct = list(0. for i in range(10))\n",
    "class_total = list(0. for i in range(10))\n",
    "for data in testloader:\n",
    "    images, labels = data\n",
    "    images=images.cuda()\n",
    "    labels=labels.cuda()\n",
    "    outputs = net(Variable(images))\n",
    "    _, predicted = torch.max(outputs.data, 1)\n",
    "    c = (predicted == labels).squeeze()\n",
    "    for i in range(4):\n",
    "        label = labels[i]\n",
    "        class_correct[label] += c[i]\n",
    "        class_total[label] += 1\n",
    "\n",
    "\n",
    "for i in range(10):\n",
    "    print('Accuracy of %5s : %2d %%' % (\n",
    "        classes[i], 100 * class_correct[i] / class_total[i]))"
   ]
  },
  {
   "cell_type": "code",
   "execution_count": null,
   "metadata": {
    "collapsed": true
   },
   "outputs": [],
   "source": []
  }
 ],
 "metadata": {
  "kernelspec": {
   "display_name": "Python 3.5.2",
   "language": "python",
   "name": "python3"
  },
  "language_info": {
   "codemirror_mode": {
    "name": "ipython",
    "version": 3
   },
   "file_extension": ".py",
   "mimetype": "text/x-python",
   "name": "python",
   "nbconvert_exporter": "python",
   "pygments_lexer": "ipython3",
   "version": "3.5.2"
  }
 },
 "nbformat": 4,
 "nbformat_minor": 2
}
