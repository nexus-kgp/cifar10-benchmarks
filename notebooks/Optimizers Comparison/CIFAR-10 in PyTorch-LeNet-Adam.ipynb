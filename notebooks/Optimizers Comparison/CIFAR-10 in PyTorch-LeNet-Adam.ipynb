{
 "cells": [
  {
   "cell_type": "code",
   "execution_count": 1,
   "metadata": {
    "collapsed": true
   },
   "outputs": [],
   "source": [
    "import torch\n",
    "import torchvision\n",
    "import torchvision.transforms as transforms"
   ]
  },
  {
   "cell_type": "code",
   "execution_count": 2,
   "metadata": {
    "collapsed": true
   },
   "outputs": [],
   "source": [
    "torch.cuda.set_device(0)"
   ]
  },
  {
   "cell_type": "code",
   "execution_count": 3,
   "metadata": {
    "collapsed": true
   },
   "outputs": [],
   "source": [
    "transform = transforms.Compose(\n",
    "    [transforms.ToTensor(),\n",
    "     transforms.Normalize((0.5, 0.5, 0.5), (0.5, 0.5, 0.5))])"
   ]
  },
  {
   "cell_type": "code",
   "execution_count": 4,
   "metadata": {
    "collapsed": false
   },
   "outputs": [
    {
     "name": "stdout",
     "output_type": "stream",
     "text": [
      "Files already downloaded and verified\n",
      "Files already downloaded and verified\n"
     ]
    }
   ],
   "source": [
    "trainset = torchvision.datasets.CIFAR10(root='./data', train=True,download=True, transform=transform)\n",
    "trainloader = torch.utils.data.DataLoader(trainset, batch_size=4, shuffle=True, num_workers=2)\n",
    "testset = torchvision.datasets.CIFAR10(root=\"./data\", train=False, download=True, transform=transform)\n",
    "testloader= torch.utils.data.DataLoader(testset, batch_size=4, shuffle=False, num_workers=2)\n",
    "classes=('plane', 'car', 'bird', 'cat','deer', 'dog', 'frog', 'horse', 'ship', 'truck')"
   ]
  },
  {
   "cell_type": "code",
   "execution_count": 5,
   "metadata": {
    "collapsed": true
   },
   "outputs": [],
   "source": [
    "from torch.autograd import Variable\n",
    "import torch.nn as nn\n",
    "import torch.nn.functional as F"
   ]
  },
  {
   "cell_type": "code",
   "execution_count": 6,
   "metadata": {
    "collapsed": false
   },
   "outputs": [],
   "source": [
    "class LeNet(nn.Module):\n",
    "    def __init__(self):\n",
    "        super(LeNet, self).__init__()\n",
    "        self.conv1 = nn.Conv2d(3, 6, 5)\n",
    "        self.conv2 = nn.Conv2d(6, 16, 5)\n",
    "        self.fc1   = nn.Linear(16*5*5, 120)\n",
    "        self.fc2   = nn.Linear(120, 84)\n",
    "        self.fc3   = nn.Linear(84, 10)\n",
    "\n",
    "    def forward(self, x):\n",
    "        out = F.relu(self.conv1(x))\n",
    "        out = F.max_pool2d(out, 2)\n",
    "        out = F.relu(self.conv2(out))\n",
    "        out = F.max_pool2d(out, 2)\n",
    "        out = out.view(out.size(0), -1)\n",
    "        out = F.relu(self.fc1(out))\n",
    "        out = F.relu(self.fc2(out))\n",
    "        out = self.fc3(out)\n",
    "        return out"
   ]
  },
  {
   "cell_type": "code",
   "execution_count": 7,
   "metadata": {
    "collapsed": false
   },
   "outputs": [
    {
     "name": "stdout",
     "output_type": "stream",
     "text": [
      "The model is on CUDA\n",
      "[Epoch :: 1, Mini Batch ::  2000] loss: 1.992\n",
      "[Epoch :: 1, Mini Batch ::  4000] loss: 1.751\n",
      "[Epoch :: 1, Mini Batch ::  6000] loss: 1.650\n",
      "[Epoch :: 1, Mini Batch ::  8000] loss: 1.571\n",
      "[Epoch :: 1, Mini Batch :: 10000] loss: 1.524\n",
      "[Epoch :: 1, Mini Batch :: 12000] loss: 1.465\n",
      "[Epoch :: 2, Mini Batch ::  2000] loss: 1.417\n",
      "[Epoch :: 2, Mini Batch ::  4000] loss: 1.390\n",
      "[Epoch :: 2, Mini Batch ::  6000] loss: 1.382\n",
      "[Epoch :: 2, Mini Batch ::  8000] loss: 1.342\n",
      "[Epoch :: 2, Mini Batch :: 10000] loss: 1.335\n",
      "[Epoch :: 2, Mini Batch :: 12000] loss: 1.313\n",
      "[Epoch :: 3, Mini Batch ::  2000] loss: 1.278\n",
      "[Epoch :: 3, Mini Batch ::  4000] loss: 1.251\n",
      "[Epoch :: 3, Mini Batch ::  6000] loss: 1.258\n",
      "[Epoch :: 3, Mini Batch ::  8000] loss: 1.239\n",
      "[Epoch :: 3, Mini Batch :: 10000] loss: 1.236\n",
      "[Epoch :: 3, Mini Batch :: 12000] loss: 1.222\n",
      "[Epoch :: 4, Mini Batch ::  2000] loss: 1.179\n",
      "[Epoch :: 4, Mini Batch ::  4000] loss: 1.168\n",
      "[Epoch :: 4, Mini Batch ::  6000] loss: 1.161\n",
      "[Epoch :: 4, Mini Batch ::  8000] loss: 1.184\n",
      "[Epoch :: 4, Mini Batch :: 10000] loss: 1.166\n",
      "[Epoch :: 4, Mini Batch :: 12000] loss: 1.165\n",
      "[Epoch :: 5, Mini Batch ::  2000] loss: 1.110\n",
      "[Epoch :: 5, Mini Batch ::  4000] loss: 1.126\n",
      "[Epoch :: 5, Mini Batch ::  6000] loss: 1.112\n",
      "[Epoch :: 5, Mini Batch ::  8000] loss: 1.105\n",
      "[Epoch :: 5, Mini Batch :: 10000] loss: 1.111\n",
      "[Epoch :: 5, Mini Batch :: 12000] loss: 1.098\n",
      "[Epoch :: 6, Mini Batch ::  2000] loss: 1.064\n",
      "[Epoch :: 6, Mini Batch ::  4000] loss: 1.061\n",
      "[Epoch :: 6, Mini Batch ::  6000] loss: 1.044\n",
      "[Epoch :: 6, Mini Batch ::  8000] loss: 1.052\n",
      "[Epoch :: 6, Mini Batch :: 10000] loss: 1.074\n",
      "[Epoch :: 6, Mini Batch :: 12000] loss: 1.057\n",
      "[Epoch :: 7, Mini Batch ::  2000] loss: 1.033\n",
      "[Epoch :: 7, Mini Batch ::  4000] loss: 1.026\n",
      "[Epoch :: 7, Mini Batch ::  6000] loss: 1.003\n",
      "[Epoch :: 7, Mini Batch ::  8000] loss: 1.008\n",
      "[Epoch :: 7, Mini Batch :: 10000] loss: 1.017\n",
      "[Epoch :: 7, Mini Batch :: 12000] loss: 0.998\n",
      "[Epoch :: 8, Mini Batch ::  2000] loss: 0.954\n",
      "[Epoch :: 8, Mini Batch ::  4000] loss: 0.974\n",
      "[Epoch :: 8, Mini Batch ::  6000] loss: 0.971\n",
      "[Epoch :: 8, Mini Batch ::  8000] loss: 0.972\n",
      "[Epoch :: 8, Mini Batch :: 10000] loss: 0.967\n",
      "[Epoch :: 8, Mini Batch :: 12000] loss: 0.988\n",
      "[Epoch :: 9, Mini Batch ::  2000] loss: 0.934\n",
      "[Epoch :: 9, Mini Batch ::  4000] loss: 0.919\n",
      "[Epoch :: 9, Mini Batch ::  6000] loss: 0.934\n",
      "[Epoch :: 9, Mini Batch ::  8000] loss: 0.955\n",
      "[Epoch :: 9, Mini Batch :: 10000] loss: 0.930\n",
      "[Epoch :: 9, Mini Batch :: 12000] loss: 0.936\n",
      "[Epoch :: 10, Mini Batch ::  2000] loss: 0.898\n",
      "[Epoch :: 10, Mini Batch ::  4000] loss: 0.878\n",
      "[Epoch :: 10, Mini Batch ::  6000] loss: 0.878\n",
      "[Epoch :: 10, Mini Batch ::  8000] loss: 0.916\n",
      "[Epoch :: 10, Mini Batch :: 10000] loss: 0.908\n",
      "[Epoch :: 10, Mini Batch :: 12000] loss: 0.913\n",
      "[Epoch :: 11, Mini Batch ::  2000] loss: 0.851\n",
      "[Epoch :: 11, Mini Batch ::  4000] loss: 0.859\n",
      "[Epoch :: 11, Mini Batch ::  6000] loss: 0.862\n",
      "[Epoch :: 11, Mini Batch ::  8000] loss: 0.875\n",
      "[Epoch :: 11, Mini Batch :: 10000] loss: 0.865\n",
      "[Epoch :: 11, Mini Batch :: 12000] loss: 0.891\n",
      "[Epoch :: 12, Mini Batch ::  2000] loss: 0.820\n",
      "[Epoch :: 12, Mini Batch ::  4000] loss: 0.809\n",
      "[Epoch :: 12, Mini Batch ::  6000] loss: 0.841\n",
      "[Epoch :: 12, Mini Batch ::  8000] loss: 0.851\n",
      "[Epoch :: 12, Mini Batch :: 10000] loss: 0.857\n",
      "[Epoch :: 12, Mini Batch :: 12000] loss: 0.845\n",
      "[Epoch :: 13, Mini Batch ::  2000] loss: 0.770\n",
      "[Epoch :: 13, Mini Batch ::  4000] loss: 0.796\n",
      "[Epoch :: 13, Mini Batch ::  6000] loss: 0.838\n",
      "[Epoch :: 13, Mini Batch ::  8000] loss: 0.802\n",
      "[Epoch :: 13, Mini Batch :: 10000] loss: 0.826\n",
      "[Epoch :: 13, Mini Batch :: 12000] loss: 0.817\n",
      "[Epoch :: 14, Mini Batch ::  2000] loss: 0.777\n",
      "[Epoch :: 14, Mini Batch ::  4000] loss: 0.781\n",
      "[Epoch :: 14, Mini Batch ::  6000] loss: 0.776\n",
      "[Epoch :: 14, Mini Batch ::  8000] loss: 0.785\n",
      "[Epoch :: 14, Mini Batch :: 10000] loss: 0.793\n",
      "[Epoch :: 14, Mini Batch :: 12000] loss: 0.784\n",
      "[Epoch :: 15, Mini Batch ::  2000] loss: 0.737\n",
      "[Epoch :: 15, Mini Batch ::  4000] loss: 0.746\n",
      "[Epoch :: 15, Mini Batch ::  6000] loss: 0.744\n",
      "[Epoch :: 15, Mini Batch ::  8000] loss: 0.788\n",
      "[Epoch :: 15, Mini Batch :: 10000] loss: 0.767\n",
      "[Epoch :: 15, Mini Batch :: 12000] loss: 0.758\n",
      "[Epoch :: 16, Mini Batch ::  2000] loss: 0.739\n",
      "[Epoch :: 16, Mini Batch ::  4000] loss: 0.719\n",
      "[Epoch :: 16, Mini Batch ::  6000] loss: 0.730\n",
      "[Epoch :: 16, Mini Batch ::  8000] loss: 0.727\n",
      "[Epoch :: 16, Mini Batch :: 10000] loss: 0.740\n",
      "[Epoch :: 16, Mini Batch :: 12000] loss: 0.752\n",
      "[Epoch :: 17, Mini Batch ::  2000] loss: 0.690\n",
      "[Epoch :: 17, Mini Batch ::  4000] loss: 0.696\n",
      "[Epoch :: 17, Mini Batch ::  6000] loss: 0.688\n",
      "[Epoch :: 17, Mini Batch ::  8000] loss: 0.726\n",
      "[Epoch :: 17, Mini Batch :: 10000] loss: 0.721\n",
      "[Epoch :: 17, Mini Batch :: 12000] loss: 0.751\n",
      "[Epoch :: 18, Mini Batch ::  2000] loss: 0.683\n",
      "[Epoch :: 18, Mini Batch ::  4000] loss: 0.676\n",
      "[Epoch :: 18, Mini Batch ::  6000] loss: 0.680\n",
      "[Epoch :: 18, Mini Batch ::  8000] loss: 0.709\n",
      "[Epoch :: 18, Mini Batch :: 10000] loss: 0.694\n",
      "[Epoch :: 18, Mini Batch :: 12000] loss: 0.687\n",
      "[Epoch :: 19, Mini Batch ::  2000] loss: 0.641\n",
      "[Epoch :: 19, Mini Batch ::  4000] loss: 0.670\n",
      "[Epoch :: 19, Mini Batch ::  6000] loss: 0.657\n",
      "[Epoch :: 19, Mini Batch ::  8000] loss: 0.682\n",
      "[Epoch :: 19, Mini Batch :: 10000] loss: 0.690\n",
      "[Epoch :: 19, Mini Batch :: 12000] loss: 0.680\n",
      "[Epoch :: 20, Mini Batch ::  2000] loss: 0.609\n",
      "[Epoch :: 20, Mini Batch ::  4000] loss: 0.625\n",
      "[Epoch :: 20, Mini Batch ::  6000] loss: 0.664\n",
      "[Epoch :: 20, Mini Batch ::  8000] loss: 0.653\n",
      "[Epoch :: 20, Mini Batch :: 10000] loss: 0.671\n",
      "[Epoch :: 20, Mini Batch :: 12000] loss: 0.673\n",
      "[Epoch :: 21, Mini Batch ::  2000] loss: 0.599\n",
      "[Epoch :: 21, Mini Batch ::  4000] loss: 0.607\n",
      "[Epoch :: 21, Mini Batch ::  6000] loss: 0.630\n",
      "[Epoch :: 21, Mini Batch ::  8000] loss: 0.644\n",
      "[Epoch :: 21, Mini Batch :: 10000] loss: 0.637\n",
      "[Epoch :: 21, Mini Batch :: 12000] loss: 0.657\n",
      "[Epoch :: 22, Mini Batch ::  2000] loss: 0.579\n",
      "[Epoch :: 22, Mini Batch ::  4000] loss: 0.608\n",
      "[Epoch :: 22, Mini Batch ::  6000] loss: 0.611\n",
      "[Epoch :: 22, Mini Batch ::  8000] loss: 0.631\n",
      "[Epoch :: 22, Mini Batch :: 10000] loss: 0.641\n",
      "[Epoch :: 22, Mini Batch :: 12000] loss: 0.610\n",
      "[Epoch :: 23, Mini Batch ::  2000] loss: 0.568\n",
      "[Epoch :: 23, Mini Batch ::  4000] loss: 0.587\n",
      "[Epoch :: 23, Mini Batch ::  6000] loss: 0.596\n",
      "[Epoch :: 23, Mini Batch ::  8000] loss: 0.594\n",
      "[Epoch :: 23, Mini Batch :: 10000] loss: 0.606\n",
      "[Epoch :: 23, Mini Batch :: 12000] loss: 0.600\n",
      "[Epoch :: 24, Mini Batch ::  2000] loss: 0.541\n",
      "[Epoch :: 24, Mini Batch ::  4000] loss: 0.554\n",
      "[Epoch :: 24, Mini Batch ::  6000] loss: 0.576\n",
      "[Epoch :: 24, Mini Batch ::  8000] loss: 0.585\n",
      "[Epoch :: 24, Mini Batch :: 10000] loss: 0.596\n",
      "[Epoch :: 24, Mini Batch :: 12000] loss: 0.592\n",
      "[Epoch :: 25, Mini Batch ::  2000] loss: 0.527\n",
      "[Epoch :: 25, Mini Batch ::  4000] loss: 0.541\n",
      "[Epoch :: 25, Mini Batch ::  6000] loss: 0.569\n",
      "[Epoch :: 25, Mini Batch ::  8000] loss: 0.571\n",
      "[Epoch :: 25, Mini Batch :: 10000] loss: 0.575\n",
      "[Epoch :: 25, Mini Batch :: 12000] loss: 0.551\n",
      "Finished Training\n"
     ]
    }
   ],
   "source": [
    "# For Adamax\n",
    "net = LeNet().cuda()\n",
    "lossvsiter_adam=[]\n",
    "\n",
    "# To see if the model is on CUDA or not !\n",
    "if (next(net.parameters()).is_cuda) :\n",
    "    print(\"The model is on CUDA\")\n",
    "else :\n",
    "    print(\"The model is on CPU\")\n",
    "\n",
    "import torch.optim as optim\n",
    "\n",
    "# Declare a loss function\n",
    "criterion = nn.CrossEntropyLoss()\n",
    "# Declare an optimizer\n",
    "optimizer = optim.Adamax(net.parameters(),lr=0.001)\n",
    "\n",
    "\n",
    "# No of iterations !\n",
    "iterations = 25\n",
    "loss_list = []\n",
    "\n",
    "for epoch in range(iterations):  # loop over the dataset multiple times\n",
    "    \n",
    "    # Reset the loss for the current epoch !\n",
    "    running_loss = 0.0\n",
    "    tloss = 0.0\n",
    "    # Loop over all the mini-batches therea are 12500 mini batches of size 4 each !\n",
    "    for i, data in enumerate(trainloader, 0):\n",
    "        # get the inputs\n",
    "        inputs, labels = data\n",
    "        \n",
    "        # wrap them in Variable & if possible make them cuda tensors\n",
    "        inputs, labels = Variable(inputs.cuda()), Variable(labels.cuda())\n",
    "\n",
    "        # zero the parameter gradients for the current epoch\n",
    "        optimizer.zero_grad()\n",
    "        \n",
    "        # forward + backward + optimize\n",
    "        \n",
    "        # forward\n",
    "        outputs = net(inputs)\n",
    "        loss = criterion(outputs, labels)\n",
    "        \n",
    "        # Calculate gradients of whatever variable set to req_gardients = True\n",
    "        loss.backward()\n",
    "        \n",
    "        # Take one step of the gradient descent for this epoch ! \n",
    "        optimizer.step()\n",
    "        \n",
    "        # print statistics\n",
    "        running_loss += loss.data[0]\n",
    "        tloss += loss.data[0]\n",
    "        if i % 2000 == 1999:    # print every 100 mini-batches\n",
    "            print('[Epoch :: %d, Mini Batch :: %5d] loss: %.3f' %\n",
    "                  (epoch + 1, i + 1, running_loss / 1999))\n",
    "            running_loss = 0.0\n",
    "#         if i % 100 == 99:    # print every 100 mini-batches\n",
    "#             print('[Epoch :: %d, Mini Batch :: %5d] loss: %.3f' %\n",
    "#                   (epoch + 1, i + 1, running_loss / 100))\n",
    "#             running_loss = 0.0\n",
    "            \n",
    "    loss_list.append(tloss)\n",
    "\n",
    "print('Finished Training')"
   ]
  },
  {
   "cell_type": "markdown",
   "metadata": {
    "collapsed": true
   },
   "source": [
    "import pickle\n",
    "with open(\"lossvsiter_adam.pkl\",\"wb\") as f:\n",
    "    pickle.dump(lossvsiter_adam,f)"
   ]
  },
  {
   "cell_type": "code",
   "execution_count": 8,
   "metadata": {
    "collapsed": false
   },
   "outputs": [
    {
     "name": "stdout",
     "output_type": "stream",
     "text": [
      "Accuracy of the network on the 10000 test images: 63 %\n"
     ]
    }
   ],
   "source": [
    "correct = 0\n",
    "total = 0\n",
    "\n",
    "for data in testloader:\n",
    "    images, labels = data\n",
    "    images=images.cuda()\n",
    "    labels=labels.cuda()\n",
    "    try:\n",
    "        outputs = net(Variable(images))\n",
    "    except RuntimeError as re:\n",
    "        print(outputs.is_cuda)\n",
    "        print(str(re))\n",
    "        sys.exit()\n",
    "    _, predicted = torch.max(outputs.data, 1)\n",
    "    total += labels.size(0)\n",
    "    correct += (predicted == labels).sum()\n",
    "\n",
    "print('Accuracy of the network on the 10000 test images: %d %%' % (\n",
    "    100 * correct / total))"
   ]
  },
  {
   "cell_type": "code",
   "execution_count": 14,
   "metadata": {
    "collapsed": false
   },
   "outputs": [
    {
     "name": "stdout",
     "output_type": "stream",
     "text": [
      "0\n",
      "1000\n",
      "2000\n",
      "3000\n",
      "4000\n",
      "5000\n",
      "6000\n",
      "7000\n",
      "8000\n",
      "9000\n",
      "10000\n",
      "11000\n",
      "12000\n",
      "Accuracy of the network on the 50000 trained images: 65 %\n"
     ]
    }
   ],
   "source": [
    "for i, data in enumerate(trainloader, 0):\n",
    "    images, labels = data\n",
    "    images=images.cuda()\n",
    "    labels=labels.cuda()\n",
    "    try:\n",
    "        outputs = net(Variable(images))\n",
    "    except RuntimeError as re:\n",
    "        print(outputs.is_cuda)\n",
    "        print(str(re))\n",
    "        sys.exit()\n",
    "    _, predicted = torch.max(outputs.data, 1)\n",
    "    total += labels.size(0)\n",
    "    correct += (predicted == labels).sum()\n",
    "    if (i%1000) == 0:\n",
    "        print(i)\n",
    "\n",
    "print('Accuracy of the network on the 50000 trained images: %d %%' % (\n",
    "    100 * correct / total))"
   ]
  },
  {
   "cell_type": "code",
   "execution_count": 15,
   "metadata": {
    "collapsed": false
   },
   "outputs": [
    {
     "name": "stdout",
     "output_type": "stream",
     "text": [
      "Accuracy of plane : 61 %\n",
      "Accuracy of   car : 81 %\n",
      "Accuracy of  bird : 41 %\n",
      "Accuracy of   cat : 42 %\n",
      "Accuracy of  deer : 53 %\n",
      "Accuracy of   dog : 37 %\n",
      "Accuracy of  frog : 81 %\n",
      "Accuracy of horse : 60 %\n",
      "Accuracy of  ship : 61 %\n",
      "Accuracy of truck : 79 %\n"
     ]
    }
   ],
   "source": [
    "class_correct = list(0. for i in range(10))\n",
    "class_total = list(0. for i in range(10))\n",
    "for data in testloader:\n",
    "    images, labels = data\n",
    "    images=images.cuda()\n",
    "    labels=labels.cuda()\n",
    "    outputs = net(Variable(images))\n",
    "    _, predicted = torch.max(outputs.data, 1)\n",
    "    c = (predicted == labels).squeeze()\n",
    "    for i in range(4):\n",
    "        label = labels[i]\n",
    "        class_correct[label] += c[i]\n",
    "        class_total[label] += 1\n",
    "\n",
    "\n",
    "for i in range(10):\n",
    "    print('Accuracy of %5s : %2d %%' % (\n",
    "        classes[i], 100 * class_correct[i] / class_total[i]))"
   ]
  },
  {
   "cell_type": "code",
   "execution_count": 9,
   "metadata": {
    "collapsed": false
   },
   "outputs": [
    {
     "data": {
      "text/plain": [
       "[<matplotlib.lines.Line2D at 0x7f6f012c8ba8>]"
      ]
     },
     "execution_count": 9,
     "metadata": {},
     "output_type": "execute_result"
    },
    {
     "data": {
      "image/png": "[encoded data removed]",
      "text/plain": [
       "<matplotlib.figure.Figure at 0x7f6f016dada0>"
      ]
     },
     "metadata": {},
     "output_type": "display_data"
    }
   ],
   "source": [
    "%matplotlib inline\n",
    "import matplotlib.pyplot as plt\n",
    "plt.plot(loss_list)"
   ]
  },
  {
   "cell_type": "code",
   "execution_count": null,
   "metadata": {
    "collapsed": true
   },
   "outputs": [],
   "source": []
  }
 ],
 "metadata": {
  "kernelspec": {
   "display_name": "Python 3.5.2",
   "language": "python",
   "name": "python3"
  },
  "language_info": {
   "codemirror_mode": {
    "name": "ipython",
    "version": 3
   },
   "file_extension": ".py",
   "mimetype": "text/x-python",
   "name": "python",
   "nbconvert_exporter": "python",
   "pygments_lexer": "ipython3",
   "version": "3.5.2"
  }
 },
 "nbformat": 4,
 "nbformat_minor": 2
}
