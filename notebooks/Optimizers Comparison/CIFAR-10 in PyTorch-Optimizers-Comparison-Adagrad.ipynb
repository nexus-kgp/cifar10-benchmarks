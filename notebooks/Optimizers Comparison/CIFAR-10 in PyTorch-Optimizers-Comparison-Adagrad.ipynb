{
 "cells": [
  {
   "cell_type": "code",
   "execution_count": 1,
   "metadata": {
    "collapsed": true
   },
   "outputs": [],
   "source": [
    "import torch\n",
    "import torchvision\n",
    "import torchvision.transforms as transforms"
   ]
  },
  {
   "cell_type": "code",
   "execution_count": 2,
   "metadata": {
    "collapsed": true
   },
   "outputs": [],
   "source": [
    "torch.cuda.set_device(0)"
   ]
  },
  {
   "cell_type": "code",
   "execution_count": 3,
   "metadata": {
    "collapsed": true
   },
   "outputs": [],
   "source": [
    "transform = transforms.Compose(\n",
    "    [transforms.ToTensor(),\n",
    "     transforms.Normalize((0.5, 0.5, 0.5), (0.5, 0.5, 0.5))])"
   ]
  },
  {
   "cell_type": "code",
   "execution_count": 4,
   "metadata": {},
   "outputs": [
    {
     "name": "stdout",
     "output_type": "stream",
     "text": [
      "Files already downloaded and verified\n",
      "Files already downloaded and verified\n"
     ]
    }
   ],
   "source": [
    "trainset = torchvision.datasets.CIFAR10(root='./data', train=True,download=True, transform=transform)\n",
    "trainloader = torch.utils.data.DataLoader(trainset, batch_size=4, shuffle=True, num_workers=2)\n",
    "testset = torchvision.datasets.CIFAR10(root=\"./data\", train=False, download=True, transform=transform)\n",
    "testloader= torch.utils.data.DataLoader(testset, batch_size=4, shuffle=False, num_workers=2)\n",
    "classes=('plane', 'car', 'bird', 'cat','deer', 'dog', 'frog', 'horse', 'ship', 'truck')"
   ]
  },
  {
   "cell_type": "code",
   "execution_count": 5,
   "metadata": {
    "collapsed": true
   },
   "outputs": [],
   "source": [
    "from torch.autograd import Variable\n",
    "import torch.nn as nn\n",
    "import torch.nn.functional as F\n",
    "\n",
    "\n",
    "class Net(nn.Module):\n",
    "    def __init__(self):\n",
    "        super(Net, self).__init__()\n",
    "        # 5 Layers : 2 conv layers and 3 fully connected layers !\n",
    "        self.conv1 = nn.Conv2d(3, 16, 5)\n",
    "        self.pool = nn.MaxPool2d(2, 2)\n",
    "        self.conv2 = nn.Conv2d(16, 25, 5)\n",
    "        self.fc1 = nn.Linear(25 * 5 * 5, 120)\n",
    "        self.fc2 = nn.Linear(120, 84)\n",
    "        self.fc3 = nn.Linear(84, 10)\n",
    "\n",
    "    def forward(self, x):\n",
    "        x = self.pool(F.relu(self.conv1(x)))\n",
    "        x = self.pool(F.relu(self.conv2(x)))\n",
    "        x = x.view(-1, 25 * 5 * 5)\n",
    "        x = F.relu(self.fc1(x))\n",
    "        x = F.relu(self.fc2(x))\n",
    "        x = self.fc3(x)\n",
    "        return x"
   ]
  },
  {
   "cell_type": "code",
   "execution_count": 7,
   "metadata": {},
   "outputs": [
    {
     "name": "stdout",
     "output_type": "stream",
     "text": [
      "The model is on CUDA\n",
      "[Epoch :: 1, Mini Batch ::  2000] loss: 1.869\n",
      "[Epoch :: 1, Mini Batch ::  4000] loss: 1.578\n",
      "[Epoch :: 1, Mini Batch ::  6000] loss: 1.470\n",
      "[Epoch :: 1, Mini Batch ::  8000] loss: 1.428\n",
      "[Epoch :: 1, Mini Batch :: 10000] loss: 1.393\n",
      "[Epoch :: 1, Mini Batch :: 12000] loss: 1.381\n",
      "[Epoch :: 2, Mini Batch ::  2000] loss: 1.327\n",
      "[Epoch :: 2, Mini Batch ::  4000] loss: 1.306\n",
      "[Epoch :: 2, Mini Batch ::  6000] loss: 1.273\n",
      "[Epoch :: 2, Mini Batch ::  8000] loss: 1.265\n",
      "[Epoch :: 2, Mini Batch :: 10000] loss: 1.253\n",
      "[Epoch :: 2, Mini Batch :: 12000] loss: 1.247\n",
      "[Epoch :: 3, Mini Batch ::  2000] loss: 1.219\n",
      "[Epoch :: 3, Mini Batch ::  4000] loss: 1.203\n",
      "[Epoch :: 3, Mini Batch ::  6000] loss: 1.191\n",
      "[Epoch :: 3, Mini Batch ::  8000] loss: 1.177\n",
      "[Epoch :: 3, Mini Batch :: 10000] loss: 1.183\n",
      "[Epoch :: 3, Mini Batch :: 12000] loss: 1.173\n",
      "[Epoch :: 4, Mini Batch ::  2000] loss: 1.136\n",
      "[Epoch :: 4, Mini Batch ::  4000] loss: 1.147\n",
      "[Epoch :: 4, Mini Batch ::  6000] loss: 1.157\n",
      "[Epoch :: 4, Mini Batch ::  8000] loss: 1.111\n",
      "[Epoch :: 4, Mini Batch :: 10000] loss: 1.112\n",
      "[Epoch :: 4, Mini Batch :: 12000] loss: 1.137\n",
      "[Epoch :: 5, Mini Batch ::  2000] loss: 1.105\n",
      "[Epoch :: 5, Mini Batch ::  4000] loss: 1.070\n",
      "[Epoch :: 5, Mini Batch ::  6000] loss: 1.101\n",
      "[Epoch :: 5, Mini Batch ::  8000] loss: 1.091\n",
      "[Epoch :: 5, Mini Batch :: 10000] loss: 1.080\n",
      "[Epoch :: 5, Mini Batch :: 12000] loss: 1.115\n",
      "[Epoch :: 6, Mini Batch ::  2000] loss: 1.062\n",
      "[Epoch :: 6, Mini Batch ::  4000] loss: 1.068\n",
      "[Epoch :: 6, Mini Batch ::  6000] loss: 1.055\n",
      "[Epoch :: 6, Mini Batch ::  8000] loss: 1.043\n",
      "[Epoch :: 6, Mini Batch :: 10000] loss: 1.068\n",
      "[Epoch :: 6, Mini Batch :: 12000] loss: 1.067\n",
      "[Epoch :: 7, Mini Batch ::  2000] loss: 1.036\n",
      "[Epoch :: 7, Mini Batch ::  4000] loss: 1.036\n",
      "[Epoch :: 7, Mini Batch ::  6000] loss: 1.029\n",
      "[Epoch :: 7, Mini Batch ::  8000] loss: 1.022\n",
      "[Epoch :: 7, Mini Batch :: 10000] loss: 1.032\n",
      "[Epoch :: 7, Mini Batch :: 12000] loss: 1.043\n",
      "[Epoch :: 8, Mini Batch ::  2000] loss: 1.006\n",
      "[Epoch :: 8, Mini Batch ::  4000] loss: 0.994\n",
      "[Epoch :: 8, Mini Batch ::  6000] loss: 1.023\n",
      "[Epoch :: 8, Mini Batch ::  8000] loss: 1.016\n",
      "[Epoch :: 8, Mini Batch :: 10000] loss: 0.997\n",
      "[Epoch :: 8, Mini Batch :: 12000] loss: 1.018\n",
      "[Epoch :: 9, Mini Batch ::  2000] loss: 0.993\n",
      "[Epoch :: 9, Mini Batch ::  4000] loss: 0.984\n",
      "[Epoch :: 9, Mini Batch ::  6000] loss: 0.996\n",
      "[Epoch :: 9, Mini Batch ::  8000] loss: 0.984\n",
      "[Epoch :: 9, Mini Batch :: 10000] loss: 0.995\n",
      "[Epoch :: 9, Mini Batch :: 12000] loss: 0.975\n",
      "[Epoch :: 10, Mini Batch ::  2000] loss: 0.978\n",
      "[Epoch :: 10, Mini Batch ::  4000] loss: 0.962\n",
      "[Epoch :: 10, Mini Batch ::  6000] loss: 0.957\n",
      "[Epoch :: 10, Mini Batch ::  8000] loss: 0.982\n",
      "[Epoch :: 10, Mini Batch :: 10000] loss: 0.962\n",
      "[Epoch :: 10, Mini Batch :: 12000] loss: 0.977\n",
      "Finished Training\n"
     ]
    }
   ],
   "source": [
    "# Create an instance of the model on CUDA\n",
    "net = Net().cuda()\n",
    "\n",
    "lossvsiter_adagrad=[]\n",
    "\n",
    "# To see if the model is on CUDA or not !\n",
    "if (next(net.parameters()).is_cuda) :\n",
    "    print(\"The model is on CUDA\")\n",
    "else :\n",
    "    print(\"The model is on CPU\")\n",
    "\n",
    "import torch.optim as optim\n",
    "\n",
    "# Declare a loss function\n",
    "criterion = nn.CrossEntropyLoss()\n",
    "# Declare an optimizer\n",
    "optimizer = optim.Adagrad(net.parameters(),lr=0.01)\n",
    "\n",
    "\n",
    "# No of iterations !\n",
    "iterations = 10\n",
    "\n",
    "for epoch in range(iterations):  # loop over the dataset multiple times\n",
    "    \n",
    "    # Reset the loss for the current epoch !\n",
    "    running_loss = 0.0\n",
    "    \n",
    "    # Loop over all the mini-batches therea are 12500 mini batches of size 4 each !\n",
    "    for i, data in enumerate(trainloader, 0):\n",
    "        # get the inputs\n",
    "        inputs, labels = data\n",
    "        \n",
    "        # wrap them in Variable & if possible make them cuda tensors\n",
    "        inputs, labels = Variable(inputs.cuda()), Variable(labels.cuda())\n",
    "\n",
    "        # zero the parameter gradients for the current epoch\n",
    "        optimizer.zero_grad()\n",
    "        \n",
    "        # forward + backward + optimize\n",
    "        \n",
    "        # forward\n",
    "        outputs = net(inputs)\n",
    "        loss = criterion(outputs, labels)\n",
    "        \n",
    "        # Calculate gradients of whatever variable set to req_gardients = True\n",
    "        loss.backward()\n",
    "        \n",
    "        # Take one step of the gradient descent for this epoch ! \n",
    "        optimizer.step()\n",
    "        \n",
    "        # print statistics\n",
    "        running_loss += loss.data[0]\n",
    "        if i % 2000 == 1999:    # print every 2000 mini-batches\n",
    "            print('[Epoch :: %d, Mini Batch :: %5d] loss: %.3f' %\n",
    "                  (epoch + 1, i + 1, running_loss / 2000))\n",
    "            lossvsiter_adagrad.append(running_loss / 2000)\n",
    "            running_loss = 0.0\n",
    "        \n",
    "\n",
    "print('Finished Training')"
   ]
  },
  {
   "cell_type": "code",
   "execution_count": 8,
   "metadata": {},
   "outputs": [],
   "source": [
    "import pickle\n",
    "with open(\"lossvsiter_agrad.pkl\",\"wb\") as f:\n",
    "    pickle.dump(lossvsiter_adagrad,f)"
   ]
  },
  {
   "cell_type": "code",
   "execution_count": 9,
   "metadata": {},
   "outputs": [
    {
     "name": "stdout",
     "output_type": "stream",
     "text": [
      "Accuracy of the network on the 10000 test images: 62 %\n"
     ]
    }
   ],
   "source": [
    "correct = 0\n",
    "total = 0\n",
    "\n",
    "for data in testloader:\n",
    "    images, labels = data\n",
    "    images=images.cuda()\n",
    "    labels=labels.cuda()\n",
    "    try:\n",
    "        outputs = net(Variable(images))\n",
    "    except RuntimeError as re:\n",
    "        print(outputs.is_cuda)\n",
    "        print(str(re))\n",
    "        sys.exit()\n",
    "    _, predicted = torch.max(outputs.data, 1)\n",
    "    total += labels.size(0)\n",
    "    correct += (predicted == labels).sum()\n",
    "\n",
    "print('Accuracy of the network on the 10000 test images: %d %%' % (\n",
    "    100 * correct / total))"
   ]
  },
  {
   "cell_type": "code",
   "execution_count": 10,
   "metadata": {},
   "outputs": [
    {
     "name": "stdout",
     "output_type": "stream",
     "text": [
      "0\n",
      "1000\n",
      "2000\n",
      "3000\n",
      "4000\n",
      "5000\n",
      "6000\n",
      "7000\n",
      "8000\n",
      "9000\n",
      "10000\n",
      "11000\n",
      "12000\n",
      "Accuracy of the network on the 50000 trained images: 66 %\n"
     ]
    }
   ],
   "source": [
    "for i, data in enumerate(trainloader, 0):\n",
    "    images, labels = data\n",
    "    images=images.cuda()\n",
    "    labels=labels.cuda()\n",
    "    try:\n",
    "        outputs = net(Variable(images))\n",
    "    except RuntimeError as re:\n",
    "        print(outputs.is_cuda)\n",
    "        print(str(re))\n",
    "        sys.exit()\n",
    "    _, predicted = torch.max(outputs.data, 1)\n",
    "    total += labels.size(0)\n",
    "    correct += (predicted == labels).sum()\n",
    "    if (i%1000) == 0:\n",
    "        print(i)\n",
    "\n",
    "print('Accuracy of the network on the 50000 trained images: %d %%' % (\n",
    "    100 * correct / total))"
   ]
  },
  {
   "cell_type": "code",
   "execution_count": 11,
   "metadata": {},
   "outputs": [
    {
     "name": "stdout",
     "output_type": "stream",
     "text": [
      "Accuracy of plane : 72 %\n",
      "Accuracy of   car : 74 %\n",
      "Accuracy of  bird : 51 %\n",
      "Accuracy of   cat : 42 %\n",
      "Accuracy of  deer : 49 %\n",
      "Accuracy of   dog : 51 %\n",
      "Accuracy of  frog : 72 %\n",
      "Accuracy of horse : 70 %\n",
      "Accuracy of  ship : 75 %\n",
      "Accuracy of truck : 68 %\n"
     ]
    }
   ],
   "source": [
    "class_correct = list(0. for i in range(10))\n",
    "class_total = list(0. for i in range(10))\n",
    "for data in testloader:\n",
    "    images, labels = data\n",
    "    images=images.cuda()\n",
    "    labels=labels.cuda()\n",
    "    outputs = net(Variable(images))\n",
    "    _, predicted = torch.max(outputs.data, 1)\n",
    "    c = (predicted == labels).squeeze()\n",
    "    for i in range(4):\n",
    "        label = labels[i]\n",
    "        class_correct[label] += c[i]\n",
    "        class_total[label] += 1\n",
    "\n",
    "\n",
    "for i in range(10):\n",
    "    print('Accuracy of %5s : %2d %%' % (\n",
    "        classes[i], 100 * class_correct[i] / class_total[i]))"
   ]
  },
  {
   "cell_type": "code",
   "execution_count": null,
   "metadata": {
    "collapsed": true
   },
   "outputs": [],
   "source": []
  }
 ],
 "metadata": {
  "kernelspec": {
   "display_name": "Python 3",
   "language": "python",
   "name": "python3"
  },
  "language_info": {
   "codemirror_mode": {
    "name": "ipython",
    "version": 3
   },
   "file_extension": ".py",
   "mimetype": "text/x-python",
   "name": "python",
   "nbconvert_exporter": "python",
   "pygments_lexer": "ipython3",
   "version": "3.5.2"
  }
 },
 "nbformat": 4,
 "nbformat_minor": 2
}
