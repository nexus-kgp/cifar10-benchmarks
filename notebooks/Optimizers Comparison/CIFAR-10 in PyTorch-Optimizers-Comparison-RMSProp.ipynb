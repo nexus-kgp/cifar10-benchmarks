{
 "cells": [
  {
   "cell_type": "code",
   "execution_count": 1,
   "metadata": {
    "collapsed": true
   },
   "outputs": [],
   "source": [
    "import torch\n",
    "import torchvision\n",
    "import torchvision.transforms as transforms"
   ]
  },
  {
   "cell_type": "code",
   "execution_count": 2,
   "metadata": {
    "collapsed": true
   },
   "outputs": [],
   "source": [
    "torch.cuda.set_device(0)"
   ]
  },
  {
   "cell_type": "code",
   "execution_count": 3,
   "metadata": {
    "collapsed": true
   },
   "outputs": [],
   "source": [
    "transform = transforms.Compose(\n",
    "    [transforms.ToTensor(),\n",
    "     transforms.Normalize((0.5, 0.5, 0.5), (0.5, 0.5, 0.5))])"
   ]
  },
  {
   "cell_type": "code",
   "execution_count": 4,
   "metadata": {},
   "outputs": [
    {
     "name": "stdout",
     "output_type": "stream",
     "text": [
      "Files already downloaded and verified\n",
      "Files already downloaded and verified\n"
     ]
    }
   ],
   "source": [
    "trainset = torchvision.datasets.CIFAR10(root='./data', train=True,download=True, transform=transform)\n",
    "trainloader = torch.utils.data.DataLoader(trainset, batch_size=4, shuffle=True, num_workers=2)\n",
    "testset = torchvision.datasets.CIFAR10(root=\"./data\", train=False, download=True, transform=transform)\n",
    "testloader= torch.utils.data.DataLoader(testset, batch_size=4, shuffle=False, num_workers=2)\n",
    "classes=('plane', 'car', 'bird', 'cat','deer', 'dog', 'frog', 'horse', 'ship', 'truck')"
   ]
  },
  {
   "cell_type": "code",
   "execution_count": 5,
   "metadata": {
    "collapsed": true
   },
   "outputs": [],
   "source": [
    "import matplotlib.pyplot as plt\n",
    "import numpy as np\n",
    "%matplotlib inline\n",
    "# functions to show an image\n",
    "\n",
    "def imshow(img):\n",
    "    img = img / 2 + 0.5     # unnormalize\n",
    "    npimg = img.numpy()\n",
    "    plt.imshow(np.transpose(npimg, (1, 2, 0)))"
   ]
  },
  {
   "cell_type": "code",
   "execution_count": 6,
   "metadata": {
    "collapsed": true
   },
   "outputs": [],
   "source": [
    "from torch.autograd import Variable\n",
    "import torch.nn as nn\n",
    "import torch.nn.functional as F\n",
    "\n",
    "\n",
    "class Net(nn.Module):\n",
    "    def __init__(self):\n",
    "        super(Net, self).__init__()\n",
    "        # 5 Layers : 2 conv layers and 3 fully connected layers !\n",
    "        self.conv1 = nn.Conv2d(3, 16, 5)\n",
    "        self.pool = nn.MaxPool2d(2, 2)\n",
    "        self.conv2 = nn.Conv2d(16, 25, 5)\n",
    "        self.fc1 = nn.Linear(25 * 5 * 5, 120)\n",
    "        self.fc2 = nn.Linear(120, 84)\n",
    "        self.fc3 = nn.Linear(84, 10)\n",
    "\n",
    "    def forward(self, x):\n",
    "        x = self.pool(F.relu(self.conv1(x)))\n",
    "        x = self.pool(F.relu(self.conv2(x)))\n",
    "        x = x.view(-1, 25 * 5 * 5)\n",
    "        x = F.relu(self.fc1(x))\n",
    "        x = F.relu(self.fc2(x))\n",
    "        x = self.fc3(x)\n",
    "        return x"
   ]
  },
  {
   "cell_type": "code",
   "execution_count": 14,
   "metadata": {},
   "outputs": [
    {
     "name": "stdout",
     "output_type": "stream",
     "text": [
      "The model is on CUDA\n",
      "[Epoch :: 1, Mini Batch ::  2000] loss: 1.893\n",
      "[Epoch :: 1, Mini Batch ::  4000] loss: 1.648\n",
      "[Epoch :: 1, Mini Batch ::  6000] loss: 1.527\n",
      "[Epoch :: 1, Mini Batch ::  8000] loss: 1.471\n",
      "[Epoch :: 1, Mini Batch :: 10000] loss: 1.398\n",
      "[Epoch :: 1, Mini Batch :: 12000] loss: 1.376\n",
      "[Epoch :: 2, Mini Batch ::  2000] loss: 1.325\n",
      "[Epoch :: 2, Mini Batch ::  4000] loss: 1.310\n",
      "[Epoch :: 2, Mini Batch ::  6000] loss: 1.311\n",
      "[Epoch :: 2, Mini Batch ::  8000] loss: 1.296\n",
      "[Epoch :: 2, Mini Batch :: 10000] loss: 1.296\n",
      "[Epoch :: 2, Mini Batch :: 12000] loss: 1.265\n",
      "[Epoch :: 3, Mini Batch ::  2000] loss: 1.200\n",
      "[Epoch :: 3, Mini Batch ::  4000] loss: 1.194\n",
      "[Epoch :: 3, Mini Batch ::  6000] loss: 1.214\n",
      "[Epoch :: 3, Mini Batch ::  8000] loss: 1.209\n",
      "[Epoch :: 3, Mini Batch :: 10000] loss: 1.215\n",
      "[Epoch :: 3, Mini Batch :: 12000] loss: 1.214\n",
      "[Epoch :: 4, Mini Batch ::  2000] loss: 1.140\n",
      "[Epoch :: 4, Mini Batch ::  4000] loss: 1.154\n",
      "[Epoch :: 4, Mini Batch ::  6000] loss: 1.160\n",
      "[Epoch :: 4, Mini Batch ::  8000] loss: 1.165\n",
      "[Epoch :: 4, Mini Batch :: 10000] loss: 1.183\n",
      "[Epoch :: 4, Mini Batch :: 12000] loss: 1.191\n",
      "[Epoch :: 5, Mini Batch ::  2000] loss: 1.110\n",
      "[Epoch :: 5, Mini Batch ::  4000] loss: 1.126\n",
      "[Epoch :: 5, Mini Batch ::  6000] loss: 1.143\n",
      "[Epoch :: 5, Mini Batch ::  8000] loss: 1.172\n",
      "[Epoch :: 5, Mini Batch :: 10000] loss: 1.131\n",
      "[Epoch :: 5, Mini Batch :: 12000] loss: 1.127\n",
      "[Epoch :: 6, Mini Batch ::  2000] loss: 1.081\n",
      "[Epoch :: 6, Mini Batch ::  4000] loss: 1.118\n",
      "[Epoch :: 6, Mini Batch ::  6000] loss: 1.103\n",
      "[Epoch :: 6, Mini Batch ::  8000] loss: 1.116\n",
      "[Epoch :: 6, Mini Batch :: 10000] loss: 1.115\n",
      "[Epoch :: 6, Mini Batch :: 12000] loss: 1.095\n",
      "[Epoch :: 7, Mini Batch ::  2000] loss: 1.050\n",
      "[Epoch :: 7, Mini Batch ::  4000] loss: 1.076\n",
      "[Epoch :: 7, Mini Batch ::  6000] loss: 1.098\n",
      "[Epoch :: 7, Mini Batch ::  8000] loss: 1.122\n",
      "[Epoch :: 7, Mini Batch :: 10000] loss: 1.090\n",
      "[Epoch :: 7, Mini Batch :: 12000] loss: 1.112\n",
      "[Epoch :: 8, Mini Batch ::  2000] loss: 1.068\n",
      "[Epoch :: 8, Mini Batch ::  4000] loss: 1.101\n",
      "[Epoch :: 8, Mini Batch ::  6000] loss: 1.079\n",
      "[Epoch :: 8, Mini Batch ::  8000] loss: 1.053\n",
      "[Epoch :: 8, Mini Batch :: 10000] loss: 1.111\n",
      "[Epoch :: 8, Mini Batch :: 12000] loss: 1.087\n",
      "[Epoch :: 9, Mini Batch ::  2000] loss: 1.054\n",
      "[Epoch :: 9, Mini Batch ::  4000] loss: 1.070\n",
      "[Epoch :: 9, Mini Batch ::  6000] loss: 1.069\n",
      "[Epoch :: 9, Mini Batch ::  8000] loss: 1.066\n",
      "[Epoch :: 9, Mini Batch :: 10000] loss: 1.070\n",
      "[Epoch :: 9, Mini Batch :: 12000] loss: 1.061\n",
      "[Epoch :: 10, Mini Batch ::  2000] loss: 1.033\n",
      "[Epoch :: 10, Mini Batch ::  4000] loss: 1.046\n",
      "[Epoch :: 10, Mini Batch ::  6000] loss: 1.057\n",
      "[Epoch :: 10, Mini Batch ::  8000] loss: 1.082\n",
      "[Epoch :: 10, Mini Batch :: 10000] loss: 1.075\n",
      "[Epoch :: 10, Mini Batch :: 12000] loss: 1.123\n",
      "Finished Training\n"
     ]
    }
   ],
   "source": [
    "# Create an instance of the model on CUDA\n",
    "net = Net().cuda()\n",
    "\n",
    "lossvsiter_rmsprop=[]\n",
    "\n",
    "# To see if the model is on CUDA or not !\n",
    "if (next(net.parameters()).is_cuda) :\n",
    "    print(\"The model is on CUDA\")\n",
    "else :\n",
    "    print(\"The model is on CPU\")\n",
    "\n",
    "import torch.optim as optim\n",
    "\n",
    "# Declare a loss function\n",
    "criterion = nn.CrossEntropyLoss()\n",
    "# Declare an optimizer\n",
    "optimizer = optim.RMSprop(net.parameters(),lr=0.001)\n",
    "\n",
    "\n",
    "# No of iterations !\n",
    "iterations = 10\n",
    "\n",
    "for epoch in range(iterations):  # loop over the dataset multiple times\n",
    "    \n",
    "    # Reset the loss for the current epoch !\n",
    "    running_loss = 0.0\n",
    "    \n",
    "    # Loop over all the mini-batches therea are 12500 mini batches of size 4 each !\n",
    "    for i, data in enumerate(trainloader, 0):\n",
    "        # get the inputs\n",
    "        inputs, labels = data\n",
    "        \n",
    "        # wrap them in Variable & if possible make them cuda tensors\n",
    "        inputs, labels = Variable(inputs.cuda()), Variable(labels.cuda())\n",
    "\n",
    "        # zero the parameter gradients for the current epoch\n",
    "        optimizer.zero_grad()\n",
    "        \n",
    "        # forward + backward + optimize\n",
    "        \n",
    "        # forward\n",
    "        outputs = net(inputs)\n",
    "        loss = criterion(outputs, labels)\n",
    "        \n",
    "        # Calculate gradients of whatever variable set to req_gardients = True\n",
    "        loss.backward()\n",
    "        \n",
    "        # Take one step of the gradient descent for this epoch ! \n",
    "        optimizer.step()\n",
    "        \n",
    "        # print statistics\n",
    "        running_loss += loss.data[0]\n",
    "        if i % 2000 == 1999:    # print every 2000 mini-batches\n",
    "            print('[Epoch :: %d, Mini Batch :: %5d] loss: %.3f' %\n",
    "                  (epoch + 1, i + 1, running_loss / 2000))\n",
    "            lossvsiter_rmsprop.append(running_loss / 2000)\n",
    "            running_loss = 0.0\n",
    "        \n",
    "\n",
    "print('Finished Training')"
   ]
  },
  {
   "cell_type": "code",
   "execution_count": 15,
   "metadata": {
    "collapsed": true
   },
   "outputs": [],
   "source": [
    "import pickle\n",
    "with open(\"lossvsiter_rmsprop.pkl\",\"wb\") as f:\n",
    "    pickle.dump(lossvsiter_rmsprop,f)"
   ]
  },
  {
   "cell_type": "code",
   "execution_count": 16,
   "metadata": {},
   "outputs": [
    {
     "name": "stdout",
     "output_type": "stream",
     "text": [
      "Accuracy of the network on the 10000 test images: 59 %\n"
     ]
    }
   ],
   "source": [
    "correct = 0\n",
    "total = 0\n",
    "\n",
    "for data in testloader:\n",
    "    images, labels = data\n",
    "    images=images.cuda()\n",
    "    labels=labels.cuda()\n",
    "    try:\n",
    "        outputs = net(Variable(images))\n",
    "    except RuntimeError as re:\n",
    "        print(outputs.is_cuda)\n",
    "        print(str(re))\n",
    "        sys.exit()\n",
    "    _, predicted = torch.max(outputs.data, 1)\n",
    "    total += labels.size(0)\n",
    "    correct += (predicted == labels).sum()\n",
    "\n",
    "print('Accuracy of the network on the 10000 test images: %d %%' % (\n",
    "    100 * correct / total))"
   ]
  },
  {
   "cell_type": "code",
   "execution_count": 17,
   "metadata": {},
   "outputs": [
    {
     "name": "stdout",
     "output_type": "stream",
     "text": [
      "0\n",
      "1000\n",
      "2000\n",
      "3000\n",
      "4000\n",
      "5000\n",
      "6000\n",
      "7000\n",
      "8000\n",
      "9000\n",
      "10000\n",
      "11000\n",
      "12000\n",
      "Accuracy of the network on the 50000 trained images: 62 %\n"
     ]
    }
   ],
   "source": [
    "for i, data in enumerate(trainloader, 0):\n",
    "    images, labels = data\n",
    "    images=images.cuda()\n",
    "    labels=labels.cuda()\n",
    "    try:\n",
    "        outputs = net(Variable(images))\n",
    "    except RuntimeError as re:\n",
    "        print(outputs.is_cuda)\n",
    "        print(str(re))\n",
    "        sys.exit()\n",
    "    _, predicted = torch.max(outputs.data, 1)\n",
    "    total += labels.size(0)\n",
    "    correct += (predicted == labels).sum()\n",
    "    if (i%1000) == 0:\n",
    "        print(i)\n",
    "\n",
    "print('Accuracy of the network on the 50000 trained images: %d %%' % (\n",
    "    100 * correct / total))"
   ]
  },
  {
   "cell_type": "code",
   "execution_count": 18,
   "metadata": {},
   "outputs": [
    {
     "name": "stdout",
     "output_type": "stream",
     "text": [
      "Accuracy of plane : 59 %\n",
      "Accuracy of   car : 52 %\n",
      "Accuracy of  bird : 46 %\n",
      "Accuracy of   cat : 59 %\n",
      "Accuracy of  deer : 43 %\n",
      "Accuracy of   dog : 54 %\n",
      "Accuracy of  frog : 69 %\n",
      "Accuracy of horse : 52 %\n",
      "Accuracy of  ship : 77 %\n",
      "Accuracy of truck : 77 %\n"
     ]
    }
   ],
   "source": [
    "class_correct = list(0. for i in range(10))\n",
    "class_total = list(0. for i in range(10))\n",
    "for data in testloader:\n",
    "    images, labels = data\n",
    "    images=images.cuda()\n",
    "    labels=labels.cuda()\n",
    "    outputs = net(Variable(images))\n",
    "    _, predicted = torch.max(outputs.data, 1)\n",
    "    c = (predicted == labels).squeeze()\n",
    "    for i in range(4):\n",
    "        label = labels[i]\n",
    "        class_correct[label] += c[i]\n",
    "        class_total[label] += 1\n",
    "\n",
    "\n",
    "for i in range(10):\n",
    "    print('Accuracy of %5s : %2d %%' % (\n",
    "        classes[i], 100 * class_correct[i] / class_total[i]))"
   ]
  },
  {
   "cell_type": "code",
   "execution_count": null,
   "metadata": {
    "collapsed": true
   },
   "outputs": [],
   "source": []
  },
  {
   "cell_type": "code",
   "execution_count": null,
   "metadata": {
    "collapsed": true
   },
   "outputs": [],
   "source": []
  }
 ],
 "metadata": {
  "kernelspec": {
   "display_name": "Python 3",
   "language": "python",
   "name": "python3"
  },
  "language_info": {
   "codemirror_mode": {
    "name": "ipython",
    "version": 3
   },
   "file_extension": ".py",
   "mimetype": "text/x-python",
   "name": "python",
   "nbconvert_exporter": "python",
   "pygments_lexer": "ipython3",
   "version": "3.5.2"
  }
 },
 "nbformat": 4,
 "nbformat_minor": 2
}
