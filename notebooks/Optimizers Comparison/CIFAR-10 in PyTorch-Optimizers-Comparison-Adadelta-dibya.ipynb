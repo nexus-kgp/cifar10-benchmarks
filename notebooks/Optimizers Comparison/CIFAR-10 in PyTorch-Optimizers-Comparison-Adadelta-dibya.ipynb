{
 "cells": [
  {
   "cell_type": "code",
   "execution_count": 2,
   "metadata": {
    "collapsed": true
   },
   "outputs": [],
   "source": [
    "import torch\n",
    "import torchvision\n",
    "import torchvision.transforms as transforms"
   ]
  },
  {
   "cell_type": "code",
   "execution_count": 3,
   "metadata": {
    "collapsed": true
   },
   "outputs": [],
   "source": [
    "torch.cuda.set_device(0)"
   ]
  },
  {
   "cell_type": "code",
   "execution_count": 4,
   "metadata": {
    "collapsed": true
   },
   "outputs": [],
   "source": [
    "transform = transforms.Compose(\n",
    "    [transforms.ToTensor(),\n",
    "     transforms.Normalize((0.5, 0.5, 0.5), (0.5, 0.5, 0.5))])"
   ]
  },
  {
   "cell_type": "code",
   "execution_count": 5,
   "metadata": {
    "collapsed": false
   },
   "outputs": [
    {
     "name": "stdout",
     "output_type": "stream",
     "text": [
      "Files already downloaded and verified\n",
      "Files already downloaded and verified\n"
     ]
    }
   ],
   "source": [
    "trainset = torchvision.datasets.CIFAR10(root='./data', train=True,download=True, transform=transform)\n",
    "trainloader = torch.utils.data.DataLoader(trainset, batch_size=4, shuffle=True, num_workers=2)\n",
    "testset = torchvision.datasets.CIFAR10(root=\"./data\", train=False, download=True, transform=transform)\n",
    "testloader= torch.utils.data.DataLoader(testset, batch_size=4, shuffle=False, num_workers=2)\n",
    "classes=('plane', 'car', 'bird', 'cat','deer', 'dog', 'frog', 'horse', 'ship', 'truck')"
   ]
  },
  {
   "cell_type": "code",
   "execution_count": 6,
   "metadata": {
    "collapsed": true
   },
   "outputs": [],
   "source": [
    "import matplotlib.pyplot as plt\n",
    "import numpy as np\n",
    "%matplotlib inline\n",
    "# functions to show an image\n",
    "\n",
    "def imshow(img):\n",
    "    img = img / 2 + 0.5     # unnormalize\n",
    "    npimg = img.numpy()\n",
    "    plt.imshow(np.transpose(npimg, (1, 2, 0)))"
   ]
  },
  {
   "cell_type": "code",
   "execution_count": 10,
   "metadata": {
    "collapsed": true
   },
   "outputs": [],
   "source": [
    "from torch.autograd import Variable\n",
    "import torch.nn as nn\n",
    "import torch.nn.functional as F\n",
    "\n",
    "\n",
    "class LeNet(nn.Module):\n",
    "    def __init__(self):\n",
    "        super(LeNet, self).__init__()\n",
    "        self.conv1 = nn.Conv2d(3, 6, 5)\n",
    "        self.conv2 = nn.Conv2d(6, 16, 5)\n",
    "        self.fc1   = nn.Linear(16*5*5, 120)\n",
    "        self.fc2   = nn.Linear(120, 84)\n",
    "        self.fc3   = nn.Linear(84, 10)\n",
    "\n",
    "    def forward(self, x):\n",
    "        out = F.relu(self.conv1(x))\n",
    "        out = F.max_pool2d(out, 2)\n",
    "        out = F.relu(self.conv2(out))\n",
    "        out = F.max_pool2d(out, 2)\n",
    "        out = out.view(out.size(0), -1)\n",
    "        out = F.relu(self.fc1(out))\n",
    "        out = F.relu(self.fc2(out))\n",
    "        out = self.fc3(out)\n",
    "        return out"
   ]
  },
  {
   "cell_type": "code",
   "execution_count": 11,
   "metadata": {
    "collapsed": false
   },
   "outputs": [
    {
     "name": "stdout",
     "output_type": "stream",
     "text": [
      "The model is on CUDA\n",
      "[Epoch :: 1, Mini Batch ::  2000] loss: 2.304\n",
      "[Epoch :: 1, Mini Batch ::  4000] loss: 2.303\n",
      "[Epoch :: 1, Mini Batch ::  6000] loss: 2.300\n",
      "[Epoch :: 1, Mini Batch ::  8000] loss: 2.299\n",
      "[Epoch :: 1, Mini Batch :: 10000] loss: 2.296\n",
      "[Epoch :: 1, Mini Batch :: 12000] loss: 2.292\n",
      "[Epoch :: 2, Mini Batch ::  2000] loss: 2.283\n",
      "[Epoch :: 2, Mini Batch ::  4000] loss: 2.276\n",
      "[Epoch :: 2, Mini Batch ::  6000] loss: 2.267\n",
      "[Epoch :: 2, Mini Batch ::  8000] loss: 2.252\n",
      "[Epoch :: 2, Mini Batch :: 10000] loss: 2.235\n",
      "[Epoch :: 2, Mini Batch :: 12000] loss: 2.214\n",
      "[Epoch :: 3, Mini Batch ::  2000] loss: 2.185\n",
      "[Epoch :: 3, Mini Batch ::  4000] loss: 2.163\n",
      "[Epoch :: 3, Mini Batch ::  6000] loss: 2.139\n",
      "[Epoch :: 3, Mini Batch ::  8000] loss: 2.117\n",
      "[Epoch :: 3, Mini Batch :: 10000] loss: 2.095\n",
      "[Epoch :: 3, Mini Batch :: 12000] loss: 2.082\n",
      "[Epoch :: 4, Mini Batch ::  2000] loss: 2.044\n",
      "[Epoch :: 4, Mini Batch ::  4000] loss: 2.044\n",
      "[Epoch :: 4, Mini Batch ::  6000] loss: 2.028\n",
      "[Epoch :: 4, Mini Batch ::  8000] loss: 2.014\n",
      "[Epoch :: 4, Mini Batch :: 10000] loss: 2.000\n",
      "[Epoch :: 4, Mini Batch :: 12000] loss: 1.985\n",
      "[Epoch :: 5, Mini Batch ::  2000] loss: 1.969\n",
      "[Epoch :: 5, Mini Batch ::  4000] loss: 1.960\n",
      "[Epoch :: 5, Mini Batch ::  6000] loss: 1.960\n",
      "[Epoch :: 5, Mini Batch ::  8000] loss: 1.946\n",
      "[Epoch :: 5, Mini Batch :: 10000] loss: 1.955\n",
      "[Epoch :: 5, Mini Batch :: 12000] loss: 1.951\n",
      "[Epoch :: 6, Mini Batch ::  2000] loss: 1.932\n",
      "[Epoch :: 6, Mini Batch ::  4000] loss: 1.922\n",
      "[Epoch :: 6, Mini Batch ::  6000] loss: 1.925\n",
      "[Epoch :: 6, Mini Batch ::  8000] loss: 1.926\n",
      "[Epoch :: 6, Mini Batch :: 10000] loss: 1.913\n",
      "[Epoch :: 6, Mini Batch :: 12000] loss: 1.912\n",
      "[Epoch :: 7, Mini Batch ::  2000] loss: 1.894\n",
      "[Epoch :: 7, Mini Batch ::  4000] loss: 1.901\n",
      "[Epoch :: 7, Mini Batch ::  6000] loss: 1.893\n",
      "[Epoch :: 7, Mini Batch ::  8000] loss: 1.908\n",
      "[Epoch :: 7, Mini Batch :: 10000] loss: 1.897\n",
      "[Epoch :: 7, Mini Batch :: 12000] loss: 1.886\n",
      "[Epoch :: 8, Mini Batch ::  2000] loss: 1.877\n",
      "[Epoch :: 8, Mini Batch ::  4000] loss: 1.889\n",
      "[Epoch :: 8, Mini Batch ::  6000] loss: 1.876\n",
      "[Epoch :: 8, Mini Batch ::  8000] loss: 1.885\n",
      "[Epoch :: 8, Mini Batch :: 10000] loss: 1.878\n",
      "[Epoch :: 8, Mini Batch :: 12000] loss: 1.867\n",
      "[Epoch :: 9, Mini Batch ::  2000] loss: 1.880\n",
      "[Epoch :: 9, Mini Batch ::  4000] loss: 1.865\n",
      "[Epoch :: 9, Mini Batch ::  6000] loss: 1.853\n",
      "[Epoch :: 9, Mini Batch ::  8000] loss: 1.856\n",
      "[Epoch :: 9, Mini Batch :: 10000] loss: 1.877\n",
      "[Epoch :: 9, Mini Batch :: 12000] loss: 1.851\n",
      "[Epoch :: 10, Mini Batch ::  2000] loss: 1.850\n",
      "[Epoch :: 10, Mini Batch ::  4000] loss: 1.855\n",
      "[Epoch :: 10, Mini Batch ::  6000] loss: 1.856\n",
      "[Epoch :: 10, Mini Batch ::  8000] loss: 1.849\n",
      "[Epoch :: 10, Mini Batch :: 10000] loss: 1.831\n",
      "[Epoch :: 10, Mini Batch :: 12000] loss: 1.842\n",
      "[Epoch :: 11, Mini Batch ::  2000] loss: 1.841\n",
      "[Epoch :: 11, Mini Batch ::  4000] loss: 1.842\n",
      "[Epoch :: 11, Mini Batch ::  6000] loss: 1.830\n",
      "[Epoch :: 11, Mini Batch ::  8000] loss: 1.835\n",
      "[Epoch :: 11, Mini Batch :: 10000] loss: 1.815\n",
      "[Epoch :: 11, Mini Batch :: 12000] loss: 1.828\n",
      "[Epoch :: 12, Mini Batch ::  2000] loss: 1.814\n",
      "[Epoch :: 12, Mini Batch ::  4000] loss: 1.810\n",
      "[Epoch :: 12, Mini Batch ::  6000] loss: 1.822\n",
      "[Epoch :: 12, Mini Batch ::  8000] loss: 1.827\n",
      "[Epoch :: 12, Mini Batch :: 10000] loss: 1.822\n",
      "[Epoch :: 12, Mini Batch :: 12000] loss: 1.815\n",
      "[Epoch :: 13, Mini Batch ::  2000] loss: 1.808\n",
      "[Epoch :: 13, Mini Batch ::  4000] loss: 1.810\n",
      "[Epoch :: 13, Mini Batch ::  6000] loss: 1.794\n",
      "[Epoch :: 13, Mini Batch ::  8000] loss: 1.804\n",
      "[Epoch :: 13, Mini Batch :: 10000] loss: 1.799\n",
      "[Epoch :: 13, Mini Batch :: 12000] loss: 1.812\n",
      "[Epoch :: 14, Mini Batch ::  2000] loss: 1.791\n",
      "[Epoch :: 14, Mini Batch ::  4000] loss: 1.796\n",
      "[Epoch :: 14, Mini Batch ::  6000] loss: 1.792\n",
      "[Epoch :: 14, Mini Batch ::  8000] loss: 1.798\n",
      "[Epoch :: 14, Mini Batch :: 10000] loss: 1.787\n",
      "[Epoch :: 14, Mini Batch :: 12000] loss: 1.784\n",
      "[Epoch :: 15, Mini Batch ::  2000] loss: 1.781\n",
      "[Epoch :: 15, Mini Batch ::  4000] loss: 1.790\n",
      "[Epoch :: 15, Mini Batch ::  6000] loss: 1.775\n",
      "[Epoch :: 15, Mini Batch ::  8000] loss: 1.766\n",
      "[Epoch :: 15, Mini Batch :: 10000] loss: 1.775\n",
      "[Epoch :: 15, Mini Batch :: 12000] loss: 1.778\n",
      "[Epoch :: 16, Mini Batch ::  2000] loss: 1.772\n",
      "[Epoch :: 16, Mini Batch ::  4000] loss: 1.765\n",
      "[Epoch :: 16, Mini Batch ::  6000] loss: 1.762\n",
      "[Epoch :: 16, Mini Batch ::  8000] loss: 1.759\n",
      "[Epoch :: 16, Mini Batch :: 10000] loss: 1.769\n",
      "[Epoch :: 16, Mini Batch :: 12000] loss: 1.767\n",
      "[Epoch :: 17, Mini Batch ::  2000] loss: 1.761\n",
      "[Epoch :: 17, Mini Batch ::  4000] loss: 1.766\n",
      "[Epoch :: 17, Mini Batch ::  6000] loss: 1.753\n",
      "[Epoch :: 17, Mini Batch ::  8000] loss: 1.752\n",
      "[Epoch :: 17, Mini Batch :: 10000] loss: 1.752\n",
      "[Epoch :: 17, Mini Batch :: 12000] loss: 1.744\n",
      "[Epoch :: 18, Mini Batch ::  2000] loss: 1.735\n",
      "[Epoch :: 18, Mini Batch ::  4000] loss: 1.740\n",
      "[Epoch :: 18, Mini Batch ::  6000] loss: 1.738\n",
      "[Epoch :: 18, Mini Batch ::  8000] loss: 1.738\n",
      "[Epoch :: 18, Mini Batch :: 10000] loss: 1.746\n",
      "[Epoch :: 18, Mini Batch :: 12000] loss: 1.742\n",
      "[Epoch :: 19, Mini Batch ::  2000] loss: 1.747\n",
      "[Epoch :: 19, Mini Batch ::  4000] loss: 1.715\n",
      "[Epoch :: 19, Mini Batch ::  6000] loss: 1.733\n",
      "[Epoch :: 19, Mini Batch ::  8000] loss: 1.718\n",
      "[Epoch :: 19, Mini Batch :: 10000] loss: 1.717\n",
      "[Epoch :: 19, Mini Batch :: 12000] loss: 1.735\n",
      "[Epoch :: 20, Mini Batch ::  2000] loss: 1.726\n",
      "[Epoch :: 20, Mini Batch ::  4000] loss: 1.709\n",
      "[Epoch :: 20, Mini Batch ::  6000] loss: 1.720\n",
      "[Epoch :: 20, Mini Batch ::  8000] loss: 1.724\n",
      "[Epoch :: 20, Mini Batch :: 10000] loss: 1.704\n",
      "[Epoch :: 20, Mini Batch :: 12000] loss: 1.725\n",
      "[Epoch :: 21, Mini Batch ::  2000] loss: 1.710\n",
      "[Epoch :: 21, Mini Batch ::  4000] loss: 1.710\n",
      "[Epoch :: 21, Mini Batch ::  6000] loss: 1.693\n",
      "[Epoch :: 21, Mini Batch ::  8000] loss: 1.712\n",
      "[Epoch :: 21, Mini Batch :: 10000] loss: 1.705\n",
      "[Epoch :: 21, Mini Batch :: 12000] loss: 1.709\n",
      "[Epoch :: 22, Mini Batch ::  2000] loss: 1.713\n",
      "[Epoch :: 22, Mini Batch ::  4000] loss: 1.698\n",
      "[Epoch :: 22, Mini Batch ::  6000] loss: 1.684\n",
      "[Epoch :: 22, Mini Batch ::  8000] loss: 1.677\n",
      "[Epoch :: 22, Mini Batch :: 10000] loss: 1.709\n",
      "[Epoch :: 22, Mini Batch :: 12000] loss: 1.697\n",
      "[Epoch :: 23, Mini Batch ::  2000] loss: 1.668\n",
      "[Epoch :: 23, Mini Batch ::  4000] loss: 1.688\n",
      "[Epoch :: 23, Mini Batch ::  6000] loss: 1.689\n",
      "[Epoch :: 23, Mini Batch ::  8000] loss: 1.687\n",
      "[Epoch :: 23, Mini Batch :: 10000] loss: 1.692\n",
      "[Epoch :: 23, Mini Batch :: 12000] loss: 1.698\n",
      "[Epoch :: 24, Mini Batch ::  2000] loss: 1.675\n",
      "[Epoch :: 24, Mini Batch ::  4000] loss: 1.680\n",
      "[Epoch :: 24, Mini Batch ::  6000] loss: 1.668\n",
      "[Epoch :: 24, Mini Batch ::  8000] loss: 1.680\n",
      "[Epoch :: 24, Mini Batch :: 10000] loss: 1.677\n",
      "[Epoch :: 24, Mini Batch :: 12000] loss: 1.682\n",
      "[Epoch :: 25, Mini Batch ::  2000] loss: 1.676\n",
      "[Epoch :: 25, Mini Batch ::  4000] loss: 1.677\n",
      "[Epoch :: 25, Mini Batch ::  6000] loss: 1.662\n",
      "[Epoch :: 25, Mini Batch ::  8000] loss: 1.671\n",
      "[Epoch :: 25, Mini Batch :: 10000] loss: 1.674\n",
      "[Epoch :: 25, Mini Batch :: 12000] loss: 1.655\n",
      "Finished Training\n"
     ]
    }
   ],
   "source": [
    "# Create an instance of the model on CUDA\n",
    "net = LeNet().cuda()\n",
    "\n",
    "lossvsiter_adadel=[]\n",
    "\n",
    "# To see if the model is on CUDA or not !\n",
    "if (next(net.parameters()).is_cuda) :\n",
    "    print(\"The model is on CUDA\")\n",
    "else :\n",
    "    print(\"The model is on CPU\")\n",
    "\n",
    "import torch.optim as optim\n",
    "\n",
    "# Declare a loss function\n",
    "criterion = nn.CrossEntropyLoss()\n",
    "# Declare an optimizer\n",
    "optimizer = optim.Adadelta(net.parameters(),lr=0.001)\n",
    "\n",
    "\n",
    "# No of iterations !\n",
    "iterations = 25\n",
    "loss_list = []\n",
    "\n",
    "for epoch in range(iterations):  # loop over the dataset multiple times\n",
    "    \n",
    "    # Reset the loss for the current epoch !\n",
    "    running_loss = 0.0\n",
    "    tloss = 0.0\n",
    "    # Loop over all the mini-batches therea are 12500 mini batches of size 4 each !\n",
    "    for i, data in enumerate(trainloader, 0):\n",
    "        # get the inputs\n",
    "        inputs, labels = data\n",
    "        \n",
    "        # wrap them in Variable & if possible make them cuda tensors\n",
    "        inputs, labels = Variable(inputs.cuda()), Variable(labels.cuda())\n",
    "\n",
    "        # zero the parameter gradients for the current epoch\n",
    "        optimizer.zero_grad()\n",
    "        \n",
    "        # forward + backward + optimize\n",
    "        \n",
    "        # forward\n",
    "        outputs = net(inputs)\n",
    "        loss = criterion(outputs, labels)\n",
    "        \n",
    "        # Calculate gradients of whatever variable set to req_gardients = True\n",
    "        loss.backward()\n",
    "        \n",
    "        # Take one step of the gradient descent for this epoch ! \n",
    "        optimizer.step()\n",
    "        \n",
    "        # print statistics\n",
    "        running_loss += loss.data[0]\n",
    "        tloss += loss.data[0]\n",
    "        \n",
    "        if i % 2000 == 1999:    # print every 2000 mini-batches\n",
    "            print('[Epoch :: %d, Mini Batch :: %5d] loss: %.3f' %\n",
    "                  (epoch + 1, i + 1, running_loss / 2000))\n",
    "            lossvsiter_adadel.append(running_loss / 2000)\n",
    "            running_loss = 0.0\n",
    "            \n",
    "    loss_list.append(tloss)\n",
    "\n",
    "print('Finished Training')"
   ]
  },
  {
   "cell_type": "code",
   "execution_count": 23,
   "metadata": {
    "collapsed": true
   },
   "outputs": [],
   "source": [
    "import pickle\n",
    "with open(\"lossvsiter_adadel.pkl\",\"wb\") as f:\n",
    "    pickle.dump(lossvsiter_adadel,f)"
   ]
  },
  {
   "cell_type": "code",
   "execution_count": 12,
   "metadata": {
    "collapsed": false
   },
   "outputs": [
    {
     "name": "stdout",
     "output_type": "stream",
     "text": [
      "Accuracy of the network on the 10000 test images: 39 %\n"
     ]
    }
   ],
   "source": [
    "correct = 0\n",
    "total = 0\n",
    "\n",
    "for data in testloader:\n",
    "    images, labels = data\n",
    "    images=images.cuda()\n",
    "    labels=labels.cuda()\n",
    "    try:\n",
    "        outputs = net(Variable(images))\n",
    "    except RuntimeError as re:\n",
    "        print(outputs.is_cuda)\n",
    "        print(str(re))\n",
    "        sys.exit()\n",
    "    _, predicted = torch.max(outputs.data, 1)\n",
    "    total += labels.size(0)\n",
    "    correct += (predicted == labels).sum()\n",
    "\n",
    "print('Accuracy of the network on the 10000 test images: %d %%' % (\n",
    "    100 * correct / total))"
   ]
  },
  {
   "cell_type": "code",
   "execution_count": 25,
   "metadata": {
    "collapsed": false
   },
   "outputs": [
    {
     "name": "stdout",
     "output_type": "stream",
     "text": [
      "0\n",
      "1000\n",
      "2000\n",
      "3000\n",
      "4000\n",
      "5000\n",
      "6000\n",
      "7000\n",
      "8000\n",
      "9000\n",
      "10000\n",
      "11000\n",
      "12000\n",
      "Accuracy of the network on the 50000 trained images: 34 %\n"
     ]
    }
   ],
   "source": [
    "for i, data in enumerate(trainloader, 0):\n",
    "    images, labels = data\n",
    "    images=images.cuda()\n",
    "    labels=labels.cuda()\n",
    "    try:\n",
    "        outputs = net(Variable(images))\n",
    "    except RuntimeError as re:\n",
    "        print(outputs.is_cuda)\n",
    "        print(str(re))\n",
    "        sys.exit()\n",
    "    _, predicted = torch.max(outputs.data, 1)\n",
    "    total += labels.size(0)\n",
    "    correct += (predicted == labels).sum()\n",
    "    if (i%1000) == 0:\n",
    "        print(i)\n",
    "\n",
    "print('Accuracy of the network on the 50000 trained images: %d %%' % (\n",
    "    100 * correct / total))"
   ]
  },
  {
   "cell_type": "code",
   "execution_count": 26,
   "metadata": {
    "collapsed": false
   },
   "outputs": [
    {
     "name": "stdout",
     "output_type": "stream",
     "text": [
      "Accuracy of plane : 50 %\n",
      "Accuracy of   car : 44 %\n",
      "Accuracy of  bird :  7 %\n",
      "Accuracy of   cat : 18 %\n",
      "Accuracy of  deer :  6 %\n",
      "Accuracy of   dog : 39 %\n",
      "Accuracy of  frog : 60 %\n",
      "Accuracy of horse : 46 %\n",
      "Accuracy of  ship : 32 %\n",
      "Accuracy of truck : 45 %\n"
     ]
    }
   ],
   "source": [
    "class_correct = list(0. for i in range(10))\n",
    "class_total = list(0. for i in range(10))\n",
    "for data in testloader:\n",
    "    images, labels = data\n",
    "    images=images.cuda()\n",
    "    labels=labels.cuda()\n",
    "    outputs = net(Variable(images))\n",
    "    _, predicted = torch.max(outputs.data, 1)\n",
    "    c = (predicted == labels).squeeze()\n",
    "    for i in range(4):\n",
    "        label = labels[i]\n",
    "        class_correct[label] += c[i]\n",
    "        class_total[label] += 1\n",
    "\n",
    "\n",
    "for i in range(10):\n",
    "    print('Accuracy of %5s : %2d %%' % (\n",
    "        classes[i], 100 * class_correct[i] / class_total[i]))"
   ]
  },
  {
   "cell_type": "code",
   "execution_count": 13,
   "metadata": {
    "collapsed": false
   },
   "outputs": [
    {
     "data": {
      "text/plain": [
       "[<matplotlib.lines.Line2D at 0x7f2c34054f60>]"
      ]
     },
     "execution_count": 13,
     "metadata": {},
     "output_type": "execute_result"
    },
    {
     "data": {
      "image/png": "[encoded data removed]",
      "text/plain": [
       "<matplotlib.figure.Figure at 0x7f2c945cfb70>"
      ]
     },
     "metadata": {},
     "output_type": "display_data"
    }
   ],
   "source": [
    "%matplotlib inline\n",
    "import matplotlib.pyplot as plt\n",
    "plt.plot(loss_list)"
   ]
  },
  {
   "cell_type": "code",
   "execution_count": null,
   "metadata": {
    "collapsed": true
   },
   "outputs": [],
   "source": []
  }
 ],
 "metadata": {
  "kernelspec": {
   "display_name": "Python 3.5.2",
   "language": "python",
   "name": "python3"
  },
  "language_info": {
   "codemirror_mode": {
    "name": "ipython",
    "version": 3
   },
   "file_extension": ".py",
   "mimetype": "text/x-python",
   "name": "python",
   "nbconvert_exporter": "python",
   "pygments_lexer": "ipython3",
   "version": "3.5.2"
  }
 },
 "nbformat": 4,
 "nbformat_minor": 2
}
