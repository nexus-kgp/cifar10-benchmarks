{
 "cells": [
  {
   "cell_type": "markdown",
   "metadata": {},
   "source": [
    "The architecture is conv->pool->conv->pool->"
   ]
  },
  {
   "cell_type": "code",
   "execution_count": 1,
   "metadata": {},
   "outputs": [
    {
     "name": "stdout",
     "output_type": "stream",
     "text": [
      "Files already downloaded and verified\n",
      "Files already downloaded and verified\n"
     ]
    }
   ],
   "source": [
    "import torch\n",
    "import torchvision\n",
    "import torchvision.transforms as transforms\n",
    "import numpy as np\n",
    "transform = transforms.Compose(\n",
    "    [transforms.ToTensor(),\n",
    "     transforms.Normalize((0.5, 0.5, 0.5), (0.5, 0.5, 0.5))])\n",
    "trainset = torchvision.datasets.CIFAR10(root='./data', train=True,download=True, transform=transform)\n",
    "trainloader = torch.utils.data.DataLoader(trainset, batch_size=4, shuffle=True, num_workers=2)\n",
    "testset = torchvision.datasets.CIFAR10(root=\"./data\", train=False, download=True, transform=transform)\n",
    "testloader= torch.utils.data.DataLoader(testset, batch_size=4, shuffle=False, num_workers=2)\n",
    "classes=('plane', 'car', 'bird', 'cat','deer', 'dog', 'frog', 'horse', 'ship', 'truck')"
   ]
  },
  {
   "cell_type": "code",
   "execution_count": 2,
   "metadata": {
    "collapsed": true
   },
   "outputs": [],
   "source": [
    "from torch.autograd import Variable\n",
    "import torch.nn as nn\n",
    "import torch.nn.functional as F\n",
    "\n",
    "\n",
    "class Net(nn.Module):\n",
    "    \n",
    "    def __init__(self):\n",
    "        super(Net, self).__init__()\n",
    "        # 11 Layers : 8 conv layers and 3 fully connected layers !\n",
    "        self.conv1 = nn.Conv2d(3, 8, 3,padding=1)\n",
    "        self.pool = nn.MaxPool2d(2, 2)\n",
    "        self.conv2 = nn.Conv2d(8, 12, 3,padding=1)\n",
    "        self.conv2_bn = nn.BatchNorm2d(12)\n",
    "        self.conv3 = nn.Conv2d(12,20, 3,padding=1)\n",
    "        self.conv3_bn = nn.BatchNorm2d(20)\n",
    "        self.conv4 = nn.Conv2d(20,24, 3,padding=1)\n",
    "        self.conv4_bn = nn.BatchNorm2d(24)\n",
    "        self.conv5 = nn.Conv2d(24,32, 3,padding=1)\n",
    "        self.conv5_bn = nn.BatchNorm2d(32)\n",
    "        self.conv6 = nn.Conv2d(32,48, 3,padding=1)\n",
    "        self.conv6_bn = nn.BatchNorm2d(48)\n",
    "        self.conv7 = nn.Conv2d(48,64, 3,padding=1)\n",
    "        self.conv7_bn = nn.BatchNorm2d(64)\n",
    "        self.conv8 = nn.Conv2d(64,72, 3,padding=1)\n",
    "        self.conv8_bn = nn.BatchNorm2d(72)\n",
    "        self.conv9 = nn.Conv2d(72,80, 3,padding=1)\n",
    "        self.conv9_bn = nn.BatchNorm2d(80)\n",
    "        self.fc1 = nn.Linear(80*4*4, 120)\n",
    "        self.fc1_bn = nn.BatchNorm2d(120)\n",
    "        self.fc2 = nn.Linear(120, 84)\n",
    "        self.fc2_bn = nn.BatchNorm2d(84)\n",
    "        self.fc3 = nn.Linear(84, 10)\n",
    "\n",
    "        \n",
    "    def forward(self, x):\n",
    "        x = F.sigmoid(self.conv1(x))\n",
    "        x = F.sigmoid(self.conv2_bn((self.conv2(x))))\n",
    "        x = self.pool(F.sigmoid(self.conv3_bn((self.conv3(x)))))\n",
    "        x = F.sigmoid(self.conv4_bn((self.conv4(x))))\n",
    "        x = F.sigmoid(self.conv5_bn((self.conv5(x))))\n",
    "        x = self.pool(F.sigmoid(self.conv6_bn((self.conv6(x)))))\n",
    "        x = F.sigmoid(self.conv7_bn((self.conv7(x))))\n",
    "        x = F.sigmoid(self.conv8_bn((self.conv8(x))))\n",
    "        x = self.pool(F.sigmoid(self.conv9_bn((self.conv9(x)))))\n",
    "\n",
    "        x = x.view(-1, 80*4*4)\n",
    "        x = F.sigmoid(self.fc1_bn(self.fc1(x)))\n",
    "        x = F.sigmoid(self.fc2_bn(self.fc2(x)))\n",
    "        x = self.fc3(x)\n",
    "        return x"
   ]
  },
  {
   "cell_type": "code",
   "execution_count": 4,
   "metadata": {
    "collapsed": true
   },
   "outputs": [],
   "source": [
    "# Function to create an instance of the model on CUDA\n",
    "def new_net(lrate,wd):\n",
    "\n",
    "    net = Net().cuda()\n",
    "\n",
    "    # net=Net()\n",
    "\n",
    "    lossvsiter=[]\n",
    "\n",
    "    # To see if the model is on CUDA or not !\n",
    "    if (next(net.parameters()).is_cuda) :\n",
    "        print(\"The model is on CUDA\")\n",
    "    else :\n",
    "        print(\"The model is on CPU\")\n",
    "\n",
    "    # Import the optimizers \n",
    "    import torch.optim as optim\n",
    "\n",
    "    # Declare a loss function\n",
    "    criterion = nn.CrossEntropyLoss()\n",
    "\n",
    "    # Declare an optimizer\n",
    "    optimizer = optim.Adam(net.parameters(),lr=lrate,weight_decay=wd)\n",
    "\n",
    "    #No of iterations !\n",
    "    iterations = 25\n",
    "\n",
    "\n",
    "    for epoch in range(iterations):  # loop over the dataset multiple times\n",
    "\n",
    "        # Reset the loss for the current epoch !\n",
    "        running_loss = 0.0\n",
    "\n",
    "        # Loop over all the mini-batches therea are 12500 mini batches of size 4 each !\n",
    "        for i, data in enumerate(trainloader, 0):\n",
    "            # get the inputs\n",
    "            inputs, labels = data\n",
    "\n",
    "            # wrap them in Variable & if possible make them cuda tensors\n",
    "            inputs, labels = Variable(inputs.cuda()), Variable(labels.cuda())\n",
    "\n",
    "            # zero the parameter gradients for the current epoch\n",
    "            optimizer.zero_grad()\n",
    "\n",
    "            # forward + backward + optimize\n",
    "\n",
    "            # forward\n",
    "            outputs = net(inputs)\n",
    "            loss = criterion(outputs, labels)\n",
    "\n",
    "            # Calculate gradients of whatever variable set to req_gardients = True\n",
    "            loss.backward()\n",
    "\n",
    "            # Take one step of the gradient descent for this epoch ! \n",
    "            optimizer.step()\n",
    "\n",
    "            # print statistics\n",
    "            running_loss += loss.data[0]\n",
    "            if i % 2000 == 1999:    # print every 2000 mini-batches\n",
    "                print('[Epoch :: %d, Mini Batch :: %5d] loss: %.3f' %\n",
    "                      (epoch + 1, i + 1, running_loss / 2000))\n",
    "                lossvsiter.append(running_loss / 2000)\n",
    "                running_loss = 0.0\n",
    "\n",
    "\n",
    "    print('Finished Training')\n",
    "    return lossvsiter,net"
   ]
  },
  {
   "cell_type": "code",
   "execution_count": 5,
   "metadata": {},
   "outputs": [
    {
     "name": "stdout",
     "output_type": "stream",
     "text": [
      "The model is on CUDA\n",
      "[Epoch :: 1, Mini Batch ::  2000] loss: 2.104\n",
      "[Epoch :: 1, Mini Batch ::  4000] loss: 1.921\n",
      "[Epoch :: 1, Mini Batch ::  6000] loss: 1.820\n",
      "[Epoch :: 1, Mini Batch ::  8000] loss: 1.720\n",
      "[Epoch :: 1, Mini Batch :: 10000] loss: 1.681\n",
      "[Epoch :: 1, Mini Batch :: 12000] loss: 1.633\n",
      "[Epoch :: 2, Mini Batch ::  2000] loss: 1.551\n",
      "[Epoch :: 2, Mini Batch ::  4000] loss: 1.515\n",
      "[Epoch :: 2, Mini Batch ::  6000] loss: 1.469\n",
      "[Epoch :: 2, Mini Batch ::  8000] loss: 1.476\n",
      "[Epoch :: 2, Mini Batch :: 10000] loss: 1.458\n",
      "[Epoch :: 2, Mini Batch :: 12000] loss: 1.430\n",
      "[Epoch :: 3, Mini Batch ::  2000] loss: 1.379\n",
      "[Epoch :: 3, Mini Batch ::  4000] loss: 1.374\n",
      "[Epoch :: 3, Mini Batch ::  6000] loss: 1.374\n",
      "[Epoch :: 3, Mini Batch ::  8000] loss: 1.380\n",
      "[Epoch :: 3, Mini Batch :: 10000] loss: 1.354\n",
      "[Epoch :: 3, Mini Batch :: 12000] loss: 1.350\n",
      "[Epoch :: 4, Mini Batch ::  2000] loss: 1.305\n",
      "[Epoch :: 4, Mini Batch ::  4000] loss: 1.298\n",
      "[Epoch :: 4, Mini Batch ::  6000] loss: 1.301\n",
      "[Epoch :: 4, Mini Batch ::  8000] loss: 1.307\n",
      "[Epoch :: 4, Mini Batch :: 10000] loss: 1.308\n",
      "[Epoch :: 4, Mini Batch :: 12000] loss: 1.273\n",
      "[Epoch :: 5, Mini Batch ::  2000] loss: 1.242\n",
      "[Epoch :: 5, Mini Batch ::  4000] loss: 1.223\n",
      "[Epoch :: 5, Mini Batch ::  6000] loss: 1.250\n",
      "[Epoch :: 5, Mini Batch ::  8000] loss: 1.240\n",
      "[Epoch :: 5, Mini Batch :: 10000] loss: 1.208\n",
      "[Epoch :: 5, Mini Batch :: 12000] loss: 1.222\n",
      "[Epoch :: 6, Mini Batch ::  2000] loss: 1.180\n",
      "[Epoch :: 6, Mini Batch ::  4000] loss: 1.209\n",
      "[Epoch :: 6, Mini Batch ::  6000] loss: 1.189\n",
      "[Epoch :: 6, Mini Batch ::  8000] loss: 1.205\n",
      "[Epoch :: 6, Mini Batch :: 10000] loss: 1.170\n",
      "[Epoch :: 6, Mini Batch :: 12000] loss: 1.165\n",
      "[Epoch :: 7, Mini Batch ::  2000] loss: 1.160\n",
      "[Epoch :: 7, Mini Batch ::  4000] loss: 1.136\n",
      "[Epoch :: 7, Mini Batch ::  6000] loss: 1.125\n",
      "[Epoch :: 7, Mini Batch ::  8000] loss: 1.155\n",
      "[Epoch :: 7, Mini Batch :: 10000] loss: 1.131\n",
      "[Epoch :: 7, Mini Batch :: 12000] loss: 1.143\n",
      "[Epoch :: 8, Mini Batch ::  2000] loss: 1.107\n",
      "[Epoch :: 8, Mini Batch ::  4000] loss: 1.108\n",
      "[Epoch :: 8, Mini Batch ::  6000] loss: 1.096\n",
      "[Epoch :: 8, Mini Batch ::  8000] loss: 1.102\n",
      "[Epoch :: 8, Mini Batch :: 10000] loss: 1.103\n",
      "[Epoch :: 8, Mini Batch :: 12000] loss: 1.089\n",
      "[Epoch :: 9, Mini Batch ::  2000] loss: 1.067\n",
      "[Epoch :: 9, Mini Batch ::  4000] loss: 1.080\n",
      "[Epoch :: 9, Mini Batch ::  6000] loss: 1.083\n",
      "[Epoch :: 9, Mini Batch ::  8000] loss: 1.078\n",
      "[Epoch :: 9, Mini Batch :: 10000] loss: 1.099\n",
      "[Epoch :: 9, Mini Batch :: 12000] loss: 1.036\n",
      "[Epoch :: 10, Mini Batch ::  2000] loss: 1.035\n",
      "[Epoch :: 10, Mini Batch ::  4000] loss: 1.057\n",
      "[Epoch :: 10, Mini Batch ::  6000] loss: 1.052\n",
      "[Epoch :: 10, Mini Batch ::  8000] loss: 1.020\n",
      "[Epoch :: 10, Mini Batch :: 10000] loss: 1.059\n",
      "[Epoch :: 10, Mini Batch :: 12000] loss: 1.038\n",
      "[Epoch :: 11, Mini Batch ::  2000] loss: 1.023\n",
      "[Epoch :: 11, Mini Batch ::  4000] loss: 1.015\n",
      "[Epoch :: 11, Mini Batch ::  6000] loss: 0.995\n",
      "[Epoch :: 11, Mini Batch ::  8000] loss: 1.038\n",
      "[Epoch :: 11, Mini Batch :: 10000] loss: 1.014\n",
      "[Epoch :: 11, Mini Batch :: 12000] loss: 0.998\n",
      "[Epoch :: 12, Mini Batch ::  2000] loss: 0.995\n",
      "[Epoch :: 12, Mini Batch ::  4000] loss: 0.999\n",
      "[Epoch :: 12, Mini Batch ::  6000] loss: 1.004\n",
      "[Epoch :: 12, Mini Batch ::  8000] loss: 0.972\n",
      "[Epoch :: 12, Mini Batch :: 10000] loss: 0.997\n",
      "[Epoch :: 12, Mini Batch :: 12000] loss: 0.950\n",
      "[Epoch :: 13, Mini Batch ::  2000] loss: 0.954\n",
      "[Epoch :: 13, Mini Batch ::  4000] loss: 0.979\n",
      "[Epoch :: 13, Mini Batch ::  6000] loss: 0.976\n",
      "[Epoch :: 13, Mini Batch ::  8000] loss: 0.976\n",
      "[Epoch :: 13, Mini Batch :: 10000] loss: 0.984\n",
      "[Epoch :: 13, Mini Batch :: 12000] loss: 0.940\n",
      "[Epoch :: 14, Mini Batch ::  2000] loss: 0.939\n",
      "[Epoch :: 14, Mini Batch ::  4000] loss: 0.936\n",
      "[Epoch :: 14, Mini Batch ::  6000] loss: 0.925\n",
      "[Epoch :: 14, Mini Batch ::  8000] loss: 0.944\n",
      "[Epoch :: 14, Mini Batch :: 10000] loss: 0.963\n",
      "[Epoch :: 14, Mini Batch :: 12000] loss: 0.943\n",
      "[Epoch :: 15, Mini Batch ::  2000] loss: 0.916\n",
      "[Epoch :: 15, Mini Batch ::  4000] loss: 0.935\n",
      "[Epoch :: 15, Mini Batch ::  6000] loss: 0.890\n",
      "[Epoch :: 15, Mini Batch ::  8000] loss: 0.921\n",
      "[Epoch :: 15, Mini Batch :: 10000] loss: 0.916\n",
      "[Epoch :: 15, Mini Batch :: 12000] loss: 0.900\n",
      "[Epoch :: 16, Mini Batch ::  2000] loss: 0.879\n",
      "[Epoch :: 16, Mini Batch ::  4000] loss: 0.888\n",
      "[Epoch :: 16, Mini Batch ::  6000] loss: 0.921\n",
      "[Epoch :: 16, Mini Batch ::  8000] loss: 0.894\n",
      "[Epoch :: 16, Mini Batch :: 10000] loss: 0.897\n",
      "[Epoch :: 16, Mini Batch :: 12000] loss: 0.909\n",
      "[Epoch :: 17, Mini Batch ::  2000] loss: 0.881\n",
      "[Epoch :: 17, Mini Batch ::  4000] loss: 0.873\n",
      "[Epoch :: 17, Mini Batch ::  6000] loss: 0.876\n",
      "[Epoch :: 17, Mini Batch ::  8000] loss: 0.852\n",
      "[Epoch :: 17, Mini Batch :: 10000] loss: 0.873\n",
      "[Epoch :: 17, Mini Batch :: 12000] loss: 0.888\n",
      "[Epoch :: 18, Mini Batch ::  2000] loss: 0.863\n",
      "[Epoch :: 18, Mini Batch ::  4000] loss: 0.862\n",
      "[Epoch :: 18, Mini Batch ::  6000] loss: 0.862\n",
      "[Epoch :: 18, Mini Batch ::  8000] loss: 0.889\n",
      "[Epoch :: 18, Mini Batch :: 10000] loss: 0.867\n",
      "[Epoch :: 18, Mini Batch :: 12000] loss: 0.845\n",
      "[Epoch :: 19, Mini Batch ::  2000] loss: 0.827\n",
      "[Epoch :: 19, Mini Batch ::  4000] loss: 0.850\n",
      "[Epoch :: 19, Mini Batch ::  6000] loss: 0.854\n",
      "[Epoch :: 19, Mini Batch ::  8000] loss: 0.855\n",
      "[Epoch :: 19, Mini Batch :: 10000] loss: 0.851\n",
      "[Epoch :: 19, Mini Batch :: 12000] loss: 0.841\n",
      "[Epoch :: 20, Mini Batch ::  2000] loss: 0.823\n",
      "[Epoch :: 20, Mini Batch ::  4000] loss: 0.813\n",
      "[Epoch :: 20, Mini Batch ::  6000] loss: 0.819\n",
      "[Epoch :: 20, Mini Batch ::  8000] loss: 0.804\n",
      "[Epoch :: 20, Mini Batch :: 10000] loss: 0.835\n",
      "[Epoch :: 20, Mini Batch :: 12000] loss: 0.832\n",
      "[Epoch :: 21, Mini Batch ::  2000] loss: 0.801\n",
      "[Epoch :: 21, Mini Batch ::  4000] loss: 0.786\n",
      "[Epoch :: 21, Mini Batch ::  6000] loss: 0.800\n",
      "[Epoch :: 21, Mini Batch ::  8000] loss: 0.816\n",
      "[Epoch :: 21, Mini Batch :: 10000] loss: 0.776\n",
      "[Epoch :: 21, Mini Batch :: 12000] loss: 0.823\n",
      "[Epoch :: 22, Mini Batch ::  2000] loss: 0.770\n",
      "[Epoch :: 22, Mini Batch ::  4000] loss: 0.788\n",
      "[Epoch :: 22, Mini Batch ::  6000] loss: 0.809\n",
      "[Epoch :: 22, Mini Batch ::  8000] loss: 0.788\n",
      "[Epoch :: 22, Mini Batch :: 10000] loss: 0.799\n",
      "[Epoch :: 22, Mini Batch :: 12000] loss: 0.822\n",
      "[Epoch :: 23, Mini Batch ::  2000] loss: 0.750\n",
      "[Epoch :: 23, Mini Batch ::  4000] loss: 0.786\n",
      "[Epoch :: 23, Mini Batch ::  6000] loss: 0.774\n",
      "[Epoch :: 23, Mini Batch ::  8000] loss: 0.788\n",
      "[Epoch :: 23, Mini Batch :: 10000] loss: 0.777\n",
      "[Epoch :: 23, Mini Batch :: 12000] loss: 0.769\n",
      "[Epoch :: 24, Mini Batch ::  2000] loss: 0.752\n",
      "[Epoch :: 24, Mini Batch ::  4000] loss: 0.757\n",
      "[Epoch :: 24, Mini Batch ::  6000] loss: 0.751\n",
      "[Epoch :: 24, Mini Batch ::  8000] loss: 0.758\n",
      "[Epoch :: 24, Mini Batch :: 10000] loss: 0.772\n",
      "[Epoch :: 24, Mini Batch :: 12000] loss: 0.763\n",
      "[Epoch :: 25, Mini Batch ::  2000] loss: 0.754\n",
      "[Epoch :: 25, Mini Batch ::  4000] loss: 0.731\n",
      "[Epoch :: 25, Mini Batch ::  6000] loss: 0.737\n",
      "[Epoch :: 25, Mini Batch ::  8000] loss: 0.754\n",
      "[Epoch :: 25, Mini Batch :: 10000] loss: 0.768\n",
      "[Epoch :: 25, Mini Batch :: 12000] loss: 0.740\n",
      "Finished Training\n"
     ]
    }
   ],
   "source": [
    "lossvsiter_crazy_architecture_with_batch_norm,model_crazy_architecture_with_batch_norm=new_net(0.0005,1e-7)"
   ]
  },
  {
   "cell_type": "code",
   "execution_count": 6,
   "metadata": {
    "collapsed": true
   },
   "outputs": [],
   "source": [
    "import pickle\n",
    "\n",
    "with open(\"./results/lossvsiter_crazy_architecture_with_batch_norm_with_sigmoid.pkl\",\"wb\") as f:\n",
    "    pickle.dump(lossvsiter_crazy_architecture_with_batch_norm,f)\n",
    "    \n",
    "with open(\"./results/model_crazy_architecture_with_batch_norm_with_sigmoid.pkl\",\"wb\") as f:\n",
    "    pickle.dump(model_crazy_architecture_with_batch_norm,f)"
   ]
  },
  {
   "cell_type": "code",
   "execution_count": 7,
   "metadata": {
    "collapsed": true
   },
   "outputs": [],
   "source": [
    "def test_accuracy(model):\n",
    "    correct = 0\n",
    "    total = 0\n",
    "\n",
    "    for data in testloader:\n",
    "        images, labels = data\n",
    "        images=images.cuda()\n",
    "        labels=labels.cuda()\n",
    "        try:\n",
    "            outputs = model(Variable(images))\n",
    "        except RuntimeError as re:\n",
    "            print(outputs.is_cuda)\n",
    "            print(str(re))\n",
    "            sys.exit()\n",
    "        _, predicted = torch.max(outputs.data, 1)\n",
    "        total += labels.size(0)\n",
    "        correct += (predicted == labels).sum()\n",
    "        accuracy_percentage= 100 * correct / total\n",
    "\n",
    "    print('Accuracy of the network on the 10000 test images: %d' % (accuracy_percentage))\n",
    "    print(\"The network predicted correct for %s\"%(correct))\n",
    "    return accuracy_percentage,correct"
   ]
  },
  {
   "cell_type": "code",
   "execution_count": 8,
   "metadata": {
    "collapsed": true
   },
   "outputs": [],
   "source": [
    "def train_accuracy(model):\n",
    "    net = model\n",
    "    total=0\n",
    "    correct=0\n",
    "    for i, data in enumerate(trainloader, 0):\n",
    "        images, labels = data\n",
    "        images=images.cuda()\n",
    "        labels=labels.cuda()\n",
    "        try:\n",
    "            outputs = net(Variable(images))\n",
    "        except RuntimeError as re:\n",
    "            print(outputs.is_cuda)\n",
    "            print(str(re))\n",
    "            sys.exit()\n",
    "        _, predicted = torch.max(outputs.data, 1)\n",
    "        total += labels.size(0)\n",
    "        correct += (predicted == labels).sum()\n",
    "        if (i%1000) == 0:\n",
    "            print(i)\n",
    "\n",
    "    print('Accuracy of the network on the 50000 trained images: %d %%' % (\n",
    "        100 * correct / total))"
   ]
  },
  {
   "cell_type": "code",
   "execution_count": 9,
   "metadata": {},
   "outputs": [
    {
     "name": "stdout",
     "output_type": "stream",
     "text": [
      "Accuracy of the network on the 10000 test images: 71\n",
      "The network predicted correct for 7100\n"
     ]
    },
    {
     "data": {
      "text/plain": [
       "(71.0, 7100)"
      ]
     },
     "execution_count": 9,
     "metadata": {},
     "output_type": "execute_result"
    }
   ],
   "source": [
    "test_accuracy(model_crazy_architecture_with_batch_norm)"
   ]
  },
  {
   "cell_type": "code",
   "execution_count": 10,
   "metadata": {},
   "outputs": [
    {
     "name": "stdout",
     "output_type": "stream",
     "text": [
      "0\n",
      "1000\n",
      "2000\n",
      "3000\n",
      "4000\n",
      "5000\n",
      "6000\n",
      "7000\n",
      "8000\n",
      "9000\n",
      "10000\n",
      "11000\n",
      "12000\n",
      "Accuracy of the network on the 50000 trained images: 76 %\n"
     ]
    }
   ],
   "source": [
    "train_accuracy(model_crazy_architecture_with_batch_norm)"
   ]
  },
  {
   "cell_type": "code",
   "execution_count": 11,
   "metadata": {},
   "outputs": [
    {
     "name": "stdout",
     "output_type": "stream",
     "text": [
      "Accuracy of plane : 69 %\n",
      "Accuracy of   car : 83 %\n",
      "Accuracy of  bird : 58 %\n",
      "Accuracy of   cat : 51 %\n",
      "Accuracy of  deer : 70 %\n",
      "Accuracy of   dog : 65 %\n",
      "Accuracy of  frog : 72 %\n",
      "Accuracy of horse : 73 %\n",
      "Accuracy of  ship : 80 %\n",
      "Accuracy of truck : 85 %\n"
     ]
    }
   ],
   "source": [
    "net=model_crazy_architecture_with_batch_norm\n",
    "class_correct = list(0. for i in range(10))\n",
    "class_total = list(0. for i in range(10))\n",
    "for data in testloader:\n",
    "    images, labels = data\n",
    "    images=images.cuda()\n",
    "    labels=labels.cuda()\n",
    "    outputs = net(Variable(images))\n",
    "    _, predicted = torch.max(outputs.data, 1)\n",
    "    c = (predicted == labels).squeeze()\n",
    "    for i in range(4):\n",
    "        label = labels[i]\n",
    "        class_correct[label] += c[i]\n",
    "        class_total[label] += 1\n",
    "\n",
    "\n",
    "for i in range(10):\n",
    "    print('Accuracy of %5s : %2d %%' % (\n",
    "        classes[i], 100 * class_correct[i] / class_total[i]))"
   ]
  },
  {
   "cell_type": "code",
   "execution_count": 12,
   "metadata": {
    "collapsed": true
   },
   "outputs": [],
   "source": [
    "%matplotlib inline"
   ]
  },
  {
   "cell_type": "code",
   "execution_count": 13,
   "metadata": {},
   "outputs": [
    {
     "data": {
      "image/png": "[encoded data removed]",
      "text/plain": [
       "<matplotlib.figure.Figure at 0x7fa7d8bb8828>"
      ]
     },
     "metadata": {},
     "output_type": "display_data"
    }
   ],
   "source": [
    "import matplotlib.pyplot as plt\n",
    "plt.plot(lossvsiter_crazy_architecture_with_batch_norm)\n",
    "plt.ylabel('loss')\n",
    "plt.xlabel('every 2000th mini-batch')\n",
    "plt.show()"
   ]
  },
  {
   "cell_type": "code",
   "execution_count": 20,
   "metadata": {
    "collapsed": true
   },
   "outputs": [],
   "source": [
    "# Lets save the model !!"
   ]
  },
  {
   "cell_type": "code",
   "execution_count": 14,
   "metadata": {
    "collapsed": true
   },
   "outputs": [],
   "source": [
    "torch.save(model_crazy_architecture_with_batch_norm.state_dict(),\"./models/model_crazy_architecture_with_batch_norm_with_sigmoid_25_epochs\")"
   ]
  },
  {
   "cell_type": "code",
   "execution_count": 15,
   "metadata": {
    "collapsed": true
   },
   "outputs": [],
   "source": [
    "# It seems the loss will further decrease with more iterations !"
   ]
  },
  {
   "cell_type": "code",
   "execution_count": 16,
   "metadata": {
    "scrolled": false
   },
   "outputs": [
    {
     "name": "stdout",
     "output_type": "stream",
     "text": [
      "The model is on CUDA\n",
      "[Epoch :: 26, Mini Batch ::  2000] loss: 0.742\n",
      "[Epoch :: 26, Mini Batch ::  4000] loss: 0.749\n",
      "[Epoch :: 26, Mini Batch ::  6000] loss: 0.723\n",
      "[Epoch :: 26, Mini Batch ::  8000] loss: 0.746\n",
      "[Epoch :: 26, Mini Batch :: 10000] loss: 0.741\n",
      "[Epoch :: 26, Mini Batch :: 12000] loss: 0.752\n",
      "[Epoch :: 27, Mini Batch ::  2000] loss: 0.701\n",
      "[Epoch :: 27, Mini Batch ::  4000] loss: 0.733\n",
      "[Epoch :: 27, Mini Batch ::  6000] loss: 0.748\n",
      "[Epoch :: 27, Mini Batch ::  8000] loss: 0.707\n",
      "[Epoch :: 27, Mini Batch :: 10000] loss: 0.696\n",
      "[Epoch :: 27, Mini Batch :: 12000] loss: 0.753\n",
      "[Epoch :: 28, Mini Batch ::  2000] loss: 0.706\n",
      "[Epoch :: 28, Mini Batch ::  4000] loss: 0.730\n",
      "[Epoch :: 28, Mini Batch ::  6000] loss: 0.697\n",
      "[Epoch :: 28, Mini Batch ::  8000] loss: 0.712\n",
      "[Epoch :: 28, Mini Batch :: 10000] loss: 0.718\n",
      "[Epoch :: 28, Mini Batch :: 12000] loss: 0.714\n",
      "[Epoch :: 29, Mini Batch ::  2000] loss: 0.707\n",
      "[Epoch :: 29, Mini Batch ::  4000] loss: 0.683\n",
      "[Epoch :: 29, Mini Batch ::  6000] loss: 0.694\n",
      "[Epoch :: 29, Mini Batch ::  8000] loss: 0.684\n",
      "[Epoch :: 29, Mini Batch :: 10000] loss: 0.689\n",
      "[Epoch :: 29, Mini Batch :: 12000] loss: 0.711\n",
      "[Epoch :: 30, Mini Batch ::  2000] loss: 0.661\n",
      "[Epoch :: 30, Mini Batch ::  4000] loss: 0.681\n",
      "[Epoch :: 30, Mini Batch ::  6000] loss: 0.690\n",
      "[Epoch :: 30, Mini Batch ::  8000] loss: 0.676\n",
      "[Epoch :: 30, Mini Batch :: 10000] loss: 0.685\n",
      "[Epoch :: 30, Mini Batch :: 12000] loss: 0.697\n",
      "[Epoch :: 31, Mini Batch ::  2000] loss: 0.653\n",
      "[Epoch :: 31, Mini Batch ::  4000] loss: 0.653\n",
      "[Epoch :: 31, Mini Batch ::  6000] loss: 0.701\n",
      "[Epoch :: 31, Mini Batch ::  8000] loss: 0.683\n",
      "[Epoch :: 31, Mini Batch :: 10000] loss: 0.677\n",
      "[Epoch :: 31, Mini Batch :: 12000] loss: 0.681\n",
      "[Epoch :: 32, Mini Batch ::  2000] loss: 0.642\n",
      "[Epoch :: 32, Mini Batch ::  4000] loss: 0.654\n",
      "[Epoch :: 32, Mini Batch ::  6000] loss: 0.703\n",
      "[Epoch :: 32, Mini Batch ::  8000] loss: 0.652\n",
      "[Epoch :: 32, Mini Batch :: 10000] loss: 0.644\n",
      "[Epoch :: 32, Mini Batch :: 12000] loss: 0.661\n",
      "[Epoch :: 33, Mini Batch ::  2000] loss: 0.659\n",
      "[Epoch :: 33, Mini Batch ::  4000] loss: 0.639\n",
      "[Epoch :: 33, Mini Batch ::  6000] loss: 0.646\n",
      "[Epoch :: 33, Mini Batch ::  8000] loss: 0.648\n",
      "[Epoch :: 33, Mini Batch :: 10000] loss: 0.665\n",
      "[Epoch :: 33, Mini Batch :: 12000] loss: 0.654\n",
      "[Epoch :: 34, Mini Batch ::  2000] loss: 0.632\n",
      "[Epoch :: 34, Mini Batch ::  4000] loss: 0.626\n",
      "[Epoch :: 34, Mini Batch ::  6000] loss: 0.634\n",
      "[Epoch :: 34, Mini Batch ::  8000] loss: 0.647\n",
      "[Epoch :: 34, Mini Batch :: 10000] loss: 0.652\n",
      "[Epoch :: 34, Mini Batch :: 12000] loss: 0.655\n",
      "[Epoch :: 35, Mini Batch ::  2000] loss: 0.616\n",
      "[Epoch :: 35, Mini Batch ::  4000] loss: 0.622\n",
      "[Epoch :: 35, Mini Batch ::  6000] loss: 0.659\n",
      "[Epoch :: 35, Mini Batch ::  8000] loss: 0.619\n",
      "[Epoch :: 35, Mini Batch :: 10000] loss: 0.641\n",
      "[Epoch :: 35, Mini Batch :: 12000] loss: 0.634\n",
      "[Epoch :: 36, Mini Batch ::  2000] loss: 0.619\n",
      "[Epoch :: 36, Mini Batch ::  4000] loss: 0.601\n",
      "[Epoch :: 36, Mini Batch ::  6000] loss: 0.614\n",
      "[Epoch :: 36, Mini Batch ::  8000] loss: 0.619\n",
      "[Epoch :: 36, Mini Batch :: 10000] loss: 0.629\n",
      "[Epoch :: 36, Mini Batch :: 12000] loss: 0.635\n",
      "[Epoch :: 37, Mini Batch ::  2000] loss: 0.592\n",
      "[Epoch :: 37, Mini Batch ::  4000] loss: 0.610\n",
      "[Epoch :: 37, Mini Batch ::  6000] loss: 0.595\n",
      "[Epoch :: 37, Mini Batch ::  8000] loss: 0.602\n",
      "[Epoch :: 37, Mini Batch :: 10000] loss: 0.626\n",
      "[Epoch :: 37, Mini Batch :: 12000] loss: 0.632\n",
      "[Epoch :: 38, Mini Batch ::  2000] loss: 0.565\n",
      "[Epoch :: 38, Mini Batch ::  4000] loss: 0.595\n",
      "[Epoch :: 38, Mini Batch ::  6000] loss: 0.592\n",
      "[Epoch :: 38, Mini Batch ::  8000] loss: 0.597\n",
      "[Epoch :: 38, Mini Batch :: 10000] loss: 0.597\n",
      "[Epoch :: 38, Mini Batch :: 12000] loss: 0.620\n",
      "[Epoch :: 39, Mini Batch ::  2000] loss: 0.574\n",
      "[Epoch :: 39, Mini Batch ::  4000] loss: 0.586\n",
      "[Epoch :: 39, Mini Batch ::  6000] loss: 0.602\n",
      "[Epoch :: 39, Mini Batch ::  8000] loss: 0.605\n",
      "[Epoch :: 39, Mini Batch :: 10000] loss: 0.590\n",
      "[Epoch :: 39, Mini Batch :: 12000] loss: 0.577\n",
      "[Epoch :: 40, Mini Batch ::  2000] loss: 0.578\n",
      "[Epoch :: 40, Mini Batch ::  4000] loss: 0.578\n",
      "[Epoch :: 40, Mini Batch ::  6000] loss: 0.575\n",
      "[Epoch :: 40, Mini Batch ::  8000] loss: 0.602\n",
      "[Epoch :: 40, Mini Batch :: 10000] loss: 0.578\n",
      "[Epoch :: 40, Mini Batch :: 12000] loss: 0.589\n",
      "[Epoch :: 41, Mini Batch ::  2000] loss: 0.553\n",
      "[Epoch :: 41, Mini Batch ::  4000] loss: 0.567\n",
      "[Epoch :: 41, Mini Batch ::  6000] loss: 0.542\n",
      "[Epoch :: 41, Mini Batch ::  8000] loss: 0.581\n",
      "[Epoch :: 41, Mini Batch :: 10000] loss: 0.557\n",
      "[Epoch :: 41, Mini Batch :: 12000] loss: 0.574\n",
      "[Epoch :: 42, Mini Batch ::  2000] loss: 0.520\n",
      "[Epoch :: 42, Mini Batch ::  4000] loss: 0.549\n",
      "[Epoch :: 42, Mini Batch ::  6000] loss: 0.552\n",
      "[Epoch :: 42, Mini Batch ::  8000] loss: 0.560\n",
      "[Epoch :: 42, Mini Batch :: 10000] loss: 0.565\n",
      "[Epoch :: 42, Mini Batch :: 12000] loss: 0.581\n",
      "[Epoch :: 43, Mini Batch ::  2000] loss: 0.514\n",
      "[Epoch :: 43, Mini Batch ::  4000] loss: 0.547\n",
      "[Epoch :: 43, Mini Batch ::  6000] loss: 0.540\n",
      "[Epoch :: 43, Mini Batch ::  8000] loss: 0.563\n",
      "[Epoch :: 43, Mini Batch :: 10000] loss: 0.554\n",
      "[Epoch :: 43, Mini Batch :: 12000] loss: 0.561\n",
      "[Epoch :: 44, Mini Batch ::  2000] loss: 0.510\n",
      "[Epoch :: 44, Mini Batch ::  4000] loss: 0.536\n",
      "[Epoch :: 44, Mini Batch ::  6000] loss: 0.516\n",
      "[Epoch :: 44, Mini Batch ::  8000] loss: 0.552\n",
      "[Epoch :: 44, Mini Batch :: 10000] loss: 0.531\n",
      "[Epoch :: 44, Mini Batch :: 12000] loss: 0.553\n",
      "[Epoch :: 45, Mini Batch ::  2000] loss: 0.518\n",
      "[Epoch :: 45, Mini Batch ::  4000] loss: 0.525\n",
      "[Epoch :: 45, Mini Batch ::  6000] loss: 0.526\n",
      "[Epoch :: 45, Mini Batch ::  8000] loss: 0.537\n",
      "[Epoch :: 45, Mini Batch :: 10000] loss: 0.532\n",
      "[Epoch :: 45, Mini Batch :: 12000] loss: 0.531\n",
      "[Epoch :: 46, Mini Batch ::  2000] loss: 0.524\n",
      "[Epoch :: 46, Mini Batch ::  4000] loss: 0.500\n",
      "[Epoch :: 46, Mini Batch ::  6000] loss: 0.510\n",
      "[Epoch :: 46, Mini Batch ::  8000] loss: 0.532\n",
      "[Epoch :: 46, Mini Batch :: 10000] loss: 0.527\n",
      "[Epoch :: 46, Mini Batch :: 12000] loss: 0.515\n",
      "[Epoch :: 47, Mini Batch ::  2000] loss: 0.503\n",
      "[Epoch :: 47, Mini Batch ::  4000] loss: 0.489\n",
      "[Epoch :: 47, Mini Batch ::  6000] loss: 0.511\n",
      "[Epoch :: 47, Mini Batch ::  8000] loss: 0.531\n",
      "[Epoch :: 47, Mini Batch :: 10000] loss: 0.496\n",
      "[Epoch :: 47, Mini Batch :: 12000] loss: 0.499\n",
      "[Epoch :: 48, Mini Batch ::  2000] loss: 0.492\n",
      "[Epoch :: 48, Mini Batch ::  4000] loss: 0.518\n",
      "[Epoch :: 48, Mini Batch ::  6000] loss: 0.500\n",
      "[Epoch :: 48, Mini Batch ::  8000] loss: 0.525\n",
      "[Epoch :: 48, Mini Batch :: 10000] loss: 0.539\n",
      "[Epoch :: 48, Mini Batch :: 12000] loss: 0.516\n",
      "[Epoch :: 49, Mini Batch ::  2000] loss: 0.501\n",
      "[Epoch :: 49, Mini Batch ::  4000] loss: 0.492\n",
      "[Epoch :: 49, Mini Batch ::  6000] loss: 0.500\n",
      "[Epoch :: 49, Mini Batch ::  8000] loss: 0.524\n",
      "[Epoch :: 49, Mini Batch :: 10000] loss: 0.517\n",
      "[Epoch :: 49, Mini Batch :: 12000] loss: 0.504\n",
      "[Epoch :: 50, Mini Batch ::  2000] loss: 0.474\n",
      "[Epoch :: 50, Mini Batch ::  4000] loss: 0.476\n",
      "[Epoch :: 50, Mini Batch ::  6000] loss: 0.482\n",
      "[Epoch :: 50, Mini Batch ::  8000] loss: 0.496\n",
      "[Epoch :: 50, Mini Batch :: 10000] loss: 0.482\n",
      "[Epoch :: 50, Mini Batch :: 12000] loss: 0.508\n",
      "Finished Training\n"
     ]
    }
   ],
   "source": [
    "net=model_crazy_architecture_with_batch_norm\n",
    "lossvsiter=lossvsiter_crazy_architecture_with_batch_norm\n",
    "# To see if the model is on CUDA or not !\n",
    "if (next(net.parameters()).is_cuda) :\n",
    "    print(\"The model is on CUDA\")\n",
    "else :\n",
    "    print(\"The model is on CPU\")\n",
    "\n",
    "# Import the optimizers \n",
    "import torch.optim as optim\n",
    "\n",
    "# Declare a loss function\n",
    "criterion = nn.CrossEntropyLoss()\n",
    "\n",
    "# Declare an optimizer\n",
    "optimizer = optim.Adam(net.parameters(),lr=0.0005,weight_decay=1e-7)\n",
    "\n",
    "#No of iterations !\n",
    "iterations = 25\n",
    "\n",
    "\n",
    "for epoch in range(iterations):  # loop over the dataset multiple times\n",
    "\n",
    "    # Reset the loss for the current epoch !\n",
    "    running_loss = 0.0\n",
    "\n",
    "    # Loop over all the mini-batches therea are 12500 mini batches of size 4 each !\n",
    "    for i, data in enumerate(trainloader, 0):\n",
    "        # get the inputs\n",
    "        inputs, labels = data\n",
    "\n",
    "        # wrap them in Variable & if possible make them cuda tensors\n",
    "        inputs, labels = Variable(inputs.cuda()), Variable(labels.cuda())\n",
    "\n",
    "        # zero the parameter gradients for the current epoch\n",
    "        optimizer.zero_grad()\n",
    "\n",
    "        # forward + backward + optimize\n",
    "\n",
    "        # forward\n",
    "        outputs = net(inputs)\n",
    "        loss = criterion(outputs, labels)\n",
    "\n",
    "        # Calculate gradients of whatever variable set to req_gardients = True\n",
    "        loss.backward()\n",
    "\n",
    "        # Take one step of the gradient descent for this epoch ! \n",
    "        optimizer.step()\n",
    "\n",
    "        # print statistics\n",
    "        running_loss += loss.data[0]\n",
    "        if i % 2000 == 1999:    # print every 2000 mini-batches\n",
    "            print('[Epoch :: %d, Mini Batch :: %5d] loss: %.3f' %\n",
    "                  (epoch + 1+25, i + 1, running_loss / 2000))\n",
    "            lossvsiter.append(running_loss / 2000)\n",
    "            running_loss = 0.0\n",
    "\n",
    "\n",
    "print('Finished Training')"
   ]
  },
  {
   "cell_type": "code",
   "execution_count": 17,
   "metadata": {
    "collapsed": true
   },
   "outputs": [],
   "source": [
    "# Lets see the result ::"
   ]
  },
  {
   "cell_type": "code",
   "execution_count": 18,
   "metadata": {},
   "outputs": [
    {
     "name": "stdout",
     "output_type": "stream",
     "text": [
      "Accuracy of the network on the 10000 test images: 74\n",
      "The network predicted correct for 7403\n"
     ]
    },
    {
     "data": {
      "text/plain": [
       "(74.03, 7403)"
      ]
     },
     "execution_count": 18,
     "metadata": {},
     "output_type": "execute_result"
    }
   ],
   "source": [
    "test_accuracy(model_crazy_architecture_with_batch_norm)"
   ]
  },
  {
   "cell_type": "code",
   "execution_count": 19,
   "metadata": {},
   "outputs": [
    {
     "name": "stdout",
     "output_type": "stream",
     "text": [
      "0\n",
      "1000\n",
      "2000\n",
      "3000\n",
      "4000\n",
      "5000\n",
      "6000\n",
      "7000\n",
      "8000\n",
      "9000\n",
      "10000\n",
      "11000\n",
      "12000\n",
      "Accuracy of the network on the 50000 trained images: 84 %\n"
     ]
    }
   ],
   "source": [
    "train_accuracy(model_crazy_architecture_with_batch_norm)"
   ]
  },
  {
   "cell_type": "code",
   "execution_count": 20,
   "metadata": {
    "collapsed": true
   },
   "outputs": [],
   "source": [
    "torch.save(model_crazy_architecture_with_batch_norm.state_dict(),\"./models/model_crazy_architecture_with_batch_norm_with_sigmoid-50-epochs\")"
   ]
  },
  {
   "cell_type": "code",
   "execution_count": 27,
   "metadata": {
    "collapsed": true
   },
   "outputs": [],
   "source": [
    "# Lets run it again for 25 more ... yay !!!!!!!"
   ]
  },
  {
   "cell_type": "code",
   "execution_count": 30,
   "metadata": {
    "collapsed": true
   },
   "outputs": [],
   "source": [
    "model_crazy_architecture_with_batch_norm.load_state_dict(torch.load(\"./models/model_crazy_architecture_with_batch_norm-50-epochs\"))"
   ]
  },
  {
   "cell_type": "code",
   "execution_count": 31,
   "metadata": {},
   "outputs": [
    {
     "data": {
      "text/plain": [
       "Net (\n",
       "  (conv1): Conv2d(3, 8, kernel_size=(3, 3), stride=(1, 1), padding=(1, 1))\n",
       "  (pool): MaxPool2d (size=(2, 2), stride=(2, 2), dilation=(1, 1))\n",
       "  (conv2): Conv2d(8, 12, kernel_size=(3, 3), stride=(1, 1), padding=(1, 1))\n",
       "  (conv2_bn): BatchNorm2d(12, eps=1e-05, momentum=0.1, affine=True)\n",
       "  (conv3): Conv2d(12, 20, kernel_size=(3, 3), stride=(1, 1), padding=(1, 1))\n",
       "  (conv3_bn): BatchNorm2d(20, eps=1e-05, momentum=0.1, affine=True)\n",
       "  (conv4): Conv2d(20, 24, kernel_size=(3, 3), stride=(1, 1), padding=(1, 1))\n",
       "  (conv4_bn): BatchNorm2d(24, eps=1e-05, momentum=0.1, affine=True)\n",
       "  (conv5): Conv2d(24, 32, kernel_size=(3, 3), stride=(1, 1), padding=(1, 1))\n",
       "  (conv5_bn): BatchNorm2d(32, eps=1e-05, momentum=0.1, affine=True)\n",
       "  (conv6): Conv2d(32, 48, kernel_size=(3, 3), stride=(1, 1), padding=(1, 1))\n",
       "  (conv6_bn): BatchNorm2d(48, eps=1e-05, momentum=0.1, affine=True)\n",
       "  (conv7): Conv2d(48, 64, kernel_size=(3, 3), stride=(1, 1), padding=(1, 1))\n",
       "  (conv7_bn): BatchNorm2d(64, eps=1e-05, momentum=0.1, affine=True)\n",
       "  (conv8): Conv2d(64, 72, kernel_size=(3, 3), stride=(1, 1), padding=(1, 1))\n",
       "  (conv8_bn): BatchNorm2d(72, eps=1e-05, momentum=0.1, affine=True)\n",
       "  (conv9): Conv2d(72, 80, kernel_size=(3, 3), stride=(1, 1), padding=(1, 1))\n",
       "  (conv9_bn): BatchNorm2d(80, eps=1e-05, momentum=0.1, affine=True)\n",
       "  (fc1): Linear (1280 -> 120)\n",
       "  (fc1_bn): BatchNorm2d(120, eps=1e-05, momentum=0.1, affine=True)\n",
       "  (fc2): Linear (120 -> 84)\n",
       "  (fc2_bn): BatchNorm2d(84, eps=1e-05, momentum=0.1, affine=True)\n",
       "  (fc3): Linear (84 -> 10)\n",
       ")"
      ]
     },
     "execution_count": 31,
     "metadata": {},
     "output_type": "execute_result"
    }
   ],
   "source": [
    "model_crazy_architecture_with_batch_norm.eval()"
   ]
  },
  {
   "cell_type": "code",
   "execution_count": 32,
   "metadata": {
    "collapsed": true
   },
   "outputs": [
    {
     "name": "stdout",
     "output_type": "stream",
     "text": [
      "The model is on CUDA\n",
      "[Epoch :: 1, Mini Batch ::  2000] loss: 0.150\n",
      "[Epoch :: 1, Mini Batch ::  4000] loss: 0.150\n",
      "[Epoch :: 1, Mini Batch ::  6000] loss: 0.140\n",
      "[Epoch :: 1, Mini Batch ::  8000] loss: 0.138\n",
      "[Epoch :: 1, Mini Batch :: 10000] loss: 0.139\n",
      "[Epoch :: 1, Mini Batch :: 12000] loss: 0.149\n",
      "[Epoch :: 2, Mini Batch ::  2000] loss: 0.098\n",
      "[Epoch :: 2, Mini Batch ::  4000] loss: 0.099\n",
      "[Epoch :: 2, Mini Batch ::  6000] loss: 0.109\n",
      "[Epoch :: 2, Mini Batch ::  8000] loss: 0.111\n",
      "[Epoch :: 2, Mini Batch :: 10000] loss: 0.109\n",
      "[Epoch :: 2, Mini Batch :: 12000] loss: 0.117\n",
      "[Epoch :: 3, Mini Batch ::  2000] loss: 0.084\n",
      "[Epoch :: 3, Mini Batch ::  4000] loss: 0.097\n",
      "[Epoch :: 3, Mini Batch ::  6000] loss: 0.092\n",
      "[Epoch :: 3, Mini Batch ::  8000] loss: 0.093\n",
      "[Epoch :: 3, Mini Batch :: 10000] loss: 0.102\n",
      "[Epoch :: 3, Mini Batch :: 12000] loss: 0.107\n",
      "[Epoch :: 4, Mini Batch ::  2000] loss: 0.070\n",
      "[Epoch :: 4, Mini Batch ::  4000] loss: 0.081\n",
      "[Epoch :: 4, Mini Batch ::  6000] loss: 0.086\n",
      "[Epoch :: 4, Mini Batch ::  8000] loss: 0.091\n",
      "[Epoch :: 4, Mini Batch :: 10000] loss: 0.102\n",
      "[Epoch :: 4, Mini Batch :: 12000] loss: 0.086\n",
      "[Epoch :: 5, Mini Batch ::  2000] loss: 0.068\n",
      "[Epoch :: 5, Mini Batch ::  4000] loss: 0.075\n",
      "[Epoch :: 5, Mini Batch ::  6000] loss: 0.081\n",
      "[Epoch :: 5, Mini Batch ::  8000] loss: 0.079\n",
      "[Epoch :: 5, Mini Batch :: 10000] loss: 0.090\n",
      "[Epoch :: 5, Mini Batch :: 12000] loss: 0.088\n",
      "[Epoch :: 6, Mini Batch ::  2000] loss: 0.064\n",
      "[Epoch :: 6, Mini Batch ::  4000] loss: 0.081\n",
      "[Epoch :: 6, Mini Batch ::  6000] loss: 0.076\n",
      "[Epoch :: 6, Mini Batch ::  8000] loss: 0.075\n",
      "[Epoch :: 6, Mini Batch :: 10000] loss: 0.079\n",
      "[Epoch :: 6, Mini Batch :: 12000] loss: 0.080\n",
      "[Epoch :: 7, Mini Batch ::  2000] loss: 0.061\n",
      "[Epoch :: 7, Mini Batch ::  4000] loss: 0.063\n",
      "[Epoch :: 7, Mini Batch ::  6000] loss: 0.071\n",
      "[Epoch :: 7, Mini Batch ::  8000] loss: 0.066\n",
      "[Epoch :: 7, Mini Batch :: 10000] loss: 0.079\n",
      "[Epoch :: 7, Mini Batch :: 12000] loss: 0.067\n",
      "[Epoch :: 8, Mini Batch ::  2000] loss: 0.062\n",
      "[Epoch :: 8, Mini Batch ::  4000] loss: 0.065\n",
      "[Epoch :: 8, Mini Batch ::  6000] loss: 0.061\n",
      "[Epoch :: 8, Mini Batch ::  8000] loss: 0.073\n",
      "[Epoch :: 8, Mini Batch :: 10000] loss: 0.067\n",
      "[Epoch :: 8, Mini Batch :: 12000] loss: 0.081\n",
      "[Epoch :: 9, Mini Batch ::  2000] loss: 0.051\n",
      "[Epoch :: 9, Mini Batch ::  4000] loss: 0.060\n",
      "[Epoch :: 9, Mini Batch ::  6000] loss: 0.072\n",
      "[Epoch :: 9, Mini Batch ::  8000] loss: 0.064\n",
      "[Epoch :: 9, Mini Batch :: 10000] loss: 0.067\n",
      "[Epoch :: 9, Mini Batch :: 12000] loss: 0.079\n",
      "[Epoch :: 10, Mini Batch ::  2000] loss: 0.049\n",
      "[Epoch :: 10, Mini Batch ::  4000] loss: 0.058\n",
      "[Epoch :: 10, Mini Batch ::  6000] loss: 0.071\n",
      "[Epoch :: 10, Mini Batch ::  8000] loss: 0.074\n",
      "[Epoch :: 10, Mini Batch :: 10000] loss: 0.064\n",
      "[Epoch :: 10, Mini Batch :: 12000] loss: 0.062\n",
      "[Epoch :: 11, Mini Batch ::  2000] loss: 0.051\n",
      "[Epoch :: 11, Mini Batch ::  4000] loss: 0.061\n",
      "[Epoch :: 11, Mini Batch ::  6000] loss: 0.061\n",
      "[Epoch :: 11, Mini Batch ::  8000] loss: 0.057\n",
      "[Epoch :: 11, Mini Batch :: 10000] loss: 0.063\n",
      "[Epoch :: 11, Mini Batch :: 12000] loss: 0.064\n",
      "[Epoch :: 12, Mini Batch ::  2000] loss: 0.055\n",
      "[Epoch :: 12, Mini Batch ::  4000] loss: 0.049\n",
      "[Epoch :: 12, Mini Batch ::  6000] loss: 0.061\n",
      "[Epoch :: 12, Mini Batch ::  8000] loss: 0.054\n",
      "[Epoch :: 12, Mini Batch :: 10000] loss: 0.067\n",
      "[Epoch :: 12, Mini Batch :: 12000] loss: 0.066\n",
      "[Epoch :: 13, Mini Batch ::  2000] loss: 0.045\n",
      "[Epoch :: 13, Mini Batch ::  4000] loss: 0.057\n",
      "[Epoch :: 13, Mini Batch ::  6000] loss: 0.054\n",
      "[Epoch :: 13, Mini Batch ::  8000] loss: 0.058\n",
      "[Epoch :: 13, Mini Batch :: 10000] loss: 0.064\n",
      "[Epoch :: 13, Mini Batch :: 12000] loss: 0.060\n",
      "[Epoch :: 14, Mini Batch ::  2000] loss: 0.053\n",
      "[Epoch :: 14, Mini Batch ::  4000] loss: 0.054\n",
      "[Epoch :: 14, Mini Batch ::  6000] loss: 0.049\n",
      "[Epoch :: 14, Mini Batch ::  8000] loss: 0.058\n",
      "[Epoch :: 14, Mini Batch :: 10000] loss: 0.058\n",
      "[Epoch :: 14, Mini Batch :: 12000] loss: 0.059\n",
      "[Epoch :: 15, Mini Batch ::  2000] loss: 0.043\n",
      "[Epoch :: 15, Mini Batch ::  4000] loss: 0.055\n",
      "[Epoch :: 15, Mini Batch ::  6000] loss: 0.052\n",
      "[Epoch :: 15, Mini Batch ::  8000] loss: 0.060\n",
      "[Epoch :: 15, Mini Batch :: 10000] loss: 0.063\n",
      "[Epoch :: 15, Mini Batch :: 12000] loss: 0.046\n",
      "[Epoch :: 16, Mini Batch ::  2000] loss: 0.054\n",
      "[Epoch :: 16, Mini Batch ::  4000] loss: 0.042\n",
      "[Epoch :: 16, Mini Batch ::  6000] loss: 0.049\n",
      "[Epoch :: 16, Mini Batch ::  8000] loss: 0.048\n",
      "[Epoch :: 16, Mini Batch :: 10000] loss: 0.059\n",
      "[Epoch :: 16, Mini Batch :: 12000] loss: 0.051\n",
      "[Epoch :: 17, Mini Batch ::  2000] loss: 0.047\n",
      "[Epoch :: 17, Mini Batch ::  4000] loss: 0.056\n",
      "[Epoch :: 17, Mini Batch ::  6000] loss: 0.048\n",
      "[Epoch :: 17, Mini Batch ::  8000] loss: 0.051\n",
      "[Epoch :: 17, Mini Batch :: 10000] loss: 0.054\n",
      "[Epoch :: 17, Mini Batch :: 12000] loss: 0.056\n",
      "[Epoch :: 18, Mini Batch ::  2000] loss: 0.034\n",
      "[Epoch :: 18, Mini Batch ::  4000] loss: 0.056\n",
      "[Epoch :: 18, Mini Batch ::  6000] loss: 0.041\n",
      "[Epoch :: 18, Mini Batch ::  8000] loss: 0.057\n",
      "[Epoch :: 18, Mini Batch :: 10000] loss: 0.060\n",
      "[Epoch :: 18, Mini Batch :: 12000] loss: 0.049\n",
      "[Epoch :: 19, Mini Batch ::  2000] loss: 0.029\n",
      "[Epoch :: 19, Mini Batch ::  4000] loss: 0.047\n",
      "[Epoch :: 19, Mini Batch ::  6000] loss: 0.046\n",
      "[Epoch :: 19, Mini Batch ::  8000] loss: 0.043\n",
      "[Epoch :: 19, Mini Batch :: 10000] loss: 0.055\n",
      "[Epoch :: 19, Mini Batch :: 12000] loss: 0.057\n",
      "[Epoch :: 20, Mini Batch ::  2000] loss: 0.040\n",
      "[Epoch :: 20, Mini Batch ::  4000] loss: 0.042\n",
      "[Epoch :: 20, Mini Batch ::  6000] loss: 0.050\n",
      "[Epoch :: 20, Mini Batch ::  8000] loss: 0.044\n",
      "[Epoch :: 20, Mini Batch :: 10000] loss: 0.054\n",
      "[Epoch :: 20, Mini Batch :: 12000] loss: 0.049\n",
      "[Epoch :: 21, Mini Batch ::  2000] loss: 0.038\n",
      "[Epoch :: 21, Mini Batch ::  4000] loss: 0.043\n",
      "[Epoch :: 21, Mini Batch ::  6000] loss: 0.052\n",
      "[Epoch :: 21, Mini Batch ::  8000] loss: 0.042\n",
      "[Epoch :: 21, Mini Batch :: 10000] loss: 0.047\n",
      "[Epoch :: 21, Mini Batch :: 12000] loss: 0.053\n",
      "[Epoch :: 22, Mini Batch ::  2000] loss: 0.043\n",
      "[Epoch :: 22, Mini Batch ::  4000] loss: 0.044\n",
      "[Epoch :: 22, Mini Batch ::  6000] loss: 0.045\n",
      "[Epoch :: 22, Mini Batch ::  8000] loss: 0.048\n",
      "[Epoch :: 22, Mini Batch :: 10000] loss: 0.042\n",
      "[Epoch :: 22, Mini Batch :: 12000] loss: 0.040\n",
      "[Epoch :: 23, Mini Batch ::  2000] loss: 0.039\n",
      "[Epoch :: 23, Mini Batch ::  4000] loss: 0.037\n",
      "[Epoch :: 23, Mini Batch ::  6000] loss: 0.048\n",
      "[Epoch :: 23, Mini Batch ::  8000] loss: 0.046\n",
      "[Epoch :: 23, Mini Batch :: 10000] loss: 0.063\n",
      "[Epoch :: 23, Mini Batch :: 12000] loss: 0.038\n",
      "[Epoch :: 24, Mini Batch ::  2000] loss: 0.040\n",
      "[Epoch :: 24, Mini Batch ::  4000] loss: 0.042\n",
      "[Epoch :: 24, Mini Batch ::  6000] loss: 0.038\n",
      "[Epoch :: 24, Mini Batch ::  8000] loss: 0.048\n",
      "[Epoch :: 24, Mini Batch :: 10000] loss: 0.043\n",
      "[Epoch :: 24, Mini Batch :: 12000] loss: 0.046\n",
      "[Epoch :: 25, Mini Batch ::  2000] loss: 0.041\n",
      "[Epoch :: 25, Mini Batch ::  4000] loss: 0.038\n",
      "[Epoch :: 25, Mini Batch ::  6000] loss: 0.041\n",
      "[Epoch :: 25, Mini Batch ::  8000] loss: 0.042\n",
      "[Epoch :: 25, Mini Batch :: 10000] loss: 0.037\n",
      "[Epoch :: 25, Mini Batch :: 12000] loss: 0.041\n",
      "Finished Training\n"
     ]
    }
   ],
   "source": [
    "net=model_crazy_architecture_with_batch_norm\n",
    "lossvsiter=lossvsiter_crazy_architecture_with_batch_norm\n",
    "# To see if the model is on CUDA or not !\n",
    "if (next(net.parameters()).is_cuda) :\n",
    "    print(\"The model is on CUDA\")\n",
    "else :\n",
    "    print(\"The model is on CPU\")\n",
    "\n",
    "# Import the optimizers \n",
    "import torch.optim as optim\n",
    "\n",
    "# Declare a loss function\n",
    "criterion = nn.CrossEntropyLoss()\n",
    "\n",
    "# Declare an optimizer\n",
    "optimizer = optim.Adam(net.parameters(),lr=0.0005,weight_decay=1e-7)\n",
    "\n",
    "#No of iterations !\n",
    "iterations = 25\n",
    "\n",
    "\n",
    "for epoch in range(iterations):  # loop over the dataset multiple times\n",
    "\n",
    "    # Reset the loss for the current epoch !\n",
    "    running_loss = 0.0\n",
    "\n",
    "    # Loop over all the mini-batches therea are 12500 mini batches of size 4 each !\n",
    "    for i, data in enumerate(trainloader, 0):\n",
    "        # get the inputs\n",
    "        inputs, labels = data\n",
    "\n",
    "        # wrap them in Variable & if possible make them cuda tensors\n",
    "        inputs, labels = Variable(inputs.cuda()), Variable(labels.cuda())\n",
    "\n",
    "        # zero the parameter gradients for the current epoch\n",
    "        optimizer.zero_grad()\n",
    "\n",
    "        # forward + backward + optimize\n",
    "\n",
    "        # forward\n",
    "        outputs = net(inputs)\n",
    "        loss = criterion(outputs, labels)\n",
    "\n",
    "        # Calculate gradients of whatever variable set to req_gardients = True\n",
    "        loss.backward()\n",
    "\n",
    "        # Take one step of the gradient descent for this epoch ! \n",
    "        optimizer.step()\n",
    "\n",
    "        # print statistics\n",
    "        running_loss += loss.data[0]\n",
    "        if i % 2000 == 1999:    # print every 2000 mini-batches\n",
    "            print('[Epoch :: %d, Mini Batch :: %5d] loss: %.3f' %\n",
    "                  (epoch + 1, i + 1, running_loss / 2000))\n",
    "            lossvsiter.append(running_loss / 2000)\n",
    "            running_loss = 0.0\n",
    "\n",
    "\n",
    "print('Finished Training')"
   ]
  },
  {
   "cell_type": "code",
   "execution_count": 33,
   "metadata": {},
   "outputs": [
    {
     "name": "stdout",
     "output_type": "stream",
     "text": [
      "Accuracy of the network on the 10000 test images: 81\n",
      "The network predicted correct for 8104\n"
     ]
    },
    {
     "data": {
      "text/plain": [
       "(81.04, 8104)"
      ]
     },
     "execution_count": 33,
     "metadata": {},
     "output_type": "execute_result"
    }
   ],
   "source": [
    "test_accuracy(model_crazy_architecture_with_batch_norm)"
   ]
  },
  {
   "cell_type": "code",
   "execution_count": 34,
   "metadata": {
    "collapsed": true
   },
   "outputs": [],
   "source": [
    "torch.save(model_crazy_architecture_with_batch_norm.state_dict(),\"./models/model_crazy_architecture_with_batch_norm-75-epochs\")"
   ]
  },
  {
   "cell_type": "code",
   "execution_count": 35,
   "metadata": {
    "collapsed": true
   },
   "outputs": [
    {
     "name": "stdout",
     "output_type": "stream",
     "text": [
      "0\n",
      "1000\n",
      "2000\n",
      "3000\n",
      "4000\n",
      "5000\n",
      "6000\n",
      "7000\n",
      "8000\n",
      "9000\n",
      "10000\n",
      "11000\n",
      "12000\n",
      "Accuracy of the network on the 50000 trained images: 99 %\n"
     ]
    }
   ],
   "source": [
    "train_accuracy(model_crazy_architecture_with_batch_norm)"
   ]
  },
  {
   "cell_type": "code",
   "execution_count": 36,
   "metadata": {
    "collapsed": true
   },
   "outputs": [],
   "source": [
    "# Lets get in a century"
   ]
  },
  {
   "cell_type": "code",
   "execution_count": 37,
   "metadata": {
    "collapsed": true
   },
   "outputs": [
    {
     "name": "stdout",
     "output_type": "stream",
     "text": [
      "The model is on CUDA\n",
      "[Epoch :: 1, Mini Batch ::  2000] loss: 0.047\n",
      "[Epoch :: 1, Mini Batch ::  4000] loss: 0.037\n",
      "[Epoch :: 1, Mini Batch ::  6000] loss: 0.044\n",
      "[Epoch :: 1, Mini Batch ::  8000] loss: 0.040\n",
      "[Epoch :: 1, Mini Batch :: 10000] loss: 0.046\n",
      "[Epoch :: 1, Mini Batch :: 12000] loss: 0.039\n",
      "[Epoch :: 2, Mini Batch ::  2000] loss: 0.041\n",
      "[Epoch :: 2, Mini Batch ::  4000] loss: 0.040\n",
      "[Epoch :: 2, Mini Batch ::  6000] loss: 0.042\n",
      "[Epoch :: 2, Mini Batch ::  8000] loss: 0.041\n",
      "[Epoch :: 2, Mini Batch :: 10000] loss: 0.037\n",
      "[Epoch :: 2, Mini Batch :: 12000] loss: 0.044\n",
      "[Epoch :: 3, Mini Batch ::  2000] loss: 0.034\n",
      "[Epoch :: 3, Mini Batch ::  4000] loss: 0.036\n",
      "[Epoch :: 3, Mini Batch ::  6000] loss: 0.037\n",
      "[Epoch :: 3, Mini Batch ::  8000] loss: 0.047\n",
      "[Epoch :: 3, Mini Batch :: 10000] loss: 0.035\n",
      "[Epoch :: 3, Mini Batch :: 12000] loss: 0.038\n",
      "[Epoch :: 4, Mini Batch ::  2000] loss: 0.035\n",
      "[Epoch :: 4, Mini Batch ::  4000] loss: 0.043\n",
      "[Epoch :: 4, Mini Batch ::  6000] loss: 0.037\n",
      "[Epoch :: 4, Mini Batch ::  8000] loss: 0.041\n",
      "[Epoch :: 4, Mini Batch :: 10000] loss: 0.038\n",
      "[Epoch :: 4, Mini Batch :: 12000] loss: 0.042\n",
      "[Epoch :: 5, Mini Batch ::  2000] loss: 0.027\n",
      "[Epoch :: 5, Mini Batch ::  4000] loss: 0.039\n",
      "[Epoch :: 5, Mini Batch ::  6000] loss: 0.036\n",
      "[Epoch :: 5, Mini Batch ::  8000] loss: 0.043\n",
      "[Epoch :: 5, Mini Batch :: 10000] loss: 0.040\n",
      "[Epoch :: 5, Mini Batch :: 12000] loss: 0.044\n",
      "[Epoch :: 6, Mini Batch ::  2000] loss: 0.030\n",
      "[Epoch :: 6, Mini Batch ::  4000] loss: 0.037\n",
      "[Epoch :: 6, Mini Batch ::  6000] loss: 0.034\n",
      "[Epoch :: 6, Mini Batch ::  8000] loss: 0.041\n",
      "[Epoch :: 6, Mini Batch :: 10000] loss: 0.034\n",
      "[Epoch :: 6, Mini Batch :: 12000] loss: 0.044\n",
      "[Epoch :: 7, Mini Batch ::  2000] loss: 0.036\n",
      "[Epoch :: 7, Mini Batch ::  4000] loss: 0.030\n",
      "[Epoch :: 7, Mini Batch ::  6000] loss: 0.026\n",
      "[Epoch :: 7, Mini Batch ::  8000] loss: 0.049\n",
      "[Epoch :: 7, Mini Batch :: 10000] loss: 0.039\n",
      "[Epoch :: 7, Mini Batch :: 12000] loss: 0.042\n",
      "[Epoch :: 8, Mini Batch ::  2000] loss: 0.032\n",
      "[Epoch :: 8, Mini Batch ::  4000] loss: 0.028\n",
      "[Epoch :: 8, Mini Batch ::  6000] loss: 0.039\n",
      "[Epoch :: 8, Mini Batch ::  8000] loss: 0.038\n",
      "[Epoch :: 8, Mini Batch :: 10000] loss: 0.037\n",
      "[Epoch :: 8, Mini Batch :: 12000] loss: 0.034\n",
      "[Epoch :: 9, Mini Batch ::  2000] loss: 0.025\n",
      "[Epoch :: 9, Mini Batch ::  4000] loss: 0.042\n",
      "[Epoch :: 9, Mini Batch ::  6000] loss: 0.044\n",
      "[Epoch :: 9, Mini Batch ::  8000] loss: 0.035\n",
      "[Epoch :: 9, Mini Batch :: 10000] loss: 0.045\n",
      "[Epoch :: 9, Mini Batch :: 12000] loss: 0.038\n",
      "[Epoch :: 10, Mini Batch ::  2000] loss: 0.029\n",
      "[Epoch :: 10, Mini Batch ::  4000] loss: 0.030\n",
      "[Epoch :: 10, Mini Batch ::  6000] loss: 0.040\n",
      "[Epoch :: 10, Mini Batch ::  8000] loss: 0.041\n",
      "[Epoch :: 10, Mini Batch :: 10000] loss: 0.036\n",
      "[Epoch :: 10, Mini Batch :: 12000] loss: 0.038\n",
      "[Epoch :: 11, Mini Batch ::  2000] loss: 0.030\n",
      "[Epoch :: 11, Mini Batch ::  4000] loss: 0.030\n",
      "[Epoch :: 11, Mini Batch ::  6000] loss: 0.033\n",
      "[Epoch :: 11, Mini Batch ::  8000] loss: 0.042\n",
      "[Epoch :: 11, Mini Batch :: 10000] loss: 0.032\n",
      "[Epoch :: 11, Mini Batch :: 12000] loss: 0.040\n",
      "[Epoch :: 12, Mini Batch ::  2000] loss: 0.024\n",
      "[Epoch :: 12, Mini Batch ::  4000] loss: 0.037\n",
      "[Epoch :: 12, Mini Batch ::  6000] loss: 0.033\n",
      "[Epoch :: 12, Mini Batch ::  8000] loss: 0.038\n",
      "[Epoch :: 12, Mini Batch :: 10000] loss: 0.037\n",
      "[Epoch :: 12, Mini Batch :: 12000] loss: 0.037\n",
      "[Epoch :: 13, Mini Batch ::  2000] loss: 0.034\n",
      "[Epoch :: 13, Mini Batch ::  4000] loss: 0.034\n",
      "[Epoch :: 13, Mini Batch ::  6000] loss: 0.029\n",
      "[Epoch :: 13, Mini Batch ::  8000] loss: 0.040\n",
      "[Epoch :: 13, Mini Batch :: 10000] loss: 0.034\n",
      "[Epoch :: 13, Mini Batch :: 12000] loss: 0.037\n",
      "[Epoch :: 14, Mini Batch ::  2000] loss: 0.024\n",
      "[Epoch :: 14, Mini Batch ::  4000] loss: 0.043\n",
      "[Epoch :: 14, Mini Batch ::  6000] loss: 0.035\n",
      "[Epoch :: 14, Mini Batch ::  8000] loss: 0.030\n",
      "[Epoch :: 14, Mini Batch :: 10000] loss: 0.030\n",
      "[Epoch :: 14, Mini Batch :: 12000] loss: 0.031\n",
      "[Epoch :: 15, Mini Batch ::  2000] loss: 0.026\n",
      "[Epoch :: 15, Mini Batch ::  4000] loss: 0.032\n",
      "[Epoch :: 15, Mini Batch ::  6000] loss: 0.035\n",
      "[Epoch :: 15, Mini Batch ::  8000] loss: 0.030\n",
      "[Epoch :: 15, Mini Batch :: 10000] loss: 0.036\n",
      "[Epoch :: 15, Mini Batch :: 12000] loss: 0.027\n",
      "[Epoch :: 16, Mini Batch ::  2000] loss: 0.029\n",
      "[Epoch :: 16, Mini Batch ::  4000] loss: 0.025\n",
      "[Epoch :: 16, Mini Batch ::  6000] loss: 0.034\n",
      "[Epoch :: 16, Mini Batch ::  8000] loss: 0.038\n",
      "[Epoch :: 16, Mini Batch :: 10000] loss: 0.035\n",
      "[Epoch :: 16, Mini Batch :: 12000] loss: 0.037\n",
      "[Epoch :: 17, Mini Batch ::  2000] loss: 0.020\n",
      "[Epoch :: 17, Mini Batch ::  4000] loss: 0.040\n",
      "[Epoch :: 17, Mini Batch ::  6000] loss: 0.030\n",
      "[Epoch :: 17, Mini Batch ::  8000] loss: 0.037\n",
      "[Epoch :: 17, Mini Batch :: 10000] loss: 0.037\n",
      "[Epoch :: 17, Mini Batch :: 12000] loss: 0.038\n",
      "[Epoch :: 18, Mini Batch ::  2000] loss: 0.036\n",
      "[Epoch :: 18, Mini Batch ::  4000] loss: 0.034\n",
      "[Epoch :: 18, Mini Batch ::  6000] loss: 0.032\n",
      "[Epoch :: 18, Mini Batch ::  8000] loss: 0.028\n",
      "[Epoch :: 18, Mini Batch :: 10000] loss: 0.037\n",
      "[Epoch :: 18, Mini Batch :: 12000] loss: 0.030\n",
      "[Epoch :: 19, Mini Batch ::  2000] loss: 0.026\n",
      "[Epoch :: 19, Mini Batch ::  4000] loss: 0.028\n",
      "[Epoch :: 19, Mini Batch ::  6000] loss: 0.037\n",
      "[Epoch :: 19, Mini Batch ::  8000] loss: 0.032\n",
      "[Epoch :: 19, Mini Batch :: 10000] loss: 0.032\n",
      "[Epoch :: 19, Mini Batch :: 12000] loss: 0.032\n",
      "[Epoch :: 20, Mini Batch ::  2000] loss: 0.030\n",
      "[Epoch :: 20, Mini Batch ::  4000] loss: 0.030\n",
      "[Epoch :: 20, Mini Batch ::  6000] loss: 0.029\n",
      "[Epoch :: 20, Mini Batch ::  8000] loss: 0.034\n",
      "[Epoch :: 20, Mini Batch :: 10000] loss: 0.037\n",
      "[Epoch :: 20, Mini Batch :: 12000] loss: 0.030\n",
      "[Epoch :: 21, Mini Batch ::  2000] loss: 0.022\n",
      "[Epoch :: 21, Mini Batch ::  4000] loss: 0.040\n",
      "[Epoch :: 21, Mini Batch ::  6000] loss: 0.028\n",
      "[Epoch :: 21, Mini Batch ::  8000] loss: 0.031\n",
      "[Epoch :: 21, Mini Batch :: 10000] loss: 0.030\n",
      "[Epoch :: 21, Mini Batch :: 12000] loss: 0.027\n",
      "[Epoch :: 22, Mini Batch ::  2000] loss: 0.029\n",
      "[Epoch :: 22, Mini Batch ::  4000] loss: 0.027\n",
      "[Epoch :: 22, Mini Batch ::  6000] loss: 0.039\n",
      "[Epoch :: 22, Mini Batch ::  8000] loss: 0.024\n",
      "[Epoch :: 22, Mini Batch :: 10000] loss: 0.042\n",
      "[Epoch :: 22, Mini Batch :: 12000] loss: 0.025\n",
      "[Epoch :: 23, Mini Batch ::  2000] loss: 0.023\n",
      "[Epoch :: 23, Mini Batch ::  4000] loss: 0.032\n",
      "[Epoch :: 23, Mini Batch ::  6000] loss: 0.030\n",
      "[Epoch :: 23, Mini Batch ::  8000] loss: 0.032\n",
      "[Epoch :: 23, Mini Batch :: 10000] loss: 0.017\n",
      "[Epoch :: 23, Mini Batch :: 12000] loss: 0.041\n",
      "[Epoch :: 24, Mini Batch ::  2000] loss: 0.030\n",
      "[Epoch :: 24, Mini Batch ::  4000] loss: 0.026\n",
      "[Epoch :: 24, Mini Batch ::  6000] loss: 0.028\n",
      "[Epoch :: 24, Mini Batch ::  8000] loss: 0.030\n",
      "[Epoch :: 24, Mini Batch :: 10000] loss: 0.025\n",
      "[Epoch :: 24, Mini Batch :: 12000] loss: 0.038\n",
      "[Epoch :: 25, Mini Batch ::  2000] loss: 0.027\n",
      "[Epoch :: 25, Mini Batch ::  4000] loss: 0.027\n",
      "[Epoch :: 25, Mini Batch ::  6000] loss: 0.032\n",
      "[Epoch :: 25, Mini Batch ::  8000] loss: 0.025\n",
      "[Epoch :: 25, Mini Batch :: 10000] loss: 0.033\n",
      "[Epoch :: 25, Mini Batch :: 12000] loss: 0.023\n",
      "Finished Training\n"
     ]
    }
   ],
   "source": [
    "net=model_crazy_architecture_with_batch_norm\n",
    "lossvsiter=lossvsiter_crazy_architecture_with_batch_norm\n",
    "# To see if the model is on CUDA or not !\n",
    "if (next(net.parameters()).is_cuda) :\n",
    "    print(\"The model is on CUDA\")\n",
    "else :\n",
    "    print(\"The model is on CPU\")\n",
    "\n",
    "# Import the optimizers \n",
    "import torch.optim as optim\n",
    "\n",
    "# Declare a loss function\n",
    "criterion = nn.CrossEntropyLoss()\n",
    "\n",
    "# Declare an optimizer\n",
    "optimizer = optim.Adam(net.parameters(),lr=0.0005,weight_decay=1e-7)\n",
    "\n",
    "#No of iterations !\n",
    "iterations = 25\n",
    "\n",
    "\n",
    "for epoch in range(iterations):  # loop over the dataset multiple times\n",
    "\n",
    "    # Reset the loss for the current epoch !\n",
    "    running_loss = 0.0\n",
    "\n",
    "    # Loop over all the mini-batches therea are 12500 mini batches of size 4 each !\n",
    "    for i, data in enumerate(trainloader, 0):\n",
    "        # get the inputs\n",
    "        inputs, labels = data\n",
    "\n",
    "        # wrap them in Variable & if possible make them cuda tensors\n",
    "        inputs, labels = Variable(inputs.cuda()), Variable(labels.cuda())\n",
    "\n",
    "        # zero the parameter gradients for the current epoch\n",
    "        optimizer.zero_grad()\n",
    "\n",
    "        # forward + backward + optimize\n",
    "\n",
    "        # forward\n",
    "        outputs = net(inputs)\n",
    "        loss = criterion(outputs, labels)\n",
    "\n",
    "        # Calculate gradients of whatever variable set to req_gardients = True\n",
    "        loss.backward()\n",
    "\n",
    "        # Take one step of the gradient descent for this epoch ! \n",
    "        optimizer.step()\n",
    "\n",
    "        # print statistics\n",
    "        running_loss += loss.data[0]\n",
    "        if i % 2000 == 1999:    # print every 2000 mini-batches\n",
    "            print('[Epoch :: %d, Mini Batch :: %5d] loss: %.3f' %\n",
    "                  (epoch + 1, i + 1, running_loss / 2000))\n",
    "            lossvsiter.append(running_loss / 2000)\n",
    "            running_loss = 0.0\n",
    "\n",
    "\n",
    "print('Finished Training')"
   ]
  },
  {
   "cell_type": "code",
   "execution_count": 38,
   "metadata": {
    "collapsed": true
   },
   "outputs": [
    {
     "name": "stdout",
     "output_type": "stream",
     "text": [
      "Accuracy of the network on the 10000 test images: 79\n",
      "The network predicted correct for 7982\n"
     ]
    },
    {
     "data": {
      "text/plain": [
       "(79.82, 7982)"
      ]
     },
     "execution_count": 38,
     "metadata": {},
     "output_type": "execute_result"
    }
   ],
   "source": [
    "test_accuracy(model_crazy_architecture_with_batch_norm)"
   ]
  },
  {
   "cell_type": "code",
   "execution_count": 39,
   "metadata": {
    "scrolled": true
   },
   "outputs": [
    {
     "name": "stdout",
     "output_type": "stream",
     "text": [
      "0\n",
      "1000\n",
      "2000\n",
      "3000\n",
      "4000\n",
      "5000\n",
      "6000\n",
      "7000\n",
      "8000\n",
      "9000\n",
      "10000\n",
      "11000\n",
      "12000\n",
      "Accuracy of the network on the 50000 trained images: 98 %\n"
     ]
    }
   ],
   "source": [
    "train_accuracy(model_crazy_architecture_with_batch_norm)"
   ]
  },
  {
   "cell_type": "code",
   "execution_count": 40,
   "metadata": {
    "collapsed": true
   },
   "outputs": [],
   "source": [
    "torch.save(model_crazy_architecture_with_batch_norm.state_dict(),\"./models/model_crazy_architecture_with_batch_norm-100-epochs\")"
   ]
  },
  {
   "cell_type": "code",
   "execution_count": 41,
   "metadata": {
    "collapsed": true
   },
   "outputs": [],
   "source": [
    "model_crazy_architecture_with_batch_norm.load_state_dict(torch.load(\"./models/model_crazy_architecture_with_batch_norm-75-epochs\"))"
   ]
  },
  {
   "cell_type": "code",
   "execution_count": 42,
   "metadata": {},
   "outputs": [
    {
     "data": {
      "text/plain": [
       "Net (\n",
       "  (conv1): Conv2d(3, 8, kernel_size=(3, 3), stride=(1, 1), padding=(1, 1))\n",
       "  (pool): MaxPool2d (size=(2, 2), stride=(2, 2), dilation=(1, 1))\n",
       "  (conv2): Conv2d(8, 12, kernel_size=(3, 3), stride=(1, 1), padding=(1, 1))\n",
       "  (conv2_bn): BatchNorm2d(12, eps=1e-05, momentum=0.1, affine=True)\n",
       "  (conv3): Conv2d(12, 20, kernel_size=(3, 3), stride=(1, 1), padding=(1, 1))\n",
       "  (conv3_bn): BatchNorm2d(20, eps=1e-05, momentum=0.1, affine=True)\n",
       "  (conv4): Conv2d(20, 24, kernel_size=(3, 3), stride=(1, 1), padding=(1, 1))\n",
       "  (conv4_bn): BatchNorm2d(24, eps=1e-05, momentum=0.1, affine=True)\n",
       "  (conv5): Conv2d(24, 32, kernel_size=(3, 3), stride=(1, 1), padding=(1, 1))\n",
       "  (conv5_bn): BatchNorm2d(32, eps=1e-05, momentum=0.1, affine=True)\n",
       "  (conv6): Conv2d(32, 48, kernel_size=(3, 3), stride=(1, 1), padding=(1, 1))\n",
       "  (conv6_bn): BatchNorm2d(48, eps=1e-05, momentum=0.1, affine=True)\n",
       "  (conv7): Conv2d(48, 64, kernel_size=(3, 3), stride=(1, 1), padding=(1, 1))\n",
       "  (conv7_bn): BatchNorm2d(64, eps=1e-05, momentum=0.1, affine=True)\n",
       "  (conv8): Conv2d(64, 72, kernel_size=(3, 3), stride=(1, 1), padding=(1, 1))\n",
       "  (conv8_bn): BatchNorm2d(72, eps=1e-05, momentum=0.1, affine=True)\n",
       "  (conv9): Conv2d(72, 80, kernel_size=(3, 3), stride=(1, 1), padding=(1, 1))\n",
       "  (conv9_bn): BatchNorm2d(80, eps=1e-05, momentum=0.1, affine=True)\n",
       "  (fc1): Linear (1280 -> 120)\n",
       "  (fc1_bn): BatchNorm2d(120, eps=1e-05, momentum=0.1, affine=True)\n",
       "  (fc2): Linear (120 -> 84)\n",
       "  (fc2_bn): BatchNorm2d(84, eps=1e-05, momentum=0.1, affine=True)\n",
       "  (fc3): Linear (84 -> 10)\n",
       ")"
      ]
     },
     "execution_count": 42,
     "metadata": {},
     "output_type": "execute_result"
    }
   ],
   "source": [
    "model_crazy_architecture_with_batch_norm.eval()"
   ]
  },
  {
   "cell_type": "code",
   "execution_count": 43,
   "metadata": {},
   "outputs": [
    {
     "name": "stdout",
     "output_type": "stream",
     "text": [
      "Accuracy of the network on the 10000 test images: 81\n",
      "The network predicted correct for 8104\n"
     ]
    },
    {
     "data": {
      "text/plain": [
       "(81.04, 8104)"
      ]
     },
     "execution_count": 43,
     "metadata": {},
     "output_type": "execute_result"
    }
   ],
   "source": [
    "test_accuracy(model_crazy_architecture_with_batch_norm)"
   ]
  },
  {
   "cell_type": "code",
   "execution_count": null,
   "metadata": {
    "collapsed": true
   },
   "outputs": [],
   "source": []
  }
 ],
 "metadata": {
  "kernelspec": {
   "display_name": "Python 3",
   "language": "python",
   "name": "python3"
  },
  "language_info": {
   "codemirror_mode": {
    "name": "ipython",
    "version": 3
   },
   "file_extension": ".py",
   "mimetype": "text/x-python",
   "name": "python",
   "nbconvert_exporter": "python",
   "pygments_lexer": "ipython3",
   "version": "3.5.2"
  }
 },
 "nbformat": 4,
 "nbformat_minor": 2
}
