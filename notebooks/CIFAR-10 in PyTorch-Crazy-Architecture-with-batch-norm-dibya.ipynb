{
 "cells": [
  {
   "cell_type": "markdown",
   "metadata": {},
   "source": [
    "The architecture is::\n",
    "\n",
    "conv1-->relu-->conv2-->relu-->conv3-->relu-->pool-->\n",
    "\n",
    "conv4-->relu-->conv5-->relu-->conv6-->relu-->pool-->\n",
    "\n",
    "conv7-->relu-->conv8-->relu-->conv9-->relu-->pool-->\n",
    "\n",
    "fully_connected_1-->relu-->fully_connected_2-->relu-->fully_connected_3 **[OUTPUT]**"
   ]
  },
  {
   "cell_type": "code",
   "execution_count": 3,
   "metadata": {
    "collapsed": false
   },
   "outputs": [
    {
     "name": "stdout",
     "output_type": "stream",
     "text": [
      "Files already downloaded and verified\n",
      "Files already downloaded and verified\n"
     ]
    }
   ],
   "source": [
    "import torch\n",
    "import torchvision\n",
    "import torchvision.transforms as transforms\n",
    "import numpy as np\n",
    "transform = transforms.Compose(\n",
    "    [transforms.ToTensor(),\n",
    "     transforms.Normalize((0.5, 0.5, 0.5), (0.5, 0.5, 0.5))])\n",
    "trainset = torchvision.datasets.CIFAR10(root='./data', train=True,download=True, transform=transform)\n",
    "trainloader = torch.utils.data.DataLoader(trainset, batch_size=4, shuffle=True, num_workers=2)\n",
    "testset = torchvision.datasets.CIFAR10(root=\"./data\", train=False, download=True, transform=transform)\n",
    "testloader= torch.utils.data.DataLoader(testset, batch_size=4, shuffle=False, num_workers=2)\n",
    "classes=('plane', 'car', 'bird', 'cat','deer', 'dog', 'frog', 'horse', 'ship', 'truck')"
   ]
  },
  {
   "cell_type": "code",
   "execution_count": 4,
   "metadata": {
    "collapsed": true
   },
   "outputs": [],
   "source": [
    "from torch.autograd import Variable\n",
    "import torch.nn as nn\n",
    "import torch.nn.functional as F\n",
    "\n",
    "\n",
    "class Net(nn.Module):\n",
    "    \n",
    "    def __init__(self):\n",
    "        super(Net, self).__init__()\n",
    "        # 11 Layers : 8 conv layers and 3 fully connected layers !\n",
    "        self.conv1 = nn.Conv2d(3, 8, 3,padding=1)\n",
    "        self.pool = nn.MaxPool2d(2, 2)\n",
    "        self.conv2 = nn.Conv2d(8, 12, 3,padding=1)\n",
    "        self.conv2_bn = nn.BatchNorm2d(12)\n",
    "        self.conv3 = nn.Conv2d(12,20, 3,padding=1)\n",
    "        self.conv3_bn = nn.BatchNorm2d(20)\n",
    "        self.conv4 = nn.Conv2d(20,24, 3,padding=1)\n",
    "        self.conv4_bn = nn.BatchNorm2d(24)\n",
    "        self.conv5 = nn.Conv2d(24,32, 3,padding=1)\n",
    "        self.conv5_bn = nn.BatchNorm2d(32)\n",
    "        self.conv6 = nn.Conv2d(32,48, 3,padding=1)\n",
    "        self.conv6_bn = nn.BatchNorm2d(48)\n",
    "        self.conv7 = nn.Conv2d(48,64, 3,padding=1)\n",
    "        self.conv7_bn = nn.BatchNorm2d(64)\n",
    "        self.conv8 = nn.Conv2d(64,72, 3,padding=1)\n",
    "        self.conv8_bn = nn.BatchNorm2d(72)\n",
    "        self.conv9 = nn.Conv2d(72,80, 3,padding=1)\n",
    "        self.conv9_bn = nn.BatchNorm2d(80)\n",
    "        self.fc1 = nn.Linear(80*4*4, 120)\n",
    "        self.fc1_bn = nn.BatchNorm2d(120)\n",
    "        self.fc2 = nn.Linear(120, 84)\n",
    "        self.fc2_bn = nn.BatchNorm2d(84)\n",
    "        self.fc3 = nn.Linear(84, 10)\n",
    "\n",
    "        \n",
    "    def forward(self, x):\n",
    "        x = F.relu(self.conv1(x))\n",
    "        x = F.relu(self.conv2_bn((self.conv2(x))))\n",
    "        x = self.pool(F.relu(self.conv3_bn((self.conv3(x)))))\n",
    "        x = F.relu(self.conv4_bn((self.conv4(x))))\n",
    "        x = F.relu(self.conv5_bn((self.conv5(x))))\n",
    "        x = self.pool(F.relu(self.conv6_bn((self.conv6(x)))))\n",
    "        x = F.relu(self.conv7_bn((self.conv7(x))))\n",
    "        x = F.relu(self.conv8_bn((self.conv8(x))))\n",
    "        x = self.pool(F.relu(self.conv9_bn((self.conv9(x)))))\n",
    "\n",
    "        x = x.view(-1, 80*4*4)\n",
    "        x = F.relu(self.fc1_bn(self.fc1(x)))\n",
    "        x = F.relu(self.fc2_bn(self.fc2(x)))\n",
    "        x = self.fc3(x)\n",
    "        return x"
   ]
  },
  {
   "cell_type": "code",
   "execution_count": 7,
   "metadata": {
    "collapsed": true
   },
   "outputs": [],
   "source": [
    "# Function to create an instance of the model on CUDA\n",
    "loss_list = []\n",
    "def new_net(lrate,wd):\n",
    "    global loss_list\n",
    "    net = Net().cuda()\n",
    "\n",
    "    # net=Net()\n",
    "\n",
    "    lossvsiter=[]\n",
    "\n",
    "    # To see if the model is on CUDA or not !\n",
    "    if (next(net.parameters()).is_cuda) :\n",
    "        print(\"The model is on CUDA\")\n",
    "    else :\n",
    "        print(\"The model is on CPU\")\n",
    "\n",
    "    # Import the optimizers \n",
    "    import torch.optim as optim\n",
    "\n",
    "    # Declare a loss function\n",
    "    criterion = nn.CrossEntropyLoss()\n",
    "\n",
    "    # Declare an optimizer\n",
    "    optimizer = optim.Adam(net.parameters(),lr=lrate,weight_decay=wd)\n",
    "\n",
    "    #No of iterations !\n",
    "    iterations = 25\n",
    "    \n",
    "\n",
    "\n",
    "    for epoch in range(iterations):  # loop over the dataset multiple times\n",
    "\n",
    "        # Reset the loss for the current epoch !\n",
    "        tloss = 0\n",
    "        running_loss = 0.0\n",
    "\n",
    "        # Loop over all the mini-batches therea are 12500 mini batches of size 4 each !\n",
    "        for i, data in enumerate(trainloader, 0):\n",
    "            # get the inputs\n",
    "            inputs, labels = data\n",
    "\n",
    "            # wrap them in Variable & if possible make them cuda tensors\n",
    "            inputs, labels = Variable(inputs.cuda()), Variable(labels.cuda())\n",
    "\n",
    "            # zero the parameter gradients for the current epoch\n",
    "            optimizer.zero_grad()\n",
    "\n",
    "            # forward + backward + optimize\n",
    "\n",
    "            # forward\n",
    "            outputs = net(inputs)\n",
    "            loss = criterion(outputs, labels)\n",
    "\n",
    "            # Calculate gradients of whatever variable set to req_gardients = True\n",
    "            loss.backward()\n",
    "\n",
    "            # Take one step of the gradient descent for this epoch ! \n",
    "            optimizer.step()\n",
    "\n",
    "            # print statistics\n",
    "            running_loss += loss.data[0]\n",
    "            tloss += loss.data[0]\n",
    "            if i % 2000 == 1999:    # print every 2000 mini-batches\n",
    "                print('[Epoch :: %d, Mini Batch :: %5d] loss: %.3f' %\n",
    "                      (epoch + 1, i + 1, running_loss / 2000))\n",
    "                lossvsiter.append(running_loss / 2000)\n",
    "                running_loss = 0.0\n",
    "        loss_list.append(tloss)\n",
    "\n",
    "    print('Finished Training')\n",
    "    return lossvsiter,net"
   ]
  },
  {
   "cell_type": "code",
   "execution_count": 8,
   "metadata": {
    "collapsed": true
   },
   "outputs": [],
   "source": [
    "learnin_rate_sample=[0.0005,0.0007,0.001,0.0001,]\n",
    "weight_decay_smaple=[1e-6,1e-7,1e-5,1e-4,1e-3,1e-2]"
   ]
  },
  {
   "cell_type": "code",
   "execution_count": null,
   "metadata": {
    "collapsed": false
   },
   "outputs": [
    {
     "name": "stdout",
     "output_type": "stream",
     "text": [
      "The model is on CUDA\n",
      "[Epoch :: 1, Mini Batch ::  2000] loss: 2.024\n",
      "[Epoch :: 1, Mini Batch ::  4000] loss: 1.861\n",
      "[Epoch :: 1, Mini Batch ::  6000] loss: 1.735\n",
      "[Epoch :: 1, Mini Batch ::  8000] loss: 1.628\n",
      "[Epoch :: 1, Mini Batch :: 10000] loss: 1.568\n",
      "[Epoch :: 1, Mini Batch :: 12000] loss: 1.512\n",
      "[Epoch :: 2, Mini Batch ::  2000] loss: 1.438\n",
      "[Epoch :: 2, Mini Batch ::  4000] loss: 1.411\n",
      "[Epoch :: 2, Mini Batch ::  6000] loss: 1.369\n",
      "[Epoch :: 2, Mini Batch ::  8000] loss: 1.340\n",
      "[Epoch :: 2, Mini Batch :: 10000] loss: 1.298\n",
      "[Epoch :: 2, Mini Batch :: 12000] loss: 1.257\n",
      "[Epoch :: 3, Mini Batch ::  2000] loss: 1.232\n",
      "[Epoch :: 3, Mini Batch ::  4000] loss: 1.226\n",
      "[Epoch :: 3, Mini Batch ::  6000] loss: 1.204\n",
      "[Epoch :: 3, Mini Batch ::  8000] loss: 1.167\n",
      "[Epoch :: 3, Mini Batch :: 10000] loss: 1.143\n",
      "[Epoch :: 3, Mini Batch :: 12000] loss: 1.140\n",
      "[Epoch :: 4, Mini Batch ::  2000] loss: 1.096\n",
      "[Epoch :: 4, Mini Batch ::  4000] loss: 1.103\n",
      "[Epoch :: 4, Mini Batch ::  6000] loss: 1.071\n",
      "[Epoch :: 4, Mini Batch ::  8000] loss: 1.090\n",
      "[Epoch :: 4, Mini Batch :: 10000] loss: 1.071\n",
      "[Epoch :: 4, Mini Batch :: 12000] loss: 1.065\n",
      "[Epoch :: 5, Mini Batch ::  2000] loss: 1.010\n",
      "[Epoch :: 5, Mini Batch ::  4000] loss: 1.007\n",
      "[Epoch :: 5, Mini Batch ::  6000] loss: 0.997\n",
      "[Epoch :: 5, Mini Batch ::  8000] loss: 0.992\n",
      "[Epoch :: 5, Mini Batch :: 10000] loss: 1.002\n",
      "[Epoch :: 5, Mini Batch :: 12000] loss: 0.994\n",
      "[Epoch :: 6, Mini Batch ::  2000] loss: 0.954\n",
      "[Epoch :: 6, Mini Batch ::  4000] loss: 0.947\n",
      "[Epoch :: 6, Mini Batch ::  6000] loss: 0.961\n",
      "[Epoch :: 6, Mini Batch ::  8000] loss: 0.905\n",
      "[Epoch :: 6, Mini Batch :: 10000] loss: 0.932\n",
      "[Epoch :: 6, Mini Batch :: 12000] loss: 0.929\n",
      "[Epoch :: 7, Mini Batch ::  2000] loss: 0.882\n",
      "[Epoch :: 7, Mini Batch ::  4000] loss: 0.868\n",
      "[Epoch :: 7, Mini Batch ::  6000] loss: 0.914\n",
      "[Epoch :: 7, Mini Batch ::  8000] loss: 0.904\n",
      "[Epoch :: 7, Mini Batch :: 10000] loss: 0.896\n",
      "[Epoch :: 7, Mini Batch :: 12000] loss: 0.882\n",
      "[Epoch :: 8, Mini Batch ::  2000] loss: 0.844\n",
      "[Epoch :: 8, Mini Batch ::  4000] loss: 0.850\n",
      "[Epoch :: 8, Mini Batch ::  6000] loss: 0.851\n",
      "[Epoch :: 8, Mini Batch ::  8000] loss: 0.832\n",
      "[Epoch :: 8, Mini Batch :: 10000] loss: 0.849\n",
      "[Epoch :: 8, Mini Batch :: 12000] loss: 0.827\n",
      "[Epoch :: 9, Mini Batch ::  2000] loss: 0.803\n",
      "[Epoch :: 9, Mini Batch ::  4000] loss: 0.830\n",
      "[Epoch :: 9, Mini Batch ::  6000] loss: 0.799\n",
      "[Epoch :: 9, Mini Batch ::  8000] loss: 0.806\n",
      "[Epoch :: 9, Mini Batch :: 10000] loss: 0.787\n",
      "[Epoch :: 9, Mini Batch :: 12000] loss: 0.811\n",
      "[Epoch :: 10, Mini Batch ::  2000] loss: 0.771\n",
      "[Epoch :: 10, Mini Batch ::  4000] loss: 0.773\n",
      "[Epoch :: 10, Mini Batch ::  6000] loss: 0.777\n",
      "[Epoch :: 10, Mini Batch ::  8000] loss: 0.753\n",
      "[Epoch :: 10, Mini Batch :: 10000] loss: 0.795\n",
      "[Epoch :: 10, Mini Batch :: 12000] loss: 0.780\n"
     ]
    }
   ],
   "source": [
    "lossvsiter_crazy_architecture_with_batch_norm,model_crazy_architecture_with_batch_norm=new_net(0.0005,1e-7)"
   ]
  },
  {
   "cell_type": "code",
   "execution_count": 24,
   "metadata": {
    "collapsed": false
   },
   "outputs": [
    {
     "name": "stdout",
     "output_type": "stream",
     "text": [
      "59\n"
     ]
    },
    {
     "data": {
      "image/png": "[encoded data removed]",
      "text/plain": [
       "<matplotlib.figure.Figure at 0x7f8aaca7c080>"
      ]
     },
     "metadata": {},
     "output_type": "display_data"
    }
   ],
   "source": [
    "%matplotlib inline\n",
    "import matplotlib.pyplot as plt\n",
    "plt.plot(loss_list)\n",
    "print(len(loss_list))"
   ]
  },
  {
   "cell_type": "code",
   "execution_count": 17,
   "metadata": {
    "collapsed": true
   },
   "outputs": [],
   "source": [
    "def new_net2(lrate,wd,prenet):\n",
    "    global loss_list\n",
    "    net = prenet\n",
    "\n",
    "    # net=Net()\n",
    "\n",
    "    lossvsiter=[]\n",
    "\n",
    "    # To see if the model is on CUDA or not !\n",
    "    if (next(net.parameters()).is_cuda) :\n",
    "        print(\"The model is on CUDA\")\n",
    "    else :\n",
    "        print(\"The model is on CPU\")\n",
    "\n",
    "    # Import the optimizers \n",
    "    import torch.optim as optim\n",
    "\n",
    "    # Declare a loss function\n",
    "    criterion = nn.CrossEntropyLoss()\n",
    "\n",
    "    # Declare an optimizer\n",
    "    optimizer = optim.Adam(net.parameters(),lr=lrate,weight_decay=wd)\n",
    "\n",
    "    #No of iterations !\n",
    "    iterations = 25\n",
    "    \n",
    "\n",
    "\n",
    "    for epoch in range(iterations):  # loop over the dataset multiple times\n",
    "\n",
    "        # Reset the loss for the current epoch !\n",
    "        tloss = 0\n",
    "        running_loss = 0.0\n",
    "\n",
    "        # Loop over all the mini-batches therea are 12500 mini batches of size 4 each !\n",
    "        for i, data in enumerate(trainloader, 0):\n",
    "            # get the inputs\n",
    "            inputs, labels = data\n",
    "\n",
    "            # wrap them in Variable & if possible make them cuda tensors\n",
    "            inputs, labels = Variable(inputs.cuda()), Variable(labels.cuda())\n",
    "\n",
    "            # zero the parameter gradients for the current epoch\n",
    "            optimizer.zero_grad()\n",
    "\n",
    "            # forward + backward + optimize\n",
    "\n",
    "            # forward\n",
    "            outputs = net(inputs)\n",
    "            loss = criterion(outputs, labels)\n",
    "\n",
    "            # Calculate gradients of whatever variable set to req_gardients = True\n",
    "            loss.backward()\n",
    "\n",
    "            # Take one step of the gradient descent for this epoch ! \n",
    "            optimizer.step()\n",
    "\n",
    "            # print statistics\n",
    "            running_loss += loss.data[0]\n",
    "            tloss += loss.data[0]\n",
    "            if i % 2000 == 1999:    # print every 2000 mini-batches\n",
    "                print('[Epoch :: %d, Mini Batch :: %5d] loss: %.3f' %\n",
    "                      (epoch + 1, i + 1, running_loss / 2000))\n",
    "                lossvsiter.append(running_loss / 2000)\n",
    "                running_loss = 0.0\n",
    "        loss_list.append(tloss)\n",
    "\n",
    "    print('Finished Training')\n",
    "    return lossvsiter,net"
   ]
  },
  {
   "cell_type": "code",
   "execution_count": 20,
   "metadata": {
    "collapsed": false,
    "scrolled": true
   },
   "outputs": [
    {
     "name": "stdout",
     "output_type": "stream",
     "text": [
      "The model is on CUDA\n",
      "[Epoch :: 1, Mini Batch ::  2000] loss: 0.285\n",
      "[Epoch :: 1, Mini Batch ::  4000] loss: 0.298\n",
      "[Epoch :: 1, Mini Batch ::  6000] loss: 0.300\n",
      "[Epoch :: 1, Mini Batch ::  8000] loss: 0.307\n",
      "[Epoch :: 1, Mini Batch :: 10000] loss: 0.322\n",
      "[Epoch :: 1, Mini Batch :: 12000] loss: 0.317\n",
      "[Epoch :: 2, Mini Batch ::  2000] loss: 0.284\n",
      "[Epoch :: 2, Mini Batch ::  4000] loss: 0.310\n",
      "[Epoch :: 2, Mini Batch ::  6000] loss: 0.307\n",
      "[Epoch :: 2, Mini Batch ::  8000] loss: 0.296\n",
      "[Epoch :: 2, Mini Batch :: 10000] loss: 0.299\n",
      "[Epoch :: 2, Mini Batch :: 12000] loss: 0.324\n",
      "[Epoch :: 3, Mini Batch ::  2000] loss: 0.283\n",
      "[Epoch :: 3, Mini Batch ::  4000] loss: 0.299\n",
      "[Epoch :: 3, Mini Batch ::  6000] loss: 0.279\n",
      "[Epoch :: 3, Mini Batch ::  8000] loss: 0.288\n",
      "[Epoch :: 3, Mini Batch :: 10000] loss: 0.279\n",
      "[Epoch :: 3, Mini Batch :: 12000] loss: 0.293\n",
      "[Epoch :: 4, Mini Batch ::  2000] loss: 0.273\n",
      "[Epoch :: 4, Mini Batch ::  4000] loss: 0.304\n",
      "[Epoch :: 4, Mini Batch ::  6000] loss: 0.302\n",
      "[Epoch :: 4, Mini Batch ::  8000] loss: 0.303\n",
      "[Epoch :: 4, Mini Batch :: 10000] loss: 0.289\n",
      "[Epoch :: 4, Mini Batch :: 12000] loss: 0.304\n",
      "[Epoch :: 5, Mini Batch ::  2000] loss: 0.278\n",
      "[Epoch :: 5, Mini Batch ::  4000] loss: 0.279\n",
      "[Epoch :: 5, Mini Batch ::  6000] loss: 0.270\n",
      "[Epoch :: 5, Mini Batch ::  8000] loss: 0.287\n",
      "[Epoch :: 5, Mini Batch :: 10000] loss: 0.286\n",
      "[Epoch :: 5, Mini Batch :: 12000] loss: 0.285\n",
      "[Epoch :: 6, Mini Batch ::  2000] loss: 0.267\n",
      "[Epoch :: 6, Mini Batch ::  4000] loss: 0.256\n",
      "[Epoch :: 6, Mini Batch ::  6000] loss: 0.278\n",
      "[Epoch :: 6, Mini Batch ::  8000] loss: 0.263\n",
      "[Epoch :: 6, Mini Batch :: 10000] loss: 0.289\n",
      "[Epoch :: 6, Mini Batch :: 12000] loss: 0.291\n",
      "[Epoch :: 7, Mini Batch ::  2000] loss: 0.260\n",
      "[Epoch :: 7, Mini Batch ::  4000] loss: 0.262\n",
      "[Epoch :: 7, Mini Batch ::  6000] loss: 0.242\n",
      "[Epoch :: 7, Mini Batch ::  8000] loss: 0.283\n",
      "[Epoch :: 7, Mini Batch :: 10000] loss: 0.286\n",
      "[Epoch :: 7, Mini Batch :: 12000] loss: 0.281\n",
      "[Epoch :: 8, Mini Batch ::  2000] loss: 0.265\n",
      "[Epoch :: 8, Mini Batch ::  4000] loss: 0.260\n",
      "[Epoch :: 8, Mini Batch ::  6000] loss: 0.265\n",
      "[Epoch :: 8, Mini Batch ::  8000] loss: 0.282\n",
      "[Epoch :: 8, Mini Batch :: 10000] loss: 0.288\n",
      "[Epoch :: 8, Mini Batch :: 12000] loss: 0.282\n",
      "[Epoch :: 9, Mini Batch ::  2000] loss: 0.254\n",
      "[Epoch :: 9, Mini Batch ::  4000] loss: 0.245\n",
      "[Epoch :: 9, Mini Batch ::  6000] loss: 0.276\n",
      "[Epoch :: 9, Mini Batch ::  8000] loss: 0.278\n",
      "[Epoch :: 9, Mini Batch :: 10000] loss: 0.278\n",
      "[Epoch :: 9, Mini Batch :: 12000] loss: 0.276\n",
      "[Epoch :: 10, Mini Batch ::  2000] loss: 0.243\n",
      "[Epoch :: 10, Mini Batch ::  4000] loss: 0.266\n"
     ]
    },
    {
     "name": "stderr",
     "output_type": "stream",
     "text": [
      "Process Process-124:\n",
      "Process Process-123:\n",
      "Traceback (most recent call last):\n",
      "  File \"/usr/local/lib/python3.5/multiprocessing/process.py\", line 249, in _bootstrap\n",
      "    self.run()\n",
      "  File \"/usr/local/lib/python3.5/multiprocessing/process.py\", line 93, in run\n",
      "    self._target(*self._args, **self._kwargs)\n",
      "  File \"/home/siplab/.local/lib/python3.5/site-packages/torch/utils/data/dataloader.py\", line 34, in _worker_loop\n",
      "    r = index_queue.get()\n",
      "  File \"/usr/local/lib/python3.5/multiprocessing/queues.py\", line 342, in get\n",
      "    with self._rlock:\n",
      "  File \"/usr/local/lib/python3.5/multiprocessing/synchronize.py\", line 96, in __enter__\n",
      "    return self._semlock.__enter__()\n",
      "KeyboardInterrupt\n",
      "Traceback (most recent call last):\n",
      "  File \"/usr/local/lib/python3.5/multiprocessing/process.py\", line 249, in _bootstrap\n",
      "    self.run()\n",
      "  File \"/usr/local/lib/python3.5/multiprocessing/process.py\", line 93, in run\n",
      "    self._target(*self._args, **self._kwargs)\n"
     ]
    },
    {
     "ename": "KeyboardInterrupt",
     "evalue": "",
     "output_type": "error",
     "traceback": [
      "\u001b[0;31m---------------------------------------------------------------------------\u001b[0m",
      "\u001b[0;31mKeyboardInterrupt\u001b[0m                         Traceback (most recent call last)",
      "\u001b[0;32m<ipython-input-20-3854d584fd13>\u001b[0m in \u001b[0;36m<module>\u001b[0;34m()\u001b[0m\n\u001b[0;32m----> 1\u001b[0;31m \u001b[0mlossvsiter_crazy_architecture_with_batch_norm\u001b[0m\u001b[0;34m,\u001b[0m\u001b[0mmodel_crazy_architecture_with_batch_norm\u001b[0m\u001b[0;34m=\u001b[0m\u001b[0mnew_net2\u001b[0m\u001b[0;34m(\u001b[0m\u001b[0;36m0.0005\u001b[0m\u001b[0;34m,\u001b[0m\u001b[0;36m1e-7\u001b[0m\u001b[0;34m,\u001b[0m\u001b[0mmodel_crazy_architecture_with_batch_norm\u001b[0m\u001b[0;34m)\u001b[0m\u001b[0;34m\u001b[0m\u001b[0m\n\u001b[0m",
      "\u001b[0;32m<ipython-input-17-d3fd9f73d6c8>\u001b[0m in \u001b[0;36mnew_net2\u001b[0;34m(lrate, wd, prenet)\u001b[0m\n\u001b[1;32m     54\u001b[0m \u001b[0;34m\u001b[0m\u001b[0m\n\u001b[1;32m     55\u001b[0m             \u001b[0;31m# Take one step of the gradient descent for this epoch !\u001b[0m\u001b[0;34m\u001b[0m\u001b[0;34m\u001b[0m\u001b[0m\n\u001b[0;32m---> 56\u001b[0;31m             \u001b[0moptimizer\u001b[0m\u001b[0;34m.\u001b[0m\u001b[0mstep\u001b[0m\u001b[0;34m(\u001b[0m\u001b[0;34m)\u001b[0m\u001b[0;34m\u001b[0m\u001b[0m\n\u001b[0m\u001b[1;32m     57\u001b[0m \u001b[0;34m\u001b[0m\u001b[0m\n\u001b[1;32m     58\u001b[0m             \u001b[0;31m# print statistics\u001b[0m\u001b[0;34m\u001b[0m\u001b[0;34m\u001b[0m\u001b[0m\n",
      "\u001b[0;32m~/.local/lib/python3.5/site-packages/torch/optim/adam.py\u001b[0m in \u001b[0;36mstep\u001b[0;34m(self, closure)\u001b[0m\n\u001b[1;32m     63\u001b[0m \u001b[0;34m\u001b[0m\u001b[0m\n\u001b[1;32m     64\u001b[0m                 \u001b[0;31m# Decay the first and second moment running average coefficient\u001b[0m\u001b[0;34m\u001b[0m\u001b[0;34m\u001b[0m\u001b[0m\n\u001b[0;32m---> 65\u001b[0;31m                 \u001b[0mexp_avg\u001b[0m\u001b[0;34m.\u001b[0m\u001b[0mmul_\u001b[0m\u001b[0;34m(\u001b[0m\u001b[0mbeta1\u001b[0m\u001b[0;34m)\u001b[0m\u001b[0;34m.\u001b[0m\u001b[0madd_\u001b[0m\u001b[0;34m(\u001b[0m\u001b[0;36m1\u001b[0m \u001b[0;34m-\u001b[0m \u001b[0mbeta1\u001b[0m\u001b[0;34m,\u001b[0m \u001b[0mgrad\u001b[0m\u001b[0;34m)\u001b[0m\u001b[0;34m\u001b[0m\u001b[0m\n\u001b[0m\u001b[1;32m     66\u001b[0m                 \u001b[0mexp_avg_sq\u001b[0m\u001b[0;34m.\u001b[0m\u001b[0mmul_\u001b[0m\u001b[0;34m(\u001b[0m\u001b[0mbeta2\u001b[0m\u001b[0;34m)\u001b[0m\u001b[0;34m.\u001b[0m\u001b[0maddcmul_\u001b[0m\u001b[0;34m(\u001b[0m\u001b[0;36m1\u001b[0m \u001b[0;34m-\u001b[0m \u001b[0mbeta2\u001b[0m\u001b[0;34m,\u001b[0m \u001b[0mgrad\u001b[0m\u001b[0;34m,\u001b[0m \u001b[0mgrad\u001b[0m\u001b[0;34m)\u001b[0m\u001b[0;34m\u001b[0m\u001b[0m\n\u001b[1;32m     67\u001b[0m \u001b[0;34m\u001b[0m\u001b[0m\n",
      "\u001b[0;31mKeyboardInterrupt\u001b[0m: "
     ]
    },
    {
     "name": "stderr",
     "output_type": "stream",
     "text": [
      "  File \"/home/siplab/.local/lib/python3.5/site-packages/torch/utils/data/dataloader.py\", line 34, in _worker_loop\n",
      "    r = index_queue.get()\n",
      "  File \"/usr/local/lib/python3.5/multiprocessing/queues.py\", line 343, in get\n",
      "    res = self._reader.recv_bytes()\n",
      "  File \"/usr/local/lib/python3.5/multiprocessing/connection.py\", line 216, in recv_bytes\n",
      "    buf = self._recv_bytes(maxlength)\n",
      "  File \"/usr/local/lib/python3.5/multiprocessing/connection.py\", line 407, in _recv_bytes\n",
      "    buf = self._recv(4)\n",
      "  File \"/usr/local/lib/python3.5/multiprocessing/connection.py\", line 379, in _recv\n",
      "    chunk = read(handle, remaining)\n",
      "KeyboardInterrupt\n"
     ]
    }
   ],
   "source": [
    "lossvsiter_crazy_architecture_with_batch_norm,model_crazy_architecture_with_batch_norm=new_net2(0.0005,1e-7,model_crazy_architecture_with_batch_norm)"
   ]
  },
  {
   "cell_type": "code",
   "execution_count": 22,
   "metadata": {
    "collapsed": false
   },
   "outputs": [
    {
     "name": "stdout",
     "output_type": "stream",
     "text": [
      "Accuracy of the network on the 10000 test images: 77\n",
      "The network predicted correct for 7748\n"
     ]
    },
    {
     "data": {
      "text/plain": [
       "(77.48, 7748)"
      ]
     },
     "execution_count": 22,
     "metadata": {},
     "output_type": "execute_result"
    }
   ],
   "source": [
    "def test_accuracy(model):\n",
    "    correct = 0\n",
    "    total = 0\n",
    "\n",
    "    for data in testloader:\n",
    "        images, labels = data\n",
    "        images=images.cuda()\n",
    "        labels=labels.cuda()\n",
    "        try:\n",
    "            outputs = model(Variable(images))\n",
    "        except RuntimeError as re:\n",
    "            print(outputs.is_cuda)\n",
    "            print(str(re))\n",
    "            sys.exit()\n",
    "        _, predicted = torch.max(outputs.data, 1)\n",
    "        total += labels.size(0)\n",
    "        correct += (predicted == labels).sum()\n",
    "        accuracy_percentage= 100 * correct / total\n",
    "\n",
    "    print('Accuracy of the network on the 10000 test images: %d' % (accuracy_percentage))\n",
    "    print(\"The network predicted correct for %s\"%(correct))\n",
    "    return accuracy_percentage,correct\n",
    "\n",
    "test_accuracy(model_crazy_architecture_with_batch_norm)"
   ]
  },
  {
   "cell_type": "code",
   "execution_count": 12,
   "metadata": {
    "collapsed": true
   },
   "outputs": [],
   "source": [
    "def train_accuracy(model):\n",
    "    net = model\n",
    "    total=0\n",
    "    correct=0\n",
    "    for i, data in enumerate(trainloader, 0):\n",
    "        images, labels = data\n",
    "        images=images.cuda()\n",
    "        labels=labels.cuda()\n",
    "        try:\n",
    "            outputs = net(Variable(images))\n",
    "        except RuntimeError as re:\n",
    "            print(outputs.is_cuda)\n",
    "            print(str(re))\n",
    "            sys.exit()\n",
    "        _, predicted = torch.max(outputs.data, 1)\n",
    "        total += labels.size(0)\n",
    "        correct += (predicted == labels).sum()\n",
    "        if (i%1000) == 0:\n",
    "            print(i)\n",
    "\n",
    "    print('Accuracy of the network on the 50000 trained images: %d %%' % (\n",
    "        100 * correct / total))"
   ]
  },
  {
   "cell_type": "code",
   "execution_count": 12,
   "metadata": {
    "collapsed": false
   },
   "outputs": [
    {
     "name": "stdout",
     "output_type": "stream",
     "text": [
      "Accuracy of the network on the 10000 test images: 76\n",
      "The network predicted correct for 7606\n"
     ]
    },
    {
     "data": {
      "text/plain": [
       "(76.06, 7606)"
      ]
     },
     "execution_count": 12,
     "metadata": {},
     "output_type": "execute_result"
    }
   ],
   "source": [
    "test_accuracy(model_crazy_architecture_with_batch_norm)"
   ]
  },
  {
   "cell_type": "code",
   "execution_count": 14,
   "metadata": {
    "collapsed": false
   },
   "outputs": [
    {
     "name": "stdout",
     "output_type": "stream",
     "text": [
      "0\n",
      "1000\n",
      "2000\n",
      "3000\n",
      "4000\n",
      "5000\n",
      "6000\n",
      "7000\n",
      "8000\n",
      "9000\n",
      "10000\n",
      "11000\n",
      "12000\n",
      "Accuracy of the network on the 50000 trained images: 84 %\n"
     ]
    }
   ],
   "source": [
    "train_accuracy(model_crazy_architecture_with_batch_norm)"
   ]
  },
  {
   "cell_type": "code",
   "execution_count": 22,
   "metadata": {
    "collapsed": true
   },
   "outputs": [],
   "source": [
    "# It seems the loss will further decrease with more iterations !"
   ]
  }
 ],
 "metadata": {
  "kernelspec": {
   "display_name": "Python 3.5.2",
   "language": "python",
   "name": "python3"
  },
  "language_info": {
   "codemirror_mode": {
    "name": "ipython",
    "version": 3
   },
   "file_extension": ".py",
   "mimetype": "text/x-python",
   "name": "python",
   "nbconvert_exporter": "python",
   "pygments_lexer": "ipython3",
   "version": "3.5.2"
  }
 },
 "nbformat": 4,
 "nbformat_minor": 2
}
