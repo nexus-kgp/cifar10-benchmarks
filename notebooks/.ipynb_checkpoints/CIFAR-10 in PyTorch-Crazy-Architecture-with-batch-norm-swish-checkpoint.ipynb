{
 "cells": [
  {
   "cell_type": "markdown",
   "metadata": {},
   "source": [
    "Conv x 8 + F.C. x 3"
   ]
  },
  {
   "cell_type": "code",
   "execution_count": 1,
   "metadata": {},
   "outputs": [
    {
     "name": "stdout",
     "output_type": "stream",
     "text": [
      "Files already downloaded and verified\n",
      "Files already downloaded and verified\n"
     ]
    }
   ],
   "source": [
    "import torch\n",
    "import torchvision\n",
    "import torchvision.transforms as transforms\n",
    "import numpy as np\n",
    "transform = transforms.Compose(\n",
    "    [transforms.ToTensor(),\n",
    "     transforms.Normalize((0.5, 0.5, 0.5), (0.5, 0.5, 0.5))])\n",
    "trainset = torchvision.datasets.CIFAR10(root='./data', train=True,download=True, transform=transform)\n",
    "trainloader = torch.utils.data.DataLoader(trainset, batch_size=4, shuffle=True, num_workers=2)\n",
    "testset = torchvision.datasets.CIFAR10(root=\"./data\", train=False, download=True, transform=transform)\n",
    "testloader= torch.utils.data.DataLoader(testset, batch_size=4, shuffle=False, num_workers=2)\n",
    "classes=('plane', 'car', 'bird', 'cat','deer', 'dog', 'frog', 'horse', 'ship', 'truck')"
   ]
  },
  {
   "cell_type": "code",
   "execution_count": 6,
   "metadata": {},
   "outputs": [],
   "source": [
    "from torch.autograd import Variable\n",
    "import torch.nn as nn\n",
    "import torch.nn.functional as F\n",
    "\n",
    "\n",
    "class Net(nn.Module):\n",
    "    \n",
    "    def __init__(self):\n",
    "        super(Net, self).__init__()\n",
    "        # 11 Layers : 8 conv layers and 3 fully connected layers !\n",
    "        self.conv1 = nn.Conv2d(3, 8, 3,padding=1)\n",
    "        self.pool = nn.MaxPool2d(2, 2)\n",
    "        self.conv2 = nn.Conv2d(8, 12, 3,padding=1)\n",
    "        self.conv2_bn = nn.BatchNorm2d(12)\n",
    "        self.conv3 = nn.Conv2d(12,20, 3,padding=1)\n",
    "        self.conv3_bn = nn.BatchNorm2d(20)\n",
    "        self.conv4 = nn.Conv2d(20,24, 3,padding=1)\n",
    "        self.conv4_bn = nn.BatchNorm2d(24)\n",
    "        self.conv5 = nn.Conv2d(24,32, 3,padding=1)\n",
    "        self.conv5_bn = nn.BatchNorm2d(32)\n",
    "        self.conv6 = nn.Conv2d(32,48, 3,padding=1)\n",
    "        self.conv6_bn = nn.BatchNorm2d(48)\n",
    "        self.conv7 = nn.Conv2d(48,64, 3,padding=1)\n",
    "        self.conv7_bn = nn.BatchNorm2d(64)\n",
    "        self.conv8 = nn.Conv2d(64,72, 3,padding=1)\n",
    "        self.conv8_bn = nn.BatchNorm2d(72)\n",
    "        self.conv9 = nn.Conv2d(72,80, 3,padding=1)\n",
    "        self.conv9_bn = nn.BatchNorm2d(80)\n",
    "        self.fc1 = nn.Linear(80*4*4, 120)\n",
    "        self.fc1_bn = nn.BatchNorm2d(120)\n",
    "        self.fc2 = nn.Linear(120, 84)\n",
    "        self.fc2_bn = nn.BatchNorm2d(84)\n",
    "        self.fc3 = nn.Linear(84, 10)\n",
    "\n",
    "        \n",
    "    def forward(self, x):\n",
    "        x = F.relu(self.conv1(x))\n",
    "        x = F.relu(self.conv2_bn((self.conv2(x))))\n",
    "        x = self.pool(F.relu(self.conv3_bn((self.conv3(x)))))\n",
    "        x = F.relu(self.conv4_bn((self.conv4(x))))\n",
    "        x = F.relu(self.conv5_bn((self.conv5(x))))\n",
    "        x = self.pool(F.relu(self.conv6_bn((self.conv6(x)))))\n",
    "        x = F.relu(self.conv7_bn((self.conv7(x))))\n",
    "        x = F.relu(self.conv8_bn((self.conv8(x))))\n",
    "        x = self.pool(F.relu(self.conv9_bn((self.conv9(x)))))\n",
    "\n",
    "        x = x.view(-1, 80*4*4)\n",
    "        x = F.relu(self.fc1_bn(self.fc1(x)))\n",
    "        x = F.relu(self.fc2_bn(self.fc2(x)))\n",
    "        x = self.fc3(x)\n",
    "        return x"
   ]
  },
  {
   "cell_type": "code",
   "execution_count": 7,
   "metadata": {
    "collapsed": true
   },
   "outputs": [],
   "source": [
    "# Function to create an instance of the model on CUDA\n",
    "def new_net(lrate,wd):\n",
    "\n",
    "    net = Net().cuda()\n",
    "\n",
    "    # net=Net()\n",
    "\n",
    "    lossvsiter=[]\n",
    "\n",
    "    # To see if the model is on CUDA or not !\n",
    "    if (next(net.parameters()).is_cuda) :\n",
    "        print(\"The model is on CUDA\")\n",
    "    else :\n",
    "        print(\"The model is on CPU\")\n",
    "\n",
    "    # Import the optimizers \n",
    "    import torch.optim as optim\n",
    "\n",
    "    # Declare a loss function\n",
    "    criterion = nn.CrossEntropyLoss()\n",
    "\n",
    "    # Declare an optimizer\n",
    "    optimizer = optim.Adam(net.parameters(),lr=lrate,weight_decay=wd)\n",
    "\n",
    "    #No of iterations !\n",
    "    iterations = 25\n",
    "\n",
    "\n",
    "    for epoch in range(iterations):  # loop over the dataset multiple times\n",
    "\n",
    "        # Reset the loss for the current epoch !\n",
    "        running_loss = 0.0\n",
    "\n",
    "        # Loop over all the mini-batches therea are 12500 mini batches of size 4 each !\n",
    "        for i, data in enumerate(trainloader, 0):\n",
    "            # get the inputs\n",
    "            inputs, labels = data\n",
    "\n",
    "            # wrap them in Variable & if possible make them cuda tensors\n",
    "            inputs, labels = Variable(inputs.cuda()), Variable(labels.cuda())\n",
    "\n",
    "            # zero the parameter gradients for the current epoch\n",
    "            optimizer.zero_grad()\n",
    "\n",
    "            # forward + backward + optimize\n",
    "\n",
    "            # forward\n",
    "            outputs = net(inputs)\n",
    "            loss = criterion(outputs, labels)\n",
    "\n",
    "            # Calculate gradients of whatever variable set to req_gardients = True\n",
    "            loss.backward()\n",
    "\n",
    "            # Take one step of the gradient descent for this epoch ! \n",
    "            optimizer.step()\n",
    "\n",
    "            # print statistics\n",
    "            running_loss += loss.data[0]\n",
    "            if i % 2000 == 1999:    # print every 2000 mini-batches\n",
    "                print('[Epoch :: %d, Mini Batch :: %5d] loss: %.3f' %\n",
    "                      (epoch + 1, i + 1, running_loss / 2000))\n",
    "                lossvsiter.append(running_loss / 2000)\n",
    "                running_loss = 0.0\n",
    "\n",
    "\n",
    "    print('Finished Training')\n",
    "    return lossvsiter,net"
   ]
  },
  {
   "cell_type": "code",
   "execution_count": 8,
   "metadata": {
    "collapsed": true
   },
   "outputs": [],
   "source": [
    "learnin_rate_sample=[0.0005,0.0007,0.001,0.0001,]\n",
    "weight_decay_smaple=[1e-6,1e-7,1e-5,1e-4,1e-3,1e-2]"
   ]
  },
  {
   "cell_type": "code",
   "execution_count": 9,
   "metadata": {},
   "outputs": [
    {
     "name": "stdout",
     "output_type": "stream",
     "text": [
      "The model is on CUDA\n",
      "[Epoch :: 1, Mini Batch ::  2000] loss: 2.093\n",
      "[Epoch :: 1, Mini Batch ::  4000] loss: 1.880\n",
      "[Epoch :: 1, Mini Batch ::  6000] loss: 1.776\n",
      "[Epoch :: 1, Mini Batch ::  8000] loss: 1.671\n",
      "[Epoch :: 1, Mini Batch :: 10000] loss: 1.593\n",
      "[Epoch :: 1, Mini Batch :: 12000] loss: 1.533\n",
      "[Epoch :: 2, Mini Batch ::  2000] loss: 1.448\n",
      "[Epoch :: 2, Mini Batch ::  4000] loss: 1.417\n",
      "[Epoch :: 2, Mini Batch ::  6000] loss: 1.369\n",
      "[Epoch :: 2, Mini Batch ::  8000] loss: 1.339\n",
      "[Epoch :: 2, Mini Batch :: 10000] loss: 1.332\n",
      "[Epoch :: 2, Mini Batch :: 12000] loss: 1.267\n",
      "[Epoch :: 3, Mini Batch ::  2000] loss: 1.235\n",
      "[Epoch :: 3, Mini Batch ::  4000] loss: 1.205\n",
      "[Epoch :: 3, Mini Batch ::  6000] loss: 1.197\n",
      "[Epoch :: 3, Mini Batch ::  8000] loss: 1.195\n",
      "[Epoch :: 3, Mini Batch :: 10000] loss: 1.168\n",
      "[Epoch :: 3, Mini Batch :: 12000] loss: 1.148\n",
      "[Epoch :: 4, Mini Batch ::  2000] loss: 1.090\n",
      "[Epoch :: 4, Mini Batch ::  4000] loss: 1.089\n",
      "[Epoch :: 4, Mini Batch ::  6000] loss: 1.114\n",
      "[Epoch :: 4, Mini Batch ::  8000] loss: 1.074\n",
      "[Epoch :: 4, Mini Batch :: 10000] loss: 1.082\n",
      "[Epoch :: 4, Mini Batch :: 12000] loss: 1.071\n",
      "[Epoch :: 5, Mini Batch ::  2000] loss: 1.008\n",
      "[Epoch :: 5, Mini Batch ::  4000] loss: 1.026\n",
      "[Epoch :: 5, Mini Batch ::  6000] loss: 1.004\n",
      "[Epoch :: 5, Mini Batch ::  8000] loss: 1.022\n",
      "[Epoch :: 5, Mini Batch :: 10000] loss: 1.009\n",
      "[Epoch :: 5, Mini Batch :: 12000] loss: 0.990\n",
      "[Epoch :: 6, Mini Batch ::  2000] loss: 0.972\n",
      "[Epoch :: 6, Mini Batch ::  4000] loss: 0.954\n",
      "[Epoch :: 6, Mini Batch ::  6000] loss: 0.940\n",
      "[Epoch :: 6, Mini Batch ::  8000] loss: 0.936\n",
      "[Epoch :: 6, Mini Batch :: 10000] loss: 0.969\n",
      "[Epoch :: 6, Mini Batch :: 12000] loss: 0.929\n",
      "[Epoch :: 7, Mini Batch ::  2000] loss: 0.914\n",
      "[Epoch :: 7, Mini Batch ::  4000] loss: 0.895\n",
      "[Epoch :: 7, Mini Batch ::  6000] loss: 0.899\n",
      "[Epoch :: 7, Mini Batch ::  8000] loss: 0.890\n",
      "[Epoch :: 7, Mini Batch :: 10000] loss: 0.872\n",
      "[Epoch :: 7, Mini Batch :: 12000] loss: 0.908\n",
      "[Epoch :: 8, Mini Batch ::  2000] loss: 0.854\n",
      "[Epoch :: 8, Mini Batch ::  4000] loss: 0.857\n",
      "[Epoch :: 8, Mini Batch ::  6000] loss: 0.860\n",
      "[Epoch :: 8, Mini Batch ::  8000] loss: 0.864\n",
      "[Epoch :: 8, Mini Batch :: 10000] loss: 0.879\n",
      "[Epoch :: 8, Mini Batch :: 12000] loss: 0.848\n",
      "[Epoch :: 9, Mini Batch ::  2000] loss: 0.807\n",
      "[Epoch :: 9, Mini Batch ::  4000] loss: 0.821\n",
      "[Epoch :: 9, Mini Batch ::  6000] loss: 0.804\n",
      "[Epoch :: 9, Mini Batch ::  8000] loss: 0.832\n",
      "[Epoch :: 9, Mini Batch :: 10000] loss: 0.798\n",
      "[Epoch :: 9, Mini Batch :: 12000] loss: 0.817\n",
      "[Epoch :: 10, Mini Batch ::  2000] loss: 0.782\n",
      "[Epoch :: 10, Mini Batch ::  4000] loss: 0.783\n",
      "[Epoch :: 10, Mini Batch ::  6000] loss: 0.777\n",
      "[Epoch :: 10, Mini Batch ::  8000] loss: 0.806\n",
      "[Epoch :: 10, Mini Batch :: 10000] loss: 0.777\n",
      "[Epoch :: 10, Mini Batch :: 12000] loss: 0.791\n",
      "[Epoch :: 11, Mini Batch ::  2000] loss: 0.747\n",
      "[Epoch :: 11, Mini Batch ::  4000] loss: 0.750\n",
      "[Epoch :: 11, Mini Batch ::  6000] loss: 0.739\n",
      "[Epoch :: 11, Mini Batch ::  8000] loss: 0.763\n",
      "[Epoch :: 11, Mini Batch :: 10000] loss: 0.763\n",
      "[Epoch :: 11, Mini Batch :: 12000] loss: 0.752\n",
      "[Epoch :: 12, Mini Batch ::  2000] loss: 0.721\n",
      "[Epoch :: 12, Mini Batch ::  4000] loss: 0.738\n",
      "[Epoch :: 12, Mini Batch ::  6000] loss: 0.740\n",
      "[Epoch :: 12, Mini Batch ::  8000] loss: 0.743\n",
      "[Epoch :: 12, Mini Batch :: 10000] loss: 0.718\n",
      "[Epoch :: 12, Mini Batch :: 12000] loss: 0.712\n",
      "[Epoch :: 13, Mini Batch ::  2000] loss: 0.690\n",
      "[Epoch :: 13, Mini Batch ::  4000] loss: 0.708\n",
      "[Epoch :: 13, Mini Batch ::  6000] loss: 0.689\n",
      "[Epoch :: 13, Mini Batch ::  8000] loss: 0.709\n",
      "[Epoch :: 13, Mini Batch :: 10000] loss: 0.695\n",
      "[Epoch :: 13, Mini Batch :: 12000] loss: 0.715\n",
      "[Epoch :: 14, Mini Batch ::  2000] loss: 0.679\n",
      "[Epoch :: 14, Mini Batch ::  4000] loss: 0.669\n",
      "[Epoch :: 14, Mini Batch ::  6000] loss: 0.667\n",
      "[Epoch :: 14, Mini Batch ::  8000] loss: 0.674\n",
      "[Epoch :: 14, Mini Batch :: 10000] loss: 0.690\n",
      "[Epoch :: 14, Mini Batch :: 12000] loss: 0.696\n",
      "[Epoch :: 15, Mini Batch ::  2000] loss: 0.659\n",
      "[Epoch :: 15, Mini Batch ::  4000] loss: 0.644\n",
      "[Epoch :: 15, Mini Batch ::  6000] loss: 0.645\n",
      "[Epoch :: 15, Mini Batch ::  8000] loss: 0.686\n",
      "[Epoch :: 15, Mini Batch :: 10000] loss: 0.640\n",
      "[Epoch :: 15, Mini Batch :: 12000] loss: 0.680\n",
      "[Epoch :: 16, Mini Batch ::  2000] loss: 0.637\n",
      "[Epoch :: 16, Mini Batch ::  4000] loss: 0.604\n",
      "[Epoch :: 16, Mini Batch ::  6000] loss: 0.649\n",
      "[Epoch :: 16, Mini Batch ::  8000] loss: 0.622\n",
      "[Epoch :: 16, Mini Batch :: 10000] loss: 0.647\n",
      "[Epoch :: 16, Mini Batch :: 12000] loss: 0.672\n",
      "[Epoch :: 17, Mini Batch ::  2000] loss: 0.605\n",
      "[Epoch :: 17, Mini Batch ::  4000] loss: 0.620\n",
      "[Epoch :: 17, Mini Batch ::  6000] loss: 0.629\n",
      "[Epoch :: 17, Mini Batch ::  8000] loss: 0.622\n",
      "[Epoch :: 17, Mini Batch :: 10000] loss: 0.633\n",
      "[Epoch :: 17, Mini Batch :: 12000] loss: 0.611\n",
      "[Epoch :: 18, Mini Batch ::  2000] loss: 0.598\n",
      "[Epoch :: 18, Mini Batch ::  4000] loss: 0.599\n",
      "[Epoch :: 18, Mini Batch ::  6000] loss: 0.624\n",
      "[Epoch :: 18, Mini Batch ::  8000] loss: 0.594\n",
      "[Epoch :: 18, Mini Batch :: 10000] loss: 0.617\n",
      "[Epoch :: 18, Mini Batch :: 12000] loss: 0.607\n",
      "[Epoch :: 19, Mini Batch ::  2000] loss: 0.567\n",
      "[Epoch :: 19, Mini Batch ::  4000] loss: 0.585\n",
      "[Epoch :: 19, Mini Batch ::  6000] loss: 0.606\n",
      "[Epoch :: 19, Mini Batch ::  8000] loss: 0.605\n",
      "[Epoch :: 19, Mini Batch :: 10000] loss: 0.596\n",
      "[Epoch :: 19, Mini Batch :: 12000] loss: 0.599\n",
      "[Epoch :: 20, Mini Batch ::  2000] loss: 0.545\n",
      "[Epoch :: 20, Mini Batch ::  4000] loss: 0.569\n",
      "[Epoch :: 20, Mini Batch ::  6000] loss: 0.579\n",
      "[Epoch :: 20, Mini Batch ::  8000] loss: 0.570\n",
      "[Epoch :: 20, Mini Batch :: 10000] loss: 0.603\n",
      "[Epoch :: 20, Mini Batch :: 12000] loss: 0.588\n",
      "[Epoch :: 21, Mini Batch ::  2000] loss: 0.539\n",
      "[Epoch :: 21, Mini Batch ::  4000] loss: 0.557\n",
      "[Epoch :: 21, Mini Batch ::  6000] loss: 0.540\n",
      "[Epoch :: 21, Mini Batch ::  8000] loss: 0.577\n",
      "[Epoch :: 21, Mini Batch :: 10000] loss: 0.566\n",
      "[Epoch :: 21, Mini Batch :: 12000] loss: 0.563\n",
      "[Epoch :: 22, Mini Batch ::  2000] loss: 0.526\n",
      "[Epoch :: 22, Mini Batch ::  4000] loss: 0.528\n",
      "[Epoch :: 22, Mini Batch ::  6000] loss: 0.558\n",
      "[Epoch :: 22, Mini Batch ::  8000] loss: 0.556\n",
      "[Epoch :: 22, Mini Batch :: 10000] loss: 0.569\n",
      "[Epoch :: 22, Mini Batch :: 12000] loss: 0.562\n",
      "[Epoch :: 23, Mini Batch ::  2000] loss: 0.488\n",
      "[Epoch :: 23, Mini Batch ::  4000] loss: 0.520\n",
      "[Epoch :: 23, Mini Batch ::  6000] loss: 0.541\n",
      "[Epoch :: 23, Mini Batch ::  8000] loss: 0.554\n",
      "[Epoch :: 23, Mini Batch :: 10000] loss: 0.545\n",
      "[Epoch :: 23, Mini Batch :: 12000] loss: 0.558\n",
      "[Epoch :: 24, Mini Batch ::  2000] loss: 0.498\n",
      "[Epoch :: 24, Mini Batch ::  4000] loss: 0.519\n",
      "[Epoch :: 24, Mini Batch ::  6000] loss: 0.525\n",
      "[Epoch :: 24, Mini Batch ::  8000] loss: 0.525\n",
      "[Epoch :: 24, Mini Batch :: 10000] loss: 0.524\n",
      "[Epoch :: 24, Mini Batch :: 12000] loss: 0.531\n",
      "[Epoch :: 25, Mini Batch ::  2000] loss: 0.514\n",
      "[Epoch :: 25, Mini Batch ::  4000] loss: 0.505\n",
      "[Epoch :: 25, Mini Batch ::  6000] loss: 0.505\n",
      "[Epoch :: 25, Mini Batch ::  8000] loss: 0.498\n",
      "[Epoch :: 25, Mini Batch :: 10000] loss: 0.523\n",
      "[Epoch :: 25, Mini Batch :: 12000] loss: 0.532\n",
      "Finished Training\n"
     ]
    }
   ],
   "source": [
    "lossvsiter_crazy_architecture_with_batch_norm,model_crazy_architecture_with_batch_norm=new_net(0.0005,1e-7)"
   ]
  },
  {
   "cell_type": "code",
   "execution_count": 10,
   "metadata": {
    "collapsed": true
   },
   "outputs": [],
   "source": [
    "import pickle\n",
    "\n",
    "with open(\"./results/lossvsiter_crazy_architecture_with_batch_norm.pkl\",\"wb\") as f:\n",
    "    pickle.dump(lossvsiter_crazy_architecture_with_batch_norm,f)\n",
    "    \n",
    "with open(\"./results/model_crazy_architecture_with_batch_norm.pkl\",\"wb\") as f:\n",
    "    pickle.dump(model_crazy_architecture_with_batch_norm,f)"
   ]
  },
  {
   "cell_type": "code",
   "execution_count": 11,
   "metadata": {
    "collapsed": true
   },
   "outputs": [],
   "source": [
    "def test_accuracy(model):\n",
    "    correct = 0\n",
    "    total = 0\n",
    "\n",
    "    for data in testloader:\n",
    "        images, labels = data\n",
    "        images=images.cuda()\n",
    "        labels=labels.cuda()\n",
    "        try:\n",
    "            outputs = model(Variable(images))\n",
    "        except RuntimeError as re:\n",
    "            print(outputs.is_cuda)\n",
    "            print(str(re))\n",
    "            sys.exit()\n",
    "        _, predicted = torch.max(outputs.data, 1)\n",
    "        total += labels.size(0)\n",
    "        correct += (predicted == labels).sum()\n",
    "        accuracy_percentage= 100 * correct / total\n",
    "\n",
    "    print('Accuracy of the network on the 10000 test images: %d' % (accuracy_percentage))\n",
    "    print(\"The network predicted correct for %s\"%(correct))\n",
    "    return accuracy_percentage,correct"
   ]
  },
  {
   "cell_type": "code",
   "execution_count": 12,
   "metadata": {
    "collapsed": true
   },
   "outputs": [],
   "source": [
    "def train_accuracy(model):\n",
    "    net = model\n",
    "    total=0\n",
    "    correct=0\n",
    "    for i, data in enumerate(trainloader, 0):\n",
    "        images, labels = data\n",
    "        images=images.cuda()\n",
    "        labels=labels.cuda()\n",
    "        try:\n",
    "            outputs = net(Variable(images))\n",
    "        except RuntimeError as re:\n",
    "            print(outputs.is_cuda)\n",
    "            print(str(re))\n",
    "            sys.exit()\n",
    "        _, predicted = torch.max(outputs.data, 1)\n",
    "        total += labels.size(0)\n",
    "        correct += (predicted == labels).sum()\n",
    "        if (i%1000) == 0:\n",
    "            print(i)\n",
    "\n",
    "    print('Accuracy of the network on the 50000 trained images: %d %%' % (\n",
    "        100 * correct / total))"
   ]
  },
  {
   "cell_type": "code",
   "execution_count": 13,
   "metadata": {},
   "outputs": [
    {
     "name": "stdout",
     "output_type": "stream",
     "text": [
      "Accuracy of the network on the 10000 test images: 75\n",
      "The network predicted correct for 7538\n"
     ]
    },
    {
     "data": {
      "text/plain": [
       "(75.38, 7538)"
      ]
     },
     "execution_count": 13,
     "metadata": {},
     "output_type": "execute_result"
    }
   ],
   "source": [
    "test_accuracy(model_crazy_architecture_with_batch_norm)"
   ]
  },
  {
   "cell_type": "code",
   "execution_count": 14,
   "metadata": {},
   "outputs": [
    {
     "name": "stdout",
     "output_type": "stream",
     "text": [
      "0\n",
      "1000\n",
      "2000\n",
      "3000\n",
      "4000\n",
      "5000\n",
      "6000\n",
      "7000\n",
      "8000\n",
      "9000\n",
      "10000\n",
      "11000\n",
      "12000\n",
      "Accuracy of the network on the 50000 trained images: 84 %\n"
     ]
    }
   ],
   "source": [
    "train_accuracy(model_crazy_architecture_with_batch_norm)"
   ]
  },
  {
   "cell_type": "code",
   "execution_count": 16,
   "metadata": {},
   "outputs": [
    {
     "name": "stdout",
     "output_type": "stream",
     "text": [
      "Accuracy of plane : 79 %\n",
      "Accuracy of   car : 84 %\n",
      "Accuracy of  bird : 59 %\n",
      "Accuracy of   cat : 57 %\n",
      "Accuracy of  deer : 73 %\n",
      "Accuracy of   dog : 68 %\n",
      "Accuracy of  frog : 83 %\n",
      "Accuracy of horse : 79 %\n",
      "Accuracy of  ship : 83 %\n",
      "Accuracy of truck : 86 %\n"
     ]
    }
   ],
   "source": [
    "net=model_crazy_architecture_with_batch_norm\n",
    "class_correct = list(0. for i in range(10))\n",
    "class_total = list(0. for i in range(10))\n",
    "for data in testloader:\n",
    "    images, labels = data\n",
    "    images=images.cuda()\n",
    "    labels=labels.cuda()\n",
    "    outputs = net(Variable(images))\n",
    "    _, predicted = torch.max(outputs.data, 1)\n",
    "    c = (predicted == labels).squeeze()\n",
    "    for i in range(4):\n",
    "        label = labels[i]\n",
    "        class_correct[label] += c[i]\n",
    "        class_total[label] += 1\n",
    "\n",
    "\n",
    "for i in range(10):\n",
    "    print('Accuracy of %5s : %2d %%' % (\n",
    "        classes[i], 100 * class_correct[i] / class_total[i]))"
   ]
  },
  {
   "cell_type": "code",
   "execution_count": 17,
   "metadata": {
    "collapsed": true
   },
   "outputs": [],
   "source": [
    "%matplotlib inline"
   ]
  },
  {
   "cell_type": "code",
   "execution_count": 19,
   "metadata": {},
   "outputs": [
    {
     "data": {
      "image/png": "[encoded data removed]",
      "text/plain": [
       "<matplotlib.figure.Figure at 0x7f8e749a3898>"
      ]
     },
     "metadata": {},
     "output_type": "display_data"
    }
   ],
   "source": [
    "import matplotlib.pyplot as plt\n",
    "plt.plot(lossvsiter_crazy_architecture_with_batch_norm)\n",
    "plt.ylabel('loss')\n",
    "plt.xlabel('every 2000th mini-batch')\n",
    "plt.show()"
   ]
  },
  {
   "cell_type": "code",
   "execution_count": 20,
   "metadata": {
    "collapsed": true
   },
   "outputs": [],
   "source": [
    "# Lets save the model !!"
   ]
  },
  {
   "cell_type": "code",
   "execution_count": 21,
   "metadata": {},
   "outputs": [],
   "source": [
    "torch.save(model_crazy_architecture_with_batch_norm.state_dict(),\"./models/model_crazy_architecture_with_batch_norm\")"
   ]
  },
  {
   "cell_type": "code",
   "execution_count": 22,
   "metadata": {
    "collapsed": true
   },
   "outputs": [],
   "source": [
    "# It seems the loss will further decrease with more iterations !"
   ]
  },
  {
   "cell_type": "code",
   "execution_count": 23,
   "metadata": {
    "scrolled": false
   },
   "outputs": [
    {
     "name": "stdout",
     "output_type": "stream",
     "text": [
      "The model is on CUDA\n",
      "[Epoch :: 1, Mini Batch ::  2000] loss: 0.469\n",
      "[Epoch :: 1, Mini Batch ::  4000] loss: 0.493\n",
      "[Epoch :: 1, Mini Batch ::  6000] loss: 0.515\n",
      "[Epoch :: 1, Mini Batch ::  8000] loss: 0.510\n",
      "[Epoch :: 1, Mini Batch :: 10000] loss: 0.498\n",
      "[Epoch :: 1, Mini Batch :: 12000] loss: 0.500\n",
      "[Epoch :: 2, Mini Batch ::  2000] loss: 0.462\n",
      "[Epoch :: 2, Mini Batch ::  4000] loss: 0.462\n",
      "[Epoch :: 2, Mini Batch ::  6000] loss: 0.483\n",
      "[Epoch :: 2, Mini Batch ::  8000] loss: 0.500\n",
      "[Epoch :: 2, Mini Batch :: 10000] loss: 0.493\n",
      "[Epoch :: 2, Mini Batch :: 12000] loss: 0.495\n",
      "[Epoch :: 3, Mini Batch ::  2000] loss: 0.456\n",
      "[Epoch :: 3, Mini Batch ::  4000] loss: 0.466\n",
      "[Epoch :: 3, Mini Batch ::  6000] loss: 0.477\n",
      "[Epoch :: 3, Mini Batch ::  8000] loss: 0.477\n",
      "[Epoch :: 3, Mini Batch :: 10000] loss: 0.486\n",
      "[Epoch :: 3, Mini Batch :: 12000] loss: 0.490\n",
      "[Epoch :: 4, Mini Batch ::  2000] loss: 0.438\n",
      "[Epoch :: 4, Mini Batch ::  4000] loss: 0.448\n",
      "[Epoch :: 4, Mini Batch ::  6000] loss: 0.475\n",
      "[Epoch :: 4, Mini Batch ::  8000] loss: 0.462\n",
      "[Epoch :: 4, Mini Batch :: 10000] loss: 0.476\n",
      "[Epoch :: 4, Mini Batch :: 12000] loss: 0.454\n",
      "[Epoch :: 5, Mini Batch ::  2000] loss: 0.433\n",
      "[Epoch :: 5, Mini Batch ::  4000] loss: 0.449\n",
      "[Epoch :: 5, Mini Batch ::  6000] loss: 0.452\n",
      "[Epoch :: 5, Mini Batch ::  8000] loss: 0.453\n",
      "[Epoch :: 5, Mini Batch :: 10000] loss: 0.451\n",
      "[Epoch :: 5, Mini Batch :: 12000] loss: 0.469\n",
      "[Epoch :: 6, Mini Batch ::  2000] loss: 0.429\n",
      "[Epoch :: 6, Mini Batch ::  4000] loss: 0.417\n",
      "[Epoch :: 6, Mini Batch ::  6000] loss: 0.442\n",
      "[Epoch :: 6, Mini Batch ::  8000] loss: 0.463\n",
      "[Epoch :: 6, Mini Batch :: 10000] loss: 0.446\n",
      "[Epoch :: 6, Mini Batch :: 12000] loss: 0.451\n",
      "[Epoch :: 7, Mini Batch ::  2000] loss: 0.405\n",
      "[Epoch :: 7, Mini Batch ::  4000] loss: 0.428\n",
      "[Epoch :: 7, Mini Batch ::  6000] loss: 0.415\n",
      "[Epoch :: 7, Mini Batch ::  8000] loss: 0.438\n",
      "[Epoch :: 7, Mini Batch :: 10000] loss: 0.443\n",
      "[Epoch :: 7, Mini Batch :: 12000] loss: 0.452\n",
      "[Epoch :: 8, Mini Batch ::  2000] loss: 0.408\n",
      "[Epoch :: 8, Mini Batch ::  4000] loss: 0.425\n",
      "[Epoch :: 8, Mini Batch ::  6000] loss: 0.422\n",
      "[Epoch :: 8, Mini Batch ::  8000] loss: 0.449\n",
      "[Epoch :: 8, Mini Batch :: 10000] loss: 0.437\n",
      "[Epoch :: 8, Mini Batch :: 12000] loss: 0.429\n",
      "[Epoch :: 9, Mini Batch ::  2000] loss: 0.410\n",
      "[Epoch :: 9, Mini Batch ::  4000] loss: 0.398\n",
      "[Epoch :: 9, Mini Batch ::  6000] loss: 0.406\n",
      "[Epoch :: 9, Mini Batch ::  8000] loss: 0.419\n",
      "[Epoch :: 9, Mini Batch :: 10000] loss: 0.436\n",
      "[Epoch :: 9, Mini Batch :: 12000] loss: 0.432\n",
      "[Epoch :: 10, Mini Batch ::  2000] loss: 0.386\n",
      "[Epoch :: 10, Mini Batch ::  4000] loss: 0.404\n",
      "[Epoch :: 10, Mini Batch ::  6000] loss: 0.418\n",
      "[Epoch :: 10, Mini Batch ::  8000] loss: 0.439\n",
      "[Epoch :: 10, Mini Batch :: 10000] loss: 0.423\n",
      "[Epoch :: 10, Mini Batch :: 12000] loss: 0.409\n",
      "[Epoch :: 11, Mini Batch ::  2000] loss: 0.403\n",
      "[Epoch :: 11, Mini Batch ::  4000] loss: 0.397\n",
      "[Epoch :: 11, Mini Batch ::  6000] loss: 0.380\n",
      "[Epoch :: 11, Mini Batch ::  8000] loss: 0.417\n",
      "[Epoch :: 11, Mini Batch :: 10000] loss: 0.390\n",
      "[Epoch :: 11, Mini Batch :: 12000] loss: 0.415\n",
      "[Epoch :: 12, Mini Batch ::  2000] loss: 0.376\n",
      "[Epoch :: 12, Mini Batch ::  4000] loss: 0.393\n",
      "[Epoch :: 12, Mini Batch ::  6000] loss: 0.394\n",
      "[Epoch :: 12, Mini Batch ::  8000] loss: 0.397\n",
      "[Epoch :: 12, Mini Batch :: 10000] loss: 0.396\n",
      "[Epoch :: 12, Mini Batch :: 12000] loss: 0.414\n",
      "[Epoch :: 13, Mini Batch ::  2000] loss: 0.393\n",
      "[Epoch :: 13, Mini Batch ::  4000] loss: 0.357\n",
      "[Epoch :: 13, Mini Batch ::  6000] loss: 0.403\n",
      "[Epoch :: 13, Mini Batch ::  8000] loss: 0.371\n",
      "[Epoch :: 13, Mini Batch :: 10000] loss: 0.371\n",
      "[Epoch :: 13, Mini Batch :: 12000] loss: 0.413\n",
      "[Epoch :: 14, Mini Batch ::  2000] loss: 0.348\n",
      "[Epoch :: 14, Mini Batch ::  4000] loss: 0.374\n",
      "[Epoch :: 14, Mini Batch ::  6000] loss: 0.366\n",
      "[Epoch :: 14, Mini Batch ::  8000] loss: 0.376\n",
      "[Epoch :: 14, Mini Batch :: 10000] loss: 0.384\n",
      "[Epoch :: 14, Mini Batch :: 12000] loss: 0.399\n",
      "[Epoch :: 15, Mini Batch ::  2000] loss: 0.361\n",
      "[Epoch :: 15, Mini Batch ::  4000] loss: 0.331\n",
      "[Epoch :: 15, Mini Batch ::  6000] loss: 0.365\n",
      "[Epoch :: 15, Mini Batch ::  8000] loss: 0.378\n",
      "[Epoch :: 15, Mini Batch :: 10000] loss: 0.366\n",
      "[Epoch :: 15, Mini Batch :: 12000] loss: 0.370\n",
      "[Epoch :: 16, Mini Batch ::  2000] loss: 0.353\n",
      "[Epoch :: 16, Mini Batch ::  4000] loss: 0.344\n",
      "[Epoch :: 16, Mini Batch ::  6000] loss: 0.361\n",
      "[Epoch :: 16, Mini Batch ::  8000] loss: 0.373\n",
      "[Epoch :: 16, Mini Batch :: 10000] loss: 0.379\n",
      "[Epoch :: 16, Mini Batch :: 12000] loss: 0.362\n",
      "[Epoch :: 17, Mini Batch ::  2000] loss: 0.336\n",
      "[Epoch :: 17, Mini Batch ::  4000] loss: 0.346\n",
      "[Epoch :: 17, Mini Batch ::  6000] loss: 0.364\n",
      "[Epoch :: 17, Mini Batch ::  8000] loss: 0.371\n",
      "[Epoch :: 17, Mini Batch :: 10000] loss: 0.373\n",
      "[Epoch :: 17, Mini Batch :: 12000] loss: 0.369\n",
      "[Epoch :: 18, Mini Batch ::  2000] loss: 0.336\n",
      "[Epoch :: 18, Mini Batch ::  4000] loss: 0.333\n",
      "[Epoch :: 18, Mini Batch ::  6000] loss: 0.357\n",
      "[Epoch :: 18, Mini Batch ::  8000] loss: 0.346\n",
      "[Epoch :: 18, Mini Batch :: 10000] loss: 0.371\n",
      "[Epoch :: 18, Mini Batch :: 12000] loss: 0.359\n",
      "[Epoch :: 19, Mini Batch ::  2000] loss: 0.332\n",
      "[Epoch :: 19, Mini Batch ::  4000] loss: 0.344\n",
      "[Epoch :: 19, Mini Batch ::  6000] loss: 0.347\n",
      "[Epoch :: 19, Mini Batch ::  8000] loss: 0.339\n",
      "[Epoch :: 19, Mini Batch :: 10000] loss: 0.338\n",
      "[Epoch :: 19, Mini Batch :: 12000] loss: 0.345\n",
      "[Epoch :: 20, Mini Batch ::  2000] loss: 0.323\n",
      "[Epoch :: 20, Mini Batch ::  4000] loss: 0.334\n",
      "[Epoch :: 20, Mini Batch ::  6000] loss: 0.330\n",
      "[Epoch :: 20, Mini Batch ::  8000] loss: 0.341\n",
      "[Epoch :: 20, Mini Batch :: 10000] loss: 0.347\n",
      "[Epoch :: 20, Mini Batch :: 12000] loss: 0.364\n",
      "[Epoch :: 21, Mini Batch ::  2000] loss: 0.291\n",
      "[Epoch :: 21, Mini Batch ::  4000] loss: 0.314\n",
      "[Epoch :: 21, Mini Batch ::  6000] loss: 0.315\n",
      "[Epoch :: 21, Mini Batch ::  8000] loss: 0.354\n",
      "[Epoch :: 21, Mini Batch :: 10000] loss: 0.330\n",
      "[Epoch :: 21, Mini Batch :: 12000] loss: 0.329\n",
      "[Epoch :: 22, Mini Batch ::  2000] loss: 0.322\n",
      "[Epoch :: 22, Mini Batch ::  4000] loss: 0.307\n",
      "[Epoch :: 22, Mini Batch ::  6000] loss: 0.336\n",
      "[Epoch :: 22, Mini Batch ::  8000] loss: 0.339\n",
      "[Epoch :: 22, Mini Batch :: 10000] loss: 0.335\n",
      "[Epoch :: 22, Mini Batch :: 12000] loss: 0.358\n",
      "[Epoch :: 23, Mini Batch ::  2000] loss: 0.296\n",
      "[Epoch :: 23, Mini Batch ::  4000] loss: 0.303\n",
      "[Epoch :: 23, Mini Batch ::  6000] loss: 0.313\n",
      "[Epoch :: 23, Mini Batch ::  8000] loss: 0.319\n",
      "[Epoch :: 23, Mini Batch :: 10000] loss: 0.331\n",
      "[Epoch :: 23, Mini Batch :: 12000] loss: 0.310\n",
      "[Epoch :: 24, Mini Batch ::  2000] loss: 0.284\n",
      "[Epoch :: 24, Mini Batch ::  4000] loss: 0.298\n",
      "[Epoch :: 24, Mini Batch ::  6000] loss: 0.316\n",
      "[Epoch :: 24, Mini Batch ::  8000] loss: 0.330\n",
      "[Epoch :: 24, Mini Batch :: 10000] loss: 0.318\n",
      "[Epoch :: 24, Mini Batch :: 12000] loss: 0.301\n",
      "[Epoch :: 25, Mini Batch ::  2000] loss: 0.303\n",
      "[Epoch :: 25, Mini Batch ::  4000] loss: 0.321\n",
      "[Epoch :: 25, Mini Batch ::  6000] loss: 0.315\n",
      "[Epoch :: 25, Mini Batch ::  8000] loss: 0.317\n",
      "[Epoch :: 25, Mini Batch :: 10000] loss: 0.330\n",
      "[Epoch :: 25, Mini Batch :: 12000] loss: 0.306\n",
      "Finished Training\n"
     ]
    }
   ],
   "source": [
    "net=model_crazy_architecture_with_batch_norm\n",
    "lossvsiter=lossvsiter_crazy_architecture_with_batch_norm\n",
    "# To see if the model is on CUDA or not !\n",
    "if (next(net.parameters()).is_cuda) :\n",
    "    print(\"The model is on CUDA\")\n",
    "else :\n",
    "    print(\"The model is on CPU\")\n",
    "\n",
    "# Import the optimizers \n",
    "import torch.optim as optim\n",
    "\n",
    "# Declare a loss function\n",
    "criterion = nn.CrossEntropyLoss()\n",
    "\n",
    "# Declare an optimizer\n",
    "optimizer = optim.Adam(net.parameters(),lr=0.0005,weight_decay=1e-7)\n",
    "\n",
    "#No of iterations !\n",
    "iterations = 25\n",
    "\n",
    "\n",
    "for epoch in range(iterations):  # loop over the dataset multiple times\n",
    "\n",
    "    # Reset the loss for the current epoch !\n",
    "    running_loss = 0.0\n",
    "\n",
    "    # Loop over all the mini-batches therea are 12500 mini batches of size 4 each !\n",
    "    for i, data in enumerate(trainloader, 0):\n",
    "        # get the inputs\n",
    "        inputs, labels = data\n",
    "\n",
    "        # wrap them in Variable & if possible make them cuda tensors\n",
    "        inputs, labels = Variable(inputs.cuda()), Variable(labels.cuda())\n",
    "\n",
    "        # zero the parameter gradients for the current epoch\n",
    "        optimizer.zero_grad()\n",
    "\n",
    "        # forward + backward + optimize\n",
    "\n",
    "        # forward\n",
    "        outputs = net(inputs)\n",
    "        loss = criterion(outputs, labels)\n",
    "\n",
    "        # Calculate gradients of whatever variable set to req_gardients = True\n",
    "        loss.backward()\n",
    "\n",
    "        # Take one step of the gradient descent for this epoch ! \n",
    "        optimizer.step()\n",
    "\n",
    "        # print statistics\n",
    "        running_loss += loss.data[0]\n",
    "        if i % 2000 == 1999:    # print every 2000 mini-batches\n",
    "            print('[Epoch :: %d, Mini Batch :: %5d] loss: %.3f' %\n",
    "                  (epoch + 1, i + 1, running_loss / 2000))\n",
    "            lossvsiter.append(running_loss / 2000)\n",
    "            running_loss = 0.0\n",
    "\n",
    "\n",
    "print('Finished Training')"
   ]
  },
  {
   "cell_type": "code",
   "execution_count": 24,
   "metadata": {
    "collapsed": true
   },
   "outputs": [],
   "source": [
    "# Lets see the result ::"
   ]
  },
  {
   "cell_type": "code",
   "execution_count": 25,
   "metadata": {},
   "outputs": [
    {
     "name": "stdout",
     "output_type": "stream",
     "text": [
      "Accuracy of the network on the 10000 test images: 77\n",
      "The network predicted correct for 7703\n"
     ]
    },
    {
     "data": {
      "text/plain": [
       "(77.03, 7703)"
      ]
     },
     "execution_count": 25,
     "metadata": {},
     "output_type": "execute_result"
    }
   ],
   "source": [
    "test_accuracy(model_crazy_architecture_with_batch_norm)"
   ]
  },
  {
   "cell_type": "code",
   "execution_count": 26,
   "metadata": {},
   "outputs": [
    {
     "name": "stdout",
     "output_type": "stream",
     "text": [
      "0\n",
      "1000\n",
      "2000\n",
      "3000\n",
      "4000\n",
      "5000\n",
      "6000\n",
      "7000\n",
      "8000\n",
      "9000\n",
      "10000\n",
      "11000\n",
      "12000\n",
      "Accuracy of the network on the 50000 trained images: 91 %\n"
     ]
    }
   ],
   "source": [
    "train_accuracy(model_crazy_architecture_with_batch_norm)"
   ]
  },
  {
   "cell_type": "code",
   "execution_count": 28,
   "metadata": {
    "collapsed": true
   },
   "outputs": [],
   "source": [
    "torch.save(model_crazy_architecture_with_batch_norm.state_dict(),\"./models/model_crazy_architecture_with_batch_norm-50-epochs\")"
   ]
  },
  {
   "cell_type": "code",
   "execution_count": 27,
   "metadata": {
    "collapsed": true
   },
   "outputs": [],
   "source": [
    "# Lets run it again for 25 more ... yay !!!!!!!"
   ]
  },
  {
   "cell_type": "code",
   "execution_count": 30,
   "metadata": {
    "collapsed": true
   },
   "outputs": [],
   "source": [
    "model_crazy_architecture_with_batch_norm.load_state_dict(torch.load(\"./models/model_crazy_architecture_with_batch_norm-50-epochs\"))"
   ]
  },
  {
   "cell_type": "code",
   "execution_count": 31,
   "metadata": {},
   "outputs": [
    {
     "data": {
      "text/plain": [
       "Net (\n",
       "  (conv1): Conv2d(3, 8, kernel_size=(3, 3), stride=(1, 1), padding=(1, 1))\n",
       "  (pool): MaxPool2d (size=(2, 2), stride=(2, 2), dilation=(1, 1))\n",
       "  (conv2): Conv2d(8, 12, kernel_size=(3, 3), stride=(1, 1), padding=(1, 1))\n",
       "  (conv2_bn): BatchNorm2d(12, eps=1e-05, momentum=0.1, affine=True)\n",
       "  (conv3): Conv2d(12, 20, kernel_size=(3, 3), stride=(1, 1), padding=(1, 1))\n",
       "  (conv3_bn): BatchNorm2d(20, eps=1e-05, momentum=0.1, affine=True)\n",
       "  (conv4): Conv2d(20, 24, kernel_size=(3, 3), stride=(1, 1), padding=(1, 1))\n",
       "  (conv4_bn): BatchNorm2d(24, eps=1e-05, momentum=0.1, affine=True)\n",
       "  (conv5): Conv2d(24, 32, kernel_size=(3, 3), stride=(1, 1), padding=(1, 1))\n",
       "  (conv5_bn): BatchNorm2d(32, eps=1e-05, momentum=0.1, affine=True)\n",
       "  (conv6): Conv2d(32, 48, kernel_size=(3, 3), stride=(1, 1), padding=(1, 1))\n",
       "  (conv6_bn): BatchNorm2d(48, eps=1e-05, momentum=0.1, affine=True)\n",
       "  (conv7): Conv2d(48, 64, kernel_size=(3, 3), stride=(1, 1), padding=(1, 1))\n",
       "  (conv7_bn): BatchNorm2d(64, eps=1e-05, momentum=0.1, affine=True)\n",
       "  (conv8): Conv2d(64, 72, kernel_size=(3, 3), stride=(1, 1), padding=(1, 1))\n",
       "  (conv8_bn): BatchNorm2d(72, eps=1e-05, momentum=0.1, affine=True)\n",
       "  (conv9): Conv2d(72, 80, kernel_size=(3, 3), stride=(1, 1), padding=(1, 1))\n",
       "  (conv9_bn): BatchNorm2d(80, eps=1e-05, momentum=0.1, affine=True)\n",
       "  (fc1): Linear (1280 -> 120)\n",
       "  (fc1_bn): BatchNorm2d(120, eps=1e-05, momentum=0.1, affine=True)\n",
       "  (fc2): Linear (120 -> 84)\n",
       "  (fc2_bn): BatchNorm2d(84, eps=1e-05, momentum=0.1, affine=True)\n",
       "  (fc3): Linear (84 -> 10)\n",
       ")"
      ]
     },
     "execution_count": 31,
     "metadata": {},
     "output_type": "execute_result"
    }
   ],
   "source": [
    "model_crazy_architecture_with_batch_norm.eval()"
   ]
  },
  {
   "cell_type": "code",
   "execution_count": 32,
   "metadata": {
    "collapsed": true
   },
   "outputs": [
    {
     "name": "stdout",
     "output_type": "stream",
     "text": [
      "The model is on CUDA\n",
      "[Epoch :: 1, Mini Batch ::  2000] loss: 0.150\n",
      "[Epoch :: 1, Mini Batch ::  4000] loss: 0.150\n",
      "[Epoch :: 1, Mini Batch ::  6000] loss: 0.140\n",
      "[Epoch :: 1, Mini Batch ::  8000] loss: 0.138\n",
      "[Epoch :: 1, Mini Batch :: 10000] loss: 0.139\n",
      "[Epoch :: 1, Mini Batch :: 12000] loss: 0.149\n",
      "[Epoch :: 2, Mini Batch ::  2000] loss: 0.098\n",
      "[Epoch :: 2, Mini Batch ::  4000] loss: 0.099\n",
      "[Epoch :: 2, Mini Batch ::  6000] loss: 0.109\n",
      "[Epoch :: 2, Mini Batch ::  8000] loss: 0.111\n",
      "[Epoch :: 2, Mini Batch :: 10000] loss: 0.109\n",
      "[Epoch :: 2, Mini Batch :: 12000] loss: 0.117\n",
      "[Epoch :: 3, Mini Batch ::  2000] loss: 0.084\n",
      "[Epoch :: 3, Mini Batch ::  4000] loss: 0.097\n",
      "[Epoch :: 3, Mini Batch ::  6000] loss: 0.092\n",
      "[Epoch :: 3, Mini Batch ::  8000] loss: 0.093\n",
      "[Epoch :: 3, Mini Batch :: 10000] loss: 0.102\n",
      "[Epoch :: 3, Mini Batch :: 12000] loss: 0.107\n",
      "[Epoch :: 4, Mini Batch ::  2000] loss: 0.070\n",
      "[Epoch :: 4, Mini Batch ::  4000] loss: 0.081\n",
      "[Epoch :: 4, Mini Batch ::  6000] loss: 0.086\n",
      "[Epoch :: 4, Mini Batch ::  8000] loss: 0.091\n",
      "[Epoch :: 4, Mini Batch :: 10000] loss: 0.102\n",
      "[Epoch :: 4, Mini Batch :: 12000] loss: 0.086\n",
      "[Epoch :: 5, Mini Batch ::  2000] loss: 0.068\n",
      "[Epoch :: 5, Mini Batch ::  4000] loss: 0.075\n",
      "[Epoch :: 5, Mini Batch ::  6000] loss: 0.081\n",
      "[Epoch :: 5, Mini Batch ::  8000] loss: 0.079\n",
      "[Epoch :: 5, Mini Batch :: 10000] loss: 0.090\n",
      "[Epoch :: 5, Mini Batch :: 12000] loss: 0.088\n",
      "[Epoch :: 6, Mini Batch ::  2000] loss: 0.064\n",
      "[Epoch :: 6, Mini Batch ::  4000] loss: 0.081\n",
      "[Epoch :: 6, Mini Batch ::  6000] loss: 0.076\n",
      "[Epoch :: 6, Mini Batch ::  8000] loss: 0.075\n",
      "[Epoch :: 6, Mini Batch :: 10000] loss: 0.079\n",
      "[Epoch :: 6, Mini Batch :: 12000] loss: 0.080\n",
      "[Epoch :: 7, Mini Batch ::  2000] loss: 0.061\n",
      "[Epoch :: 7, Mini Batch ::  4000] loss: 0.063\n",
      "[Epoch :: 7, Mini Batch ::  6000] loss: 0.071\n",
      "[Epoch :: 7, Mini Batch ::  8000] loss: 0.066\n",
      "[Epoch :: 7, Mini Batch :: 10000] loss: 0.079\n",
      "[Epoch :: 7, Mini Batch :: 12000] loss: 0.067\n",
      "[Epoch :: 8, Mini Batch ::  2000] loss: 0.062\n",
      "[Epoch :: 8, Mini Batch ::  4000] loss: 0.065\n",
      "[Epoch :: 8, Mini Batch ::  6000] loss: 0.061\n",
      "[Epoch :: 8, Mini Batch ::  8000] loss: 0.073\n",
      "[Epoch :: 8, Mini Batch :: 10000] loss: 0.067\n",
      "[Epoch :: 8, Mini Batch :: 12000] loss: 0.081\n",
      "[Epoch :: 9, Mini Batch ::  2000] loss: 0.051\n",
      "[Epoch :: 9, Mini Batch ::  4000] loss: 0.060\n",
      "[Epoch :: 9, Mini Batch ::  6000] loss: 0.072\n",
      "[Epoch :: 9, Mini Batch ::  8000] loss: 0.064\n",
      "[Epoch :: 9, Mini Batch :: 10000] loss: 0.067\n",
      "[Epoch :: 9, Mini Batch :: 12000] loss: 0.079\n",
      "[Epoch :: 10, Mini Batch ::  2000] loss: 0.049\n",
      "[Epoch :: 10, Mini Batch ::  4000] loss: 0.058\n",
      "[Epoch :: 10, Mini Batch ::  6000] loss: 0.071\n",
      "[Epoch :: 10, Mini Batch ::  8000] loss: 0.074\n",
      "[Epoch :: 10, Mini Batch :: 10000] loss: 0.064\n",
      "[Epoch :: 10, Mini Batch :: 12000] loss: 0.062\n",
      "[Epoch :: 11, Mini Batch ::  2000] loss: 0.051\n",
      "[Epoch :: 11, Mini Batch ::  4000] loss: 0.061\n",
      "[Epoch :: 11, Mini Batch ::  6000] loss: 0.061\n",
      "[Epoch :: 11, Mini Batch ::  8000] loss: 0.057\n",
      "[Epoch :: 11, Mini Batch :: 10000] loss: 0.063\n",
      "[Epoch :: 11, Mini Batch :: 12000] loss: 0.064\n",
      "[Epoch :: 12, Mini Batch ::  2000] loss: 0.055\n",
      "[Epoch :: 12, Mini Batch ::  4000] loss: 0.049\n",
      "[Epoch :: 12, Mini Batch ::  6000] loss: 0.061\n",
      "[Epoch :: 12, Mini Batch ::  8000] loss: 0.054\n",
      "[Epoch :: 12, Mini Batch :: 10000] loss: 0.067\n",
      "[Epoch :: 12, Mini Batch :: 12000] loss: 0.066\n",
      "[Epoch :: 13, Mini Batch ::  2000] loss: 0.045\n",
      "[Epoch :: 13, Mini Batch ::  4000] loss: 0.057\n",
      "[Epoch :: 13, Mini Batch ::  6000] loss: 0.054\n",
      "[Epoch :: 13, Mini Batch ::  8000] loss: 0.058\n",
      "[Epoch :: 13, Mini Batch :: 10000] loss: 0.064\n",
      "[Epoch :: 13, Mini Batch :: 12000] loss: 0.060\n",
      "[Epoch :: 14, Mini Batch ::  2000] loss: 0.053\n",
      "[Epoch :: 14, Mini Batch ::  4000] loss: 0.054\n",
      "[Epoch :: 14, Mini Batch ::  6000] loss: 0.049\n",
      "[Epoch :: 14, Mini Batch ::  8000] loss: 0.058\n",
      "[Epoch :: 14, Mini Batch :: 10000] loss: 0.058\n",
      "[Epoch :: 14, Mini Batch :: 12000] loss: 0.059\n",
      "[Epoch :: 15, Mini Batch ::  2000] loss: 0.043\n",
      "[Epoch :: 15, Mini Batch ::  4000] loss: 0.055\n",
      "[Epoch :: 15, Mini Batch ::  6000] loss: 0.052\n",
      "[Epoch :: 15, Mini Batch ::  8000] loss: 0.060\n",
      "[Epoch :: 15, Mini Batch :: 10000] loss: 0.063\n",
      "[Epoch :: 15, Mini Batch :: 12000] loss: 0.046\n",
      "[Epoch :: 16, Mini Batch ::  2000] loss: 0.054\n",
      "[Epoch :: 16, Mini Batch ::  4000] loss: 0.042\n",
      "[Epoch :: 16, Mini Batch ::  6000] loss: 0.049\n",
      "[Epoch :: 16, Mini Batch ::  8000] loss: 0.048\n",
      "[Epoch :: 16, Mini Batch :: 10000] loss: 0.059\n",
      "[Epoch :: 16, Mini Batch :: 12000] loss: 0.051\n",
      "[Epoch :: 17, Mini Batch ::  2000] loss: 0.047\n",
      "[Epoch :: 17, Mini Batch ::  4000] loss: 0.056\n",
      "[Epoch :: 17, Mini Batch ::  6000] loss: 0.048\n",
      "[Epoch :: 17, Mini Batch ::  8000] loss: 0.051\n",
      "[Epoch :: 17, Mini Batch :: 10000] loss: 0.054\n",
      "[Epoch :: 17, Mini Batch :: 12000] loss: 0.056\n",
      "[Epoch :: 18, Mini Batch ::  2000] loss: 0.034\n",
      "[Epoch :: 18, Mini Batch ::  4000] loss: 0.056\n",
      "[Epoch :: 18, Mini Batch ::  6000] loss: 0.041\n",
      "[Epoch :: 18, Mini Batch ::  8000] loss: 0.057\n",
      "[Epoch :: 18, Mini Batch :: 10000] loss: 0.060\n",
      "[Epoch :: 18, Mini Batch :: 12000] loss: 0.049\n",
      "[Epoch :: 19, Mini Batch ::  2000] loss: 0.029\n",
      "[Epoch :: 19, Mini Batch ::  4000] loss: 0.047\n",
      "[Epoch :: 19, Mini Batch ::  6000] loss: 0.046\n",
      "[Epoch :: 19, Mini Batch ::  8000] loss: 0.043\n",
      "[Epoch :: 19, Mini Batch :: 10000] loss: 0.055\n",
      "[Epoch :: 19, Mini Batch :: 12000] loss: 0.057\n",
      "[Epoch :: 20, Mini Batch ::  2000] loss: 0.040\n",
      "[Epoch :: 20, Mini Batch ::  4000] loss: 0.042\n",
      "[Epoch :: 20, Mini Batch ::  6000] loss: 0.050\n",
      "[Epoch :: 20, Mini Batch ::  8000] loss: 0.044\n",
      "[Epoch :: 20, Mini Batch :: 10000] loss: 0.054\n",
      "[Epoch :: 20, Mini Batch :: 12000] loss: 0.049\n",
      "[Epoch :: 21, Mini Batch ::  2000] loss: 0.038\n",
      "[Epoch :: 21, Mini Batch ::  4000] loss: 0.043\n",
      "[Epoch :: 21, Mini Batch ::  6000] loss: 0.052\n",
      "[Epoch :: 21, Mini Batch ::  8000] loss: 0.042\n",
      "[Epoch :: 21, Mini Batch :: 10000] loss: 0.047\n",
      "[Epoch :: 21, Mini Batch :: 12000] loss: 0.053\n",
      "[Epoch :: 22, Mini Batch ::  2000] loss: 0.043\n",
      "[Epoch :: 22, Mini Batch ::  4000] loss: 0.044\n",
      "[Epoch :: 22, Mini Batch ::  6000] loss: 0.045\n",
      "[Epoch :: 22, Mini Batch ::  8000] loss: 0.048\n",
      "[Epoch :: 22, Mini Batch :: 10000] loss: 0.042\n",
      "[Epoch :: 22, Mini Batch :: 12000] loss: 0.040\n",
      "[Epoch :: 23, Mini Batch ::  2000] loss: 0.039\n",
      "[Epoch :: 23, Mini Batch ::  4000] loss: 0.037\n",
      "[Epoch :: 23, Mini Batch ::  6000] loss: 0.048\n",
      "[Epoch :: 23, Mini Batch ::  8000] loss: 0.046\n",
      "[Epoch :: 23, Mini Batch :: 10000] loss: 0.063\n",
      "[Epoch :: 23, Mini Batch :: 12000] loss: 0.038\n",
      "[Epoch :: 24, Mini Batch ::  2000] loss: 0.040\n",
      "[Epoch :: 24, Mini Batch ::  4000] loss: 0.042\n",
      "[Epoch :: 24, Mini Batch ::  6000] loss: 0.038\n",
      "[Epoch :: 24, Mini Batch ::  8000] loss: 0.048\n",
      "[Epoch :: 24, Mini Batch :: 10000] loss: 0.043\n",
      "[Epoch :: 24, Mini Batch :: 12000] loss: 0.046\n",
      "[Epoch :: 25, Mini Batch ::  2000] loss: 0.041\n",
      "[Epoch :: 25, Mini Batch ::  4000] loss: 0.038\n",
      "[Epoch :: 25, Mini Batch ::  6000] loss: 0.041\n",
      "[Epoch :: 25, Mini Batch ::  8000] loss: 0.042\n",
      "[Epoch :: 25, Mini Batch :: 10000] loss: 0.037\n",
      "[Epoch :: 25, Mini Batch :: 12000] loss: 0.041\n",
      "Finished Training\n"
     ]
    }
   ],
   "source": [
    "net=model_crazy_architecture_with_batch_norm\n",
    "lossvsiter=lossvsiter_crazy_architecture_with_batch_norm\n",
    "# To see if the model is on CUDA or not !\n",
    "if (next(net.parameters()).is_cuda) :\n",
    "    print(\"The model is on CUDA\")\n",
    "else :\n",
    "    print(\"The model is on CPU\")\n",
    "\n",
    "# Import the optimizers \n",
    "import torch.optim as optim\n",
    "\n",
    "# Declare a loss function\n",
    "criterion = nn.CrossEntropyLoss()\n",
    "\n",
    "# Declare an optimizer\n",
    "optimizer = optim.Adam(net.parameters(),lr=0.0005,weight_decay=1e-7)\n",
    "\n",
    "#No of iterations !\n",
    "iterations = 25\n",
    "\n",
    "\n",
    "for epoch in range(iterations):  # loop over the dataset multiple times\n",
    "\n",
    "    # Reset the loss for the current epoch !\n",
    "    running_loss = 0.0\n",
    "\n",
    "    # Loop over all the mini-batches therea are 12500 mini batches of size 4 each !\n",
    "    for i, data in enumerate(trainloader, 0):\n",
    "        # get the inputs\n",
    "        inputs, labels = data\n",
    "\n",
    "        # wrap them in Variable & if possible make them cuda tensors\n",
    "        inputs, labels = Variable(inputs.cuda()), Variable(labels.cuda())\n",
    "\n",
    "        # zero the parameter gradients for the current epoch\n",
    "        optimizer.zero_grad()\n",
    "\n",
    "        # forward + backward + optimize\n",
    "\n",
    "        # forward\n",
    "        outputs = net(inputs)\n",
    "        loss = criterion(outputs, labels)\n",
    "\n",
    "        # Calculate gradients of whatever variable set to req_gardients = True\n",
    "        loss.backward()\n",
    "\n",
    "        # Take one step of the gradient descent for this epoch ! \n",
    "        optimizer.step()\n",
    "\n",
    "        # print statistics\n",
    "        running_loss += loss.data[0]\n",
    "        if i % 2000 == 1999:    # print every 2000 mini-batches\n",
    "            print('[Epoch :: %d, Mini Batch :: %5d] loss: %.3f' %\n",
    "                  (epoch + 1, i + 1, running_loss / 2000))\n",
    "            lossvsiter.append(running_loss / 2000)\n",
    "            running_loss = 0.0\n",
    "\n",
    "\n",
    "print('Finished Training')"
   ]
  },
  {
   "cell_type": "code",
   "execution_count": 33,
   "metadata": {},
   "outputs": [
    {
     "name": "stdout",
     "output_type": "stream",
     "text": [
      "Accuracy of the network on the 10000 test images: 81\n",
      "The network predicted correct for 8104\n"
     ]
    },
    {
     "data": {
      "text/plain": [
       "(81.04, 8104)"
      ]
     },
     "execution_count": 33,
     "metadata": {},
     "output_type": "execute_result"
    }
   ],
   "source": [
    "test_accuracy(model_crazy_architecture_with_batch_norm)"
   ]
  },
  {
   "cell_type": "code",
   "execution_count": 34,
   "metadata": {
    "collapsed": true
   },
   "outputs": [],
   "source": [
    "torch.save(model_crazy_architecture_with_batch_norm.state_dict(),\"./models/model_crazy_architecture_with_batch_norm-75-epochs\")"
   ]
  },
  {
   "cell_type": "code",
   "execution_count": 35,
   "metadata": {
    "collapsed": true
   },
   "outputs": [
    {
     "name": "stdout",
     "output_type": "stream",
     "text": [
      "0\n",
      "1000\n",
      "2000\n",
      "3000\n",
      "4000\n",
      "5000\n",
      "6000\n",
      "7000\n",
      "8000\n",
      "9000\n",
      "10000\n",
      "11000\n",
      "12000\n",
      "Accuracy of the network on the 50000 trained images: 99 %\n"
     ]
    }
   ],
   "source": [
    "train_accuracy(model_crazy_architecture_with_batch_norm)"
   ]
  },
  {
   "cell_type": "code",
   "execution_count": 36,
   "metadata": {
    "collapsed": true
   },
   "outputs": [],
   "source": [
    "# Lets get in a century"
   ]
  },
  {
   "cell_type": "code",
   "execution_count": 37,
   "metadata": {
    "collapsed": true
   },
   "outputs": [
    {
     "name": "stdout",
     "output_type": "stream",
     "text": [
      "The model is on CUDA\n",
      "[Epoch :: 1, Mini Batch ::  2000] loss: 0.047\n",
      "[Epoch :: 1, Mini Batch ::  4000] loss: 0.037\n",
      "[Epoch :: 1, Mini Batch ::  6000] loss: 0.044\n",
      "[Epoch :: 1, Mini Batch ::  8000] loss: 0.040\n",
      "[Epoch :: 1, Mini Batch :: 10000] loss: 0.046\n",
      "[Epoch :: 1, Mini Batch :: 12000] loss: 0.039\n",
      "[Epoch :: 2, Mini Batch ::  2000] loss: 0.041\n",
      "[Epoch :: 2, Mini Batch ::  4000] loss: 0.040\n",
      "[Epoch :: 2, Mini Batch ::  6000] loss: 0.042\n",
      "[Epoch :: 2, Mini Batch ::  8000] loss: 0.041\n",
      "[Epoch :: 2, Mini Batch :: 10000] loss: 0.037\n",
      "[Epoch :: 2, Mini Batch :: 12000] loss: 0.044\n",
      "[Epoch :: 3, Mini Batch ::  2000] loss: 0.034\n",
      "[Epoch :: 3, Mini Batch ::  4000] loss: 0.036\n",
      "[Epoch :: 3, Mini Batch ::  6000] loss: 0.037\n",
      "[Epoch :: 3, Mini Batch ::  8000] loss: 0.047\n",
      "[Epoch :: 3, Mini Batch :: 10000] loss: 0.035\n",
      "[Epoch :: 3, Mini Batch :: 12000] loss: 0.038\n",
      "[Epoch :: 4, Mini Batch ::  2000] loss: 0.035\n",
      "[Epoch :: 4, Mini Batch ::  4000] loss: 0.043\n",
      "[Epoch :: 4, Mini Batch ::  6000] loss: 0.037\n",
      "[Epoch :: 4, Mini Batch ::  8000] loss: 0.041\n",
      "[Epoch :: 4, Mini Batch :: 10000] loss: 0.038\n",
      "[Epoch :: 4, Mini Batch :: 12000] loss: 0.042\n",
      "[Epoch :: 5, Mini Batch ::  2000] loss: 0.027\n",
      "[Epoch :: 5, Mini Batch ::  4000] loss: 0.039\n",
      "[Epoch :: 5, Mini Batch ::  6000] loss: 0.036\n",
      "[Epoch :: 5, Mini Batch ::  8000] loss: 0.043\n",
      "[Epoch :: 5, Mini Batch :: 10000] loss: 0.040\n",
      "[Epoch :: 5, Mini Batch :: 12000] loss: 0.044\n",
      "[Epoch :: 6, Mini Batch ::  2000] loss: 0.030\n",
      "[Epoch :: 6, Mini Batch ::  4000] loss: 0.037\n",
      "[Epoch :: 6, Mini Batch ::  6000] loss: 0.034\n",
      "[Epoch :: 6, Mini Batch ::  8000] loss: 0.041\n",
      "[Epoch :: 6, Mini Batch :: 10000] loss: 0.034\n",
      "[Epoch :: 6, Mini Batch :: 12000] loss: 0.044\n",
      "[Epoch :: 7, Mini Batch ::  2000] loss: 0.036\n",
      "[Epoch :: 7, Mini Batch ::  4000] loss: 0.030\n",
      "[Epoch :: 7, Mini Batch ::  6000] loss: 0.026\n",
      "[Epoch :: 7, Mini Batch ::  8000] loss: 0.049\n",
      "[Epoch :: 7, Mini Batch :: 10000] loss: 0.039\n",
      "[Epoch :: 7, Mini Batch :: 12000] loss: 0.042\n",
      "[Epoch :: 8, Mini Batch ::  2000] loss: 0.032\n",
      "[Epoch :: 8, Mini Batch ::  4000] loss: 0.028\n",
      "[Epoch :: 8, Mini Batch ::  6000] loss: 0.039\n",
      "[Epoch :: 8, Mini Batch ::  8000] loss: 0.038\n",
      "[Epoch :: 8, Mini Batch :: 10000] loss: 0.037\n",
      "[Epoch :: 8, Mini Batch :: 12000] loss: 0.034\n",
      "[Epoch :: 9, Mini Batch ::  2000] loss: 0.025\n",
      "[Epoch :: 9, Mini Batch ::  4000] loss: 0.042\n",
      "[Epoch :: 9, Mini Batch ::  6000] loss: 0.044\n",
      "[Epoch :: 9, Mini Batch ::  8000] loss: 0.035\n",
      "[Epoch :: 9, Mini Batch :: 10000] loss: 0.045\n",
      "[Epoch :: 9, Mini Batch :: 12000] loss: 0.038\n",
      "[Epoch :: 10, Mini Batch ::  2000] loss: 0.029\n",
      "[Epoch :: 10, Mini Batch ::  4000] loss: 0.030\n",
      "[Epoch :: 10, Mini Batch ::  6000] loss: 0.040\n",
      "[Epoch :: 10, Mini Batch ::  8000] loss: 0.041\n",
      "[Epoch :: 10, Mini Batch :: 10000] loss: 0.036\n",
      "[Epoch :: 10, Mini Batch :: 12000] loss: 0.038\n",
      "[Epoch :: 11, Mini Batch ::  2000] loss: 0.030\n",
      "[Epoch :: 11, Mini Batch ::  4000] loss: 0.030\n",
      "[Epoch :: 11, Mini Batch ::  6000] loss: 0.033\n",
      "[Epoch :: 11, Mini Batch ::  8000] loss: 0.042\n",
      "[Epoch :: 11, Mini Batch :: 10000] loss: 0.032\n",
      "[Epoch :: 11, Mini Batch :: 12000] loss: 0.040\n",
      "[Epoch :: 12, Mini Batch ::  2000] loss: 0.024\n",
      "[Epoch :: 12, Mini Batch ::  4000] loss: 0.037\n",
      "[Epoch :: 12, Mini Batch ::  6000] loss: 0.033\n",
      "[Epoch :: 12, Mini Batch ::  8000] loss: 0.038\n",
      "[Epoch :: 12, Mini Batch :: 10000] loss: 0.037\n",
      "[Epoch :: 12, Mini Batch :: 12000] loss: 0.037\n",
      "[Epoch :: 13, Mini Batch ::  2000] loss: 0.034\n",
      "[Epoch :: 13, Mini Batch ::  4000] loss: 0.034\n",
      "[Epoch :: 13, Mini Batch ::  6000] loss: 0.029\n",
      "[Epoch :: 13, Mini Batch ::  8000] loss: 0.040\n",
      "[Epoch :: 13, Mini Batch :: 10000] loss: 0.034\n",
      "[Epoch :: 13, Mini Batch :: 12000] loss: 0.037\n",
      "[Epoch :: 14, Mini Batch ::  2000] loss: 0.024\n",
      "[Epoch :: 14, Mini Batch ::  4000] loss: 0.043\n",
      "[Epoch :: 14, Mini Batch ::  6000] loss: 0.035\n",
      "[Epoch :: 14, Mini Batch ::  8000] loss: 0.030\n",
      "[Epoch :: 14, Mini Batch :: 10000] loss: 0.030\n",
      "[Epoch :: 14, Mini Batch :: 12000] loss: 0.031\n",
      "[Epoch :: 15, Mini Batch ::  2000] loss: 0.026\n",
      "[Epoch :: 15, Mini Batch ::  4000] loss: 0.032\n",
      "[Epoch :: 15, Mini Batch ::  6000] loss: 0.035\n",
      "[Epoch :: 15, Mini Batch ::  8000] loss: 0.030\n",
      "[Epoch :: 15, Mini Batch :: 10000] loss: 0.036\n",
      "[Epoch :: 15, Mini Batch :: 12000] loss: 0.027\n",
      "[Epoch :: 16, Mini Batch ::  2000] loss: 0.029\n",
      "[Epoch :: 16, Mini Batch ::  4000] loss: 0.025\n",
      "[Epoch :: 16, Mini Batch ::  6000] loss: 0.034\n",
      "[Epoch :: 16, Mini Batch ::  8000] loss: 0.038\n",
      "[Epoch :: 16, Mini Batch :: 10000] loss: 0.035\n",
      "[Epoch :: 16, Mini Batch :: 12000] loss: 0.037\n",
      "[Epoch :: 17, Mini Batch ::  2000] loss: 0.020\n",
      "[Epoch :: 17, Mini Batch ::  4000] loss: 0.040\n",
      "[Epoch :: 17, Mini Batch ::  6000] loss: 0.030\n",
      "[Epoch :: 17, Mini Batch ::  8000] loss: 0.037\n",
      "[Epoch :: 17, Mini Batch :: 10000] loss: 0.037\n",
      "[Epoch :: 17, Mini Batch :: 12000] loss: 0.038\n",
      "[Epoch :: 18, Mini Batch ::  2000] loss: 0.036\n",
      "[Epoch :: 18, Mini Batch ::  4000] loss: 0.034\n",
      "[Epoch :: 18, Mini Batch ::  6000] loss: 0.032\n",
      "[Epoch :: 18, Mini Batch ::  8000] loss: 0.028\n",
      "[Epoch :: 18, Mini Batch :: 10000] loss: 0.037\n",
      "[Epoch :: 18, Mini Batch :: 12000] loss: 0.030\n",
      "[Epoch :: 19, Mini Batch ::  2000] loss: 0.026\n",
      "[Epoch :: 19, Mini Batch ::  4000] loss: 0.028\n",
      "[Epoch :: 19, Mini Batch ::  6000] loss: 0.037\n",
      "[Epoch :: 19, Mini Batch ::  8000] loss: 0.032\n",
      "[Epoch :: 19, Mini Batch :: 10000] loss: 0.032\n",
      "[Epoch :: 19, Mini Batch :: 12000] loss: 0.032\n",
      "[Epoch :: 20, Mini Batch ::  2000] loss: 0.030\n",
      "[Epoch :: 20, Mini Batch ::  4000] loss: 0.030\n",
      "[Epoch :: 20, Mini Batch ::  6000] loss: 0.029\n",
      "[Epoch :: 20, Mini Batch ::  8000] loss: 0.034\n",
      "[Epoch :: 20, Mini Batch :: 10000] loss: 0.037\n",
      "[Epoch :: 20, Mini Batch :: 12000] loss: 0.030\n",
      "[Epoch :: 21, Mini Batch ::  2000] loss: 0.022\n",
      "[Epoch :: 21, Mini Batch ::  4000] loss: 0.040\n",
      "[Epoch :: 21, Mini Batch ::  6000] loss: 0.028\n",
      "[Epoch :: 21, Mini Batch ::  8000] loss: 0.031\n",
      "[Epoch :: 21, Mini Batch :: 10000] loss: 0.030\n",
      "[Epoch :: 21, Mini Batch :: 12000] loss: 0.027\n",
      "[Epoch :: 22, Mini Batch ::  2000] loss: 0.029\n",
      "[Epoch :: 22, Mini Batch ::  4000] loss: 0.027\n",
      "[Epoch :: 22, Mini Batch ::  6000] loss: 0.039\n",
      "[Epoch :: 22, Mini Batch ::  8000] loss: 0.024\n",
      "[Epoch :: 22, Mini Batch :: 10000] loss: 0.042\n",
      "[Epoch :: 22, Mini Batch :: 12000] loss: 0.025\n",
      "[Epoch :: 23, Mini Batch ::  2000] loss: 0.023\n",
      "[Epoch :: 23, Mini Batch ::  4000] loss: 0.032\n",
      "[Epoch :: 23, Mini Batch ::  6000] loss: 0.030\n",
      "[Epoch :: 23, Mini Batch ::  8000] loss: 0.032\n",
      "[Epoch :: 23, Mini Batch :: 10000] loss: 0.017\n",
      "[Epoch :: 23, Mini Batch :: 12000] loss: 0.041\n",
      "[Epoch :: 24, Mini Batch ::  2000] loss: 0.030\n",
      "[Epoch :: 24, Mini Batch ::  4000] loss: 0.026\n",
      "[Epoch :: 24, Mini Batch ::  6000] loss: 0.028\n",
      "[Epoch :: 24, Mini Batch ::  8000] loss: 0.030\n",
      "[Epoch :: 24, Mini Batch :: 10000] loss: 0.025\n",
      "[Epoch :: 24, Mini Batch :: 12000] loss: 0.038\n",
      "[Epoch :: 25, Mini Batch ::  2000] loss: 0.027\n",
      "[Epoch :: 25, Mini Batch ::  4000] loss: 0.027\n",
      "[Epoch :: 25, Mini Batch ::  6000] loss: 0.032\n",
      "[Epoch :: 25, Mini Batch ::  8000] loss: 0.025\n",
      "[Epoch :: 25, Mini Batch :: 10000] loss: 0.033\n",
      "[Epoch :: 25, Mini Batch :: 12000] loss: 0.023\n",
      "Finished Training\n"
     ]
    }
   ],
   "source": [
    "net=model_crazy_architecture_with_batch_norm\n",
    "lossvsiter=lossvsiter_crazy_architecture_with_batch_norm\n",
    "# To see if the model is on CUDA or not !\n",
    "if (next(net.parameters()).is_cuda) :\n",
    "    print(\"The model is on CUDA\")\n",
    "else :\n",
    "    print(\"The model is on CPU\")\n",
    "\n",
    "# Import the optimizers \n",
    "import torch.optim as optim\n",
    "\n",
    "# Declare a loss function\n",
    "criterion = nn.CrossEntropyLoss()\n",
    "\n",
    "# Declare an optimizer\n",
    "optimizer = optim.Adam(net.parameters(),lr=0.0005,weight_decay=1e-7)\n",
    "\n",
    "#No of iterations !\n",
    "iterations = 25\n",
    "\n",
    "\n",
    "for epoch in range(iterations):  # loop over the dataset multiple times\n",
    "\n",
    "    # Reset the loss for the current epoch !\n",
    "    running_loss = 0.0\n",
    "\n",
    "    # Loop over all the mini-batches therea are 12500 mini batches of size 4 each !\n",
    "    for i, data in enumerate(trainloader, 0):\n",
    "        # get the inputs\n",
    "        inputs, labels = data\n",
    "\n",
    "        # wrap them in Variable & if possible make them cuda tensors\n",
    "        inputs, labels = Variable(inputs.cuda()), Variable(labels.cuda())\n",
    "\n",
    "        # zero the parameter gradients for the current epoch\n",
    "        optimizer.zero_grad()\n",
    "\n",
    "        # forward + backward + optimize\n",
    "\n",
    "        # forward\n",
    "        outputs = net(inputs)\n",
    "        loss = criterion(outputs, labels)\n",
    "\n",
    "        # Calculate gradients of whatever variable set to req_gardients = True\n",
    "        loss.backward()\n",
    "\n",
    "        # Take one step of the gradient descent for this epoch ! \n",
    "        optimizer.step()\n",
    "\n",
    "        # print statistics\n",
    "        running_loss += loss.data[0]\n",
    "        if i % 2000 == 1999:    # print every 2000 mini-batches\n",
    "            print('[Epoch :: %d, Mini Batch :: %5d] loss: %.3f' %\n",
    "                  (epoch + 1, i + 1, running_loss / 2000))\n",
    "            lossvsiter.append(running_loss / 2000)\n",
    "            running_loss = 0.0\n",
    "\n",
    "\n",
    "print('Finished Training')"
   ]
  },
  {
   "cell_type": "code",
   "execution_count": 38,
   "metadata": {
    "collapsed": true
   },
   "outputs": [
    {
     "name": "stdout",
     "output_type": "stream",
     "text": [
      "Accuracy of the network on the 10000 test images: 79\n",
      "The network predicted correct for 7982\n"
     ]
    },
    {
     "data": {
      "text/plain": [
       "(79.82, 7982)"
      ]
     },
     "execution_count": 38,
     "metadata": {},
     "output_type": "execute_result"
    }
   ],
   "source": [
    "test_accuracy(model_crazy_architecture_with_batch_norm)"
   ]
  },
  {
   "cell_type": "code",
   "execution_count": 39,
   "metadata": {
    "scrolled": true
   },
   "outputs": [
    {
     "name": "stdout",
     "output_type": "stream",
     "text": [
      "0\n",
      "1000\n",
      "2000\n",
      "3000\n",
      "4000\n",
      "5000\n",
      "6000\n",
      "7000\n",
      "8000\n",
      "9000\n",
      "10000\n",
      "11000\n",
      "12000\n",
      "Accuracy of the network on the 50000 trained images: 98 %\n"
     ]
    }
   ],
   "source": [
    "train_accuracy(model_crazy_architecture_with_batch_norm)"
   ]
  },
  {
   "cell_type": "code",
   "execution_count": 40,
   "metadata": {
    "collapsed": true
   },
   "outputs": [],
   "source": [
    "torch.save(model_crazy_architecture_with_batch_norm.state_dict(),\"./models/model_crazy_architecture_with_batch_norm-100-epochs\")"
   ]
  },
  {
   "cell_type": "code",
   "execution_count": 41,
   "metadata": {
    "collapsed": true
   },
   "outputs": [],
   "source": [
    "model_crazy_architecture_with_batch_norm.load_state_dict(torch.load(\"./models/model_crazy_architecture_with_batch_norm-75-epochs\"))"
   ]
  },
  {
   "cell_type": "code",
   "execution_count": 42,
   "metadata": {},
   "outputs": [
    {
     "data": {
      "text/plain": [
       "Net (\n",
       "  (conv1): Conv2d(3, 8, kernel_size=(3, 3), stride=(1, 1), padding=(1, 1))\n",
       "  (pool): MaxPool2d (size=(2, 2), stride=(2, 2), dilation=(1, 1))\n",
       "  (conv2): Conv2d(8, 12, kernel_size=(3, 3), stride=(1, 1), padding=(1, 1))\n",
       "  (conv2_bn): BatchNorm2d(12, eps=1e-05, momentum=0.1, affine=True)\n",
       "  (conv3): Conv2d(12, 20, kernel_size=(3, 3), stride=(1, 1), padding=(1, 1))\n",
       "  (conv3_bn): BatchNorm2d(20, eps=1e-05, momentum=0.1, affine=True)\n",
       "  (conv4): Conv2d(20, 24, kernel_size=(3, 3), stride=(1, 1), padding=(1, 1))\n",
       "  (conv4_bn): BatchNorm2d(24, eps=1e-05, momentum=0.1, affine=True)\n",
       "  (conv5): Conv2d(24, 32, kernel_size=(3, 3), stride=(1, 1), padding=(1, 1))\n",
       "  (conv5_bn): BatchNorm2d(32, eps=1e-05, momentum=0.1, affine=True)\n",
       "  (conv6): Conv2d(32, 48, kernel_size=(3, 3), stride=(1, 1), padding=(1, 1))\n",
       "  (conv6_bn): BatchNorm2d(48, eps=1e-05, momentum=0.1, affine=True)\n",
       "  (conv7): Conv2d(48, 64, kernel_size=(3, 3), stride=(1, 1), padding=(1, 1))\n",
       "  (conv7_bn): BatchNorm2d(64, eps=1e-05, momentum=0.1, affine=True)\n",
       "  (conv8): Conv2d(64, 72, kernel_size=(3, 3), stride=(1, 1), padding=(1, 1))\n",
       "  (conv8_bn): BatchNorm2d(72, eps=1e-05, momentum=0.1, affine=True)\n",
       "  (conv9): Conv2d(72, 80, kernel_size=(3, 3), stride=(1, 1), padding=(1, 1))\n",
       "  (conv9_bn): BatchNorm2d(80, eps=1e-05, momentum=0.1, affine=True)\n",
       "  (fc1): Linear (1280 -> 120)\n",
       "  (fc1_bn): BatchNorm2d(120, eps=1e-05, momentum=0.1, affine=True)\n",
       "  (fc2): Linear (120 -> 84)\n",
       "  (fc2_bn): BatchNorm2d(84, eps=1e-05, momentum=0.1, affine=True)\n",
       "  (fc3): Linear (84 -> 10)\n",
       ")"
      ]
     },
     "execution_count": 42,
     "metadata": {},
     "output_type": "execute_result"
    }
   ],
   "source": [
    "model_crazy_architecture_with_batch_norm.eval()"
   ]
  },
  {
   "cell_type": "code",
   "execution_count": 43,
   "metadata": {},
   "outputs": [
    {
     "name": "stdout",
     "output_type": "stream",
     "text": [
      "Accuracy of the network on the 10000 test images: 81\n",
      "The network predicted correct for 8104\n"
     ]
    },
    {
     "data": {
      "text/plain": [
       "(81.04, 8104)"
      ]
     },
     "execution_count": 43,
     "metadata": {},
     "output_type": "execute_result"
    }
   ],
   "source": [
    "test_accuracy(model_crazy_architecture_with_batch_norm)"
   ]
  },
  {
   "cell_type": "code",
   "execution_count": null,
   "metadata": {
    "collapsed": true
   },
   "outputs": [],
   "source": []
  }
 ],
 "metadata": {
  "kernelspec": {
   "display_name": "Python 3",
   "language": "python",
   "name": "python3"
  },
  "language_info": {
   "codemirror_mode": {
    "name": "ipython",
    "version": 3
   },
   "file_extension": ".py",
   "mimetype": "text/x-python",
   "name": "python",
   "nbconvert_exporter": "python",
   "pygments_lexer": "ipython3",
   "version": "3.5.2"
  }
 },
 "nbformat": 4,
 "nbformat_minor": 2
}
