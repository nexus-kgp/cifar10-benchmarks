{
 "cells": [
  {
   "cell_type": "raw",
   "metadata": {},
   "source": [
    "Lets try out dropout\n",
    "6 Layers : 3 conv layers and 3 fully connected layers !\n",
    "If you are loading the model make sure to use MyModel.eval()\n",
    "Without regularization(weight decay)"
   ]
  },
  {
   "cell_type": "code",
   "execution_count": 4,
   "metadata": {
    "collapsed": true
   },
   "outputs": [],
   "source": [
    "import torch\n",
    "import torchvision\n",
    "import torchvision.transforms as transforms"
   ]
  },
  {
   "cell_type": "code",
   "execution_count": 5,
   "metadata": {
    "collapsed": true
   },
   "outputs": [],
   "source": [
    "transform = transforms.Compose(\n",
    "    [transforms.ToTensor(),\n",
    "     transforms.Normalize((0.5, 0.5, 0.5), (0.5, 0.5, 0.5))])"
   ]
  },
  {
   "cell_type": "code",
   "execution_count": 6,
   "metadata": {},
   "outputs": [
    {
     "name": "stdout",
     "output_type": "stream",
     "text": [
      "Files already downloaded and verified\n",
      "Files already downloaded and verified\n"
     ]
    }
   ],
   "source": [
    "trainset = torchvision.datasets.CIFAR10(root='./data', train=True,download=True, transform=transform)\n",
    "trainloader = torch.utils.data.DataLoader(trainset, batch_size=4, shuffle=True, num_workers=2)\n",
    "testset = torchvision.datasets.CIFAR10(root=\"./data\", train=False, download=True, transform=transform)\n",
    "testloader= torch.utils.data.DataLoader(testset, batch_size=4, shuffle=False, num_workers=2)\n",
    "classes=('plane', 'car', 'bird', 'cat','deer', 'dog', 'frog', 'horse', 'ship', 'truck')"
   ]
  },
  {
   "cell_type": "code",
   "execution_count": 11,
   "metadata": {
    "collapsed": true
   },
   "outputs": [],
   "source": [
    "from torch.autograd import Variable\n",
    "import torch.nn as nn\n",
    "import torch.nn.functional as F\n",
    "\n",
    "\n",
    "class Net(nn.Module):\n",
    "    \n",
    "    def __init__(self):\n",
    "        super(Net, self).__init__()\n",
    "        # 6 Layers : 3 conv layers and 3 fully connected layers !\n",
    "        self.conv1 = nn.Conv2d(3, 8, 3,padding=1)\n",
    "        self.pool = nn.MaxPool2d(2, 2)\n",
    "        self.dropout = nn.Dropout2d(p=0.2)\n",
    "        self.conv2 = nn.Conv2d(8, 16, 5,padding=2)\n",
    "        self.conv3 = nn.Conv2d(16, 32, 5,padding=2)\n",
    "        self.fc1 = nn.Linear(32*4*4, 120)\n",
    "        self.fc2 = nn.Linear(120, 84)\n",
    "        self.fc3 = nn.Linear(84, 10)\n",
    "\n",
    "        \n",
    "    def forward(self, x):\n",
    "        x = self.pool(F.relu(self.conv1(x)))\n",
    "        x = self.dropout(x)\n",
    "        x = self.pool(F.relu(self.conv2(x)))\n",
    "        x = self.dropout(x)\n",
    "        x = self.pool(F.relu(self.conv3(x)))\n",
    "        x = self.dropout(x)\n",
    "        x = x.view(-1, 32 *4* 4)\n",
    "        x = F.relu(self.fc1(x))\n",
    "        x = F.relu(self.fc2(x))\n",
    "        x = self.fc3(x)\n",
    "        return x"
   ]
  },
  {
   "cell_type": "code",
   "execution_count": 14,
   "metadata": {},
   "outputs": [],
   "source": [
    "# Create an instance of the model on CUDA\n",
    "net = Net().cuda()"
   ]
  },
  {
   "cell_type": "code",
   "execution_count": 15,
   "metadata": {},
   "outputs": [
    {
     "name": "stdout",
     "output_type": "stream",
     "text": [
      "The model is on CUDA\n",
      "[Epoch :: 1, Mini Batch ::  2000] loss: 2.039\n",
      "[Epoch :: 1, Mini Batch ::  4000] loss: 1.823\n",
      "[Epoch :: 1, Mini Batch ::  6000] loss: 1.724\n",
      "[Epoch :: 1, Mini Batch ::  8000] loss: 1.697\n",
      "[Epoch :: 1, Mini Batch :: 10000] loss: 1.646\n",
      "[Epoch :: 1, Mini Batch :: 12000] loss: 1.621\n",
      "[Epoch :: 2, Mini Batch ::  2000] loss: 1.587\n",
      "[Epoch :: 2, Mini Batch ::  4000] loss: 1.553\n",
      "[Epoch :: 2, Mini Batch ::  6000] loss: 1.570\n",
      "[Epoch :: 2, Mini Batch ::  8000] loss: 1.530\n",
      "[Epoch :: 2, Mini Batch :: 10000] loss: 1.529\n",
      "[Epoch :: 2, Mini Batch :: 12000] loss: 1.519\n",
      "[Epoch :: 3, Mini Batch ::  2000] loss: 1.481\n",
      "[Epoch :: 3, Mini Batch ::  4000] loss: 1.491\n",
      "[Epoch :: 3, Mini Batch ::  6000] loss: 1.484\n",
      "[Epoch :: 3, Mini Batch ::  8000] loss: 1.459\n",
      "[Epoch :: 3, Mini Batch :: 10000] loss: 1.460\n",
      "[Epoch :: 3, Mini Batch :: 12000] loss: 1.461\n",
      "[Epoch :: 4, Mini Batch ::  2000] loss: 1.440\n",
      "[Epoch :: 4, Mini Batch ::  4000] loss: 1.431\n",
      "[Epoch :: 4, Mini Batch ::  6000] loss: 1.440\n",
      "[Epoch :: 4, Mini Batch ::  8000] loss: 1.423\n",
      "[Epoch :: 4, Mini Batch :: 10000] loss: 1.434\n",
      "[Epoch :: 4, Mini Batch :: 12000] loss: 1.429\n",
      "[Epoch :: 5, Mini Batch ::  2000] loss: 1.393\n",
      "[Epoch :: 5, Mini Batch ::  4000] loss: 1.411\n",
      "[Epoch :: 5, Mini Batch ::  6000] loss: 1.419\n",
      "[Epoch :: 5, Mini Batch ::  8000] loss: 1.377\n",
      "[Epoch :: 5, Mini Batch :: 10000] loss: 1.374\n",
      "[Epoch :: 5, Mini Batch :: 12000] loss: 1.385\n",
      "[Epoch :: 6, Mini Batch ::  2000] loss: 1.355\n",
      "[Epoch :: 6, Mini Batch ::  4000] loss: 1.393\n",
      "[Epoch :: 6, Mini Batch ::  6000] loss: 1.375\n",
      "[Epoch :: 6, Mini Batch ::  8000] loss: 1.365\n",
      "[Epoch :: 6, Mini Batch :: 10000] loss: 1.360\n",
      "[Epoch :: 6, Mini Batch :: 12000] loss: 1.382\n",
      "[Epoch :: 7, Mini Batch ::  2000] loss: 1.345\n",
      "[Epoch :: 7, Mini Batch ::  4000] loss: 1.351\n",
      "[Epoch :: 7, Mini Batch ::  6000] loss: 1.319\n",
      "[Epoch :: 7, Mini Batch ::  8000] loss: 1.352\n",
      "[Epoch :: 7, Mini Batch :: 10000] loss: 1.393\n",
      "[Epoch :: 7, Mini Batch :: 12000] loss: 1.370\n",
      "[Epoch :: 8, Mini Batch ::  2000] loss: 1.315\n",
      "[Epoch :: 8, Mini Batch ::  4000] loss: 1.343\n",
      "[Epoch :: 8, Mini Batch ::  6000] loss: 1.317\n",
      "[Epoch :: 8, Mini Batch ::  8000] loss: 1.353\n",
      "[Epoch :: 8, Mini Batch :: 10000] loss: 1.348\n",
      "[Epoch :: 8, Mini Batch :: 12000] loss: 1.341\n",
      "[Epoch :: 9, Mini Batch ::  2000] loss: 1.305\n",
      "[Epoch :: 9, Mini Batch ::  4000] loss: 1.308\n",
      "[Epoch :: 9, Mini Batch ::  6000] loss: 1.319\n",
      "[Epoch :: 9, Mini Batch ::  8000] loss: 1.337\n",
      "[Epoch :: 9, Mini Batch :: 10000] loss: 1.328\n",
      "[Epoch :: 9, Mini Batch :: 12000] loss: 1.346\n",
      "[Epoch :: 10, Mini Batch ::  2000] loss: 1.299\n",
      "[Epoch :: 10, Mini Batch ::  4000] loss: 1.306\n",
      "[Epoch :: 10, Mini Batch ::  6000] loss: 1.290\n",
      "[Epoch :: 10, Mini Batch ::  8000] loss: 1.311\n",
      "[Epoch :: 10, Mini Batch :: 10000] loss: 1.299\n",
      "[Epoch :: 10, Mini Batch :: 12000] loss: 1.324\n",
      "Finished Training\n"
     ]
    }
   ],
   "source": [
    "# net=Net()\n",
    "\n",
    "lossvsiter=[]\n",
    "\n",
    "# To see if the model is on CUDA or not !\n",
    "if (next(net.parameters()).is_cuda) :\n",
    "    print(\"The model is on CUDA\")\n",
    "else :\n",
    "    print(\"The model is on CPU\")\n",
    "\n",
    "# Import the optimizers \n",
    "import torch.optim as optim\n",
    "\n",
    "# Declare a loss function\n",
    "criterion = nn.CrossEntropyLoss()\n",
    "\n",
    "# Declare an optimizer\n",
    "optimizer = optim.Adam(net.parameters())\n",
    "\n",
    "#No of iterations !\n",
    "iterations = 10\n",
    "\n",
    "\n",
    "for epoch in range(iterations):  # loop over the dataset multiple times\n",
    "    \n",
    "    # Reset the loss for the current epoch !\n",
    "    running_loss = 0.0\n",
    "    \n",
    "    # Loop over all the mini-batches therea are 12500 mini batches of size 4 each !\n",
    "    for i, data in enumerate(trainloader, 0):\n",
    "        # get the inputs\n",
    "        inputs, labels = data\n",
    "        \n",
    "        # wrap them in Variable & if possible make them cuda tensors\n",
    "        inputs, labels = Variable(inputs.cuda()), Variable(labels.cuda())\n",
    "\n",
    "        # zero the parameter gradients for the current epoch\n",
    "        optimizer.zero_grad()\n",
    "        \n",
    "        # forward + backward + optimize\n",
    "        \n",
    "        # forward\n",
    "        outputs = net(inputs)\n",
    "        loss = criterion(outputs, labels)\n",
    "        \n",
    "        # Calculate gradients of whatever variable set to req_gardients = True\n",
    "        loss.backward()\n",
    "        \n",
    "        # Take one step of the gradient descent for this epoch ! \n",
    "        optimizer.step()\n",
    "        \n",
    "        # print statistics\n",
    "        running_loss += loss.data[0]\n",
    "        if i % 2000 == 1999:    # print every 2000 mini-batches\n",
    "            print('[Epoch :: %d, Mini Batch :: %5d] loss: %.3f' %\n",
    "                  (epoch + 1, i + 1, running_loss / 2000))\n",
    "            lossvsiter.append(running_loss / 2000)\n",
    "            running_loss = 0.0\n",
    "        \n",
    "\n",
    "print('Finished Training')"
   ]
  },
  {
   "cell_type": "code",
   "execution_count": 16,
   "metadata": {
    "collapsed": true
   },
   "outputs": [],
   "source": [
    "import pickle"
   ]
  },
  {
   "cell_type": "code",
   "execution_count": 17,
   "metadata": {
    "collapsed": true
   },
   "outputs": [],
   "source": [
    "with open(\"PyTorch-Architecture-2.pkl\",\"wb\") as f:\n",
    "    pickle.dump(lossvsiter,f)"
   ]
  },
  {
   "cell_type": "code",
   "execution_count": 18,
   "metadata": {},
   "outputs": [
    {
     "name": "stdout",
     "output_type": "stream",
     "text": [
      "Accuracy of the network on the 10000 test images: 52 %\n"
     ]
    }
   ],
   "source": [
    "correct = 0\n",
    "total = 0\n",
    "\n",
    "for data in testloader:\n",
    "    images, labels = data\n",
    "    images=images.cuda()\n",
    "    labels=labels.cuda()\n",
    "    try:\n",
    "        outputs = net(Variable(images))\n",
    "    except RuntimeError as re:\n",
    "        print(outputs.is_cuda)\n",
    "        print(str(re))\n",
    "        sys.exit()\n",
    "    _, predicted = torch.max(outputs.data, 1)\n",
    "    total += labels.size(0)\n",
    "    correct += (predicted == labels).sum()\n",
    "\n",
    "print('Accuracy of the network on the 10000 test images: %d %%' % (\n",
    "    100 * correct / total))"
   ]
  },
  {
   "cell_type": "code",
   "execution_count": 19,
   "metadata": {},
   "outputs": [
    {
     "data": {
      "text/plain": [
       "5218"
      ]
     },
     "execution_count": 19,
     "metadata": {},
     "output_type": "execute_result"
    }
   ],
   "source": [
    "correct"
   ]
  },
  {
   "cell_type": "code",
   "execution_count": 20,
   "metadata": {},
   "outputs": [
    {
     "name": "stdout",
     "output_type": "stream",
     "text": [
      "0\n",
      "1000\n",
      "2000\n",
      "3000\n",
      "4000\n",
      "5000\n",
      "6000\n",
      "7000\n",
      "8000\n",
      "9000\n",
      "10000\n",
      "11000\n",
      "12000\n",
      "Accuracy of the network on the 50000 trained images: 53 %\n"
     ]
    }
   ],
   "source": [
    "for i, data in enumerate(trainloader, 0):\n",
    "    images, labels = data\n",
    "    images=images.cuda()\n",
    "    labels=labels.cuda()\n",
    "    try:\n",
    "        outputs = net(Variable(images))\n",
    "    except RuntimeError as re:\n",
    "        print(outputs.is_cuda)\n",
    "        print(str(re))\n",
    "        sys.exit()\n",
    "    _, predicted = torch.max(outputs.data, 1)\n",
    "    total += labels.size(0)\n",
    "    correct += (predicted == labels).sum()\n",
    "    if (i%1000) == 0:\n",
    "        print(i)\n",
    "\n",
    "print('Accuracy of the network on the 50000 trained images: %d %%' % (\n",
    "    100 * correct / total))"
   ]
  },
  {
   "cell_type": "code",
   "execution_count": null,
   "metadata": {
    "collapsed": true
   },
   "outputs": [],
   "source": [
    "class_correct = list(0. for i in range(10))\n",
    "class_total = list(0. for i in range(10))\n",
    "for data in testloader:\n",
    "    images, labels = data\n",
    "    images=images.cuda()\n",
    "    labels=labels.cuda()\n",
    "    outputs = net(Variable(images))\n",
    "    _, predicted = torch.max(outputs.data, 1)\n",
    "    c = (predicted == labels).squeeze()\n",
    "    for i in range(4):\n",
    "        label = labels[i]\n",
    "        class_correct[label] += c[i]\n",
    "        class_total[label] += 1\n",
    "\n",
    "\n",
    "for i in range(10):\n",
    "    print('Accuracy of %5s : %2d %%' % (\n",
    "        classes[i], 100 * class_correct[i] / class_total[i]))"
   ]
  },
  {
   "cell_type": "code",
   "execution_count": null,
   "metadata": {
    "collapsed": true
   },
   "outputs": [],
   "source": [
    "lossvsiter"
   ]
  },
  {
   "cell_type": "code",
   "execution_count": null,
   "metadata": {
    "collapsed": true
   },
   "outputs": [],
   "source": [
    "%matplotlib inline"
   ]
  },
  {
   "cell_type": "code",
   "execution_count": null,
   "metadata": {
    "collapsed": true
   },
   "outputs": [],
   "source": [
    "import matplotlib.pyplot as plt\n",
    "plt.plot(lossvsiter)\n",
    "plt.ylabel('loss')\n",
    "plt.xlabel('every 2000th mini-batch')\n",
    "plt.show()"
   ]
  },
  {
   "cell_type": "code",
   "execution_count": null,
   "metadata": {
    "collapsed": true
   },
   "outputs": [],
   "source": [
    "# Lets save the model !!"
   ]
  },
  {
   "cell_type": "code",
   "execution_count": null,
   "metadata": {
    "collapsed": true
   },
   "outputs": [],
   "source": [
    " torch.save(net.state_dict(),\"./models/archi2\")"
   ]
  }
 ],
 "metadata": {
  "kernelspec": {
   "display_name": "Python 3",
   "language": "python",
   "name": "python3"
  },
  "language_info": {
   "codemirror_mode": {
    "name": "ipython",
    "version": 3
   },
   "file_extension": ".py",
   "mimetype": "text/x-python",
   "name": "python",
   "nbconvert_exporter": "python",
   "pygments_lexer": "ipython3",
   "version": "3.5.2"
  }
 },
 "nbformat": 4,
 "nbformat_minor": 2
}
