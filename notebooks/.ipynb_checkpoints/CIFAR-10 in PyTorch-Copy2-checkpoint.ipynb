{
 "cells": [
  {
   "cell_type": "code",
   "execution_count": 1,
   "metadata": {
    "collapsed": true
   },
   "outputs": [],
   "source": [
    "import torch\n",
    "import torchvision\n",
    "import torchvision.transforms as transforms"
   ]
  },
  {
   "cell_type": "code",
   "execution_count": 2,
   "metadata": {
    "collapsed": true
   },
   "outputs": [],
   "source": [
    "torch.cuda.set_device(0)"
   ]
  },
  {
   "cell_type": "code",
   "execution_count": 3,
   "metadata": {
    "collapsed": true
   },
   "outputs": [],
   "source": [
    "transform = transforms.Compose(\n",
    "    [transforms.ToTensor(),\n",
    "     transforms.Normalize((0.5, 0.5, 0.5), (0.5, 0.5, 0.5))])"
   ]
  },
  {
   "cell_type": "code",
   "execution_count": 4,
   "metadata": {},
   "outputs": [
    {
     "name": "stdout",
     "output_type": "stream",
     "text": [
      "Files already downloaded and verified\n",
      "Files already downloaded and verified\n"
     ]
    }
   ],
   "source": [
    "trainset = torchvision.datasets.CIFAR10(root='./data', train=True,download=True, transform=transform)\n",
    "trainloader = torch.utils.data.DataLoader(trainset, batch_size=4, shuffle=True, num_workers=2)\n",
    "testset = torchvision.datasets.CIFAR10(root=\"./data\", train=False, download=True, transform=transform)\n",
    "testloader= torch.utils.data.DataLoader(testset, batch_size=4, shuffle=False, num_workers=2)\n",
    "classes=('plane', 'car', 'bird', 'cat','deer', 'dog', 'frog', 'horse', 'ship', 'truck')"
   ]
  },
  {
   "cell_type": "code",
   "execution_count": 5,
   "metadata": {},
   "outputs": [
    {
     "data": {
      "text/plain": [
       "torch.utils.data.dataloader.DataLoader"
      ]
     },
     "execution_count": 5,
     "metadata": {},
     "output_type": "execute_result"
    }
   ],
   "source": [
    "type(testloader)"
   ]
  },
  {
   "cell_type": "code",
   "execution_count": 6,
   "metadata": {},
   "outputs": [
    {
     "data": {
      "text/plain": [
       "12500"
      ]
     },
     "execution_count": 6,
     "metadata": {},
     "output_type": "execute_result"
    }
   ],
   "source": [
    "len(trainloader)"
   ]
  },
  {
   "cell_type": "code",
   "execution_count": 7,
   "metadata": {},
   "outputs": [
    {
     "name": "stdout",
     "output_type": "stream",
     "text": [
      "  car   car horse  bird\n"
     ]
    },
    {
     "data": {
      "image/png": "[encoded data removed]",
      "text/plain": [
       "<matplotlib.figure.Figure at 0x7f3fbf855d30>"
      ]
     },
     "metadata": {},
     "output_type": "display_data"
    },
    {
     "name": "stderr",
     "output_type": "stream",
     "text": [
      "Process Process-2:\n",
      "Process Process-1:\n",
      "Traceback (most recent call last):\n",
      "Traceback (most recent call last):\n",
      "  File \"/usr/lib/python3.5/multiprocessing/process.py\", line 249, in _bootstrap\n",
      "    self.run()\n",
      "  File \"/usr/lib/python3.5/multiprocessing/process.py\", line 249, in _bootstrap\n",
      "    self.run()\n",
      "  File \"/usr/lib/python3.5/multiprocessing/process.py\", line 93, in run\n",
      "    self._target(*self._args, **self._kwargs)\n",
      "  File \"/usr/lib/python3.5/multiprocessing/process.py\", line 93, in run\n",
      "    self._target(*self._args, **self._kwargs)\n",
      "  File \"/home/sangeet/.local/lib/python3.5/site-packages/torch/utils/data/dataloader.py\", line 34, in _worker_loop\n",
      "    r = index_queue.get()\n",
      "  File \"/usr/lib/python3.5/multiprocessing/queues.py\", line 343, in get\n",
      "    res = self._reader.recv_bytes()\n",
      "  File \"/home/sangeet/.local/lib/python3.5/site-packages/torch/utils/data/dataloader.py\", line 34, in _worker_loop\n",
      "    r = index_queue.get()\n",
      "  File \"/usr/lib/python3.5/multiprocessing/queues.py\", line 342, in get\n",
      "    with self._rlock:\n",
      "  File \"/usr/lib/python3.5/multiprocessing/connection.py\", line 216, in recv_bytes\n",
      "    buf = self._recv_bytes(maxlength)\n",
      "  File \"/usr/lib/python3.5/multiprocessing/synchronize.py\", line 96, in __enter__\n",
      "    return self._semlock.__enter__()\n",
      "KeyboardInterrupt\n",
      "  File \"/usr/lib/python3.5/multiprocessing/connection.py\", line 407, in _recv_bytes\n",
      "    buf = self._recv(4)\n",
      "  File \"/usr/lib/python3.5/multiprocessing/connection.py\", line 379, in _recv\n",
      "    chunk = read(handle, remaining)\n",
      "KeyboardInterrupt\n"
     ]
    }
   ],
   "source": [
    "import matplotlib.pyplot as plt\n",
    "import numpy as np\n",
    "%matplotlib inline\n",
    "# functions to show an image\n",
    "\n",
    "def imshow(img):\n",
    "    img = img / 2 + 0.5     # unnormalize\n",
    "    npimg = img.numpy()\n",
    "    plt.imshow(np.transpose(npimg, (1, 2, 0)))\n",
    "\n",
    "# get some random training images\n",
    "dataiter = iter(trainloader)\n",
    "images, labels = dataiter.next()\n",
    "\n",
    "# show images\n",
    "imshow(torchvision.utils.make_grid(images))\n",
    "# print labels\n",
    "print(' '.join('%5s' % classes[labels[j]] for j in range(4)))"
   ]
  },
  {
   "cell_type": "code",
   "execution_count": 8,
   "metadata": {
    "collapsed": true
   },
   "outputs": [],
   "source": [
    "from torch.autograd import Variable\n",
    "import torch.nn as nn\n",
    "import torch.nn.functional as F\n",
    "\n",
    "\n",
    "class Net(nn.Module):\n",
    "    def __init__(self):\n",
    "        super(Net, self).__init__()\n",
    "        # 5 Layers : 2 conv layers and 3 fully connected layers !\n",
    "        self.conv1 = nn.Conv2d(3, 6, 5)\n",
    "        self.pool = nn.MaxPool2d(2, 2)\n",
    "        self.conv2 = nn.Conv2d(6, 16, 5)\n",
    "        self.fc1 = nn.Linear(16 * 5 * 5, 120)\n",
    "        self.fc2 = nn.Linear(120, 84)\n",
    "        self.fc3 = nn.Linear(84, 10)\n",
    "\n",
    "    def forward(self, x):\n",
    "        x = self.pool(F.relu(self.conv1(x)))\n",
    "        x = self.pool(F.relu(self.conv2(x)))\n",
    "        x = x.view(-1, 16 * 5 * 5)\n",
    "        x = F.relu(self.fc1(x))\n",
    "        x = F.relu(self.fc2(x))\n",
    "        x = self.fc3(x)\n",
    "        return x"
   ]
  },
  {
   "cell_type": "code",
   "execution_count": null,
   "metadata": {
    "scrolled": false
   },
   "outputs": [
    {
     "name": "stdout",
     "output_type": "stream",
     "text": [
      "The model is on CUDA\n",
      "[Epoch :: 1, Mini Batch ::  2000] loss: 2.140\n",
      "[Epoch :: 1, Mini Batch ::  4000] loss: 1.790\n",
      "[Epoch :: 1, Mini Batch ::  6000] loss: 1.637\n",
      "[Epoch :: 1, Mini Batch ::  8000] loss: 1.559\n",
      "[Epoch :: 1, Mini Batch :: 10000] loss: 1.499\n",
      "[Epoch :: 1, Mini Batch :: 12000] loss: 1.450\n",
      "[Epoch :: 2, Mini Batch ::  2000] loss: 1.381\n",
      "[Epoch :: 2, Mini Batch ::  4000] loss: 1.361\n",
      "[Epoch :: 2, Mini Batch ::  6000] loss: 1.318\n",
      "[Epoch :: 2, Mini Batch ::  8000] loss: 1.322\n",
      "[Epoch :: 2, Mini Batch :: 10000] loss: 1.298\n",
      "[Epoch :: 2, Mini Batch :: 12000] loss: 1.291\n",
      "[Epoch :: 3, Mini Batch ::  2000] loss: 1.203\n",
      "[Epoch :: 3, Mini Batch ::  4000] loss: 1.217\n",
      "[Epoch :: 3, Mini Batch ::  6000] loss: 1.187\n",
      "[Epoch :: 3, Mini Batch ::  8000] loss: 1.196\n",
      "[Epoch :: 3, Mini Batch :: 10000] loss: 1.190\n",
      "[Epoch :: 3, Mini Batch :: 12000] loss: 1.170\n",
      "[Epoch :: 4, Mini Batch ::  2000] loss: 1.107\n",
      "[Epoch :: 4, Mini Batch ::  4000] loss: 1.119\n",
      "[Epoch :: 4, Mini Batch ::  6000] loss: 1.119\n",
      "[Epoch :: 4, Mini Batch ::  8000] loss: 1.092\n",
      "[Epoch :: 4, Mini Batch :: 10000] loss: 1.130\n",
      "[Epoch :: 4, Mini Batch :: 12000] loss: 1.109\n",
      "[Epoch :: 5, Mini Batch ::  2000] loss: 1.028\n",
      "[Epoch :: 5, Mini Batch ::  4000] loss: 1.048\n",
      "[Epoch :: 5, Mini Batch ::  6000] loss: 1.045\n",
      "[Epoch :: 5, Mini Batch ::  8000] loss: 1.024\n",
      "[Epoch :: 5, Mini Batch :: 10000] loss: 1.044\n",
      "[Epoch :: 5, Mini Batch :: 12000] loss: 1.044\n",
      "[Epoch :: 6, Mini Batch ::  2000] loss: 0.962\n",
      "[Epoch :: 6, Mini Batch ::  4000] loss: 0.985\n",
      "[Epoch :: 6, Mini Batch ::  6000] loss: 0.998\n",
      "[Epoch :: 6, Mini Batch ::  8000] loss: 0.985\n",
      "[Epoch :: 6, Mini Batch :: 10000] loss: 1.017\n",
      "[Epoch :: 6, Mini Batch :: 12000] loss: 1.011\n",
      "[Epoch :: 7, Mini Batch ::  2000] loss: 0.904\n",
      "[Epoch :: 7, Mini Batch ::  4000] loss: 0.942\n",
      "[Epoch :: 7, Mini Batch ::  6000] loss: 0.950\n",
      "[Epoch :: 7, Mini Batch ::  8000] loss: 0.923\n",
      "[Epoch :: 7, Mini Batch :: 10000] loss: 0.969\n",
      "[Epoch :: 7, Mini Batch :: 12000] loss: 0.965\n",
      "[Epoch :: 8, Mini Batch ::  2000] loss: 0.873\n",
      "[Epoch :: 8, Mini Batch ::  4000] loss: 0.892\n",
      "[Epoch :: 8, Mini Batch ::  6000] loss: 0.913\n",
      "[Epoch :: 8, Mini Batch ::  8000] loss: 0.910\n",
      "[Epoch :: 8, Mini Batch :: 10000] loss: 0.935\n",
      "[Epoch :: 8, Mini Batch :: 12000] loss: 0.946\n",
      "[Epoch :: 9, Mini Batch ::  2000] loss: 0.839\n",
      "[Epoch :: 9, Mini Batch ::  4000] loss: 0.853\n",
      "[Epoch :: 9, Mini Batch ::  6000] loss: 0.871\n",
      "[Epoch :: 9, Mini Batch ::  8000] loss: 0.878\n",
      "[Epoch :: 9, Mini Batch :: 10000] loss: 0.896\n",
      "[Epoch :: 9, Mini Batch :: 12000] loss: 0.894\n",
      "[Epoch :: 10, Mini Batch ::  2000] loss: 0.810\n",
      "[Epoch :: 10, Mini Batch ::  4000] loss: 0.812\n",
      "[Epoch :: 10, Mini Batch ::  6000] loss: 0.855\n",
      "[Epoch :: 10, Mini Batch ::  8000] loss: 0.842\n",
      "[Epoch :: 10, Mini Batch :: 10000] loss: 0.886\n",
      "[Epoch :: 10, Mini Batch :: 12000] loss: 0.878\n",
      "[Epoch :: 11, Mini Batch ::  2000] loss: 0.779\n",
      "[Epoch :: 11, Mini Batch ::  4000] loss: 0.814\n",
      "[Epoch :: 11, Mini Batch ::  6000] loss: 0.816\n",
      "[Epoch :: 11, Mini Batch ::  8000] loss: 0.830\n",
      "[Epoch :: 11, Mini Batch :: 10000] loss: 0.837\n",
      "[Epoch :: 11, Mini Batch :: 12000] loss: 0.846\n",
      "[Epoch :: 12, Mini Batch ::  2000] loss: 0.744\n",
      "[Epoch :: 12, Mini Batch ::  4000] loss: 0.756\n",
      "[Epoch :: 12, Mini Batch ::  6000] loss: 0.781\n",
      "[Epoch :: 12, Mini Batch ::  8000] loss: 0.800\n",
      "[Epoch :: 12, Mini Batch :: 10000] loss: 0.839\n",
      "[Epoch :: 12, Mini Batch :: 12000] loss: 0.835\n",
      "[Epoch :: 13, Mini Batch ::  2000] loss: 0.720\n",
      "[Epoch :: 13, Mini Batch ::  4000] loss: 0.752\n",
      "[Epoch :: 13, Mini Batch ::  6000] loss: 0.762\n",
      "[Epoch :: 13, Mini Batch ::  8000] loss: 0.787\n",
      "[Epoch :: 13, Mini Batch :: 10000] loss: 0.823\n",
      "[Epoch :: 13, Mini Batch :: 12000] loss: 0.805\n",
      "[Epoch :: 14, Mini Batch ::  2000] loss: 0.713\n",
      "[Epoch :: 14, Mini Batch ::  4000] loss: 0.728\n",
      "[Epoch :: 14, Mini Batch ::  6000] loss: 0.761\n",
      "[Epoch :: 14, Mini Batch ::  8000] loss: 0.787\n",
      "[Epoch :: 14, Mini Batch :: 10000] loss: 0.774\n",
      "[Epoch :: 14, Mini Batch :: 12000] loss: 0.803\n",
      "[Epoch :: 15, Mini Batch ::  2000] loss: 0.681\n",
      "[Epoch :: 15, Mini Batch ::  4000] loss: 0.712\n",
      "[Epoch :: 15, Mini Batch ::  6000] loss: 0.740\n",
      "[Epoch :: 15, Mini Batch ::  8000] loss: 0.757\n",
      "[Epoch :: 15, Mini Batch :: 10000] loss: 0.770\n",
      "[Epoch :: 15, Mini Batch :: 12000] loss: 0.791\n",
      "[Epoch :: 16, Mini Batch ::  2000] loss: 0.641\n",
      "[Epoch :: 16, Mini Batch ::  4000] loss: 0.728\n",
      "[Epoch :: 16, Mini Batch ::  6000] loss: 0.742\n",
      "[Epoch :: 16, Mini Batch ::  8000] loss: 0.732\n"
     ]
    }
   ],
   "source": [
    "# Create an instance of the model on CUDA\n",
    "net = Net().cuda()\n",
    "\n",
    "lossvsiter=[]\n",
    "\n",
    "# To see if the model is on CUDA or not !\n",
    "if (next(net.parameters()).is_cuda) :\n",
    "    print(\"The model is on CUDA\")\n",
    "else :\n",
    "    print(\"The model is on CPU\")\n",
    "\n",
    "# Import the optimizers \n",
    "import torch.optim as optim\n",
    "\n",
    "# Declare a loss function\n",
    "criterion = nn.CrossEntropyLoss()\n",
    "\n",
    "# Declare an optimizer\n",
    "optimizer = optim.SGD(net.parameters(), lr=0.001, momentum=0.9)\n",
    "\n",
    "#No of iterations !\n",
    "iterations = 50\n",
    "\n",
    "\n",
    "for epoch in range(iterations):  # loop over the dataset multiple times\n",
    "    \n",
    "    # Reset the loss for the current epoch !\n",
    "    running_loss = 0.0\n",
    "    \n",
    "    # Loop over all the mini-batches therea are 12500 mini batches of size 4 each !\n",
    "    for i, data in enumerate(trainloader, 0):\n",
    "        # get the inputs\n",
    "        inputs, labels = data\n",
    "        \n",
    "        # wrap them in Variable & if possible make them cuda tensors\n",
    "        inputs, labels = Variable(inputs.cuda()), Variable(labels.cuda())\n",
    "\n",
    "        # zero the parameter gradients for the current epoch\n",
    "        optimizer.zero_grad()\n",
    "        \n",
    "        # forward + backward + optimize\n",
    "        \n",
    "        # forward\n",
    "        outputs = net(inputs)\n",
    "        loss = criterion(outputs, labels)\n",
    "        \n",
    "        # Calculate gradients of whatever variable set to req_gardients = True\n",
    "        loss.backward()\n",
    "        \n",
    "        # Take one step of the gradient descent for this epoch ! \n",
    "        optimizer.step()\n",
    "        \n",
    "        # print statistics\n",
    "        running_loss += loss.data[0]\n",
    "        if i % 2000 == 1999:    # print every 2000 mini-batches\n",
    "            print('[Epoch :: %d, Mini Batch :: %5d] loss: %.3f' %\n",
    "                  (epoch + 1, i + 1, running_loss / 2000))\n",
    "            lossvsiter.append(running_loss / 2000)\n",
    "            running_loss = 0.0\n",
    "        \n",
    "\n",
    "print('Finished Training')"
   ]
  },
  {
   "cell_type": "code",
   "execution_count": null,
   "metadata": {
    "collapsed": true,
    "scrolled": false
   },
   "outputs": [],
   "source": [
    "dataiter = iter(testloader)\n",
    "images, labels = dataiter.next()\n",
    "\n",
    "# print images\n",
    "imshow(torchvision.utils.make_grid(images))\n",
    "print('GroundTruth: ', ' '.join('%5s' % classes[labels[j]] for j in range(4)))"
   ]
  },
  {
   "cell_type": "code",
   "execution_count": null,
   "metadata": {
    "collapsed": true
   },
   "outputs": [],
   "source": [
    "outputs = net(Variable(images).cuda())"
   ]
  },
  {
   "cell_type": "code",
   "execution_count": null,
   "metadata": {
    "collapsed": true
   },
   "outputs": [],
   "source": [
    "_, predicted = torch.max(outputs.data, 1)"
   ]
  },
  {
   "cell_type": "code",
   "execution_count": null,
   "metadata": {
    "collapsed": true
   },
   "outputs": [],
   "source": [
    "print('Predicted: ', ' '.join('%5s' % classes[predicted[j]]\n",
    "                              for j in range(4)))"
   ]
  },
  {
   "cell_type": "code",
   "execution_count": null,
   "metadata": {
    "collapsed": true
   },
   "outputs": [],
   "source": [
    "import sys # For sys.exit() I have used somewhere"
   ]
  },
  {
   "cell_type": "markdown",
   "metadata": {},
   "source": [
    "## What is the train set accuracy , <br> this information is requied to check if the model is overfitting ?"
   ]
  },
  {
   "cell_type": "code",
   "execution_count": null,
   "metadata": {
    "collapsed": true
   },
   "outputs": [],
   "source": [
    "correct = 0\n",
    "total = 0\n",
    "\n",
    "for data in testloader:\n",
    "    images, labels = data\n",
    "    images=images.cuda()\n",
    "    labels=labels.cuda()\n",
    "    try:\n",
    "        outputs = net(Variable(images))\n",
    "    except RuntimeError as re:\n",
    "        print(outputs.is_cuda)\n",
    "        print(str(re))\n",
    "        sys.exit()\n",
    "    _, predicted = torch.max(outputs.data, 1)\n",
    "    total += labels.size(0)\n",
    "    correct += (predicted == labels).sum()\n",
    "\n",
    "print('Accuracy of the network on the 10000 test images: %d %%' % (\n",
    "    100 * correct / total))"
   ]
  },
  {
   "cell_type": "code",
   "execution_count": null,
   "metadata": {
    "collapsed": true
   },
   "outputs": [],
   "source": [
    "for i, data in enumerate(trainloader, 0):\n",
    "    images, labels = data\n",
    "    images=images.cuda()\n",
    "    labels=labels.cuda()\n",
    "    try:\n",
    "        outputs = net(Variable(images))\n",
    "    except RuntimeError as re:\n",
    "        print(outputs.is_cuda)\n",
    "        print(str(re))\n",
    "        sys.exit()\n",
    "    _, predicted = torch.max(outputs.data, 1)\n",
    "    total += labels.size(0)\n",
    "    correct += (predicted == labels).sum()\n",
    "    if (i%1000) == 0:\n",
    "        print(i)\n",
    "\n",
    "print('Accuracy of the network on the 50000 trained images: %d %%' % (\n",
    "    100 * correct / total))"
   ]
  },
  {
   "cell_type": "code",
   "execution_count": null,
   "metadata": {
    "collapsed": true
   },
   "outputs": [],
   "source": [
    "class_correct = list(0. for i in range(10))\n",
    "class_total = list(0. for i in range(10))\n",
    "for data in testloader:\n",
    "    images, labels = data\n",
    "    images=images.cuda()\n",
    "    labels=labels.cuda()\n",
    "    outputs = net(Variable(images))\n",
    "    _, predicted = torch.max(outputs.data, 1)\n",
    "    c = (predicted == labels).squeeze()\n",
    "    for i in range(4):\n",
    "        label = labels[i]\n",
    "        class_correct[label] += c[i]\n",
    "        class_total[label] += 1\n",
    "\n",
    "\n",
    "for i in range(10):\n",
    "    print('Accuracy of %5s : %2d %%' % (\n",
    "        classes[i], 100 * class_correct[i] / class_total[i]))"
   ]
  }
 ],
 "metadata": {
  "kernelspec": {
   "display_name": "Python 3",
   "language": "python",
   "name": "python3"
  },
  "language_info": {
   "codemirror_mode": {
    "name": "ipython",
    "version": 3
   },
   "file_extension": ".py",
   "mimetype": "text/x-python",
   "name": "python",
   "nbconvert_exporter": "python",
   "pygments_lexer": "ipython3",
   "version": "3.5.2"
  }
 },
 "nbformat": 4,
 "nbformat_minor": 2
}
