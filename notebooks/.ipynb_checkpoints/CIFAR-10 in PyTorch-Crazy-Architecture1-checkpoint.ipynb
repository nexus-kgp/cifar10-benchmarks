{
 "cells": [
  {
   "cell_type": "markdown",
   "metadata": {},
   "source": [
    "Conv x 8 + F.C. x 3"
   ]
  },
  {
   "cell_type": "code",
   "execution_count": null,
   "metadata": {
    "collapsed": true
   },
   "outputs": [],
   "source": [
    "import torch\n",
    "import torchvision\n",
    "import torchvision.transforms as transforms\n",
    "import numpy as np"
   ]
  },
  {
   "cell_type": "code",
   "execution_count": 1,
   "metadata": {},
   "outputs": [
    {
     "name": "stdout",
     "output_type": "stream",
     "text": [
      "Files already downloaded and verified\n",
      "Files already downloaded and verified\n"
     ]
    }
   ],
   "source": [
    "transform = transforms.Compose(\n",
    "    [transforms.ToTensor(),\n",
    "     transforms.Normalize((0.5, 0.5, 0.5), (0.5, 0.5, 0.5))])\n",
    "trainset = torchvision.datasets.CIFAR10(root='./data', train=True,download=True, transform=transform)\n",
    "trainloader = torch.utils.data.DataLoader(trainset, batch_size=4, shuffle=True, num_workers=2)\n",
    "testset = torchvision.datasets.CIFAR10(root=\"./data\", train=False, download=True, transform=transform)\n",
    "testloader= torch.utils.data.DataLoader(testset, batch_size=4, shuffle=False, num_workers=2)\n",
    "classes=('plane', 'car', 'bird', 'cat','deer', 'dog', 'frog', 'horse', 'ship', 'truck')"
   ]
  },
  {
   "cell_type": "code",
   "execution_count": 2,
   "metadata": {
    "collapsed": true
   },
   "outputs": [],
   "source": [
    "from torch.autograd import Variable\n",
    "import torch.nn as nn\n",
    "import torch.nn.functional as F\n",
    "\n",
    "\n",
    "class Net(nn.Module):\n",
    "    \n",
    "    def __init__(self):\n",
    "        super(Net, self).__init__()\n",
    "        # 11 Layers : 8 conv layers and 3 fully connected layers !\n",
    "        self.conv1 = nn.Conv2d(3, 8, 3,padding=1)\n",
    "        self.pool = nn.MaxPool2d(2, 2)\n",
    "        self.conv2 = nn.Conv2d(8, 12, 3,padding=1)\n",
    "        self.conv3 = nn.Conv2d(12,20, 3,padding=1)\n",
    "        self.conv4 = nn.Conv2d(20,24, 3,padding=1)\n",
    "        self.conv5 = nn.Conv2d(24,32, 3,padding=1)\n",
    "        self.conv6 = nn.Conv2d(32,48, 3,padding=1)\n",
    "        self.conv7 = nn.Conv2d(48,64, 3,padding=1)\n",
    "        self.conv8 = nn.Conv2d(64,72, 3,padding=1)\n",
    "        self.conv9 = nn.Conv2d(72,80, 3,padding=1)\n",
    "        self.fc1 = nn.Linear(80*4*4, 120)\n",
    "        self.fc2 = nn.Linear(120, 84)\n",
    "        self.fc3 = nn.Linear(84, 10)\n",
    "\n",
    "        \n",
    "    def forward(self, x):\n",
    "        x = F.relu(self.conv1(x))\n",
    "        x = F.relu(self.conv2(x))\n",
    "        x = self.pool(F.relu(self.conv3(x)))\n",
    "        x = F.relu(self.conv4(x))\n",
    "        x = F.relu(self.conv5(x))\n",
    "        x = self.pool(F.relu(self.conv6(x)))\n",
    "        x = F.relu(self.conv7(x))\n",
    "        x = F.relu(self.conv8(x))\n",
    "        x = self.pool(F.relu(self.conv9(x)))\n",
    "\n",
    "        x = x.view(-1, 80*4*4)\n",
    "        x = F.relu(self.fc1(x))\n",
    "        x = F.relu(self.fc2(x))\n",
    "        x = self.fc3(x)\n",
    "        return x"
   ]
  },
  {
   "cell_type": "code",
   "execution_count": 5,
   "metadata": {
    "collapsed": true
   },
   "outputs": [],
   "source": [
    "# Function to create an instance of the model on CUDA ,\n",
    "# Do not use this function if you are loading a network to further train it !\n",
    "# In that case just load it and call train_existing_net(model_name) !\n",
    "# Infact train_existing net is almost same as new_net function with the net= Net().cuda() commented out !\n",
    "\n",
    "def new_net(lrate,wd):\n",
    "    \n",
    "    net = Net().cuda()\n",
    "\n",
    "    # net=Net()\n",
    "\n",
    "    lossvsiter=[]\n",
    "\n",
    "    # To see if the model is on CUDA or not !\n",
    "    if (next(net.parameters()).is_cuda) :\n",
    "        print(\"The model is on CUDA\")\n",
    "    else :\n",
    "        print(\"The model is on CPU\")\n",
    "\n",
    "    # Import the optimizers \n",
    "    import torch.optim as optim\n",
    "\n",
    "    # Declare a loss function\n",
    "    criterion = nn.CrossEntropyLoss()\n",
    "\n",
    "    # Declare an optimizer\n",
    "    optimizer = optim.Adam(net.parameters(),lr=lrate,weight_decay=wd)\n",
    "\n",
    "    #No of iterations !\n",
    "    iterations = 10\n",
    "\n",
    "\n",
    "    for epoch in range(iterations):  # loop over the dataset multiple times\n",
    "\n",
    "        # Reset the loss for the current epoch !\n",
    "        running_loss = 0.0\n",
    "\n",
    "        # Loop over all the mini-batches therea are 12500 mini batches of size 4 each !\n",
    "        for i, data in enumerate(trainloader, 0):\n",
    "            # get the inputs\n",
    "            inputs, labels = data\n",
    "\n",
    "            # wrap them in Variable & if possible make them cuda tensors\n",
    "            inputs, labels = Variable(inputs.cuda()), Variable(labels.cuda())\n",
    "\n",
    "            # zero the parameter gradients for the current epoch\n",
    "            optimizer.zero_grad()\n",
    "\n",
    "            # forward + backward + optimize\n",
    "\n",
    "            # forward\n",
    "            outputs = net(inputs)\n",
    "            loss = criterion(outputs, labels)\n",
    "\n",
    "            # Calculate gradients of whatever variable set to req_gardients = True\n",
    "            loss.backward()\n",
    "\n",
    "            # Take one step of the gradient descent for this epoch ! \n",
    "            optimizer.step()\n",
    "\n",
    "            # print statistics\n",
    "            running_loss += loss.data[0]\n",
    "            if i % 2000 == 1999:    # print every 2000 mini-batches\n",
    "                print('[Epoch :: %d, Mini Batch :: %5d] loss: %.3f' %\n",
    "                      (epoch + 1, i + 1, running_loss / 2000))\n",
    "                lossvsiter.append(running_loss / 2000)\n",
    "                running_loss = 0.0\n",
    "\n",
    "\n",
    "    print('Finished Training')\n",
    "    return lossvsiter,net"
   ]
  },
  {
   "cell_type": "code",
   "execution_count": 58,
   "metadata": {
    "collapsed": true
   },
   "outputs": [],
   "source": [
    "def unpickle(lossvsiter_curr_model):\n",
    "    import pickle\n",
    "    with open(\"./results/\"+str(lossvsiter_curr_model)+\".pkl\",\"rb\") as f:\n",
    "        return pickle.load(f)"
   ]
  },
  {
   "cell_type": "code",
   "execution_count": 68,
   "metadata": {},
   "outputs": [],
   "source": [
    "def train_existing_net(net,lossvsiter_curr_model,lrate=0.0005,wd=1e-6,iterations=5):\n",
    "    \n",
    "    \"\"\"\n",
    "    Train an existing model, continuing its progression\n",
    "\n",
    "    Arguments :\n",
    "        net : The name of the nn.Module instance being trained !\n",
    "        learning rate (0.0005 by default) \n",
    "        Weight Decay (1e-6) by default\n",
    "        lossvsiter_curr_model : The list containing loss of all minibatches and epoches\n",
    "        iterations : The no of epochs you want to train this model for !\n",
    "        \n",
    "    \"\"\"\n",
    "    \n",
    "    # Just xontinue training from last epoch\n",
    "\n",
    "    lossvsiter=lossvsiter_curr_model\n",
    "    \n",
    "    start_epoch=int(2000/len(lossvsiter))\n",
    "    \n",
    "    print(\"starting from epoch no %d \"%(start_epoch))\n",
    "\n",
    "    # To see if the model is on CUDA or not !\n",
    "    if (next(net.parameters()).is_cuda) :\n",
    "        print(\"The model is on CUDA\")\n",
    "    else :\n",
    "        print(\"The model is on CPU\")\n",
    "\n",
    "    # Import the optimizers \n",
    "    import torch.optim as optim\n",
    "\n",
    "    # Declare a loss function\n",
    "    criterion = nn.CrossEntropyLoss()\n",
    "\n",
    "    # Declare an optimizer\n",
    "    optimizer = optim.Adam(net.parameters(),lr=lrate,weight_decay=wd)\n",
    "\n",
    "\n",
    "    for epoch in range(start_epoch,start_epoch+iterations):  # loop over the dataset multiple times\n",
    "\n",
    "        # Reset the loss for the current epoch !\n",
    "        running_loss = 0.0\n",
    "\n",
    "        # Loop over all the mini-batches therea are 12500 mini batches of size 4 each !\n",
    "        for i, data in enumerate(trainloader, 0):\n",
    "            # get the inputs\n",
    "            inputs, labels = data\n",
    "\n",
    "            # wrap them in Variable & if possible make them cuda tensors\n",
    "            inputs, labels = Variable(inputs.cuda()), Variable(labels.cuda())\n",
    "\n",
    "            # zero the parameter gradients for the current epoch\n",
    "            optimizer.zero_grad()\n",
    "\n",
    "            # forward + backward + optimize\n",
    "\n",
    "            # forward\n",
    "            outputs = net(inputs)\n",
    "            loss = criterion(outputs, labels)\n",
    "\n",
    "            # Calculate gradients of whatever variable set to req_gardients = True\n",
    "            loss.backward()\n",
    "\n",
    "            # Take one step of the gradient descent for this epoch ! \n",
    "            optimizer.step()\n",
    "\n",
    "            # print statistics\n",
    "            running_loss += loss.data[0]\n",
    "            if i % 2000 == 1999:    # print every 2000 mini-batches\n",
    "                print('[Epoch :: %d, Mini Batch :: %5d] loss: %.3f' %\n",
    "                      (epoch + 1, i + 1, running_loss / 2000))\n",
    "                lossvsiter.append(running_loss / 2000)\n",
    "                running_loss = 0.0\n",
    "\n",
    "\n",
    "    print('Finished Training')\n",
    "    return lossvsiter,net"
   ]
  },
  {
   "cell_type": "code",
   "execution_count": null,
   "metadata": {
    "collapsed": true
   },
   "outputs": [
    {
     "name": "stdout",
     "output_type": "stream",
     "text": [
      "The model is on CUDA\n",
      "[Epoch :: 1, Mini Batch ::  2000] loss: 2.125\n",
      "[Epoch :: 1, Mini Batch ::  4000] loss: 1.849\n",
      "[Epoch :: 1, Mini Batch ::  6000] loss: 1.766\n",
      "[Epoch :: 1, Mini Batch ::  8000] loss: 1.687\n",
      "[Epoch :: 1, Mini Batch :: 10000] loss: 1.648\n",
      "[Epoch :: 1, Mini Batch :: 12000] loss: 1.586\n",
      "[Epoch :: 2, Mini Batch ::  2000] loss: 1.495\n",
      "[Epoch :: 2, Mini Batch ::  4000] loss: 1.484\n",
      "[Epoch :: 2, Mini Batch ::  6000] loss: 1.454\n",
      "[Epoch :: 2, Mini Batch ::  8000] loss: 1.422\n",
      "[Epoch :: 2, Mini Batch :: 10000] loss: 1.400\n",
      "[Epoch :: 2, Mini Batch :: 12000] loss: 1.346\n",
      "[Epoch :: 3, Mini Batch ::  2000] loss: 1.292\n",
      "[Epoch :: 3, Mini Batch ::  4000] loss: 1.248\n",
      "[Epoch :: 3, Mini Batch ::  6000] loss: 1.249\n",
      "[Epoch :: 3, Mini Batch ::  8000] loss: 1.243\n",
      "[Epoch :: 3, Mini Batch :: 10000] loss: 1.178\n",
      "[Epoch :: 3, Mini Batch :: 12000] loss: 1.196\n",
      "[Epoch :: 4, Mini Batch ::  2000] loss: 1.134\n",
      "[Epoch :: 4, Mini Batch ::  4000] loss: 1.102\n",
      "[Epoch :: 4, Mini Batch ::  6000] loss: 1.087\n",
      "[Epoch :: 4, Mini Batch ::  8000] loss: 1.052\n",
      "[Epoch :: 4, Mini Batch :: 10000] loss: 1.059\n",
      "[Epoch :: 4, Mini Batch :: 12000] loss: 1.045\n",
      "[Epoch :: 5, Mini Batch ::  2000] loss: 0.975\n",
      "[Epoch :: 5, Mini Batch ::  4000] loss: 0.989\n",
      "[Epoch :: 5, Mini Batch ::  6000] loss: 0.982\n",
      "[Epoch :: 5, Mini Batch ::  8000] loss: 0.968\n",
      "[Epoch :: 5, Mini Batch :: 10000] loss: 0.975\n",
      "[Epoch :: 5, Mini Batch :: 12000] loss: 0.973\n",
      "[Epoch :: 6, Mini Batch ::  2000] loss: 0.905\n",
      "[Epoch :: 6, Mini Batch ::  4000] loss: 0.890\n",
      "[Epoch :: 6, Mini Batch ::  6000] loss: 0.911\n",
      "[Epoch :: 6, Mini Batch ::  8000] loss: 0.887\n",
      "[Epoch :: 6, Mini Batch :: 10000] loss: 0.901\n",
      "[Epoch :: 6, Mini Batch :: 12000] loss: 0.881\n",
      "[Epoch :: 7, Mini Batch ::  2000] loss: 0.820\n",
      "[Epoch :: 7, Mini Batch ::  4000] loss: 0.838\n",
      "[Epoch :: 7, Mini Batch ::  6000] loss: 0.865\n",
      "[Epoch :: 7, Mini Batch ::  8000] loss: 0.849\n",
      "[Epoch :: 7, Mini Batch :: 10000] loss: 0.831\n",
      "[Epoch :: 7, Mini Batch :: 12000] loss: 0.840\n",
      "[Epoch :: 8, Mini Batch ::  2000] loss: 0.757\n",
      "[Epoch :: 8, Mini Batch ::  4000] loss: 0.773\n",
      "[Epoch :: 8, Mini Batch ::  6000] loss: 0.793\n",
      "[Epoch :: 8, Mini Batch ::  8000] loss: 0.806\n",
      "[Epoch :: 8, Mini Batch :: 10000] loss: 0.808\n",
      "[Epoch :: 8, Mini Batch :: 12000] loss: 0.801\n",
      "[Epoch :: 9, Mini Batch ::  2000] loss: 0.714\n",
      "[Epoch :: 9, Mini Batch ::  4000] loss: 0.742\n",
      "[Epoch :: 9, Mini Batch ::  6000] loss: 0.745\n",
      "[Epoch :: 9, Mini Batch ::  8000] loss: 0.759\n",
      "[Epoch :: 9, Mini Batch :: 10000] loss: 0.791\n",
      "[Epoch :: 9, Mini Batch :: 12000] loss: 0.758\n",
      "[Epoch :: 10, Mini Batch ::  2000] loss: 0.700\n",
      "[Epoch :: 10, Mini Batch ::  4000] loss: 0.702\n",
      "[Epoch :: 10, Mini Batch ::  6000] loss: 0.707\n",
      "[Epoch :: 10, Mini Batch ::  8000] loss: 0.719\n",
      "[Epoch :: 10, Mini Batch :: 10000] loss: 0.718\n",
      "[Epoch :: 10, Mini Batch :: 12000] loss: 0.751\n",
      "[Epoch :: 11, Mini Batch ::  2000] loss: 0.664\n",
      "[Epoch :: 11, Mini Batch ::  4000] loss: 0.659\n",
      "[Epoch :: 11, Mini Batch ::  6000] loss: 0.670\n",
      "[Epoch :: 11, Mini Batch ::  8000] loss: 0.715\n",
      "[Epoch :: 11, Mini Batch :: 10000] loss: 0.700\n",
      "[Epoch :: 11, Mini Batch :: 12000] loss: 0.725\n",
      "[Epoch :: 12, Mini Batch ::  2000] loss: 0.649\n",
      "[Epoch :: 12, Mini Batch ::  4000] loss: 0.636\n",
      "[Epoch :: 12, Mini Batch ::  6000] loss: 0.647\n",
      "[Epoch :: 12, Mini Batch ::  8000] loss: 0.665\n",
      "[Epoch :: 12, Mini Batch :: 10000] loss: 0.723\n",
      "[Epoch :: 12, Mini Batch :: 12000] loss: 0.690\n",
      "[Epoch :: 13, Mini Batch ::  2000] loss: 0.611\n",
      "[Epoch :: 13, Mini Batch ::  4000] loss: 0.651\n",
      "[Epoch :: 13, Mini Batch ::  6000] loss: 0.652\n",
      "[Epoch :: 13, Mini Batch ::  8000] loss: 0.650\n",
      "[Epoch :: 13, Mini Batch :: 10000] loss: 0.662\n",
      "[Epoch :: 13, Mini Batch :: 12000] loss: 0.690\n",
      "[Epoch :: 14, Mini Batch ::  2000] loss: 0.599\n",
      "[Epoch :: 14, Mini Batch ::  4000] loss: 0.614\n",
      "[Epoch :: 14, Mini Batch ::  6000] loss: 0.634\n",
      "[Epoch :: 14, Mini Batch ::  8000] loss: 0.654\n",
      "[Epoch :: 14, Mini Batch :: 10000] loss: 0.665\n",
      "[Epoch :: 14, Mini Batch :: 12000] loss: 0.638\n",
      "[Epoch :: 15, Mini Batch ::  2000] loss: 0.583\n",
      "[Epoch :: 15, Mini Batch ::  4000] loss: 0.601\n",
      "[Epoch :: 15, Mini Batch ::  6000] loss: 0.611\n",
      "[Epoch :: 15, Mini Batch ::  8000] loss: 0.632\n",
      "[Epoch :: 15, Mini Batch :: 10000] loss: 0.640\n",
      "[Epoch :: 15, Mini Batch :: 12000] loss: 0.643\n"
     ]
    }
   ],
   "source": [
    "# Train a new modelfor || Do not run this if you want to continue from the last epoch !\n",
    "\n",
    "\n",
    "loss_distribution,model=new_net(0.0005,1e-7)"
   ]
  },
  {
   "cell_type": "code",
   "execution_count": 61,
   "metadata": {},
   "outputs": [
    {
     "data": {
      "text/plain": [
       "Net (\n",
       "  (conv1): Conv2d(3, 8, kernel_size=(3, 3), stride=(1, 1), padding=(1, 1))\n",
       "  (pool): MaxPool2d (size=(2, 2), stride=(2, 2), dilation=(1, 1))\n",
       "  (conv2): Conv2d(8, 12, kernel_size=(3, 3), stride=(1, 1), padding=(1, 1))\n",
       "  (conv3): Conv2d(12, 20, kernel_size=(3, 3), stride=(1, 1), padding=(1, 1))\n",
       "  (conv4): Conv2d(20, 24, kernel_size=(3, 3), stride=(1, 1), padding=(1, 1))\n",
       "  (conv5): Conv2d(24, 32, kernel_size=(3, 3), stride=(1, 1), padding=(1, 1))\n",
       "  (conv6): Conv2d(32, 48, kernel_size=(3, 3), stride=(1, 1), padding=(1, 1))\n",
       "  (conv7): Conv2d(48, 64, kernel_size=(3, 3), stride=(1, 1), padding=(1, 1))\n",
       "  (conv8): Conv2d(64, 72, kernel_size=(3, 3), stride=(1, 1), padding=(1, 1))\n",
       "  (conv9): Conv2d(72, 80, kernel_size=(3, 3), stride=(1, 1), padding=(1, 1))\n",
       "  (fc1): Linear (1280 -> 120)\n",
       "  (fc2): Linear (120 -> 84)\n",
       "  (fc3): Linear (84 -> 10)\n",
       ")"
      ]
     },
     "execution_count": 61,
     "metadata": {},
     "output_type": "execute_result"
    }
   ],
   "source": [
    "# To visualize the model !\n",
    "model"
   ]
  },
  {
   "cell_type": "code",
   "execution_count": 33,
   "metadata": {
    "collapsed": true
   },
   "outputs": [],
   "source": [
    "# Helper functions to evaluate the performance of our network on test images !\n",
    "\"\"\"\n",
    "Arguments::\n",
    "    network :: the custom nn.Module\n",
    "\n",
    "Returns::\n",
    "    accuracy_percentage\n",
    "    No of correctly classified image\n",
    "    \n",
    "\"\"\"\n",
    "\n",
    "def test_accuracy(model):\n",
    "    correct = 0\n",
    "    total = 0\n",
    "\n",
    "    for data in testloader:\n",
    "        images, labels = data\n",
    "        images=images.cuda()\n",
    "        labels=labels.cuda()\n",
    "        try:\n",
    "            outputs = model(Variable(images))\n",
    "        except RuntimeError as re:\n",
    "            print(outputs.is_cuda)\n",
    "            print(str(re))\n",
    "            sys.exit()\n",
    "        _, predicted = torch.max(outputs.data, 1)\n",
    "        total += labels.size(0)\n",
    "        correct += (predicted == labels).sum()\n",
    "        accuracy_percentage= 100 * correct / total\n",
    "\n",
    "    print('Accuracy of the network on the 10000 test images: %d  percent' % (accuracy_percentage))\n",
    "    print(\"The network correctly predicted %d images\"%(correct))\n",
    "    return accuracy_percentage,correct"
   ]
  },
  {
   "cell_type": "code",
   "execution_count": 38,
   "metadata": {
    "collapsed": true
   },
   "outputs": [],
   "source": [
    "# Helper functions to evaluate the performance of our network on test images !\n",
    "\"\"\"\n",
    "Arguments::\n",
    "    network :: the custom nn.Module\n",
    "\n",
    "Just prints the training accuracy\n",
    "    \n",
    "\"\"\"\n",
    "\n",
    "def train_accuracy(net):\n",
    "    total=0\n",
    "    correct=0\n",
    "    for i, data in enumerate(trainloader, 0):\n",
    "        images, labels = data\n",
    "        images=images.cuda()\n",
    "        labels=labels.cuda()\n",
    "        try:\n",
    "            outputs = net(Variable(images))\n",
    "        except RuntimeError as re:\n",
    "            print(outputs.is_cuda)\n",
    "            print(str(re))\n",
    "            sys.exit()\n",
    "        _, predicted = torch.max(outputs.data, 1)\n",
    "        total += labels.size(0)\n",
    "        correct += (predicted == labels).sum()\n",
    "        if (i%1000) == 0:\n",
    "            print(\"Estimattion %f percent complete \"%(i/125 ))\n",
    "\n",
    "    print('Accuracy of the network on the 50000 trained images: %f percent' % (\n",
    "        100 * correct / total))"
   ]
  },
  {
   "cell_type": "code",
   "execution_count": 54,
   "metadata": {},
   "outputs": [],
   "source": [
    "# Helper function to pickle \"stuff\"\n",
    "\n",
    "def pickleit(stuff,name):\n",
    "    import pickle\n",
    "    with open(\"./results/\"+str(name)+\".pkl\",\"wb\") as f:\n",
    "            pickle.dump(stuff,f)"
   ]
  },
  {
   "cell_type": "code",
   "execution_count": 34,
   "metadata": {},
   "outputs": [
    {
     "name": "stdout",
     "output_type": "stream",
     "text": [
      "Accuracy of the network on the 10000 test images: 71  percent\n",
      "The network correctly predicted 7128 images\n"
     ]
    },
    {
     "data": {
      "text/plain": [
       "(71.28, 7128)"
      ]
     },
     "execution_count": 34,
     "metadata": {},
     "output_type": "execute_result"
    }
   ],
   "source": [
    "test_accuracy(model)"
   ]
  },
  {
   "cell_type": "code",
   "execution_count": 39,
   "metadata": {
    "scrolled": true
   },
   "outputs": [
    {
     "name": "stdout",
     "output_type": "stream",
     "text": [
      "Estimattion 0.000000 percent complete \n",
      "Estimattion 8.000000 percent complete \n",
      "Estimattion 16.000000 percent complete \n",
      "Estimattion 24.000000 percent complete \n",
      "Estimattion 32.000000 percent complete \n",
      "Estimattion 40.000000 percent complete \n",
      "Estimattion 48.000000 percent complete \n",
      "Estimattion 56.000000 percent complete \n",
      "Estimattion 64.000000 percent complete \n",
      "Estimattion 72.000000 percent complete \n",
      "Estimattion 80.000000 percent complete \n",
      "Estimattion 88.000000 percent complete \n",
      "Estimattion 96.000000 percent complete \n",
      "Accuracy of the network on the 50000 trained images: 91.194000 percent\n"
     ]
    }
   ],
   "source": [
    "train_accuracy(model)"
   ]
  },
  {
   "cell_type": "code",
   "execution_count": 55,
   "metadata": {},
   "outputs": [],
   "source": [
    "pickleit(model,\"crazy-archi\")"
   ]
  },
  {
   "cell_type": "code",
   "execution_count": 56,
   "metadata": {
    "collapsed": true
   },
   "outputs": [],
   "source": [
    "pickleit(loss_distribution,\"15_epoch_loss_distribution_for_crazy_archi\")"
   ]
  },
  {
   "cell_type": "code",
   "execution_count": 60,
   "metadata": {
    "collapsed": true
   },
   "outputs": [],
   "source": [
    "import matplotlib.pyplot as plt\n",
    "%matplotlib inline"
   ]
  },
  {
   "cell_type": "code",
   "execution_count": 24,
   "metadata": {},
   "outputs": [
    {
     "name": "stdout",
     "output_type": "stream",
     "text": [
      "Accuracy of plane : 80 %\n",
      "Accuracy of   car : 86 %\n",
      "Accuracy of  bird : 58 %\n",
      "Accuracy of   cat : 52 %\n",
      "Accuracy of  deer : 65 %\n",
      "Accuracy of   dog : 65 %\n",
      "Accuracy of  frog : 73 %\n",
      "Accuracy of horse : 72 %\n",
      "Accuracy of  ship : 79 %\n",
      "Accuracy of truck : 78 %\n"
     ]
    }
   ],
   "source": [
    "net=model\n",
    "class_correct = list(0. for i in range(10))\n",
    "class_total = list(0. for i in range(10))\n",
    "for data in testloader:\n",
    "    images, labels = data\n",
    "    images=images.cuda()\n",
    "    labels=labels.cuda()\n",
    "    outputs = net(Variable(images))\n",
    "    _, predicted = torch.max(outputs.data, 1)\n",
    "    c = (predicted == labels).squeeze()\n",
    "    for i in range(4):\n",
    "        label = labels[i]\n",
    "        class_correct[label] += c[i]\n",
    "        class_total[label] += 1\n",
    "\n",
    "\n",
    "for i in range(10):\n",
    "    print('Accuracy of %5s : %2d %%' % (\n",
    "        classes[i], 100 * class_correct[i] / class_total[i]))"
   ]
  },
  {
   "cell_type": "code",
   "execution_count": 13,
   "metadata": {
    "collapsed": true
   },
   "outputs": [],
   "source": [
    "%matplotlib inline"
   ]
  },
  {
   "cell_type": "code",
   "execution_count": 27,
   "metadata": {},
   "outputs": [
    {
     "data": {
      "image/png": "[encoded data removed]",
      "text/plain": [
       "<matplotlib.figure.Figure at 0x7f8633af1c18>"
      ]
     },
     "metadata": {},
     "output_type": "display_data"
    }
   ],
   "source": [
    "import matplotlib.pyplot as plt\n",
    "plt.plot(loss_distribution)\n",
    "plt.ylabel('loss')\n",
    "plt.xlabel('every 2000th mini-batch')\n",
    "plt.show()"
   ]
  },
  {
   "cell_type": "code",
   "execution_count": 57,
   "metadata": {
    "collapsed": true
   },
   "outputs": [],
   "source": [
    "# Lets save the model !!"
   ]
  },
  {
   "cell_type": "code",
   "execution_count": 28,
   "metadata": {},
   "outputs": [],
   "source": [
    "torch.save(model.state_dict(),\"./models/CrazyAchitecture\" + str(i))"
   ]
  },
  {
   "cell_type": "markdown",
   "metadata": {
    "collapsed": true
   },
   "source": [
    "#### Now if you want to take forward the training further , just load the model and call the training function !\n",
    "#### Also load the list of loss from pickled form !"
   ]
  },
  {
   "cell_type": "code",
   "execution_count": 77,
   "metadata": {},
   "outputs": [
    {
     "name": "stdout",
     "output_type": "stream",
     "text": [
      "The model is on CUDA\n",
      "[Epoch :: 1, Mini Batch ::  2000] loss: 0.313\n",
      "[Epoch :: 1, Mini Batch ::  4000] loss: 0.292\n",
      "[Epoch :: 1, Mini Batch ::  6000] loss: 0.311\n",
      "[Epoch :: 1, Mini Batch ::  8000] loss: 0.320\n",
      "[Epoch :: 1, Mini Batch :: 10000] loss: 0.347\n",
      "[Epoch :: 1, Mini Batch :: 12000] loss: 0.327\n",
      "Finished Training\n"
     ]
    }
   ],
   "source": [
    "# To see if the model is on CUDA or not !\n",
    "lrate=0.0005\n",
    "wd=1e-7\n",
    "lossvsiter=loss_distribution\n",
    "if(next(net.parameters()).is_cuda) :\n",
    "    print(\"The model is on CUDA\")\n",
    "else :\n",
    "    print(\"The model is on CPU\")\n",
    "\n",
    "# Import the optimizers \n",
    "import torch.optim as optim\n",
    "\n",
    "# Declare a loss function\n",
    "criterion = nn.CrossEntropyLoss()\n",
    "\n",
    "# Declare an optimizer\n",
    "optimizer = optim.Adam(net.parameters(),lr=lrate,weight_decay=wd)\n",
    "\n",
    "#No of iterations !\n",
    "iterations = 1\n",
    "\n",
    "\n",
    "for epoch in range(iterations):  # loop over the dataset multiple times\n",
    "\n",
    "    # Reset the loss for the current epoch !\n",
    "    running_loss = 0.0\n",
    "\n",
    "    # Loop over all the mini-batches therea are 12500 mini batches of size 4 each !\n",
    "    for i, data in enumerate(trainloader, 0):\n",
    "        # get the inputs\n",
    "        inputs, labels = data\n",
    "\n",
    "        # wrap them in Variable & if possible make them cuda tensors\n",
    "        inputs, labels = Variable(inputs.cuda()), Variable(labels.cuda())\n",
    "\n",
    "        # zero the parameter gradients for the current epoch\n",
    "        optimizer.zero_grad()\n",
    "\n",
    "        # forward + backward + optimize\n",
    "\n",
    "        # forward\n",
    "        outputs = net(inputs)\n",
    "        loss = criterion(outputs, labels)\n",
    "\n",
    "        # Calculate gradients of whatever variable set to req_gardients = True\n",
    "        loss.backward()\n",
    "\n",
    "        # Take one step of the gradient descent for this epoch ! \n",
    "        optimizer.step()\n",
    "\n",
    "        # print statistics\n",
    "        running_loss += loss.data[0]\n",
    "        if i % 2000 == 1999:    # print every 2000 mini-batches\n",
    "            print('[Epoch :: %d, Mini Batch :: %5d] loss: %.3f' %\n",
    "                  (epoch + 1, i + 1, running_loss / 2000))\n",
    "            lossvsiter.append(running_loss / 2000)\n",
    "            running_loss = 0.0\n",
    "\n",
    "\n",
    "print('Finished Training')"
   ]
  },
  {
   "cell_type": "code",
   "execution_count": 78,
   "metadata": {},
   "outputs": [
    {
     "name": "stdout",
     "output_type": "stream",
     "text": [
      "Accuracy of the network on the 10000 test images: 71  percent\n",
      "The network correctly predicted 7118 images\n"
     ]
    },
    {
     "data": {
      "text/plain": [
       "(71.18, 7118)"
      ]
     },
     "execution_count": 78,
     "metadata": {},
     "output_type": "execute_result"
    }
   ],
   "source": [
    "test_accuracy(model)"
   ]
  },
  {
   "cell_type": "code",
   "execution_count": 79,
   "metadata": {
    "scrolled": true
   },
   "outputs": [
    {
     "name": "stdout",
     "output_type": "stream",
     "text": [
      "Estimattion 0.000000 percent complete \n",
      "Estimattion 8.000000 percent complete \n",
      "Estimattion 16.000000 percent complete \n",
      "Estimattion 24.000000 percent complete \n",
      "Estimattion 32.000000 percent complete \n",
      "Estimattion 40.000000 percent complete \n",
      "Estimattion 48.000000 percent complete \n",
      "Estimattion 56.000000 percent complete \n",
      "Estimattion 64.000000 percent complete \n",
      "Estimattion 72.000000 percent complete \n",
      "Estimattion 80.000000 percent complete \n",
      "Estimattion 88.000000 percent complete \n",
      "Estimattion 96.000000 percent complete \n",
      "Accuracy of the network on the 50000 trained images: 90.288000 percent\n"
     ]
    }
   ],
   "source": [
    "train_accuracy(model)"
   ]
  },
  {
   "cell_type": "code",
   "execution_count": null,
   "metadata": {
    "collapsed": true
   },
   "outputs": [],
   "source": []
  }
 ],
 "metadata": {
  "kernelspec": {
   "display_name": "Python 3",
   "language": "python",
   "name": "python3"
  },
  "language_info": {
   "codemirror_mode": {
    "name": "ipython",
    "version": 3
   },
   "file_extension": ".py",
   "mimetype": "text/x-python",
   "name": "python",
   "nbconvert_exporter": "python",
   "pygments_lexer": "ipython3",
   "version": "3.5.2"
  }
 },
 "nbformat": 4,
 "nbformat_minor": 2
}
